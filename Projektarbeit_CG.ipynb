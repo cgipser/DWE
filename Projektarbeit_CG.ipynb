{
 "cells": [
  {
   "cell_type": "code",
   "execution_count": null,
   "id": "f9a9c5ab",
   "metadata": {
    "code_folding": [
     0
    ],
    "executionInfo": {
     "elapsed": 6550,
     "status": "ok",
     "timestamp": 1673435341643,
     "user": {
      "displayName": "Christof Gipser",
      "userId": "04329298021906177943"
     },
     "user_tz": -60
    },
    "id": "f9a9c5ab"
   },
   "outputs": [],
   "source": [
    "# Import der Bibliotheken\n",
    "\n",
    "import pypsa\n",
    "import pandas as pd\n",
    "import numpy as np\n",
    "import matplotlib.pyplot as plt\n",
    "import datetime\n",
    "from datetime import date, datetime\n",
    "import plotly"
   ]
  },
  {
   "cell_type": "code",
   "execution_count": null,
   "id": "7b3f3900",
   "metadata": {
    "code_folding": [],
    "executionInfo": {
     "elapsed": 6550,
     "status": "ok",
     "timestamp": 1673435341643,
     "user": {
      "displayName": "Christof Gipser",
      "userId": "04329298021906177943"
     },
     "user_tz": -60
    },
    "id": "f9a9c5ab"
   },
   "outputs": [],
   "source": [
    "# Konfiguration der Grafiken\n",
    "\n",
    "plt.rcParams['savefig.dpi'] = 200\n",
    "plt.rcParams['figure.dpi'] = 200\n",
    "plt.rcParams['figure.autolayout'] = False\n",
    "\n",
    "plt.rcParams['figure.figsize'] = (20, 10)\n",
    "plt.rcParams['axes.labelsize'] = 14\n",
    "plt.rcParams['axes.titlesize'] = 20\n",
    "plt.rcParams['font.size'] = 14\n",
    "plt.rcParams['legend.fontsize'] = 12\n",
    "\n",
    "plt.rcParams['lines.linewidth'] = 1.5\n",
    "plt.rcParams['lines.markersize'] = 8\n",
    "\n",
    "plt.rcParams['xtick.labelsize'] = 14\n",
    "plt.rcParams['ytick.labelsize'] = 14\n"
   ]
  },
  {
   "cell_type": "code",
   "execution_count": null,
   "id": "d6a5b728",
   "metadata": {},
   "outputs": [],
   "source": []
  },
  {
   "cell_type": "markdown",
   "id": "abbfb024",
   "metadata": {},
   "source": [
    "# Definition von Funktionen"
   ]
  },
  {
   "cell_type": "code",
   "execution_count": null,
   "id": "1ec1a650",
   "metadata": {
    "code_folding": []
   },
   "outputs": [],
   "source": [
    "def Jahresverlauf(Titel,Anfang,Ende,Dataframe,Stunde,xlabel,ylabel,h_offset,v_offset):\n",
    "    \n",
    "    df = pd.DataFrame(\n",
    "        {'Hours': pd.date_range('2025-01-01', '2026-01-01', freq='1H', closed='left')}\n",
    "     )\n",
    "    Dataframe1=Dataframe.copy()\n",
    "    Dataframe1[Stunde]=df.Hours\n",
    "    Dataframe1=Dataframe1.set_index(Stunde)\n",
    "    Dataframe1=Dataframe1.loc[Anfang:Ende]\n",
    "    fig = plt.figure(figsize=(19,8))\n",
    " \n",
    "    ax1 = fig.add_axes([1, 1, 1, 1])\n",
    "    ax1.set_title(Titel,weight='bold',fontsize=20)\n",
    "    ax1.plot(Dataframe1.index,Dataframe1)\n",
    "    colum_names=[]\n",
    "    column_names = list(Dataframe1.columns.values)\n",
    "    plt.legend(labels= column_names)\n",
    "    plt.xlabel(xlabel,fontsize=15)\n",
    "    plt.ylabel(ylabel,fontsize=15)\n",
    "    horiz_offset = h_offset\n",
    "    vert_offset = v_offset\n",
    "    ax1.legend(labels=column_names,bbox_to_anchor=(horiz_offset, vert_offset))\n",
    " \n",
    "    plt.show()"
   ]
  },
  {
   "cell_type": "code",
   "execution_count": null,
   "id": "a3dedb58",
   "metadata": {
    "code_folding": [
     0
    ]
   },
   "outputs": [],
   "source": [
    "# Funktion zur Abbildung der Jahresdauerlinie\n",
    "\n",
    "def Dauerlinie (Dataframe, Column, Titel,Yachse ):\n",
    "  df_sort = Dataframe.sort_values(by=[Column], ascending=False) # sortieren der Wirkleistungen in absteigender Reihenfolge\n",
    "  df_sort = df_sort.reset_index(drop=True) #zurücksetzen des Index\n",
    "  plt.plot(df_sort.index, df_sort[Column]) # Plotten der Dauerlinie\n",
    "  plt.title(Titel)\n",
    "  plt.ylabel(Yachse)"
   ]
  },
  {
   "cell_type": "code",
   "execution_count": null,
   "id": "68d3b769",
   "metadata": {
    "code_folding": []
   },
   "outputs": [],
   "source": [
    "# Auswahl des Standortes\n",
    "location_north = False"
   ]
  },
  {
   "cell_type": "markdown",
   "id": "2b98ccea",
   "metadata": {
    "id": "2b98ccea"
   },
   "source": [
    "# Einlesen der Datenreihen"
   ]
  },
  {
   "cell_type": "code",
   "execution_count": null,
   "id": "Fe26l2tN6gYr",
   "metadata": {
    "code_folding": [
     0
    ],
    "colab": {
     "base_uri": "https://localhost:8080/",
     "height": 446
    },
    "executionInfo": {
     "elapsed": 731,
     "status": "error",
     "timestamp": 1673435393733,
     "user": {
      "displayName": "Christof Gipser",
      "userId": "04329298021906177943"
     },
     "user_tz": -60
    },
    "id": "Fe26l2tN6gYr",
    "outputId": "61866d25-63ff-42b3-daa9-cb0b24df3458"
   },
   "outputs": [],
   "source": [
    "# Erzeugungsprofile\n",
    "\n",
    "if location_north:\n",
    "    data_pv = pd.read_csv('data/data_pv_antofagasta_1MW.csv', skiprows = 3)\n",
    "    data_wind = pd.read_csv('data/data_wind_antofagasta_1MW.csv', skiprows = 3)\n",
    "    \n",
    "else:\n",
    "    data_pv = pd.read_csv('data/data_pv_punta_arenas_1MW.csv', skiprows = 3)\n",
    "    data_wind = pd.read_csv('data/data_wind_punta_arenas_1MW.csv', skiprows = 3)\n",
    "    \n",
    "data_shipping = pd.read_excel('data/Ferntransport.xlsx', usecols = (0,1))"
   ]
  },
  {
   "cell_type": "code",
   "execution_count": null,
   "id": "ifaKYx4DfMZO",
   "metadata": {
    "code_folding": [
     0
    ],
    "executionInfo": {
     "elapsed": 8,
     "status": "aborted",
     "timestamp": 1673435393734,
     "user": {
      "displayName": "Christof Gipser",
      "userId": "04329298021906177943"
     },
     "user_tz": -60
    },
    "id": "ifaKYx4DfMZO"
   },
   "outputs": [],
   "source": [
    "# Erstellung eines Dataframes aus externen Daten\n",
    "\n",
    "dataset_df=pd.DataFrame()\n",
    "dataset_df['Zeitstempel']=data_pv['time']\n",
    "dataset_df['PV_Erzeugung']=data_pv['electricity']\n",
    "dataset_df['Wind_Erzeugung']=data_wind['electricity']\n",
    "\n",
    "if location_north:\n",
    "    dataset_df['Kapazität_Schiff']=data_shipping['Antofagasta']\n",
    "else:\n",
    "    dataset_df['Kapazität_Schiff']=data_shipping['Punta Arenas']\n",
    "    \n",
    "dataset_df.Kapazität_Schiff=dataset_df.Kapazität_Schiff.fillna(method='ffill')"
   ]
  },
  {
   "cell_type": "code",
   "execution_count": null,
   "id": "6b6aa064",
   "metadata": {
    "code_folding": [
     0
    ],
    "executionInfo": {
     "elapsed": 9,
     "status": "aborted",
     "timestamp": 1673435393735,
     "user": {
      "displayName": "Christof Gipser",
      "userId": "04329298021906177943"
     },
     "user_tz": -60
    },
    "id": "6b6aa064",
    "scrolled": false
   },
   "outputs": [],
   "source": [
    "# Einlesen und Ausgabe der Inputs für die Variablen\n",
    "\n",
    "data_inputs = pd.read_excel('data/Inputs_Modell.xlsx', sheet_name = 'Gesamt', header = 2, index_col = 0, nrows = 19)\n",
    "\n",
    "data_inputs=pd.DataFrame(data_inputs.fillna(0)).drop(columns = ['Unnamed: 1','name','bus','p_nom','Unnamed: 10'])\n",
    "data_inputs"
   ]
  },
  {
   "cell_type": "markdown",
   "id": "5fadf68f",
   "metadata": {
    "id": "5fadf68f"
   },
   "source": [
    "# Definition der Variablen"
   ]
  },
  {
   "cell_type": "code",
   "execution_count": null,
   "id": "a1970481",
   "metadata": {
    "code_folding": [
     0
    ],
    "executionInfo": {
     "elapsed": 9,
     "status": "aborted",
     "timestamp": 1673435393735,
     "user": {
      "displayName": "Christof Gipser",
      "userId": "04329298021906177943"
     },
     "user_tz": -60
    },
    "id": "a1970481",
    "scrolled": true
   },
   "outputs": [],
   "source": [
    "# Erstellung der Last durch den Wasserstoffbedarf\n",
    "\n",
    "hydrogen_energy_content = 33 #kWh/kg oder MWh/t\n",
    "hydrogen_demand_t = 35 * 1000\n",
    "hydrogen_demand_kg = hydrogen_demand_t * 1000\n",
    "hydrogen_demand_MWh = hydrogen_demand_t * hydrogen_energy_content # MWh\n",
    "hydrogen_demand_hourly = hydrogen_demand_MWh/8760 #MW\n",
    "\n",
    "print('Der stündliche Bedarf bei konstanter Verteilung des Jahresbedarfs von 35 kt Wasserstoff beträgt ungefähr ' + str(round(hydrogen_demand_hourly,0)) + ' MWh')"
   ]
  },
  {
   "cell_type": "markdown",
   "id": "b5e81e71",
   "metadata": {
    "id": "b5e81e71"
   },
   "source": [
    "## Investitionskosten"
   ]
  },
  {
   "cell_type": "code",
   "execution_count": null,
   "id": "f7557704",
   "metadata": {
    "code_folding": [],
    "executionInfo": {
     "elapsed": 8,
     "status": "aborted",
     "timestamp": 1673435393735,
     "user": {
      "displayName": "Christof Gipser",
      "userId": "04329298021906177943"
     },
     "user_tz": -60
    },
    "id": "f7557704"
   },
   "outputs": [],
   "source": [
    "# capital_cost\n",
    "\n",
    "# Erzeugung\n",
    "capital_cost_pv = data_inputs.loc['Photovoltaik (Chile)']['capital_cost'] # €/MW\n",
    "capital_cost_wind = data_inputs.loc['Windkraft (Chile)']['capital_cost'] # €/MW\n",
    "\n",
    "\n",
    "# Elektrolyse\n",
    "capital_cost_PEMEL = data_inputs.loc['PEM Elektrolyse']['capital_cost'] # €/MW\n",
    "capital_cost_AEL = data_inputs.loc['AEL Elektrolyse']['capital_cost'] # €/MW\n",
    "\n",
    "\n",
    "# Umwandlung\n",
    "capital_cost_LH2 = data_inputs.loc['Verflüssigung']['capital_cost'] # €/MW\n",
    "capital_cost_NH3 = data_inputs.loc['Haber-Bosch']['capital_cost'] # €/MW\n",
    "capital_cost_LOHC = data_inputs.loc['Hydrierung']['capital_cost'] # €/MW\n",
    "capital_cost_LH2_b = data_inputs.loc['Regasifizierung']['capital_cost'] # €/MW\n",
    "capital_cost_NH3_b = data_inputs.loc['NH3 Cracker']['capital_cost'] # €/MW\n",
    "capital_cost_LOHC_b = data_inputs.loc['Dehydrierung']['capital_cost'] # €/MW\n",
    "\n",
    "\n",
    "#Transport\n",
    "capital_cost_pipeline = 0 \n",
    "capital_cost_shipping_LH2 = data_inputs.loc['LH2 Schiff']['capital_cost'] # €/MW\n",
    "capital_cost_shipping_NH3 = data_inputs.loc['NH3 Schiff']['capital_cost'] # €/MW\n",
    "capital_cost_shipping_LOHC = data_inputs.loc['LOHC Schiff']['capital_cost'] # €/MW\n",
    "\n",
    "\n",
    "# Speicherung\n",
    "capital_cost_storage_el = data_inputs.loc['Stromspeicher']['capital_cost'] *1000\n",
    "capital_cost_storage_LH2 = data_inputs.loc['LH2 Speicher']['capital_cost'] # €/MW\n",
    "capital_cost_storage_NH3 = data_inputs.loc['NH3 Speicher']['capital_cost'] # €/MW\n",
    "capital_cost_storage_LOHC = data_inputs.loc['LOHC Speicher']['capital_cost'] # €/MW"
   ]
  },
  {
   "cell_type": "markdown",
   "id": "4a7b55cc",
   "metadata": {
    "id": "4a7b55cc"
   },
   "source": [
    "## Gestehungskosten"
   ]
  },
  {
   "cell_type": "code",
   "execution_count": null,
   "id": "bc66b833",
   "metadata": {
    "code_folding": [
     0
    ],
    "executionInfo": {
     "elapsed": 8,
     "status": "aborted",
     "timestamp": 1673435393735,
     "user": {
      "displayName": "Christof Gipser",
      "userId": "04329298021906177943"
     },
     "user_tz": -60
    },
    "id": "bc66b833"
   },
   "outputs": [],
   "source": [
    "# marginal_cost\n",
    "\n",
    "# Erzeugung\n",
    "marginal_cost_pv = data_inputs.loc['Photovoltaik (Chile)']['marginal_cost'] # €/MWh\n",
    "marginal_cost_wind = data_inputs.loc['Windkraft (Chile)']['marginal_cost'] # €/MWh\n",
    "\n",
    "# Elektrolyse\n",
    "marginal_cost_PEMEL = data_inputs.loc['PEM Elektrolyse']['marginal_cost'] # €/MWh\n",
    "marginal_cost_AEL = data_inputs.loc['AEL Elektrolyse']['marginal_cost'] # €/MWh\n",
    "\n",
    "# Umwandlung\n",
    "marginal_cost_LH2 = data_inputs.loc['Verflüssigung']['marginal_cost'] # €/MWh\n",
    "marginal_cost_NH3 = data_inputs.loc['Haber-Bosch']['marginal_cost'] # €/MWh\n",
    "marginal_cost_LOHC = data_inputs.loc['Hydrierung']['marginal_cost'] # €/MWh\n",
    "marginal_cost_LH2_b = data_inputs.loc['Regasifizierung']['marginal_cost'] # €/MWh\n",
    "marginal_cost_NH3_b = data_inputs.loc['NH3 Cracker']['marginal_cost'] # €/MWh\n",
    "marginal_cost_LOHC_b = data_inputs.loc['Dehydrierung']['marginal_cost'] # €/MWh\n",
    "\n",
    "# Transport\n",
    "marginal_cost_pipeline = data_inputs.loc['Pipeline']['marginal_cost'] # €/MWh\n",
    "marginal_cost_shipping_LH2 = data_inputs.loc['LH2 Schiff']['marginal_cost'] # €/MWh\n",
    "marginal_cost_shipping_NH3 = data_inputs.loc['NH3 Schiff']['marginal_cost'] # €/MWh\n",
    "marginal_cost_shipping_LOHC = data_inputs.loc['LOHC Schiff']['marginal_cost'] # €/MWh\n",
    "\n",
    "# Speicherung\n",
    "marginal_cost_storage_el = data_inputs.loc['Stromspeicher']['marginal_cost'] # €/MWh\n",
    "marginal_cost_storage_LH2 = data_inputs.loc['LH2 Speicher']['marginal_cost'] # €/MWh\n",
    "marginal_cost_storage_NH3 = data_inputs.loc['NH3 Speicher']['marginal_cost'] # €/MWh\n",
    "marginal_cost_storage_LOHC = data_inputs.loc['LOHC Speicher']['marginal_cost'] # €/MWh"
   ]
  },
  {
   "cell_type": "markdown",
   "id": "bf48b910",
   "metadata": {
    "id": "bf48b910"
   },
   "source": [
    "## Effizienz"
   ]
  },
  {
   "cell_type": "code",
   "execution_count": null,
   "id": "d3e88dda",
   "metadata": {
    "code_folding": [],
    "executionInfo": {
     "elapsed": 8,
     "status": "aborted",
     "timestamp": 1673435393735,
     "user": {
      "displayName": "Christof Gipser",
      "userId": "04329298021906177943"
     },
     "user_tz": -60
    },
    "id": "d3e88dda"
   },
   "outputs": [],
   "source": [
    "# efficiency\n",
    "\n",
    "# Wirkungsgrad Erzeugung\n",
    "efficiency_PEMEL = data_inputs.loc['PEM Elektrolyse']['efficiency']\n",
    "efficiency_AEL = data_inputs.loc['AEL Elektrolyse']['efficiency']\n",
    "\n",
    "# Wirkungsgrad Umwandlung\n",
    "efficiency_LH2 = data_inputs.loc['Verflüssigung']['efficiency']\n",
    "efficiency_NH3 = data_inputs.loc['Haber-Bosch']['efficiency']\n",
    "efficiency_LOHC = data_inputs.loc['Hydrierung']['efficiency']\n",
    "\n",
    "efficiency_LH2_b = data_inputs.loc['Regasifizierung']['efficiency']\n",
    "efficiency_NH3_b = data_inputs.loc['NH3 Cracker']['efficiency']\n",
    "efficiency_LOHC_b = data_inputs.loc['Dehydrierung']['efficiency']\n",
    "\n",
    "# Wirkungsgrad der Transporte\n",
    "efficiency_pipeline = data_inputs.loc['Pipeline']['efficiency']\n",
    "efficiency_shipping_LH2 = data_inputs.loc['LH2 Schiff']['efficiency'] \n",
    "efficiency_shipping_NH3 = data_inputs.loc['NH3 Schiff']['efficiency']\n",
    "efficiency_shipping_LOHC = data_inputs.loc['LOHC Schiff']['efficiency']\n",
    "\n",
    "\n",
    "# Speicherverluste\n",
    "standing_loss_el = 0 #data_inputs.loc['Stromspeicher']['standing_loss']\n",
    "standing_loss_LH2 = data_inputs.loc['LH2 Speicher']['standing_loss']\n",
    "standing_loss_NH3 = data_inputs.loc['NH3 Speicher']['standing_loss']\n",
    "standing_loss_LOHC = data_inputs.loc['LOHC Speicher']['standing_loss']"
   ]
  },
  {
   "cell_type": "markdown",
   "id": "a7d9f631",
   "metadata": {},
   "source": [
    "## Lebenszeit"
   ]
  },
  {
   "cell_type": "code",
   "execution_count": null,
   "id": "98e63511",
   "metadata": {
    "code_folding": [
     0
    ]
   },
   "outputs": [],
   "source": [
    "# lifetime\n",
    "\n",
    "lifetime_pv = data_inputs.loc['Photovoltaik (Chile)']['lifetime']\n",
    "lifetime_wind = data_inputs.loc['Windkraft (Chile)']['lifetime']\n",
    "\n",
    "lifetime_PEMEL = data_inputs.loc['PEM Elektrolyse']['lifetime']\n",
    "lifetime_AEL = data_inputs.loc['AEL Elektrolyse']['lifetime']\n",
    "\n",
    "lifetime_LH2 = data_inputs.loc['Verflüssigung']['lifetime']\n",
    "lifetime_NH3 = data_inputs.loc['Haber-Bosch']['lifetime']\n",
    "lifetime_LOHC = data_inputs.loc['Hydrierung']['lifetime']\n",
    "\n",
    "lifetime_LH2_b = data_inputs.loc['Regasifizierung']['lifetime']\n",
    "lifetime_NH3_b = data_inputs.loc['NH3 Cracker']['lifetime']\n",
    "lifetime_LOHC_b = data_inputs.loc['Dehydrierung']['lifetime']\n",
    "\n",
    "lifetime_shipping_LH2 = data_inputs.loc['LH2 Schiff']['lifetime'] \n",
    "lifetime_shipping_NH3 = data_inputs.loc['NH3 Schiff']['lifetime']\n",
    "lifetime_shipping_LOHC = data_inputs.loc['LOHC Schiff']['lifetime']\n",
    "\n",
    "lifetime_pipeline = 1\n",
    "\n",
    "lifetime_storage_el = data_inputs.loc['Stromspeicher']['lifetime']\n",
    "lifetime_storage_LH2 = data_inputs.loc['LH2 Speicher']['lifetime']\n",
    "lifetime_storage_NH3 = data_inputs.loc['NH3 Speicher']['lifetime']\n",
    "lifetime_storage_LOHC = data_inputs.loc['LOHC Speicher']['lifetime']"
   ]
  },
  {
   "cell_type": "markdown",
   "id": "d6282dfc",
   "metadata": {
    "id": "d6282dfc"
   },
   "source": [
    "# Netzwerke aufbauen"
   ]
  },
  {
   "cell_type": "code",
   "execution_count": null,
   "id": "e544e18f",
   "metadata": {
    "code_folding": [
     0
    ],
    "executionInfo": {
     "elapsed": 8,
     "status": "aborted",
     "timestamp": 1673435393735,
     "user": {
      "displayName": "Christof Gipser",
      "userId": "04329298021906177943"
     },
     "user_tz": -60
    },
    "id": "e544e18f"
   },
   "outputs": [],
   "source": [
    "#Erzeugung der drei Netzwerke\n",
    "\n",
    "network1 = pypsa.Network()\n",
    "network2 = pypsa.Network()\n",
    "network3 = pypsa.Network()\n",
    "\n",
    "# Einstellung der Snapshots\n",
    "\n",
    "network1.set_snapshots(range(8760))\n",
    "network2.set_snapshots(range(8760))\n",
    "network3.set_snapshots(range(8760))"
   ]
  },
  {
   "cell_type": "markdown",
   "id": "9991c95a",
   "metadata": {
    "id": "9991c95a"
   },
   "source": [
    "## Buses"
   ]
  },
  {
   "cell_type": "code",
   "execution_count": null,
   "id": "9cede772",
   "metadata": {
    "code_folding": [
     0
    ],
    "executionInfo": {
     "elapsed": 8,
     "status": "aborted",
     "timestamp": 1673435393736,
     "user": {
      "displayName": "Christof Gipser",
      "userId": "04329298021906177943"
     },
     "user_tz": -60
    },
    "id": "9cede772"
   },
   "outputs": [],
   "source": [
    "# Erzeugung der Knotenpunkte\n",
    "\n",
    "# Der Suffix _b steht für Bremerhaven\n",
    "# Der Suffix _c steht für Chile\n",
    "    \n",
    "network1.add('Bus', name = 'electricity')\n",
    "network1.add('Bus', name = 'GH2_b')\n",
    "network1.add('Bus', name = 'GH2_c')\n",
    "network1.add('Bus', name = 'cologne')\n",
    "network1.add('Bus', name = 'LH2_b')\n",
    "network1.add('Bus', name = 'LH2_c')\n",
    "\n",
    "network2.add('Bus', name = 'electricity')\n",
    "network2.add('Bus', name = 'GH2_b')\n",
    "network2.add('Bus', name = 'GH2_c')\n",
    "network2.add('Bus', name = 'cologne')\n",
    "network2.add('Bus', name = 'NH3_b')\n",
    "network2.add('Bus', name = 'NH3_c')\n",
    "\n",
    "network3.add('Bus', name = 'electricity')\n",
    "network3.add('Bus', name = 'GH2_b')\n",
    "network3.add('Bus', name = 'GH2_c')\n",
    "network3.add('Bus', name = 'cologne')\n",
    "network3.add('Bus', name = 'LOHC_b')\n",
    "network3.add('Bus', name = 'LOHC_c')"
   ]
  },
  {
   "cell_type": "markdown",
   "id": "b6a510d5",
   "metadata": {
    "id": "b6a510d5"
   },
   "source": [
    "## Loads"
   ]
  },
  {
   "cell_type": "code",
   "execution_count": null,
   "id": "e90456f6",
   "metadata": {
    "code_folding": [
     0,
     3,
     6
    ],
    "executionInfo": {
     "elapsed": 8,
     "status": "aborted",
     "timestamp": 1673435393736,
     "user": {
      "displayName": "Christof Gipser",
      "userId": "04329298021906177943"
     },
     "user_tz": -60
    },
    "id": "e90456f6"
   },
   "outputs": [],
   "source": [
    "network1.add('Load', name = 'hydrogen_demand', bus = 'cologne', \n",
    "            p_set = hydrogen_demand_hourly)\n",
    "\n",
    "network2.add('Load', name = 'hydrogen_demand', bus = 'cologne', \n",
    "            p_set = hydrogen_demand_hourly)\n",
    "\n",
    "network3.add('Load', name = 'hydrogen_demand', bus = 'cologne', \n",
    "            p_set = hydrogen_demand_hourly)"
   ]
  },
  {
   "cell_type": "markdown",
   "id": "2ccfd17e",
   "metadata": {
    "id": "2ccfd17e"
   },
   "source": [
    "## Generators"
   ]
  },
  {
   "cell_type": "code",
   "execution_count": null,
   "id": "4f04b3e1",
   "metadata": {
    "code_folding": [
     0,
     7,
     15,
     22,
     30,
     37
    ],
    "executionInfo": {
     "elapsed": 8,
     "status": "aborted",
     "timestamp": 1673435393736,
     "user": {
      "displayName": "Christof Gipser",
      "userId": "04329298021906177943"
     },
     "user_tz": -60
    },
    "id": "4f04b3e1"
   },
   "outputs": [],
   "source": [
    "network1.add('Generator', name = 'Photovoltaik', bus = 'electricity', \n",
    "             p_max_pu = dataset_df['PV_Erzeugung']/dataset_df['PV_Erzeugung'].max(), \n",
    "             p_min_pu = dataset_df['PV_Erzeugung']/dataset_df['PV_Erzeugung'].max(), \n",
    "             p_nom_extendable = True,\n",
    "             marginal_cost = marginal_cost_pv, \n",
    "             capital_cost = capital_cost_pv,\n",
    "            lifetime = lifetime_pv)\n",
    "network1.add('Generator', name = 'Windkraft', bus = 'electricity',\n",
    "             p_max_pu = dataset_df['Wind_Erzeugung']/dataset_df['Wind_Erzeugung'].max(), \n",
    "             p_min_pu = dataset_df['Wind_Erzeugung']/dataset_df['Wind_Erzeugung'].max(), \n",
    "             p_nom_extendable = True,\n",
    "             marginal_cost = marginal_cost_wind, \n",
    "             capital_cost = capital_cost_wind,\n",
    "            lifetime = lifetime_wind)\n",
    "\n",
    "network2.add('Generator', name = 'Photovoltaik', bus = 'electricity', \n",
    "             p_max_pu = dataset_df['PV_Erzeugung']/dataset_df['PV_Erzeugung'].max(), \n",
    "             p_min_pu = dataset_df['PV_Erzeugung']/dataset_df['PV_Erzeugung'].max(), \n",
    "             p_nom_extendable = True,\n",
    "             marginal_cost = marginal_cost_pv, \n",
    "             capital_cost = capital_cost_pv,\n",
    "            lifetime = lifetime_pv)\n",
    "network2.add('Generator', name = 'Windkraft', bus = 'electricity',\n",
    "             p_max_pu = dataset_df['Wind_Erzeugung']/dataset_df['Wind_Erzeugung'].max(), \n",
    "             p_min_pu = dataset_df['Wind_Erzeugung']/dataset_df['Wind_Erzeugung'].max(), \n",
    "             p_nom_extendable = True,\n",
    "             marginal_cost = marginal_cost_wind, \n",
    "             capital_cost = capital_cost_wind,\n",
    "            lifetime = lifetime_wind)\n",
    "\n",
    "network3.add('Generator', name = 'Photovoltaik', bus = 'electricity', \n",
    "             p_max_pu = dataset_df['PV_Erzeugung']/dataset_df['PV_Erzeugung'].max(), \n",
    "             p_min_pu = dataset_df['PV_Erzeugung']/dataset_df['PV_Erzeugung'].max(), \n",
    "             p_nom_extendable = True,\n",
    "             marginal_cost = marginal_cost_pv, \n",
    "             capital_cost = capital_cost_pv,\n",
    "            lifetime = lifetime_pv)\n",
    "network3.add('Generator', name = 'Windkraft', bus = 'electricity',\n",
    "             p_max_pu = dataset_df['Wind_Erzeugung']/dataset_df['Wind_Erzeugung'].max(), \n",
    "             p_min_pu = dataset_df['Wind_Erzeugung']/dataset_df['Wind_Erzeugung'].max(), \n",
    "             p_nom_extendable = True,\n",
    "             marginal_cost = marginal_cost_wind, \n",
    "             capital_cost = capital_cost_wind,\n",
    "            lifetime = lifetime_wind)"
   ]
  },
  {
   "cell_type": "markdown",
   "id": "03e464ac",
   "metadata": {
    "id": "03e464ac"
   },
   "source": [
    "## Links - Electrolysis"
   ]
  },
  {
   "cell_type": "code",
   "execution_count": null,
   "id": "8990014b",
   "metadata": {
    "code_folding": [
     0,
     6,
     13,
     19,
     26,
     32
    ],
    "executionInfo": {
     "elapsed": 8,
     "status": "aborted",
     "timestamp": 1673435393736,
     "user": {
      "displayName": "Christof Gipser",
      "userId": "04329298021906177943"
     },
     "user_tz": -60
    },
    "id": "8990014b"
   },
   "outputs": [],
   "source": [
    "network1.add('Link', name = 'PEMEL', bus0 = 'electricity', bus1 = 'GH2_c',\n",
    "                p_nom_extendable = True,\n",
    "                lifetime = lifetime_PEMEL,\n",
    "                marginal_cost = marginal_cost_PEMEL, \n",
    "                capital_cost = capital_cost_PEMEL,\n",
    "                efficiency = efficiency_PEMEL)\n",
    "network1.add('Link', name = 'AEL', bus0 = 'electricity', bus1 = 'GH2_c',\n",
    "                p_nom_extendable = True,\n",
    "                lifetime = lifetime_AEL,\n",
    "                marginal_cost = marginal_cost_AEL, \n",
    "                capital_cost = capital_cost_AEL,\n",
    "                efficiency = efficiency_AEL)\n",
    "\n",
    "network2.add('Link', name = 'PEMEL', bus0 = 'electricity', bus1 = 'GH2_c',\n",
    "                p_nom_extendable = True,\n",
    "                lifetime = lifetime_PEMEL,\n",
    "                marginal_cost = marginal_cost_PEMEL, \n",
    "                capital_cost = capital_cost_PEMEL,\n",
    "                efficiency = efficiency_PEMEL)    \n",
    "network2.add('Link', name = 'AEL', bus0 = 'electricity', bus1 = 'GH2_c',\n",
    "                p_nom_extendable = True,\n",
    "                lifetime = lifetime_AEL,\n",
    "                marginal_cost = marginal_cost_AEL, \n",
    "                capital_cost = capital_cost_AEL,\n",
    "                efficiency = efficiency_AEL)\n",
    "\n",
    "network3.add('Link', name = 'PEMEL', bus0 = 'electricity', bus1 = 'GH2_c',\n",
    "                p_nom_extendable = True,\n",
    "                lifetime = lifetime_PEMEL,\n",
    "                marginal_cost = marginal_cost_PEMEL, \n",
    "                capital_cost = capital_cost_PEMEL,\n",
    "                efficiency = efficiency_PEMEL)    \n",
    "network3.add('Link', name = 'AEL', bus0 = 'electricity', bus1 = 'GH2_c',\n",
    "                p_nom_extendable = True,\n",
    "                lifetime = lifetime_AEL,\n",
    "                marginal_cost = marginal_cost_AEL, \n",
    "                capital_cost = capital_cost_AEL,\n",
    "                efficiency = efficiency_AEL)"
   ]
  },
  {
   "cell_type": "markdown",
   "id": "7584fdd2",
   "metadata": {
    "id": "7584fdd2"
   },
   "source": [
    "## Links - Conversion"
   ]
  },
  {
   "cell_type": "code",
   "execution_count": null,
   "id": "62ced3e5",
   "metadata": {
    "code_folding": [
     0,
     6,
     13,
     19,
     26,
     32
    ],
    "executionInfo": {
     "elapsed": 8,
     "status": "aborted",
     "timestamp": 1673435393736,
     "user": {
      "displayName": "Christof Gipser",
      "userId": "04329298021906177943"
     },
     "user_tz": -60
    },
    "id": "62ced3e5"
   },
   "outputs": [],
   "source": [
    "network1.add('Link', name = 'Verflüssigung', bus0 = 'GH2_c', bus1 = 'LH2_c',\n",
    "             p_nom_extendable = True,\n",
    "             marginal_cost = marginal_cost_LH2, \n",
    "             capital_cost = capital_cost_LH2,\n",
    "             efficiency = efficiency_LH2,\n",
    "             lifetime = lifetime_LH2)\n",
    "network1.add('Link', name = 'Regasifizierung', bus0 = 'LH2_b', bus1 = 'GH2_b',\n",
    "             p_nom_extendable = True,\n",
    "             marginal_cost = marginal_cost_LH2_b, \n",
    "             capital_cost = capital_cost_LH2_b,\n",
    "             efficiency = efficiency_LH2_b,\n",
    "             lifetime = lifetime_LH2_b)\n",
    "\n",
    "network2.add('Link', name = 'Haber-Bosch', bus0 = 'GH2_c', bus1 = 'NH3_c',\n",
    "             p_nom_extendable = True,\n",
    "             marginal_cost = marginal_cost_NH3, \n",
    "             capital_cost = capital_cost_NH3,\n",
    "             efficiency = efficiency_NH3,\n",
    "             lifetime = lifetime_NH3)\n",
    "network2.add('Link', name = 'NH3 Cracker', bus0 = 'NH3_b', bus1 = 'GH2_b',\n",
    "             p_nom_extendable = True,\n",
    "             marginal_cost = marginal_cost_NH3_b, \n",
    "             capital_cost = capital_cost_NH3_b,\n",
    "             efficiency = efficiency_NH3_b,\n",
    "             lifetime = lifetime_NH3_b)\n",
    "\n",
    "network3.add('Link', name = 'Hydrierung', bus0 = 'GH2_c', bus1 = 'LOHC_c',\n",
    "             p_nom_extendable = True,\n",
    "             marginal_cost = marginal_cost_LOHC, \n",
    "             capital_cost = capital_cost_LOHC,\n",
    "             efficiency = efficiency_LOHC,\n",
    "             lifetime = lifetime_LOHC)\n",
    "network3.add('Link', name = 'Dehydrierung', bus0 = 'LOHC_b', bus1 = 'GH2_b',\n",
    "             p_nom_extendable = True,\n",
    "             marginal_cost = marginal_cost_LOHC_b, \n",
    "             capital_cost = capital_cost_LOHC_b,\n",
    "             efficiency = efficiency_LOHC_b,\n",
    "             lifetime = lifetime_LOHC_b)"
   ]
  },
  {
   "cell_type": "markdown",
   "id": "6e31ee79",
   "metadata": {
    "id": "6e31ee79"
   },
   "source": [
    "## Links - Cargoship"
   ]
  },
  {
   "cell_type": "code",
   "execution_count": null,
   "id": "c2b03c0b",
   "metadata": {
    "code_folding": [
     0,
     9,
     18
    ],
    "executionInfo": {
     "elapsed": 8,
     "status": "aborted",
     "timestamp": 1673435393736,
     "user": {
      "displayName": "Christof Gipser",
      "userId": "04329298021906177943"
     },
     "user_tz": -60
    },
    "id": "c2b03c0b"
   },
   "outputs": [],
   "source": [
    "network1.add('Link', name = 'Verschiffung LH2', bus0 = 'LH2_c', bus1 = 'LH2_b',\n",
    "             p_nom = dataset_df['Kapazität_Schiff'].max(),\n",
    "             p_max_pu = dataset_df['Kapazität_Schiff']/dataset_df['Kapazität_Schiff'].max(), \n",
    "             p_min_pu = dataset_df['Kapazität_Schiff']/dataset_df['Kapazität_Schiff'].max(),\n",
    "             p_nom_extendable = True,\n",
    "             marginal_cost = marginal_cost_shipping_LH2, \n",
    "             capital_cost = capital_cost_shipping_LH2,\n",
    "             efficiency = efficiency_shipping_LH2)\n",
    "\n",
    "network2.add('Link', name = 'Verschiffung NH3', bus0 = 'NH3_c', bus1 = 'NH3_b',\n",
    "             p_nom = dataset_df['Kapazität_Schiff'].max(),\n",
    "             p_max_pu = dataset_df['Kapazität_Schiff']/dataset_df['Kapazität_Schiff'].max(), \n",
    "             p_min_pu = dataset_df['Kapazität_Schiff']/dataset_df['Kapazität_Schiff'].max(),\n",
    "             p_nom_extendable = True,\n",
    "             marginal_cost = marginal_cost_shipping_NH3, \n",
    "             capital_cost = capital_cost_shipping_NH3,\n",
    "             efficiency = efficiency_shipping_NH3)\n",
    "    \n",
    "network3.add('Link', name = 'Verschiffung LOHC', bus0 = 'LOHC_c', bus1 = 'LOHC_b',\n",
    "             p_nom = dataset_df['Kapazität_Schiff'].max(),\n",
    "             p_max_pu = dataset_df['Kapazität_Schiff']/dataset_df['Kapazität_Schiff'].max(), \n",
    "             p_min_pu = dataset_df['Kapazität_Schiff']/dataset_df['Kapazität_Schiff'].max(),\n",
    "             p_nom_extendable = True,\n",
    "             marginal_cost = marginal_cost_shipping_LOHC, \n",
    "             capital_cost = capital_cost_shipping_LOHC,\n",
    "             efficiency = efficiency_shipping_LOHC)"
   ]
  },
  {
   "cell_type": "code",
   "execution_count": null,
   "id": "24d8128a",
   "metadata": {},
   "outputs": [],
   "source": []
  },
  {
   "cell_type": "markdown",
   "id": "391ca361",
   "metadata": {
    "id": "391ca361"
   },
   "source": [
    "## Links - Pipeline"
   ]
  },
  {
   "cell_type": "code",
   "execution_count": null,
   "id": "f799bd16",
   "metadata": {
    "code_folding": [
     0,
     6,
     12
    ]
   },
   "outputs": [],
   "source": [
    "network1.add('Link', name = 'Pipeline', bus0 = 'GH2_b', bus1 = 'cologne', \n",
    "            p_nom_extendable = True,\n",
    "            marginal_cost = marginal_cost_pipeline, \n",
    "            capital_cost = capital_cost_pipeline,\n",
    "            lifetime = lifetime_pipeline)\n",
    "\n",
    "network2.add('Link', name = 'Pipeline', bus0 = 'GH2_b', bus1 = 'cologne', \n",
    "            p_nom_extendable = True,\n",
    "            marginal_cost = marginal_cost_pipeline, \n",
    "            capital_cost = capital_cost_pipeline,\n",
    "            lifetime = lifetime_pipeline)\n",
    "\n",
    "network3.add('Link', name = 'Pipeline', bus0 = 'GH2_b', bus1 = 'cologne', \n",
    "            p_nom_extendable = True,\n",
    "            marginal_cost = marginal_cost_pipeline, \n",
    "            capital_cost = capital_cost_pipeline,\n",
    "            lifetime = lifetime_pipeline)"
   ]
  },
  {
   "cell_type": "markdown",
   "id": "a7817e8c",
   "metadata": {
    "id": "a7817e8c"
   },
   "source": [
    "## Storages"
   ]
  },
  {
   "cell_type": "code",
   "execution_count": null,
   "id": "003b6796",
   "metadata": {
    "code_folding": [
     0,
     7,
     14,
     22,
     28,
     35,
     41,
     48,
     54
    ],
    "executionInfo": {
     "elapsed": 7,
     "status": "aborted",
     "timestamp": 1673435393736,
     "user": {
      "displayName": "Christof Gipser",
      "userId": "04329298021906177943"
     },
     "user_tz": -60
    },
    "id": "003b6796"
   },
   "outputs": [],
   "source": [
    "network1.add('Store', name = 'Stromspeicher', bus = 'electricity', \n",
    "            e_nom_extendable = True,  e_cyclic = True, \n",
    "            capital_cost = capital_cost_storage_el,\n",
    "            marginal_cost = marginal_cost_storage_el,\n",
    "            standing_loss = standing_loss_el,\n",
    "            lifetime = lifetime_storage_el)\n",
    "\n",
    "network2.add('Store', name = 'Stromspeicher', bus = 'electricity', \n",
    "            e_nom_extendable = True,  e_cyclic = True, \n",
    "            capital_cost = capital_cost_storage_el,\n",
    "            marginal_cost = marginal_cost_storage_el,\n",
    "            standing_loss = standing_loss_el,\n",
    "            lifetime = lifetime_storage_el)\n",
    "\n",
    "network3.add('Store', name = 'Stromspeicher', bus = 'electricity', \n",
    "            e_nom_extendable = True,  e_cyclic = True, \n",
    "            capital_cost = capital_cost_storage_el,\n",
    "            marginal_cost = marginal_cost_storage_el,\n",
    "            standing_loss = standing_loss_el,\n",
    "            lifetime = lifetime_storage_el)\n",
    "\n",
    "\n",
    "network1.add('Store', name = 'Flüssigspeicher Chile', bus = 'LH2_c', \n",
    "             e_nom_extendable = True, e_cyclic = True,  \n",
    "             capital_cost = capital_cost_storage_LH2, \n",
    "             marginal_cost = marginal_cost_storage_LH2,\n",
    "             standing_loss = standing_loss_LH2,\n",
    "             lifetime = lifetime_storage_LH2)\n",
    "network1.add('Store', name = 'Flüssigspeicher Bremerhaven', bus = 'LH2_b', \n",
    "             e_nom_extendable = True, e_cyclic = True,  \n",
    "             capital_cost = capital_cost_storage_LH2, \n",
    "             marginal_cost = marginal_cost_storage_LH2,\n",
    "             standing_loss = standing_loss_LH2,\n",
    "             lifetime = lifetime_storage_LH2)\n",
    "\n",
    "network2.add('Store', name = 'Ammoniakspeicher Chile', bus = 'NH3_c', \n",
    "             e_nom_extendable = True,  e_cyclic = True, \n",
    "             capital_cost = capital_cost_storage_NH3, \n",
    "             marginal_cost = marginal_cost_storage_NH3,\n",
    "             standing_loss = standing_loss_NH3,\n",
    "             lifetime = lifetime_storage_NH3)\n",
    "network2.add('Store', name = 'Ammoniakspeicher Bremerhaven', bus = 'NH3_b', \n",
    "             e_nom_extendable = True,  e_cyclic = True, \n",
    "             capital_cost = capital_cost_storage_NH3, \n",
    "             marginal_cost = marginal_cost_storage_NH3,\n",
    "             standing_loss = standing_loss_NH3,\n",
    "             lifetime = lifetime_storage_NH3)\n",
    "    \n",
    "network3.add('Store', name = 'LOHC-Speicher Chile', bus = 'LOHC_c', \n",
    "             e_nom_extendable = True, e_cyclic = True,  \n",
    "             capital_cost = capital_cost_storage_LOHC, \n",
    "             marginal_cost = marginal_cost_storage_LOHC,\n",
    "             standing_loss = standing_loss_LOHC,\n",
    "             lifetime = lifetime_storage_LOHC)\n",
    "network3.add('Store', name = 'LOHC-Speicher Bremerhaven', bus = 'LOHC_b', \n",
    "             e_nom_extendable = True, e_cyclic = True,  \n",
    "             capital_cost = capital_cost_storage_LOHC, \n",
    "             marginal_cost = marginal_cost_storage_LOHC,\n",
    "             standing_loss = standing_loss_LOHC,\n",
    "             lifetime = lifetime_storage_LOHC)"
   ]
  },
  {
   "cell_type": "code",
   "execution_count": null,
   "id": "2013614f",
   "metadata": {},
   "outputs": [],
   "source": []
  },
  {
   "cell_type": "markdown",
   "id": "513e4320",
   "metadata": {},
   "source": [
    "# Grafische Darstellung der Ausgangsprofile"
   ]
  },
  {
   "cell_type": "code",
   "execution_count": null,
   "id": "8c25ed4a",
   "metadata": {
    "code_folding": []
   },
   "outputs": [],
   "source": [
    "#Jahresverlauf('Stromerzeugung aus Windkraft',dataset_df.Zeitstempel.loc[2000:2055], dataset_df['Wind_Erzeugung'].loc[2000:2055],'Zeit','Leistung')"
   ]
  },
  {
   "cell_type": "code",
   "execution_count": null,
   "id": "5065dfb6",
   "metadata": {
    "code_folding": [],
    "executionInfo": {
     "elapsed": 8,
     "status": "aborted",
     "timestamp": 1673435393737,
     "user": {
      "displayName": "Christof Gipser",
      "userId": "04329298021906177943"
     },
     "user_tz": -60
    },
    "id": "d81745b5"
   },
   "outputs": [],
   "source": [
    "#Jahresverlauf('Stromerzeugung aus Photovoltaik',dataset_df.index, dataset_df['PV_Erzeugung'],'Zeit','Leistung')"
   ]
  },
  {
   "cell_type": "code",
   "execution_count": null,
   "id": "207765da",
   "metadata": {},
   "outputs": [],
   "source": [
    "#Jahresverlauf('Elektrolyse',dataset_df.index, dataset_df['Elektrolyse'],'Zeit','Leistung')"
   ]
  },
  {
   "cell_type": "code",
   "execution_count": null,
   "id": "65bfd143",
   "metadata": {},
   "outputs": [],
   "source": [
    "#Jahresverlauf('Ferntransport',dataset_df.index, dataset_df['Kapazität_Schiff'],'Zeit','Leistung')"
   ]
  },
  {
   "cell_type": "code",
   "execution_count": null,
   "id": "4d64dc5d",
   "metadata": {},
   "outputs": [],
   "source": []
  },
  {
   "cell_type": "markdown",
   "id": "18c3c354",
   "metadata": {
    "id": "18c3c354"
   },
   "source": [
    "# Optimierung des Systems"
   ]
  },
  {
   "cell_type": "code",
   "execution_count": null,
   "id": "5e993293",
   "metadata": {
    "code_folding": [
     0
    ],
    "executionInfo": {
     "elapsed": 7,
     "status": "aborted",
     "timestamp": 1673435393736,
     "user": {
      "displayName": "Christof Gipser",
      "userId": "04329298021906177943"
     },
     "user_tz": -60
    },
    "id": "5e993293",
    "scrolled": true
   },
   "outputs": [],
   "source": [
    "# Optimierung\n",
    "network1.lopf(pyomo = False, solver_name = 'gurobi')\n",
    "network2.lopf(pyomo = False, solver_name = 'gurobi')\n",
    "network3.lopf(pyomo = False, solver_name = 'gurobi')"
   ]
  },
  {
   "cell_type": "code",
   "execution_count": null,
   "id": "23490d35",
   "metadata": {},
   "outputs": [],
   "source": [
    "#network1.iplot()"
   ]
  },
  {
   "cell_type": "markdown",
   "id": "f5855bc2",
   "metadata": {
    "id": "f5855bc2"
   },
   "source": [
    "# Auswertung der Ergebnisse"
   ]
  },
  {
   "cell_type": "markdown",
   "id": "6ad006e9",
   "metadata": {},
   "source": [
    "## Ausgabe der Ergebnistabellen (Netzwerk 1)"
   ]
  },
  {
   "cell_type": "markdown",
   "id": "0d640cad",
   "metadata": {},
   "source": [
    "### Installierte Leistungen, Kapazitäten und Volllststunden"
   ]
  },
  {
   "cell_type": "code",
   "execution_count": null,
   "id": "5860f261",
   "metadata": {
    "code_folding": [
     0
    ],
    "scrolled": true
   },
   "outputs": [],
   "source": [
    "# Ausgabe einer Ergebnistabelle der optimierten Leistungen in MW und optimierten Kapazitäten in MWh\n",
    "\n",
    "df_results_1 = pd.DataFrame(network1.generators['p_nom_opt'])\n",
    "df_results_2 = pd.DataFrame(network1.links['p_nom_opt'])\n",
    "df_results_3 = pd.DataFrame(network1.stores['e_nom_opt'])\n",
    "\n",
    "frames = [df_results_1, df_results_2, df_results_3]\n",
    "\n",
    "results_x = (pd.concat(frames).round(2).fillna(0).rename(columns = {'p_nom_opt':'Leistung [MW]','e_nom_opt':'Speicherkapazität [MWh]'}))\n",
    "results = results_x.loc[(results_x.sum(axis=1) != 0), (results_x.sum(axis=0) != 0)]\n",
    "results\n",
    "\n",
    "# Berechnung der jährlichen Volllaststunden\n",
    "\n",
    "df_flh_1 = pd.DataFrame((network1.generators_t.p.sum())/network1.generators.p_nom_opt)\n",
    "df_flh_2 = pd.DataFrame((network1.links_t.p0.sum())/network1.links.p_nom_opt)\n",
    "\n",
    "df_flh_x = df_flh_1.append(df_flh_2).round(0).fillna(0)\n",
    "df_flh = df_flh_x.loc[(df_flh_x.sum(axis=1) != 0), (df_flh_x.sum(axis=0) != 0)]\n",
    "df_flh = df_flh.rename(columns = {0:'Volllast [h]'}).fillna(0)\n",
    "\n",
    "# Berechnung der Energie \n",
    "\n",
    "df_results_1 = pd.DataFrame(network1.generators_t.p.sum())/1000\n",
    "df_results_2 = pd.DataFrame(-network1.links_t.p1.sum())/1000\n",
    "df_results_3 = pd.DataFrame(network1.stores_t.e.sum())/1000\n",
    "frames = [df_results_1, df_results_2, df_results_3]\n",
    "results_x = (pd.concat(frames).round(2).fillna(0).rename(columns = {0:'Energie [GWh]'}))\n",
    "\n",
    "results_sum_energy_1 = pd.concat([results,df_flh,results_x],axis=1).fillna(0)\n",
    "results_sum_energy_1"
   ]
  },
  {
   "cell_type": "markdown",
   "id": "bca68a1e",
   "metadata": {},
   "source": [
    "### Sankey-Diagramm"
   ]
  },
  {
   "cell_type": "code",
   "execution_count": null,
   "id": "94b5beab",
   "metadata": {
    "code_folding": [
     0
    ]
   },
   "outputs": [],
   "source": [
    "#Sankey Diagramm_BErechnungen_LH2\n",
    "\n",
    "SP_Verluste=(network1.stores.standing_loss*network1.stores_t.e.sum()/1000)\n",
    "Verluste_Stromspeicher_1=SP_Verluste[0]\n",
    "Verluste_Speicher_Chile_1=SP_Verluste[1]\n",
    "Verluste_Speicher_Bremerhaven_1=SP_Verluste[2]\n",
    "\n",
    "Input_Photovoltaik= results_sum_energy_1['Energie [GWh]']['Photovoltaik']/(results_sum_energy_1['Energie [GWh]']['Photovoltaik']+results_sum_energy_1['Energie [GWh]']['Windkraft'])\n",
    "\n",
    "Input_Windkraft= results_sum_energy_1['Energie [GWh]']['Windkraft']/(results_sum_energy_1['Energie [GWh]']['Photovoltaik']+results_sum_energy_1['Energie [GWh]']['Windkraft'])\n",
    "\n",
    "\n",
    "Energie_Stromspeicher= (results_sum_energy_1['Energie [GWh]']['Windkraft']-Verluste_Stromspeicher_1)/(results_sum_energy_1['Energie [GWh]']['Photovoltaik']+results_sum_energy_1['Energie [GWh]']['Windkraft'])\n",
    "\n",
    "Energie_AEL= ((results_sum_energy_1['Energie [GWh]']['AEL']/(results_sum_energy_1['Energie [GWh]']['Photovoltaik']+results_sum_energy_1['Energie [GWh]']['Windkraft'])))\n",
    "\n",
    "Energie_Verflüssigung= ((results_sum_energy_1['Energie [GWh]']['Verflüssigung']/(results_sum_energy_1['Energie [GWh]']['Photovoltaik']+results_sum_energy_1['Energie [GWh]']['Windkraft'])))\n",
    "\n",
    "Energie_Flüssigspeicher_Chile = (results_sum_energy_1['Energie [GWh]']['Verflüssigung']-Verluste_Speicher_Chile_1)/(results_sum_energy_1['Energie [GWh]']['Photovoltaik']+results_sum_energy_1['Energie [GWh]']['Windkraft'])\n",
    "\n",
    "Energie_Verschiffung= ((results_sum_energy_1['Energie [GWh]']['Verschiffung LH2']/(results_sum_energy_1['Energie [GWh]']['Photovoltaik']+results_sum_energy_1['Energie [GWh]']['Windkraft'])))\n",
    "\n",
    "Energie_Flüssigspeicher_Bremerhaven= (results_sum_energy_1['Energie [GWh]']['Verschiffung LH2']-Verluste_Speicher_Bremerhaven_1)/(results_sum_energy_1['Energie [GWh]']['Photovoltaik']+results_sum_energy_1['Energie [GWh]']['Windkraft'])\n",
    "\n",
    "Energie_Regasifizierung= ((results_sum_energy_1['Energie [GWh]']['Regasifizierung']/(results_sum_energy_1['Energie [GWh]']['Photovoltaik']+results_sum_energy_1['Energie [GWh]']['Windkraft'])))\n",
    "\n",
    "Energie_Pipeline=  ((results_sum_energy_1['Energie [GWh]']['Pipeline']/(results_sum_energy_1['Energie [GWh]']['Photovoltaik']+results_sum_energy_1['Energie [GWh]']['Windkraft'])))\n",
    "\n",
    "Energie_Last= -(1155/(results_sum_energy_1['Energie [GWh]']['Photovoltaik']+results_sum_energy_1['Energie [GWh]']['Windkraft']))\n",
    "\n",
    "\n",
    "Verluste_Pipeline=-(Energie_Regasifizierung-Energie_Pipeline)\n",
    "\n",
    "Verluste_Regasifizierung=-(Energie_Flüssigspeicher_Bremerhaven-Energie_Regasifizierung)\n",
    "Verluste_Flüssigspeicher_Bremerhaven=-(Energie_Verschiffung-Energie_Flüssigspeicher_Bremerhaven)\n",
    "Verluste_Verschiffung=-(Energie_Flüssigspeicher_Chile-Energie_Verschiffung)\n",
    "Verluste_Flüssigspeicher_Chile=-(Energie_Verflüssigung-Energie_Flüssigspeicher_Chile)\n",
    "Verluste_Verflüssigung=-(Energie_AEL-Energie_Verflüssigung)\n",
    "Verluste_AEL=-(Energie_Stromspeicher-Energie_AEL)\n",
    "Verluste_Stromspeicher=-(Input_Windkraft+Input_Photovoltaik-Energie_Stromspeicher)\n",
    "\n",
    "\n",
    "Sankey_1={'Verluste':[Input_Photovoltaik, Input_Windkraft, Verluste_Stromspeicher, Verluste_AEL,Verluste_Verflüssigung, Verluste_Flüssigspeicher_Chile, Verluste_Verschiffung,Verluste_Flüssigspeicher_Bremerhaven,Verluste_Regasifizierung,Verluste_Pipeline,Energie_Last],\n",
    "        'Orientierung':[0,0,-1,-1,-1,-1,-1,-1,-1,-1,0],\n",
    "          'Energie':[Input_Photovoltaik, Input_Windkraft, Energie_Stromspeicher, Energie_AEL,Energie_Verflüssigung, Energie_Flüssigspeicher_Chile, Energie_Verschiffung,Energie_Flüssigspeicher_Bremerhaven,Energie_Regasifizierung,Energie_Pipeline,Energie_Last]}\n",
    "Verluste_Sankey_1 = pd.DataFrame(data=Sankey_1,\n",
    "                            index=['Photovoltaik', 'Windkraft', 'Stromspeicher','Elektrolyse','Verflüssigung','Speicher Chile','Verschiffung','Speicher Bremerhaven','Regasifizierung','Pipeline','Last'])\n",
    "Verluste_Sankey_1.Verluste = Verluste_Sankey_1.Verluste*100\n",
    "Verluste_Sankey_1.Verluste = Verluste_Sankey_1.Verluste.replace(0, np.nan)\n",
    "Verluste_Sankey_1 = Verluste_Sankey_1.dropna(axis=0)\n",
    "Verluste_Sankey_1 = Verluste_Sankey_1.iloc[::-1]\n",
    "Verluste_Sankey_1\n",
    "\n",
    "#Verluste_Sankey\n",
    "\n"
   ]
  },
  {
   "cell_type": "code",
   "execution_count": null,
   "id": "610073bd",
   "metadata": {
    "code_folding": []
   },
   "outputs": [],
   "source": [
    "#Sankey Diagramm Verluste\n",
    "\n",
    "from matplotlib.sankey import Sankey\n",
    "\n",
    "sankey= Sankey(scale=0.01,offset=0.9,\n",
    "                format='%.2f', unit='%')\n",
    "sankey.add(flows=Verluste_Sankey_1.Verluste,labels=Verluste_Sankey_1.index,orientations=Verluste_Sankey_1.Orientierung,rotation=-90)\n",
    "sankey.finish()\n",
    "plt.title(\"Verluste Wasserstoffbereitstellung für Zementfabrik (LH2)\")"
   ]
  },
  {
   "cell_type": "markdown",
   "id": "b1c19d5b",
   "metadata": {},
   "source": [
    "### Gestehungskosten Wasserstoff"
   ]
  },
  {
   "cell_type": "code",
   "execution_count": null,
   "id": "5827c8f5",
   "metadata": {
    "code_folding": [
     0
    ]
   },
   "outputs": [],
   "source": [
    "# Berechnung des Wasserstoffpreises in €/kg\n",
    "\n",
    "# Kilopreis der Generatoren\n",
    "Generatorkosten = (((network1.generators.capital_cost * network1.generators.p_nom_opt)/network1.generators.lifetime\n",
    "                    + network1.generators.marginal_cost * network1.generators_t.p.sum())/hydrogen_demand_kg).fillna(0)\n",
    "     \n",
    "Generatorkosten=pd.DataFrame(Generatorkosten,columns=['Preis [€/kg]'])\n",
    "\n",
    "# Kilopreis der Links\n",
    "Linkkosten = (((network1.links.p_nom_opt * network1.links.capital_cost)/network1.links.lifetime\n",
    "              + network1.links.marginal_cost*(-network1.links_t.p1.sum()))\n",
    "              /hydrogen_demand_kg)\n",
    "\n",
    "Linkkosten=pd.DataFrame(Linkkosten,columns=['Preis [€/kg]'])\n",
    "\n",
    "# Kilopreis der Speicher\n",
    "Speicherkosten = (((network1.stores.e_nom_opt * network1.stores.capital_cost)/network1.stores.lifetime\n",
    "                   + network1.stores.marginal_cost*network1.stores_t.e.sum())/hydrogen_demand_kg)\n",
    "\n",
    "Speicherkosten=pd.DataFrame(Speicherkosten,columns=['Preis [€/kg]'])\n",
    "\n",
    "Kilogrammpreis = (Generatorkosten.append(Linkkosten).append(Speicherkosten))\n",
    "\n",
    "\n",
    "# Erstellung der Dataframes zur Darstellung in den Kategorien\n",
    "\n",
    "Kilogrammpreis_Strom = pd.DataFrame((Kilogrammpreis.iloc[[0,1]].append(Kilogrammpreis.loc[['Stromspeicher']]).sum())).rename(index={'Preis [€/kg]': 'Stromkosten'})\n",
    "Kilogrammpreis_Elektrolyse = pd.DataFrame(Kilogrammpreis.iloc[[2,3]].sum()).rename(index={'Preis [€/kg]': 'Elektrolyse'})\n",
    "Kilogrammpreis_Umwandlung = pd.DataFrame(Kilogrammpreis.iloc[[4,5]].sum()).rename(index={'Preis [€/kg]': 'Umwandlung'})\n",
    "Kilogrammpreis_Transport = pd.DataFrame(Kilogrammpreis.iloc[[6,7]].sum()).rename(index={'Preis [€/kg]': 'Transport'})\n",
    "Kilogrammpreis_Speicherung = pd.DataFrame(Kilogrammpreis.iloc[[9,10]].sum()).rename(index={'Preis [€/kg]': 'Speicherung'})\n",
    "\n",
    "Gestehungskosten_Wasserstoff_1 = (Kilogrammpreis_Strom\n",
    "                                .append(Kilogrammpreis_Elektrolyse)\n",
    "                                .append(Kilogrammpreis_Umwandlung)\n",
    "                                .append(Kilogrammpreis_Transport)\n",
    "                                .append(Kilogrammpreis_Speicherung)).rename(columns = {0:'Gestehungspreis [€/kg]'})"
   ]
  },
  {
   "cell_type": "code",
   "execution_count": null,
   "id": "01a970c3",
   "metadata": {
    "code_folding": [
     0
    ]
   },
   "outputs": [],
   "source": [
    "# Ausgabe des Ergebnisses\n",
    "Gestehungskosten_Wasserstoff_EUR_1 = float(round(Gestehungskosten_Wasserstoff_1.sum(),2))\n",
    "print('Die Gestehungskosten für ein Kilogramm Wasserstoff liegen bei '+str(Gestehungskosten_Wasserstoff_EUR_1)+' €')"
   ]
  },
  {
   "cell_type": "markdown",
   "id": "6d3182c4",
   "metadata": {},
   "source": [
    "## Ausgabe der Ergebnistabellen (Netzwerk 2)"
   ]
  },
  {
   "cell_type": "markdown",
   "id": "35885c5b",
   "metadata": {},
   "source": [
    "### Installierte Leistungen, Kapazitäten"
   ]
  },
  {
   "cell_type": "code",
   "execution_count": null,
   "id": "1e03a8d0",
   "metadata": {
    "code_folding": [
     0
    ]
   },
   "outputs": [],
   "source": [
    "# Ausgabe einer Ergebnistabelle der optimierten Leistungen in MW und optimierten Kapazitäten in MWh\n",
    "\n",
    "df_results_1 = pd.DataFrame(network2.generators['p_nom_opt'])\n",
    "df_results_2 = pd.DataFrame(network2.links['p_nom_opt'])\n",
    "df_results_3 = pd.DataFrame(network2.stores['e_nom_opt'])\n",
    "\n",
    "frames = [df_results_1, df_results_2, df_results_3]\n",
    "\n",
    "results_x = (pd.concat(frames).round(2).fillna(0).rename(columns = {'p_nom_opt':'Leistung [MW]','e_nom_opt':'Speicherkapazität [MWh]'}))\n",
    "results = results_x.loc[(results_x.sum(axis=1) != 0), (results_x.sum(axis=0) != 0)]\n",
    "results\n",
    "\n",
    "# Berechnung der jährlichen Volllaststunden\n",
    "\n",
    "df_flh_1 = pd.DataFrame((network2.generators_t.p.sum())/network2.generators.p_nom_opt)\n",
    "df_flh_2 = pd.DataFrame((network2.links_t.p0.sum())/network2.links.p_nom_opt)\n",
    "\n",
    "df_flh_x = df_flh_1.append(df_flh_2).round(0).fillna(0)\n",
    "df_flh = df_flh_x.loc[(df_flh_x.sum(axis=1) != 0), (df_flh_x.sum(axis=0) != 0)]\n",
    "df_flh = df_flh.rename(columns = {0:'Volllast [h]'}).fillna(0)\n",
    "#Berechnung der Energie \n",
    "df_results_1 = pd.DataFrame(network2.generators_t.p.sum())/1000\n",
    "df_results_2 = pd.DataFrame(-network2.links_t.p1.sum())/1000\n",
    "df_results_3 = pd.DataFrame(network2.stores_t.e.sum())/1000\n",
    "frames = [df_results_1, df_results_2, df_results_3]\n",
    "results_x = (pd.concat(frames).round(2).fillna(0).rename(columns = {0:'Energie [GWh]'}))\n",
    "\n",
    "results_sum_energy_2 = pd.concat([results,df_flh,results_x],axis=1).fillna(0)\n",
    "results_sum_energy_2"
   ]
  },
  {
   "cell_type": "markdown",
   "id": "076c22d4",
   "metadata": {},
   "source": [
    "### Sankey-Diagramm"
   ]
  },
  {
   "cell_type": "code",
   "execution_count": null,
   "id": "1abe172e",
   "metadata": {
    "code_folding": [
     0
    ]
   },
   "outputs": [],
   "source": [
    "#Sankey Diagramm_BErechnungen_NH3\n",
    "SP_Verluste_2=(network2.stores.standing_loss*network2.stores_t.e.sum()/1000)\n",
    "Verluste_Stromspeicher_2=SP_Verluste_2[0]\n",
    "Verluste_Speicher_Chile_2=SP_Verluste_2[1]\n",
    "Verluste_Speicher_Bremerhaven_2=SP_Verluste_2[2]\n",
    "\n",
    "Input_Photovoltaik= results_sum_energy_2['Energie [GWh]']['Photovoltaik']/(results_sum_energy_2['Energie [GWh]']['Photovoltaik']+results_sum_energy_2['Energie [GWh]']['Windkraft'])\n",
    "\n",
    "Input_Windkraft= results_sum_energy_2['Energie [GWh]']['Windkraft']/(results_sum_energy_2['Energie [GWh]']['Photovoltaik']+results_sum_energy_2['Energie [GWh]']['Windkraft'])\n",
    "\n",
    "\n",
    "Energie_Stromspeicher= (results_sum_energy_2['Energie [GWh]']['Windkraft']-Verluste_Stromspeicher_2)/(results_sum_energy_2['Energie [GWh]']['Photovoltaik']+results_sum_energy_2['Energie [GWh]']['Windkraft'])\n",
    "\n",
    "Energie_AEL= ((results_sum_energy_2['Energie [GWh]']['AEL']/(results_sum_energy_2['Energie [GWh]']['Photovoltaik']+results_sum_energy_2['Energie [GWh]']['Windkraft'])))\n",
    "\n",
    "Energie_Verflüssigung= ((results_sum_energy_2['Energie [GWh]']['Haber-Bosch']/(results_sum_energy_2['Energie [GWh]']['Photovoltaik']+results_sum_energy_2['Energie [GWh]']['Windkraft'])))\n",
    "\n",
    "Energie_Flüssigspeicher_Chile = (results_sum_energy_2['Energie [GWh]']['Haber-Bosch']-Verluste_Speicher_Chile_2)/(results_sum_energy_2['Energie [GWh]']['Photovoltaik']+results_sum_energy_2['Energie [GWh]']['Windkraft'])\n",
    "\n",
    "Energie_Verschiffung= ((results_sum_energy_2['Energie [GWh]']['Verschiffung NH3']/(results_sum_energy_2['Energie [GWh]']['Photovoltaik']+results_sum_energy_2['Energie [GWh]']['Windkraft'])))\n",
    "\n",
    "Energie_Flüssigspeicher_Bremerhaven= (results_sum_energy_2['Energie [GWh]']['Verschiffung NH3']-Verluste_Speicher_Bremerhaven_2)/(results_sum_energy_2['Energie [GWh]']['Photovoltaik']+results_sum_energy_2['Energie [GWh]']['Windkraft'])\n",
    "\n",
    "Energie_Regasifizierung= ((results_sum_energy_2['Energie [GWh]']['NH3 Cracker']/(results_sum_energy_2['Energie [GWh]']['Photovoltaik']+results_sum_energy_2['Energie [GWh]']['Windkraft'])))\n",
    "\n",
    "Energie_Pipeline=  ((results_sum_energy_2['Energie [GWh]']['Pipeline']/(results_sum_energy_2['Energie [GWh]']['Photovoltaik']+results_sum_energy_2['Energie [GWh]']['Windkraft'])))\n",
    "\n",
    "Energie_Last= -(1155/(results_sum_energy_2['Energie [GWh]']['Photovoltaik']+results_sum_energy_2['Energie [GWh]']['Windkraft']))\n",
    "\n",
    "\n",
    "Verluste_Pipeline=-(Energie_Regasifizierung-Energie_Pipeline)\n",
    "\n",
    "Verluste_Regasifizierung=-(Energie_Flüssigspeicher_Bremerhaven-Energie_Regasifizierung)\n",
    "Verluste_Flüssigspeicher_Bremerhaven=-(Energie_Verschiffung-Energie_Flüssigspeicher_Bremerhaven)\n",
    "Verluste_Verschiffung=-(Energie_Flüssigspeicher_Chile-Energie_Verschiffung)\n",
    "Verluste_Flüssigspeicher_Chile=-(Energie_Verflüssigung-Energie_Flüssigspeicher_Chile)\n",
    "Verluste_Verflüssigung=-(Energie_AEL-Energie_Verflüssigung)\n",
    "Verluste_AEL=-(Energie_Stromspeicher-Energie_AEL)\n",
    "Verluste_Stromspeicher=-(Input_Windkraft+Input_Photovoltaik-Energie_Stromspeicher)\n",
    "\n",
    "\n",
    "Sankey_2={'Verluste':[Input_Photovoltaik, Input_Windkraft, Verluste_Stromspeicher, Verluste_AEL,Verluste_Verflüssigung, Verluste_Flüssigspeicher_Chile, Verluste_Verschiffung,Verluste_Flüssigspeicher_Bremerhaven,Verluste_Regasifizierung,Verluste_Pipeline,Energie_Last],\n",
    "        'Orientierung':[0,0,-1,-1,-1,-1,-1,-1,-1,-1,0],\n",
    "          'Energie':[Input_Photovoltaik, Input_Windkraft, Energie_Stromspeicher, Energie_AEL,Energie_Verflüssigung, Energie_Flüssigspeicher_Chile, Energie_Verschiffung,Energie_Flüssigspeicher_Bremerhaven,Energie_Regasifizierung,Energie_Pipeline,Energie_Last]}\n",
    "Verluste_Sankey_2 = pd.DataFrame(data=Sankey_2,\n",
    "                            index=['Photovoltaik', 'Windkraft', 'Stromspeicher','Elektrolyse','Verflüssigung','Speicher Chile','Verschiffung','Speicher Bremerhaven','Regasifizierung','Pipeline','Last'])\n",
    "Verluste_Sankey_2.Verluste = Verluste_Sankey_2.Verluste*100\n",
    "Verluste_Sankey_2.Verluste = Verluste_Sankey_2.Verluste.replace(0, np.nan)\n",
    "Verluste_Sankey_2 = Verluste_Sankey_2.dropna(axis=0)\n",
    "Verluste_Sankey_2 = Verluste_Sankey_2.iloc[::-1]\n",
    "Verluste_Sankey_2\n",
    "#Verluste_Sankey_2\n",
    "\n"
   ]
  },
  {
   "cell_type": "code",
   "execution_count": null,
   "id": "32f8608e",
   "metadata": {
    "code_folding": [
     0
    ]
   },
   "outputs": [],
   "source": [
    "#Sankey Diagramm Verluste\n",
    "\n",
    "from matplotlib.sankey import Sankey\n",
    "\n",
    "sankey= Sankey(scale=0.01, offset=0.7,\n",
    "                format='%.2f', unit='%')\n",
    "sankey.add(flows=Verluste_Sankey_2.Verluste,labels=Verluste_Sankey_2.index,orientations=Verluste_Sankey_2.Orientierung,rotation=-90)\n",
    "sankey.finish()\n",
    "plt.title(\"Energetische Verluste Wasserstoffbereitstellung für Zementfabrik (NH3)\")"
   ]
  },
  {
   "cell_type": "markdown",
   "id": "bcc29d7b",
   "metadata": {},
   "source": [
    "### Gestehungskosten Wasserstoff"
   ]
  },
  {
   "cell_type": "code",
   "execution_count": null,
   "id": "90444970",
   "metadata": {
    "code_folding": [
     0
    ]
   },
   "outputs": [],
   "source": [
    "# Berechnung des Wasserstoffpreises in €/kg\n",
    "\n",
    "# Kilopreis der Generatoren\n",
    "Generatorkosten = (((network2.generators.capital_cost * network2.generators.p_nom_opt)/network2.generators.lifetime\n",
    "                    + network2.generators.marginal_cost * network2.generators_t.p.sum())/hydrogen_demand_kg).fillna(0)\n",
    "     \n",
    "Generatorkosten=pd.DataFrame(Generatorkosten,columns=['Preis [€/kg]'])\n",
    "\n",
    "# Kilopreis der Links\n",
    "Linkkosten = (((network2.links.p_nom_opt * network2.links.capital_cost)/network2.links.lifetime\n",
    "              + network2.links.marginal_cost*(-network2.links_t.p1.sum()))\n",
    "              /hydrogen_demand_kg)\n",
    "\n",
    "Linkkosten=pd.DataFrame(Linkkosten,columns=['Preis [€/kg]'])\n",
    "\n",
    "# Kilopreis der Speicher\n",
    "Speicherkosten = (((network2.stores.e_nom_opt * network2.stores.capital_cost)/network2.stores.lifetime\n",
    "                   + network2.stores.marginal_cost*network2.stores_t.e.sum())/hydrogen_demand_kg)\n",
    "\n",
    "Speicherkosten=pd.DataFrame(Speicherkosten,columns=['Preis [€/kg]'])\n",
    "\n",
    "Kilogrammpreis = (Generatorkosten.append(Linkkosten).append(Speicherkosten))\n",
    "\n",
    "# Erstellung der Dataframes zur Darstellung in den Kategorien\n",
    "\n",
    "Kilogrammpreis_Strom = pd.DataFrame((Kilogrammpreis.iloc[[0,1]].append(Kilogrammpreis.loc[['Stromspeicher']]).sum())).rename(index={'Preis [€/kg]': 'Stromkosten'})\n",
    "Kilogrammpreis_Elektrolyse = pd.DataFrame(Kilogrammpreis.iloc[[2,3]].sum()).rename(index={'Preis [€/kg]': 'Elektrolyse'})\n",
    "Kilogrammpreis_Umwandlung = pd.DataFrame(Kilogrammpreis.iloc[[4,5]].sum()).rename(index={'Preis [€/kg]': 'Umwandlung'})\n",
    "Kilogrammpreis_Transport = pd.DataFrame(Kilogrammpreis.iloc[[6,7]].sum()).rename(index={'Preis [€/kg]': 'Transport'})\n",
    "Kilogrammpreis_Speicherung = pd.DataFrame(Kilogrammpreis.iloc[[9,10]].sum()).rename(index={'Preis [€/kg]': 'Speicherung'})\n",
    "\n",
    "Gestehungskosten_Wasserstoff_2 = (Kilogrammpreis_Strom\n",
    "                                .append(Kilogrammpreis_Elektrolyse)\n",
    "                                .append(Kilogrammpreis_Umwandlung)\n",
    "                                .append(Kilogrammpreis_Transport)\n",
    "                                .append(Kilogrammpreis_Speicherung)).rename(columns = {0:'Gestehungspreis [€/kg]'})\n",
    "\n",
    "#Kilogrammpreis\n",
    "#Gestehungskosten_Wasserstoff_2"
   ]
  },
  {
   "cell_type": "code",
   "execution_count": null,
   "id": "99b4171e",
   "metadata": {
    "code_folding": [
     0
    ]
   },
   "outputs": [],
   "source": [
    "# Ausgabe des Ergebnisses\n",
    "Gestehungskosten_Wasserstoff_EUR_2 = float(round(Gestehungskosten_Wasserstoff_2.sum(),2))\n",
    "print('Die Gestehungskosten für ein Kilogramm Wasserstoff liegen bei '+str(Gestehungskosten_Wasserstoff_EUR_2)+' €')"
   ]
  },
  {
   "cell_type": "markdown",
   "id": "4559eea3",
   "metadata": {},
   "source": [
    "## Ausgabe der Ergebnistabellen (Netzwerk 3)"
   ]
  },
  {
   "cell_type": "markdown",
   "id": "ea6889a2",
   "metadata": {},
   "source": [
    "### Installierte Leistungen, Kapazitäten"
   ]
  },
  {
   "cell_type": "code",
   "execution_count": null,
   "id": "7f992e74",
   "metadata": {
    "code_folding": [
     0
    ]
   },
   "outputs": [],
   "source": [
    "# Ausgabe einer Ergebnistabelle der optimierten Leistungen in MW und optimierten Kapazitäten in MWh\n",
    "\n",
    "df_results_1 = pd.DataFrame(network3.generators['p_nom_opt'])\n",
    "df_results_2 = pd.DataFrame(network3.links['p_nom_opt'])\n",
    "df_results_3 = pd.DataFrame(network3.stores['e_nom_opt'])\n",
    "\n",
    "frames = [df_results_1, df_results_2, df_results_3]\n",
    "\n",
    "results_x = (pd.concat(frames).round(2).fillna(0).rename(columns = {'p_nom_opt':'Leistung [MW]','e_nom_opt':'Speicherkapazität [MWh]'}))\n",
    "results = results_x.loc[(results_x.sum(axis=1) != 0), (results_x.sum(axis=0) != 0)]\n",
    "results\n",
    "\n",
    "# Berechnung der jährlichen Volllaststunden\n",
    "\n",
    "df_flh_1 = pd.DataFrame((network3.generators_t.p.sum())/network3.generators.p_nom_opt)\n",
    "df_flh_2 = pd.DataFrame((network3.links_t.p0.sum())/network3.links.p_nom_opt)\n",
    "\n",
    "df_flh_x = df_flh_1.append(df_flh_2).round(0).fillna(0)\n",
    "df_flh = df_flh_x.loc[(df_flh_x.sum(axis=1) != 0), (df_flh_x.sum(axis=0) != 0)]\n",
    "df_flh = df_flh.rename(columns = {0:'Volllast [h]'}).fillna(0)\n",
    "#Berechnung der Energie \n",
    "df_results_1 = pd.DataFrame(network3.generators_t.p.sum())/1000\n",
    "df_results_2 = pd.DataFrame(-network3.links_t.p1.sum())/1000\n",
    "df_results_3 = pd.DataFrame(network3.stores_t.e.sum())/1000\n",
    "frames = [df_results_1, df_results_2, df_results_3]\n",
    "results_x = (pd.concat(frames).round(2).fillna(0).rename(columns = {0:'Energie [GWh]'}))\n",
    "#df_flh\n",
    "\n",
    "results_sum_energy_3 = pd.concat([results,df_flh,results_x],axis=1).fillna(0)\n",
    "results_sum_energy_3"
   ]
  },
  {
   "cell_type": "markdown",
   "id": "5a42a5ef",
   "metadata": {},
   "source": [
    "### Sankey-Diagramm"
   ]
  },
  {
   "cell_type": "code",
   "execution_count": null,
   "id": "5860c95c",
   "metadata": {
    "code_folding": [
     0
    ]
   },
   "outputs": [],
   "source": [
    "#Sankey Diagramm_BErechnungen_LOHC\n",
    "\n",
    "SP_Verluste_3=(network3.stores.standing_loss*network3.stores_t.e.sum()/1000)\n",
    "Verluste_Stromspeicher_3=SP_Verluste_3[0]\n",
    "Verluste_Speicher_Chile_3=SP_Verluste_3[1]\n",
    "Verluste_Speicher_Bremerhaven_3=SP_Verluste_3[2]\n",
    "\n",
    "Input_Photovoltaik= results_sum_energy_3['Energie [GWh]']['Photovoltaik']/(results_sum_energy_3['Energie [GWh]']['Photovoltaik']+results_sum_energy_3['Energie [GWh]']['Windkraft'])\n",
    "\n",
    "Input_Windkraft= results_sum_energy_3['Energie [GWh]']['Windkraft']/(results_sum_energy_3['Energie [GWh]']['Photovoltaik']+results_sum_energy_3['Energie [GWh]']['Windkraft'])\n",
    "\n",
    "\n",
    "Energie_Stromspeicher= (results_sum_energy_3['Energie [GWh]']['Windkraft']-Verluste_Stromspeicher_3)/(results_sum_energy_3['Energie [GWh]']['Photovoltaik']+results_sum_energy_3['Energie [GWh]']['Windkraft'])\n",
    "\n",
    "Energie_AEL= ((results_sum_energy_3['Energie [GWh]']['AEL']/(results_sum_energy_3['Energie [GWh]']['Photovoltaik']+results_sum_energy_3['Energie [GWh]']['Windkraft'])))\n",
    "\n",
    "Energie_Verflüssigung= ((results_sum_energy_3['Energie [GWh]']['Hydrierung']/(results_sum_energy_3['Energie [GWh]']['Photovoltaik']+results_sum_energy_3['Energie [GWh]']['Windkraft'])))\n",
    "\n",
    "Energie_Flüssigspeicher_Chile = (results_sum_energy_3['Energie [GWh]']['Hydrierung']-Verluste_Speicher_Chile_3)/(results_sum_energy_3['Energie [GWh]']['Photovoltaik']+results_sum_energy_3['Energie [GWh]']['Windkraft'])\n",
    "\n",
    "Energie_Verschiffung= ((results_sum_energy_3['Energie [GWh]']['Verschiffung LOHC']/(results_sum_energy_3['Energie [GWh]']['Photovoltaik']+results_sum_energy_3['Energie [GWh]']['Windkraft'])))\n",
    "\n",
    "Energie_Flüssigspeicher_Bremerhaven= (results_sum_energy_3['Energie [GWh]']['Verschiffung LOHC']-Verluste_Speicher_Bremerhaven_3)/(results_sum_energy_3['Energie [GWh]']['Photovoltaik']+results_sum_energy_3['Energie [GWh]']['Windkraft'])\n",
    "\n",
    "Energie_Regasifizierung= ((results_sum_energy_3['Energie [GWh]']['Dehydrierung']/(results_sum_energy_3['Energie [GWh]']['Photovoltaik']+results_sum_energy_3['Energie [GWh]']['Windkraft'])))\n",
    "\n",
    "Energie_Pipeline=  ((results_sum_energy_3['Energie [GWh]']['Pipeline']/(results_sum_energy_3['Energie [GWh]']['Photovoltaik']+results_sum_energy_3['Energie [GWh]']['Windkraft'])))\n",
    "\n",
    "Energie_Last= -(1155/(results_sum_energy_3['Energie [GWh]']['Photovoltaik']+results_sum_energy_3['Energie [GWh]']['Windkraft']))\n",
    "\n",
    "\n",
    "Verluste_Pipeline=-(Energie_Regasifizierung-Energie_Pipeline)\n",
    "\n",
    "Verluste_Regasifizierung=-(Energie_Flüssigspeicher_Bremerhaven-Energie_Regasifizierung)\n",
    "Verluste_Flüssigspeicher_Bremerhaven=-(Energie_Verschiffung-Energie_Flüssigspeicher_Bremerhaven)\n",
    "Verluste_Verschiffung=-(Energie_Flüssigspeicher_Chile-Energie_Verschiffung)\n",
    "Verluste_Flüssigspeicher_Chile=-(Energie_Verflüssigung-Energie_Flüssigspeicher_Chile)\n",
    "Verluste_Verflüssigung=-(Energie_AEL-Energie_Verflüssigung)\n",
    "Verluste_AEL=-(Energie_Stromspeicher-Energie_AEL)\n",
    "Verluste_Stromspeicher=-(Input_Windkraft+Input_Photovoltaik-Energie_Stromspeicher)\n",
    "\n",
    "\n",
    "Sankey_3={'Verluste':[Input_Photovoltaik, Input_Windkraft, Verluste_Stromspeicher, Verluste_AEL,Verluste_Verflüssigung, Verluste_Flüssigspeicher_Chile, Verluste_Verschiffung,Verluste_Flüssigspeicher_Bremerhaven,Verluste_Regasifizierung,Verluste_Pipeline,Energie_Last],\n",
    "        'Orientierung':[0,0,-1,-1,-1,-1,-1,-1,-1,-1,0],\n",
    "          'Energie':[Input_Photovoltaik, Input_Windkraft, Energie_Stromspeicher, Energie_AEL,Energie_Verflüssigung, Energie_Flüssigspeicher_Chile, Energie_Verschiffung,Energie_Flüssigspeicher_Bremerhaven,Energie_Regasifizierung,Energie_Pipeline,Energie_Last]}\n",
    "Verluste_Sankey_3 = pd.DataFrame(data=Sankey_3,\n",
    "                            index=['Photovoltaik', 'Windkraft', 'Stromspeicher','Elektrolyse','Verflüssigung','Speicher Chile','Verschiffung','Speicher Bremerhaven','Regasifizierung','Pipeline','Last'])\n",
    "Verluste_Sankey_3.Verluste = Verluste_Sankey_3.Verluste*100\n",
    "Verluste_Sankey_3.Verluste = Verluste_Sankey_3.Verluste.replace(0, np.nan)\n",
    "Verluste_Sankey_3 = Verluste_Sankey_3.dropna(axis=0)\n",
    "Verluste_Sankey_3 = Verluste_Sankey_3.iloc[::-1]\n",
    "Verluste_Sankey_3\n"
   ]
  },
  {
   "cell_type": "code",
   "execution_count": null,
   "id": "7385a8cf",
   "metadata": {
    "code_folding": [
     0
    ]
   },
   "outputs": [],
   "source": [
    "#Sankey Diagramm Verluste\n",
    "\n",
    "from matplotlib.sankey import Sankey\n",
    "\n",
    "sankey= Sankey(scale=0.01, offset=0.7,\n",
    "                format='%.2f', unit='%')\n",
    "sankey.add(flows=Verluste_Sankey_3.Verluste,labels=Verluste_Sankey_3.index,orientations=Verluste_Sankey_3.Orientierung,rotation=-90)\n",
    "sankey.finish()\n",
    "plt.title(\"Energetische Verluste Wasserstoffbereitstellung für Zementfabrik (LOHC)\")"
   ]
  },
  {
   "cell_type": "markdown",
   "id": "bd382eb6",
   "metadata": {},
   "source": [
    "### Gestehungskosten Wasserstoff"
   ]
  },
  {
   "cell_type": "code",
   "execution_count": null,
   "id": "78badc61",
   "metadata": {
    "code_folding": [
     0
    ]
   },
   "outputs": [],
   "source": [
    "# Berechnung des Wasserstoffpreises in €/kg\n",
    "\n",
    "# Kilopreis der Generatoren\n",
    "Generatorkosten = (((network3.generators.capital_cost * network3.generators.p_nom_opt)/network3.generators.lifetime\n",
    "                    + network3.generators.marginal_cost * network3.generators_t.p.sum())/hydrogen_demand_kg).fillna(0)\n",
    "     \n",
    "Generatorkosten=pd.DataFrame(Generatorkosten,columns=['Preis [€/kg]'])\n",
    "\n",
    "# Kilopreis der Links\n",
    "Linkkosten = (((network3.links.p_nom_opt * network3.links.capital_cost)/network3.links.lifetime\n",
    "              + network3.links.marginal_cost*(-network3.links_t.p1.sum()))\n",
    "              /hydrogen_demand_kg)\n",
    "\n",
    "Linkkosten=pd.DataFrame(Linkkosten,columns=['Preis [€/kg]'])\n",
    "\n",
    "# Kilopreis der Speicher\n",
    "Speicherkosten = (((network3.stores.e_nom_opt * network3.stores.capital_cost)/network3.stores.lifetime\n",
    "                   + network3.stores.marginal_cost*network3.stores_t.e.sum())/hydrogen_demand_kg)\n",
    "\n",
    "Speicherkosten=pd.DataFrame(Speicherkosten,columns=['Preis [€/kg]'])\n",
    "\n",
    "\n",
    "Kilogrammpreis = (Generatorkosten.append(Linkkosten).append(Speicherkosten))\n",
    "\n",
    "# Erstellung der Dataframes zur Darstellung in den Kategorien\n",
    "Kilogrammpreis_Strom = pd.DataFrame((Kilogrammpreis.iloc[[0,1]].append(Kilogrammpreis.loc[['Stromspeicher']]).sum())).rename(index={'Preis [€/kg]': 'Stromkosten'})\n",
    "Kilogrammpreis_Elektrolyse = pd.DataFrame(Kilogrammpreis.iloc[[2,3]].sum()).rename(index={'Preis [€/kg]': 'Elektrolyse'})\n",
    "Kilogrammpreis_Umwandlung = pd.DataFrame(Kilogrammpreis.iloc[[4,5]].sum()).rename(index={'Preis [€/kg]': 'Umwandlung'})\n",
    "Kilogrammpreis_Transport = pd.DataFrame(Kilogrammpreis.iloc[[6,7]].sum()).rename(index={'Preis [€/kg]': 'Transport'})\n",
    "Kilogrammpreis_Speicherung = pd.DataFrame(Kilogrammpreis.iloc[[9,10]].sum()).rename(index={'Preis [€/kg]': 'Speicherung'})\n",
    "\n",
    "Gestehungskosten_Wasserstoff_3 = (Kilogrammpreis_Strom\n",
    "                                .append(Kilogrammpreis_Elektrolyse)\n",
    "                                .append(Kilogrammpreis_Umwandlung)\n",
    "                                .append(Kilogrammpreis_Transport)\n",
    "                                .append(Kilogrammpreis_Speicherung)).rename(columns = {0:'Gestehungspreis [€/kg]'})"
   ]
  },
  {
   "cell_type": "code",
   "execution_count": null,
   "id": "e6b50a2d",
   "metadata": {
    "code_folding": [
     0
    ]
   },
   "outputs": [],
   "source": [
    "# Ausgabe des Ergebnisses\n",
    "Gestehungskosten_Wasserstoff_EUR_3 = float(round(Gestehungskosten_Wasserstoff_3.sum(),2))\n",
    "print('Die Gestehungskosten für ein Kilogramm Wasserstoff liegen bei '+str(Gestehungskosten_Wasserstoff_EUR_3)+' €')"
   ]
  },
  {
   "cell_type": "markdown",
   "id": "143a244d",
   "metadata": {},
   "source": [
    "## Ergebnisübersicht"
   ]
  },
  {
   "cell_type": "code",
   "execution_count": null,
   "id": "433ff079",
   "metadata": {
    "code_folding": [
     0
    ]
   },
   "outputs": [],
   "source": [
    "# Ergebnisse\n",
    "\n",
    "results = [Gestehungskosten_Wasserstoff_1,Gestehungskosten_Wasserstoff_2,Gestehungskosten_Wasserstoff_3]\n",
    "\n",
    "results_sum = pd.concat(results, axis = 1)\n",
    "results_sum"
   ]
  },
  {
   "cell_type": "markdown",
   "id": "f55462de",
   "metadata": {},
   "source": [
    "## Grafische Darstellungen"
   ]
  },
  {
   "cell_type": "markdown",
   "id": "69a3b755",
   "metadata": {},
   "source": [
    "### Darstellung der optimierten Erzeugungsleistung"
   ]
  },
  {
   "cell_type": "code",
   "execution_count": null,
   "id": "400c39ca",
   "metadata": {},
   "outputs": [],
   "source": [
    "Jahresverlauf('EE-Erzeugungsleistung','2025-01-01','2025-12-31',(network1.generators_t.p),'Stunde','Zeit','Leistung [MW]',1,1)"
   ]
  },
  {
   "cell_type": "code",
   "execution_count": null,
   "id": "fb0c1be1",
   "metadata": {},
   "outputs": [],
   "source": [
    "Jahresverlauf('EE-Erzeugungsleistung','2025-01-01','2025-12-31',(network2.generators_t.p),'Stunde','Zeit','Leistung [MW]',1,1)"
   ]
  },
  {
   "cell_type": "code",
   "execution_count": null,
   "id": "c4fd019e",
   "metadata": {},
   "outputs": [],
   "source": [
    "Jahresverlauf('EE-Erzeugungsleistung','2025-01-01','2025-12-31',(network3.generators_t.p),'Stunde','Zeit','Leistung [MW]',1,1)"
   ]
  },
  {
   "cell_type": "code",
   "execution_count": null,
   "id": "f201c072",
   "metadata": {},
   "outputs": [],
   "source": [
    "data_links_1 = network1.links_t.p0['AEL']\n",
    "data_links_1['Verflüssigung'] = network1.links_t.p0['Verflüssigung']\n",
    "data_links_1['Regasifizierung'] = network1.links_t.p0['Regasifizierung']"
   ]
  },
  {
   "cell_type": "code",
   "execution_count": null,
   "id": "f187dac7",
   "metadata": {},
   "outputs": [],
   "source": [
    "Jahresverlauf('Umwandlungsleistung','2025-01-01','2025-01-31',(data_links_1),'Stunde','Zeit','Leistung [MW]',1,1)"
   ]
  },
  {
   "cell_type": "code",
   "execution_count": null,
   "id": "fcef1dc4",
   "metadata": {
    "code_folding": [
     0
    ]
   },
   "outputs": [],
   "source": [
    "# Plot\n",
    "\n",
    "data = network1.generators_t.p\n",
    "\n",
    "ax = network1.generators_t.p.plot()\n",
    "\n",
    "plt.axhline(y=network1.generators_t.p['Photovoltaik'].max(), xmin=0.01, xmax=0.99, color = 'black', linestyle = \"--\")\n",
    "plt.axhline(y=network1.generators_t.p['Windkraft'].max(), xmin=0.01, xmax=0.99, color = 'black', linestyle = \"--\")\n",
    "\n",
    "plt.text(s = 'Photovoltaik: '+str(network1.generators.p_nom_opt.round(0)['Photovoltaik'])+' MW' , y = network1.generators_t.p['Photovoltaik'].max() + 10, x = 0, color = 'black', fontsize = 12)\n",
    "plt.text(s = 'Windkraft: '+str(network1.generators.p_nom_opt.round(0)['Windkraft'])+' MW', y = network1.generators_t.p['Windkraft'].max() + 10, x = 0, color = 'black', fontsize = 12)\n",
    "\n",
    "ax.set_title('Erzeugungsleistung')\n",
    "ax.set_ylabel(\"Leistung [MW]\")\n",
    "horiz_offset = 1.03\n",
    "vert_offset = 1.\n",
    "ax.legend(bbox_to_anchor=(horiz_offset, vert_offset))\n",
    "#plt.show()                  "
   ]
  },
  {
   "cell_type": "markdown",
   "id": "05e8ed44",
   "metadata": {},
   "source": [
    "### Darstellung der optimierten Erzeugungsleistung als Jahresdauerline"
   ]
  },
  {
   "cell_type": "code",
   "execution_count": null,
   "id": "f7f95e02",
   "metadata": {},
   "outputs": [],
   "source": [
    "if location_north:\n",
    "    Dauerlinie(network2.generators_t.p,'Photovoltaik','Jahresdauerlinie EE-Erzeugung','Leistung [MW]')\n",
    "else:\n",
    "    Dauerlinie(network2.generators_t.p,'Windkraft','Jahresdauerlinie EE-Erzeugung','Leistung  [MW]')"
   ]
  },
  {
   "cell_type": "code",
   "execution_count": null,
   "id": "09b7550f",
   "metadata": {},
   "outputs": [],
   "source": [
    "Dauerlinie(network2.links_t.p0,'AEL','Jahresdauerlinie Elektrolyse','Leistung  [MW]')"
   ]
  },
  {
   "cell_type": "markdown",
   "id": "df26c294",
   "metadata": {},
   "source": [
    "### Darstellung der optimierten Elektrolyseleistung"
   ]
  },
  {
   "cell_type": "code",
   "execution_count": null,
   "id": "eb3b2778",
   "metadata": {
    "code_folding": [
     0
    ],
    "scrolled": false
   },
   "outputs": [],
   "source": [
    "# Darstellung der optimierten Elektrolyseleistung\n",
    "\n",
    "fig, ax = plt.subplots()\n",
    "\n",
    "ax.plot(network1.links_t.p0['PEMEL'])\n",
    "ax.plot(network1.links_t.p0['AEL'])\n",
    "#ax.plot(network2.links_t.p0['AEL'])\n",
    "#ax.plot(network3.links_t.p0['AEL'])\n",
    "\n",
    "plt.axhline(y=network1.links_t.p0['PEMEL'].max(), xmin=0.01, xmax=0.99, color = 'black', linestyle = \"--\")\n",
    "plt.axhline(y=network1.links_t.p0['AEL'].max(), xmin=0.01, xmax=0.99, color = 'black', linestyle = \"--\")\n",
    "\n",
    "plt.text(s = 'PEMEL: '+str(network1.links.p_nom_opt.round(0)['PEMEL'])+' MW' , y = network1.links_t.p0['PEMEL'].max() + 10, x = 0, color = 'black', fontsize = 12)\n",
    "plt.text(s = 'AEL: '+str(network1.links.p_nom_opt.round(0)['AEL'])+' MW', y = network1.links_t.p0['AEL'].max() + 10, x = 0, color = 'black', fontsize = 12)\n",
    "\n",
    "ax.set_title('Elektrolyseleistung')\n",
    "ax.set_ylabel(\"Leistung [MW]\")\n",
    "plt.show()         "
   ]
  },
  {
   "cell_type": "markdown",
   "id": "5e2e7acc",
   "metadata": {},
   "source": [
    "### Darstellung der Bereitstellungskosten"
   ]
  },
  {
   "cell_type": "code",
   "execution_count": null,
   "id": "12b89a4f",
   "metadata": {
    "code_folding": [
     0
    ]
   },
   "outputs": [],
   "source": [
    "# Übersicht der Kilopreise\n",
    "\n",
    "labels = ['LH2', 'NH3', 'LOHC']\n",
    "Stromkosten = np.array([Gestehungskosten_Wasserstoff_1['Gestehungspreis [€/kg]']['Stromkosten'],\n",
    "                        Gestehungskosten_Wasserstoff_2['Gestehungspreis [€/kg]']['Stromkosten'],\n",
    "                         Gestehungskosten_Wasserstoff_3['Gestehungspreis [€/kg]']['Stromkosten']])\n",
    "\n",
    "Elektrolyse = np.array([Gestehungskosten_Wasserstoff_1['Gestehungspreis [€/kg]']['Elektrolyse'],\n",
    "                        Gestehungskosten_Wasserstoff_2['Gestehungspreis [€/kg]']['Elektrolyse'],\n",
    "                         Gestehungskosten_Wasserstoff_3['Gestehungspreis [€/kg]']['Elektrolyse']])\n",
    "                         \n",
    "Umwandlung =  np.array([Gestehungskosten_Wasserstoff_1['Gestehungspreis [€/kg]']['Umwandlung'],\n",
    "                        Gestehungskosten_Wasserstoff_2['Gestehungspreis [€/kg]']['Umwandlung'],\n",
    "                         Gestehungskosten_Wasserstoff_3['Gestehungspreis [€/kg]']['Umwandlung']])\n",
    "                          \n",
    "Ferntransport_1 = np.array([Gestehungskosten_Wasserstoff_1['Gestehungspreis [€/kg]']['Transport'],\n",
    "                        Gestehungskosten_Wasserstoff_2['Gestehungspreis [€/kg]']['Transport'],\n",
    "                         Gestehungskosten_Wasserstoff_3['Gestehungspreis [€/kg]']['Transport']])\n",
    "\n",
    "                         \n",
    "Speicherung = np.array([Gestehungskosten_Wasserstoff_1['Gestehungspreis [€/kg]']['Speicherung'],\n",
    "                        Gestehungskosten_Wasserstoff_2['Gestehungspreis [€/kg]']['Speicherung'],\n",
    "                         Gestehungskosten_Wasserstoff_3['Gestehungspreis [€/kg]']['Speicherung']])\n",
    "# the width of the bars: can also be len(x) sequence\n",
    "width=0.5\n",
    "fig, ax = plt.subplots(figsize=(14,8))\n",
    "#x_pos = [-2,0,2]\n",
    "ax.bar(labels, Stromkosten, label='Stromkosten',width=width,color='lightcoral')\n",
    "ax.bar(labels, Elektrolyse, bottom=Stromkosten,\n",
    "       label='Elektrolyse',width=width,color='indianred')\n",
    "ax.bar(labels, Speicherung, bottom=Stromkosten+Elektrolyse,\n",
    "       label='Speicherung',width=width,color='firebrick')\n",
    "ax.bar(labels, Ferntransport_1, bottom=Stromkosten+Elektrolyse+Speicherung,\n",
    "       label='Ferntransport',width=width,color='brown')\n",
    "ax.bar(labels, Umwandlung, bottom=Stromkosten+Elektrolyse+Speicherung+Ferntransport_1,\n",
    "       label='Umwandlung',width=width,color='darkred')\n",
    "\n",
    "ax.set_ylabel('Bereitstellungskosten in [€/kgH2]')\n",
    "ax.set_title('Vergleich der Transportmedien')\n",
    "ax.legend(loc='upper right')\n",
    "\n",
    "for p in ax.patches:\n",
    "    width, height = p.get_width(), p.get_height()\n",
    "    x, y = p.get_xy() \n",
    "    ax.text(x+width/2, \n",
    "            y+height/2, \n",
    "            '{:.02f}€'.format(height), \n",
    "            horizontalalignment='center', \n",
    "            verticalalignment='center',\n",
    "            color='white',\n",
    "            fontsize=8,\n",
    "            )\n",
    "  \n",
    "\n",
    "horiz_offset = 1.18\n",
    "vert_offset = 1.015\n",
    "ax.legend(bbox_to_anchor=(horiz_offset, vert_offset))\n",
    "#plt.xticks(x_pos, labels)\n",
    "plt.show()"
   ]
  },
  {
   "cell_type": "markdown",
   "id": "4ab2bcae",
   "metadata": {},
   "source": [
    "## Vergleich der Standorte"
   ]
  },
  {
   "cell_type": "code",
   "execution_count": null,
   "id": "aecc4a8b",
   "metadata": {
    "code_folding": [
     0,
     4
    ]
   },
   "outputs": [],
   "source": [
    "# Ausgabe und Einlesen der Ergebnisse als Excel\n",
    "\n",
    "if location_north:\n",
    "    results_sum.to_excel('results_sum_north.xlsx')\n",
    "else:\n",
    "    results_sum.to_excel('results_sum_south.xlsx')\n",
    "    \n",
    "results_north = pd.read_excel('results_sum_north.xlsx', header = 0, index_col = 0)\n",
    "results_south = pd.read_excel('results_sum_south.xlsx', header = 0, index_col = 0)    \n",
    "    \n",
    "results_south_LH2 = results_south['Gestehungspreis [€/kg]']\n",
    "results_south_NH3 = results_south['Gestehungspreis [€/kg].1']\n",
    "results_south_LOHC = results_south['Gestehungspreis [€/kg].2']\n",
    "\n",
    "results_north_LH2 = results_north['Gestehungspreis [€/kg]']\n",
    "results_north_NH3 = results_north['Gestehungspreis [€/kg].1']\n",
    "results_north_LOHC = results_north['Gestehungspreis [€/kg].2']\n",
    "    "
   ]
  },
  {
   "cell_type": "code",
   "execution_count": null,
   "id": "85c392aa",
   "metadata": {
    "code_folding": [
     0
    ]
   },
   "outputs": [],
   "source": [
    "# Plot\n",
    "\n",
    "labels = ['Antofagasta', 'Punta Arenas']\n",
    "Stromkosten = np.array([results_north_NH3.iloc[0],\n",
    "                        results_south_NH3.iloc[0]])\n",
    "\n",
    "Elektrolyse = np.array([results_north_NH3.iloc[1],\n",
    "                        results_south_NH3.iloc[1]])\n",
    "                         \n",
    "Umwandlung =  np.array([results_north_NH3.iloc[2],\n",
    "                        results_north_NH3.iloc[2]])\n",
    "                          \n",
    "Ferntransport_1 = np.array([results_north_NH3.iloc[3],\n",
    "                        results_south_NH3.iloc[3]])\n",
    "\n",
    "                         \n",
    "Speicherung = np.array([results_north_NH3.iloc[4],\n",
    "                        results_south_NH3.iloc[4]])\n",
    "\n",
    "# the width of the bars: can also be len(x) sequence\n",
    "width=0.5\n",
    "fig, ax = plt.subplots(figsize=(14,8))\n",
    "#x_pos = [-2,0,2]\n",
    "ax.bar(labels, Stromkosten, label='Stromkosten',width=width,color='lightcoral')\n",
    "ax.bar(labels, Elektrolyse, bottom=Stromkosten,\n",
    "       label='Elektrolyse',width=width,color='indianred')\n",
    "ax.bar(labels, Speicherung, bottom=Stromkosten+Elektrolyse,\n",
    "       label='Speicherung',width=width,color='firebrick')\n",
    "ax.bar(labels, Ferntransport_1, bottom=Stromkosten+Elektrolyse+Speicherung,\n",
    "       label='Ferntransport',width=width,color='brown')\n",
    "ax.bar(labels, Umwandlung, bottom=Stromkosten+Elektrolyse+Speicherung+Ferntransport_1,\n",
    "       label='Umwandlung',width=width,color='darkred')\n",
    "\n",
    "ax.set_ylabel('Bereitstellungskosten in [€/kgH2]')\n",
    "ax.set_title('Vergleich der Standorte')\n",
    "ax.legend(loc='upper right')\n",
    "\n",
    "for p in ax.patches:\n",
    "    width, height = p.get_width(), p.get_height()\n",
    "    x, y = p.get_xy() \n",
    "    ax.text(x+width/2, \n",
    "            y+height/2, \n",
    "            '{:.02f}€'.format(height), \n",
    "            horizontalalignment='center', \n",
    "            verticalalignment='center',\n",
    "            color='white',\n",
    "            fontsize=8,\n",
    "            )\n",
    "  \n",
    "\n",
    "horiz_offset = 1.18\n",
    "vert_offset = 1.015\n",
    "ax.legend(bbox_to_anchor=(horiz_offset, vert_offset))\n",
    "#plt.xticks(x_pos, labels)\n",
    "plt.show()"
   ]
  },
  {
   "cell_type": "markdown",
   "id": "ac5f47b8",
   "metadata": {
    "id": "ac5f47b8"
   },
   "source": [
    "# Werkstatt"
   ]
  },
  {
   "cell_type": "code",
   "execution_count": null,
   "id": "102921fc",
   "metadata": {
    "code_folding": [
     0
    ]
   },
   "outputs": [],
   "source": [
    "# Dataframes weitere Abbildungen\n",
    "data_speicher_1 = network1.stores_t.e.drop(columns=['Stromspeicher'])/hydrogen_energy_content\n",
    "data_speicher_2 = network2.stores_t.e.drop(columns=['Stromspeicher'])/hydrogen_energy_content\n",
    "data_speicher_3 = network3.stores_t.e.drop(columns=['Stromspeicher'])/hydrogen_energy_content\n",
    "\n",
    "data_transport_1 = (network1.stores_t.e.drop(columns=['Stromspeicher'])/hydrogen_energy_content)\n",
    "data_transport_1['Verschiffung LH2'] = (network1.links_t.p0['Verschiffung LH2']/hydrogen_energy_content*380)\n",
    "\n",
    "data_transport_2 = (network2.stores_t.e.drop(columns=['Stromspeicher'])/hydrogen_energy_content)\n",
    "data_transport_2['Verschiffung NH3'] = (network2.links_t.p0['Verschiffung NH3']/hydrogen_energy_content*380)\n",
    "\n",
    "data_transport_3 = (network3.stores_t.e.drop(columns=['Stromspeicher'])/hydrogen_energy_content)\n",
    "data_transport_3['Verschiffung LOHC'] = (network3.links_t.p0['Verschiffung LOHC']/hydrogen_energy_content*380)\n"
   ]
  },
  {
   "cell_type": "code",
   "execution_count": null,
   "id": "792163ce",
   "metadata": {
    "code_folding": []
   },
   "outputs": [],
   "source": [
    "# Speicher LH2\n",
    "Jahresverlauf('Füllstände der Speicher','2025-01-01','2025-12-31',(data_speicher_1),'Stunde','Zeit','Kapazität [t]',1,1)"
   ]
  },
  {
   "cell_type": "code",
   "execution_count": null,
   "id": "4a9b64d2",
   "metadata": {
    "code_folding": [
     0
    ]
   },
   "outputs": [],
   "source": [
    "# Speicher NH3\n",
    "Jahresverlauf('Füllstände der Speicher','2025-01-01','2025-12-31',(data_speicher_2),'Stunde','Zeit','Kapazität [t]',1,1)"
   ]
  },
  {
   "cell_type": "code",
   "execution_count": null,
   "id": "4b89cfdb",
   "metadata": {
    "code_folding": [
     0
    ]
   },
   "outputs": [],
   "source": [
    "# Speicher LOHC\n",
    "Jahresverlauf('Füllstände der Speicher','2025-01-01','2025-12-31',(data_speicher_3),'Stunde','Zeit','Kapazität [t]',1,1)"
   ]
  },
  {
   "cell_type": "code",
   "execution_count": null,
   "id": "ccf5d562",
   "metadata": {},
   "outputs": [],
   "source": []
  },
  {
   "cell_type": "code",
   "execution_count": null,
   "id": "b47110a6",
   "metadata": {},
   "outputs": [],
   "source": []
  },
  {
   "cell_type": "code",
   "execution_count": null,
   "id": "c1b114ae",
   "metadata": {},
   "outputs": [],
   "source": []
  },
  {
   "cell_type": "markdown",
   "id": "21c9ef8d",
   "metadata": {},
   "source": [
    "### Vergleich von Speicherung und Ferntransport"
   ]
  },
  {
   "cell_type": "code",
   "execution_count": null,
   "id": "3bef0c48",
   "metadata": {
    "code_folding": [
     0
    ],
    "scrolled": false
   },
   "outputs": [],
   "source": [
    "# Plot\n",
    "\n",
    "a=0\n",
    "b=8760/9*2\n",
    "fig, ax1 = plt.subplots(sharey = True)\n",
    "Verschiffung_Tonnen=network2.links_t.p0['Verschiffung NH3']/hydrogen_energy_content\n",
    "ax2 = ax1.twinx()\n",
    "ax2.plot(Verschiffung_Tonnen.loc[a:b],\n",
    "        label = 'Verschiffung',color='red')\n",
    "ax1.plot(network2.stores_t.e['Ammoniakspeicher Chile'].loc[a:b]/hydrogen_energy_content,\n",
    "        label = 'Ammoniakspeicher Chile')\n",
    "ax1.plot(network2.stores_t.e['Ammoniakspeicher Bremerhaven'].loc[a:b]/hydrogen_energy_content,\n",
    "        label = 'Ammoniakspeicher Bremerhaven')\n",
    "ax2.set_ylabel('Verschiffung [t/h]', color = 'red')\n",
    "ax1.set_ylabel('Kapazität Speicher [t]')\n",
    "ax1.set_xlabel('Zeit in [h]')\n",
    "\n",
    "\n",
    "horiz_offset = 1.1\n",
    "vert_offset = 0.89\n",
    "ax1.set_title('Beladung des Schiffes')\n",
    "fig.legend(bbox_to_anchor=(horiz_offset, vert_offset))\n",
    "plt.show()"
   ]
  },
  {
   "cell_type": "code",
   "execution_count": null,
   "id": "383d7ab4",
   "metadata": {},
   "outputs": [],
   "source": []
  }
 ],
 "metadata": {
  "colab": {
   "provenance": []
  },
  "hide_input": false,
  "kernelspec": {
   "display_name": "Python 3 (ipykernel)",
   "language": "python",
   "name": "python3"
  },
  "language_info": {
   "codemirror_mode": {
    "name": "ipython",
    "version": 3
   },
   "file_extension": ".py",
   "mimetype": "text/x-python",
   "name": "python",
   "nbconvert_exporter": "python",
   "pygments_lexer": "ipython3",
   "version": "3.9.7"
  },
  "toc": {
   "base_numbering": 1,
   "nav_menu": {},
   "number_sections": true,
   "sideBar": true,
   "skip_h1_title": false,
   "title_cell": "Table of Contents",
   "title_sidebar": "Contents",
   "toc_cell": false,
   "toc_position": {
    "height": "calc(100% - 180px)",
    "left": "10px",
    "top": "150px",
    "width": "268.96875px"
   },
   "toc_section_display": true,
   "toc_window_display": true
  }
 },
 "nbformat": 4,
 "nbformat_minor": 5
}
