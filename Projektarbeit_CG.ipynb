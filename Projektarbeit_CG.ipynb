{
 "cells": [
  {
   "cell_type": "code",
   "execution_count": 1,
   "id": "f9a9c5ab",
   "metadata": {
    "code_folding": [
     0
    ],
    "executionInfo": {
     "elapsed": 6550,
     "status": "ok",
     "timestamp": 1673435341643,
     "user": {
      "displayName": "Christof Gipser",
      "userId": "04329298021906177943"
     },
     "user_tz": -60
    },
    "id": "f9a9c5ab"
   },
   "outputs": [],
   "source": [
    "# Import der Bibliotheken\n",
    "\n",
    "import pypsa\n",
    "import pandas as pd\n",
    "import numpy as np\n",
    "import matplotlib.pyplot as plt\n",
    "import datetime\n",
    "from datetime import date, datetime"
   ]
  },
  {
   "cell_type": "markdown",
   "id": "2b98ccea",
   "metadata": {
    "id": "2b98ccea"
   },
   "source": [
    "# Einlesen der Datenreihen"
   ]
  },
  {
   "cell_type": "code",
   "execution_count": 2,
   "id": "Fe26l2tN6gYr",
   "metadata": {
    "code_folding": [
     0
    ],
    "colab": {
     "base_uri": "https://localhost:8080/",
     "height": 446
    },
    "executionInfo": {
     "elapsed": 731,
     "status": "error",
     "timestamp": 1673435393733,
     "user": {
      "displayName": "Christof Gipser",
      "userId": "04329298021906177943"
     },
     "user_tz": -60
    },
    "id": "Fe26l2tN6gYr",
    "outputId": "61866d25-63ff-42b3-daa9-cb0b24df3458"
   },
   "outputs": [],
   "source": [
    "# Einlesen externen Daten\n",
    "data_pv = pd.read_csv('data/data_pv_antofagasta_1MW.csv', skiprows = 3)\n",
    "data_wind = pd.read_csv('data/data_wind_antofagasta_1MW.csv', skiprows = 3)\n",
    "#data_electrolysis = pd.read_excel('data/load_electrolysis.xlsx')\n",
    "data_shipping_1 = pd.read_excel('data/Ferntransport_12.xlsx')"
   ]
  },
  {
   "cell_type": "code",
   "execution_count": 3,
   "id": "ifaKYx4DfMZO",
   "metadata": {
    "code_folding": [
     0
    ],
    "executionInfo": {
     "elapsed": 8,
     "status": "aborted",
     "timestamp": 1673435393734,
     "user": {
      "displayName": "Christof Gipser",
      "userId": "04329298021906177943"
     },
     "user_tz": -60
    },
    "id": "ifaKYx4DfMZO"
   },
   "outputs": [],
   "source": [
    "# Erstellung eines Dataframes aus externen Daten\n",
    "\n",
    "dataset_df=pd.DataFrame()\n",
    "dataset_df['Zeitstempel']=data_pv['time']\n",
    "dataset_df['PV_Erzeugung']=data_pv['electricity']\n",
    "dataset_df['Wind_Erzeugung']=data_wind['electricity']\n",
    "#dataset_df['Elektrolyse']=data_electrolysis['hydrogen']\n",
    "dataset_df['Kapazität_Schiff']=data_shipping_1['Kapazität [MWh]']\n",
    "dataset_df.Kapazität_Schiff=dataset_df.Kapazität_Schiff.fillna(method='ffill')"
   ]
  },
  {
   "cell_type": "code",
   "execution_count": 4,
   "id": "6b6aa064",
   "metadata": {
    "code_folding": [
     0
    ],
    "executionInfo": {
     "elapsed": 9,
     "status": "aborted",
     "timestamp": 1673435393735,
     "user": {
      "displayName": "Christof Gipser",
      "userId": "04329298021906177943"
     },
     "user_tz": -60
    },
    "id": "6b6aa064",
    "scrolled": true
   },
   "outputs": [
    {
     "data": {
      "text/html": [
       "<div>\n",
       "<style scoped>\n",
       "    .dataframe tbody tr th:only-of-type {\n",
       "        vertical-align: middle;\n",
       "    }\n",
       "\n",
       "    .dataframe tbody tr th {\n",
       "        vertical-align: top;\n",
       "    }\n",
       "\n",
       "    .dataframe thead th {\n",
       "        text-align: right;\n",
       "    }\n",
       "</style>\n",
       "<table border=\"1\" class=\"dataframe\">\n",
       "  <thead>\n",
       "    <tr style=\"text-align: right;\">\n",
       "      <th></th>\n",
       "      <th>Unnamed: 1</th>\n",
       "      <th>name</th>\n",
       "      <th>bus</th>\n",
       "      <th>p_nom</th>\n",
       "      <th>marginal_cost</th>\n",
       "      <th>lifetime</th>\n",
       "      <th>capital_cost</th>\n",
       "      <th>efficiency</th>\n",
       "      <th>standing_loss</th>\n",
       "      <th>Unnamed: 10</th>\n",
       "    </tr>\n",
       "  </thead>\n",
       "  <tbody>\n",
       "    <tr>\n",
       "      <th>NaN</th>\n",
       "      <td>0</td>\n",
       "      <td>string</td>\n",
       "      <td>string</td>\n",
       "      <td>series</td>\n",
       "      <td>static</td>\n",
       "      <td>float</td>\n",
       "      <td>float</td>\n",
       "      <td>float</td>\n",
       "      <td>float</td>\n",
       "      <td>0</td>\n",
       "    </tr>\n",
       "    <tr>\n",
       "      <th>Photovoltaik (Chile)</th>\n",
       "      <td>Generator</td>\n",
       "      <td>x</td>\n",
       "      <td>x</td>\n",
       "      <td>x</td>\n",
       "      <td>68.9</td>\n",
       "      <td>0</td>\n",
       "      <td>0</td>\n",
       "      <td>n.v.</td>\n",
       "      <td>n.v.</td>\n",
       "      <td>0</td>\n",
       "    </tr>\n",
       "    <tr>\n",
       "      <th>Windkraft (Chile)</th>\n",
       "      <td>Generator</td>\n",
       "      <td>x</td>\n",
       "      <td>x</td>\n",
       "      <td>x</td>\n",
       "      <td>48.41</td>\n",
       "      <td>0</td>\n",
       "      <td>0</td>\n",
       "      <td>n.v.</td>\n",
       "      <td>n.v.</td>\n",
       "      <td>0</td>\n",
       "    </tr>\n",
       "    <tr>\n",
       "      <th>PEM Elektrolyse</th>\n",
       "      <td>Link</td>\n",
       "      <td>x</td>\n",
       "      <td>x</td>\n",
       "      <td>Simulation</td>\n",
       "      <td>95.226003</td>\n",
       "      <td>10</td>\n",
       "      <td>720000</td>\n",
       "      <td>0.598911</td>\n",
       "      <td>n.v.</td>\n",
       "      <td>[2]</td>\n",
       "    </tr>\n",
       "    <tr>\n",
       "      <th>AEL Elektrolyse</th>\n",
       "      <td>Link</td>\n",
       "      <td>x</td>\n",
       "      <td>x</td>\n",
       "      <td>Simulation</td>\n",
       "      <td>120.831319</td>\n",
       "      <td>10</td>\n",
       "      <td>630000</td>\n",
       "      <td>0.617978</td>\n",
       "      <td>n.v.</td>\n",
       "      <td>[2]</td>\n",
       "    </tr>\n",
       "    <tr>\n",
       "      <th>Verflüssigung</th>\n",
       "      <td>Link</td>\n",
       "      <td>x</td>\n",
       "      <td>x</td>\n",
       "      <td>Simulation</td>\n",
       "      <td>6.060606</td>\n",
       "      <td>20</td>\n",
       "      <td>3296969.69697</td>\n",
       "      <td>1</td>\n",
       "      <td>n.v.</td>\n",
       "      <td>[1]</td>\n",
       "    </tr>\n",
       "    <tr>\n",
       "      <th>Haber-Bosch</th>\n",
       "      <td>Link</td>\n",
       "      <td>x</td>\n",
       "      <td>x</td>\n",
       "      <td>Simulation</td>\n",
       "      <td>0</td>\n",
       "      <td>0</td>\n",
       "      <td>0</td>\n",
       "      <td>0</td>\n",
       "      <td>n.v.</td>\n",
       "      <td>0</td>\n",
       "    </tr>\n",
       "    <tr>\n",
       "      <th>Hydrierung</th>\n",
       "      <td>Link</td>\n",
       "      <td>x</td>\n",
       "      <td>x</td>\n",
       "      <td>Simulation</td>\n",
       "      <td>0</td>\n",
       "      <td>0</td>\n",
       "      <td>0</td>\n",
       "      <td>0</td>\n",
       "      <td>n.v.</td>\n",
       "      <td>0</td>\n",
       "    </tr>\n",
       "    <tr>\n",
       "      <th>GH2 Speicher</th>\n",
       "      <td>Store</td>\n",
       "      <td>x</td>\n",
       "      <td>x</td>\n",
       "      <td>Simulation</td>\n",
       "      <td>20.854545</td>\n",
       "      <td>20</td>\n",
       "      <td>1042.727273</td>\n",
       "      <td>n.v.</td>\n",
       "      <td>0</td>\n",
       "      <td>0</td>\n",
       "    </tr>\n",
       "    <tr>\n",
       "      <th>LH2 Speicher</th>\n",
       "      <td>Store</td>\n",
       "      <td>x</td>\n",
       "      <td>x</td>\n",
       "      <td>Simulation</td>\n",
       "      <td>21.818182</td>\n",
       "      <td>25</td>\n",
       "      <td>1090.909091</td>\n",
       "      <td>n.v.</td>\n",
       "      <td>0.000083</td>\n",
       "      <td>0</td>\n",
       "    </tr>\n",
       "    <tr>\n",
       "      <th>NH3 Speicher</th>\n",
       "      <td>Store</td>\n",
       "      <td>x</td>\n",
       "      <td>x</td>\n",
       "      <td>Simulation</td>\n",
       "      <td>0</td>\n",
       "      <td>0</td>\n",
       "      <td>0</td>\n",
       "      <td>n.v.</td>\n",
       "      <td>0</td>\n",
       "      <td>0</td>\n",
       "    </tr>\n",
       "    <tr>\n",
       "      <th>LOHC Speicher</th>\n",
       "      <td>Store</td>\n",
       "      <td>x</td>\n",
       "      <td>x</td>\n",
       "      <td>Simulation</td>\n",
       "      <td>0</td>\n",
       "      <td>0</td>\n",
       "      <td>0</td>\n",
       "      <td>n.v.</td>\n",
       "      <td>0</td>\n",
       "      <td>0</td>\n",
       "    </tr>\n",
       "    <tr>\n",
       "      <th>Pipeline</th>\n",
       "      <td>Link</td>\n",
       "      <td>x</td>\n",
       "      <td>x</td>\n",
       "      <td>Simulation</td>\n",
       "      <td>4.804</td>\n",
       "      <td>n.v.</td>\n",
       "      <td>0</td>\n",
       "      <td>0</td>\n",
       "      <td>n.v.</td>\n",
       "      <td>0</td>\n",
       "    </tr>\n",
       "    <tr>\n",
       "      <th>LH2 Schiff</th>\n",
       "      <td>Link</td>\n",
       "      <td>x</td>\n",
       "      <td>x</td>\n",
       "      <td>Simulation</td>\n",
       "      <td>0</td>\n",
       "      <td>n.v.</td>\n",
       "      <td>0</td>\n",
       "      <td>0</td>\n",
       "      <td>n.v.</td>\n",
       "      <td>0</td>\n",
       "    </tr>\n",
       "    <tr>\n",
       "      <th>NH3 Schiff</th>\n",
       "      <td>Link</td>\n",
       "      <td>x</td>\n",
       "      <td>x</td>\n",
       "      <td>Simulation</td>\n",
       "      <td>0</td>\n",
       "      <td>n.v.</td>\n",
       "      <td>0</td>\n",
       "      <td>0</td>\n",
       "      <td>n.v.</td>\n",
       "      <td>0</td>\n",
       "    </tr>\n",
       "    <tr>\n",
       "      <th>LOHC Schiff</th>\n",
       "      <td>Link</td>\n",
       "      <td>x</td>\n",
       "      <td>x</td>\n",
       "      <td>Simulation</td>\n",
       "      <td>0</td>\n",
       "      <td>n.v.</td>\n",
       "      <td>0</td>\n",
       "      <td>0</td>\n",
       "      <td>n.v.</td>\n",
       "      <td>0</td>\n",
       "    </tr>\n",
       "  </tbody>\n",
       "</table>\n",
       "</div>"
      ],
      "text/plain": [
       "                     Unnamed: 1    name     bus       p_nom marginal_cost  \\\n",
       "NaN                           0  string  string      series        static   \n",
       "Photovoltaik (Chile)  Generator       x       x           x          68.9   \n",
       "Windkraft (Chile)     Generator       x       x           x         48.41   \n",
       "PEM Elektrolyse            Link       x       x  Simulation     95.226003   \n",
       "AEL Elektrolyse            Link       x       x  Simulation    120.831319   \n",
       "Verflüssigung              Link       x       x  Simulation      6.060606   \n",
       "Haber-Bosch                Link       x       x  Simulation             0   \n",
       "Hydrierung                 Link       x       x  Simulation             0   \n",
       "GH2 Speicher              Store       x       x  Simulation     20.854545   \n",
       "LH2 Speicher              Store       x       x  Simulation     21.818182   \n",
       "NH3 Speicher              Store       x       x  Simulation             0   \n",
       "LOHC Speicher             Store       x       x  Simulation             0   \n",
       "Pipeline                   Link       x       x  Simulation         4.804   \n",
       "LH2 Schiff                 Link       x       x  Simulation             0   \n",
       "NH3 Schiff                 Link       x       x  Simulation             0   \n",
       "LOHC Schiff                Link       x       x  Simulation             0   \n",
       "\n",
       "                     lifetime   capital_cost efficiency standing_loss  \\\n",
       "NaN                     float          float      float         float   \n",
       "Photovoltaik (Chile)        0              0       n.v.          n.v.   \n",
       "Windkraft (Chile)           0              0       n.v.          n.v.   \n",
       "PEM Elektrolyse            10         720000   0.598911          n.v.   \n",
       "AEL Elektrolyse            10         630000   0.617978          n.v.   \n",
       "Verflüssigung              20  3296969.69697          1          n.v.   \n",
       "Haber-Bosch                 0              0          0          n.v.   \n",
       "Hydrierung                  0              0          0          n.v.   \n",
       "GH2 Speicher               20    1042.727273       n.v.             0   \n",
       "LH2 Speicher               25    1090.909091       n.v.      0.000083   \n",
       "NH3 Speicher                0              0       n.v.             0   \n",
       "LOHC Speicher               0              0       n.v.             0   \n",
       "Pipeline                 n.v.              0          0          n.v.   \n",
       "LH2 Schiff               n.v.              0          0          n.v.   \n",
       "NH3 Schiff               n.v.              0          0          n.v.   \n",
       "LOHC Schiff              n.v.              0          0          n.v.   \n",
       "\n",
       "                     Unnamed: 10  \n",
       "NaN                            0  \n",
       "Photovoltaik (Chile)           0  \n",
       "Windkraft (Chile)              0  \n",
       "PEM Elektrolyse              [2]  \n",
       "AEL Elektrolyse              [2]  \n",
       "Verflüssigung                [1]  \n",
       "Haber-Bosch                    0  \n",
       "Hydrierung                     0  \n",
       "GH2 Speicher                   0  \n",
       "LH2 Speicher                   0  \n",
       "NH3 Speicher                   0  \n",
       "LOHC Speicher                  0  \n",
       "Pipeline                       0  \n",
       "LH2 Schiff                     0  \n",
       "NH3 Schiff                     0  \n",
       "LOHC Schiff                    0  "
      ]
     },
     "execution_count": 4,
     "metadata": {},
     "output_type": "execute_result"
    }
   ],
   "source": [
    "# Einlesen und Ausgabe der Inputs für die Variablen\n",
    "\n",
    "data_inputs = pd.read_excel('data/Inputs_Modell.xlsx', sheet_name = 'Gesamt', header = 2, index_col = 0, nrows = 16)\n",
    "\n",
    "data_inputs=pd.DataFrame(data_inputs.fillna(0))\n",
    "data_inputs"
   ]
  },
  {
   "cell_type": "markdown",
   "id": "5fadf68f",
   "metadata": {
    "id": "5fadf68f"
   },
   "source": [
    "# Definition der Variablen"
   ]
  },
  {
   "cell_type": "code",
   "execution_count": 5,
   "id": "a1970481",
   "metadata": {
    "code_folding": [
     0
    ],
    "executionInfo": {
     "elapsed": 9,
     "status": "aborted",
     "timestamp": 1673435393735,
     "user": {
      "displayName": "Christof Gipser",
      "userId": "04329298021906177943"
     },
     "user_tz": -60
    },
    "id": "a1970481",
    "scrolled": true
   },
   "outputs": [
    {
     "name": "stdout",
     "output_type": "stream",
     "text": [
      "Der stündliche Bedarf bei konstanter Verteilung des Jahresbedarfs von 35 kt Wasserstoff beträgt ungefähr 132.0 MWh\n"
     ]
    }
   ],
   "source": [
    "# Erstellung des Wasserstoffbedarfs\n",
    "\n",
    "hydrogen_energy_content = 33 #kWh/kg oder MWh/t\n",
    "hydrogen_demand_t = 35 * 1000\n",
    "hydrogen_demand_kg = hydrogen_demand_t * 1000\n",
    "hydrogen_demand_MWh = hydrogen_demand_t * hydrogen_energy_content # MWh\n",
    "hydrogen_demand_hourly = hydrogen_demand_MWh/8760 #MW\n",
    "\n",
    "print('Der stündliche Bedarf bei konstanter Verteilung des Jahresbedarfs von 35 kt Wasserstoff beträgt ungefähr ' + str(round(hydrogen_demand_hourly,0)) + ' MWh')"
   ]
  },
  {
   "cell_type": "code",
   "execution_count": 6,
   "id": "ff6fb5e2",
   "metadata": {
    "code_folding": [
     0
    ]
   },
   "outputs": [
    {
     "name": "stdout",
     "output_type": "stream",
     "text": [
      "Der stündliche Bedarf bei konstanter Verteilung des Jahresbedarfs für die Entsalzungsanlage beträgt ungefähr 0 MWh\n"
     ]
    }
   ],
   "source": [
    "# Erstellung der Last durch die Entsalzungsanlage\n",
    "\n",
    "p_desalination = 0 #MWh/a)\n",
    "print('Der stündliche Bedarf bei konstanter Verteilung des Jahresbedarfs für die Entsalzungsanlage beträgt ungefähr ' + str(round(p_desalination,0)) + ' MWh')"
   ]
  },
  {
   "cell_type": "markdown",
   "id": "b5e81e71",
   "metadata": {
    "id": "b5e81e71"
   },
   "source": [
    "## Investitionskosten"
   ]
  },
  {
   "cell_type": "code",
   "execution_count": 7,
   "id": "f7557704",
   "metadata": {
    "code_folding": [
     0
    ],
    "executionInfo": {
     "elapsed": 8,
     "status": "aborted",
     "timestamp": 1673435393735,
     "user": {
      "displayName": "Christof Gipser",
      "userId": "04329298021906177943"
     },
     "user_tz": -60
    },
    "id": "f7557704"
   },
   "outputs": [],
   "source": [
    "# capital_cost\n",
    "\n",
    "# Erzeugung\n",
    "capital_cost_pv = data_inputs.loc['Photovoltaik (Chile)']['capital_cost'] # €/MW\n",
    "capital_cost_wind = data_inputs.loc['Windkraft (Chile)']['capital_cost'] # €/MW\n",
    "\n",
    "\n",
    "# Elektrolyse\n",
    "capital_cost_PEMEL = data_inputs.loc['PEM Elektrolyse']['capital_cost'] # €/MW\n",
    "capital_cost_AEL = data_inputs.loc['AEL Elektrolyse']['capital_cost'] # €/MW\n",
    "#capital_cost_HTEL = 1300 # €/MW\n",
    "\n",
    "\n",
    "# Umwandlung\n",
    "capital_cost_LH2 = data_inputs.loc['Verflüssigung']['capital_cost'] # €/MW\n",
    "capital_cost_NH3 = data_inputs.loc['Haber-Bosch']['capital_cost'] # €/MW\n",
    "capital_cost_LOHC = data_inputs.loc['Hydrierung']['capital_cost'] # €/MW\n",
    "\n",
    "\n",
    "#Transport\n",
    "capital_cost_pipeline = data_inputs.loc['Pipeline']['capital_cost'] # €/MW\n",
    "capital_cost_shipping_LH2 = data_inputs.loc['LH2 Schiff']['capital_cost'] # €/MW\n",
    "capital_cost_shipping_NH3 = data_inputs.loc['NH3 Schiff']['capital_cost'] # €/MW\n",
    "capital_cost_shipping_LOHC = data_inputs.loc['LOHC Schiff']['capital_cost'] # €/MW\n",
    "\n",
    "\n",
    "# Speicherung\n",
    "capital_cost_storage_el = 1000000\n",
    "capital_cost_storage_NH3 = data_inputs.loc['LH2 Speicher']['capital_cost'] # €/MW\n",
    "capital_cost_storage_LH2 = data_inputs.loc['NH3 Speicher']['capital_cost'] # €/MW\n",
    "capital_cost_storage_LOHC = data_inputs.loc['LOHC Speicher']['capital_cost'] # €/MW\n",
    "capital_cost_storage_GH2 = data_inputs.loc['GH2 Speicher']['capital_cost'] # €/MW"
   ]
  },
  {
   "cell_type": "markdown",
   "id": "4a7b55cc",
   "metadata": {
    "id": "4a7b55cc"
   },
   "source": [
    "## Gestehungskosten"
   ]
  },
  {
   "cell_type": "code",
   "execution_count": 8,
   "id": "bc66b833",
   "metadata": {
    "code_folding": [
     0
    ],
    "executionInfo": {
     "elapsed": 8,
     "status": "aborted",
     "timestamp": 1673435393735,
     "user": {
      "displayName": "Christof Gipser",
      "userId": "04329298021906177943"
     },
     "user_tz": -60
    },
    "id": "bc66b833"
   },
   "outputs": [],
   "source": [
    "# marginal_cost\n",
    "\n",
    "# Erzeugung\n",
    "marginal_cost_pv = data_inputs.loc['Photovoltaik (Chile)']['marginal_cost'] # €/MWh\n",
    "marginal_cost_wind = data_inputs.loc['Windkraft (Chile)']['marginal_cost'] # €/MWh\n",
    "\n",
    "# Elektrolyse\n",
    "marginal_cost_PEMEL = data_inputs.loc['PEM Elektrolyse']['marginal_cost'] # €/MWh\n",
    "marginal_cost_AEL = data_inputs.loc['AEL Elektrolyse']['marginal_cost'] # €/MWh\n",
    "#marginal_cost_HTEL = 100 # €/MWh\n",
    "\n",
    "# Umwandlung\n",
    "marginal_cost_LH2 = data_inputs.loc['Verflüssigung']['marginal_cost'] # €/MWh\n",
    "marginal_cost_NH3 = data_inputs.loc['Haber-Bosch']['marginal_cost'] # €/MWh\n",
    "marginal_cost_LOHC = data_inputs.loc['Hydrierung']['marginal_cost'] # €/MWh\n",
    "\n",
    "# Transport\n",
    "marginal_cost_pipeline = data_inputs.loc['Pipeline']['marginal_cost'] # €/MWh\n",
    "marginal_cost_shipping_LH2 = data_inputs.loc['LH2 Schiff']['marginal_cost'] # €/MWh\n",
    "marginal_cost_shipping_NH3 = data_inputs.loc['NH3 Schiff']['marginal_cost'] # €/MWh\n",
    "marginal_cost_shipping_LOHC = data_inputs.loc['LOHC Schiff']['marginal_cost'] # €/MWh\n",
    "\n",
    "# Speicherung\n",
    "marginal_cost_storage_el = 8000\n",
    "marginal_cost_storage_LH2 = data_inputs.loc['LH2 Speicher']['marginal_cost'] # €/MWh\n",
    "marginal_cost_storage_NH3 = data_inputs.loc['NH3 Speicher']['marginal_cost'] # €/MWh\n",
    "marginal_cost_storage_LOHC = data_inputs.loc['LOHC Speicher']['marginal_cost'] # €/MWh\n",
    "marginal_cost_storage_GH2 = data_inputs.loc['GH2 Speicher']['marginal_cost'] # €/MWh"
   ]
  },
  {
   "cell_type": "markdown",
   "id": "bf48b910",
   "metadata": {
    "id": "bf48b910"
   },
   "source": [
    "## Sonstiges"
   ]
  },
  {
   "cell_type": "code",
   "execution_count": 9,
   "id": "d3e88dda",
   "metadata": {
    "code_folding": [
     0
    ],
    "executionInfo": {
     "elapsed": 8,
     "status": "aborted",
     "timestamp": 1673435393735,
     "user": {
      "displayName": "Christof Gipser",
      "userId": "04329298021906177943"
     },
     "user_tz": -60
    },
    "id": "d3e88dda"
   },
   "outputs": [],
   "source": [
    "# Wirkungsgrad Erzeugung\n",
    "efficiency_PEMEL = data_inputs.loc['PEM Elektrolyse']['efficiency']\n",
    "efficiency_AEL = data_inputs.loc['AEL Elektrolyse']['efficiency']\n",
    "#efficiency_HTEL = 1\n",
    "\n",
    "# Wirkungsgrad Umwandlung\n",
    "efficiency_NH3 = data_inputs.loc['Haber-Bosch']['efficiency']\n",
    "efficiency_LH2 = data_inputs.loc['Verflüssigung']['efficiency']\n",
    "efficiency_LOHC = data_inputs.loc['Hydrierung']['efficiency']\n",
    "\n",
    "# Lebenszeit\n",
    "lifetime_PEMEL = data_inputs.loc['PEM Elektrolyse']['lifetime']\n",
    "lifetime_AEL = data_inputs.loc['AEL Elektrolyse']['lifetime']\n",
    "#lifetime_HTEL = 20\n",
    "\n",
    "# Speicherverluste\n",
    "standing_loss_el = 0.1\n",
    "standing_loss_NH3 = data_inputs.loc['LH2 Speicher']['standing_loss']\n",
    "standing_loss_LH2 = data_inputs.loc['NH3 Speicher']['standing_loss']\n",
    "standing_loss_LOHC = data_inputs.loc['LOHC Speicher']['standing_loss']\n",
    "standing_loss_GH2 = data_inputs.loc['GH2 Speicher']['standing_loss']"
   ]
  },
  {
   "cell_type": "markdown",
   "id": "d6282dfc",
   "metadata": {
    "id": "d6282dfc"
   },
   "source": [
    "# Netzwerk aufbauen"
   ]
  },
  {
   "cell_type": "code",
   "execution_count": 10,
   "id": "e544e18f",
   "metadata": {
    "executionInfo": {
     "elapsed": 8,
     "status": "aborted",
     "timestamp": 1673435393735,
     "user": {
      "displayName": "Christof Gipser",
      "userId": "04329298021906177943"
     },
     "user_tz": -60
    },
    "id": "e544e18f"
   },
   "outputs": [],
   "source": [
    "network = pypsa.Network()\n",
    "network.set_snapshots(range(8760))"
   ]
  },
  {
   "cell_type": "markdown",
   "id": "9991c95a",
   "metadata": {
    "id": "9991c95a"
   },
   "source": [
    "## Buses"
   ]
  },
  {
   "cell_type": "code",
   "execution_count": 11,
   "id": "9cede772",
   "metadata": {
    "code_folding": [
     0
    ],
    "executionInfo": {
     "elapsed": 8,
     "status": "aborted",
     "timestamp": 1673435393736,
     "user": {
      "displayName": "Christof Gipser",
      "userId": "04329298021906177943"
     },
     "user_tz": -60
    },
    "id": "9cede772"
   },
   "outputs": [],
   "source": [
    "# buses\n",
    "\n",
    "network.add('Bus', name = 'electricity')\n",
    "network.add('Bus', name = 'GH2')\n",
    "network.add('Bus', name = 'LH2')\n",
    "network.add('Bus', name = 'NH3')\n",
    "network.add('Bus', name = 'LOHC')\n",
    "network.add('Bus', name = 'bremerhaven')\n",
    "network.add('Bus', name = 'cologne')"
   ]
  },
  {
   "cell_type": "markdown",
   "id": "b6a510d5",
   "metadata": {
    "id": "b6a510d5"
   },
   "source": [
    "## Loads"
   ]
  },
  {
   "cell_type": "code",
   "execution_count": 12,
   "id": "e90456f6",
   "metadata": {
    "code_folding": [
     0,
     3
    ],
    "executionInfo": {
     "elapsed": 8,
     "status": "aborted",
     "timestamp": 1673435393736,
     "user": {
      "displayName": "Christof Gipser",
      "userId": "04329298021906177943"
     },
     "user_tz": -60
    },
    "id": "e90456f6"
   },
   "outputs": [],
   "source": [
    "network.add('Load', name = 'hydrogen_demand', bus = 'cologne', \n",
    "            p_set = hydrogen_demand_hourly)\n",
    "\n",
    "network.add('Load', name = 'desalination', bus = 'electricity', \n",
    "            p_set = p_desalination)"
   ]
  },
  {
   "cell_type": "markdown",
   "id": "2ccfd17e",
   "metadata": {
    "id": "2ccfd17e"
   },
   "source": [
    "## Generators"
   ]
  },
  {
   "cell_type": "code",
   "execution_count": 13,
   "id": "4f04b3e1",
   "metadata": {
    "code_folding": [
     0,
     7
    ],
    "executionInfo": {
     "elapsed": 8,
     "status": "aborted",
     "timestamp": 1673435393736,
     "user": {
      "displayName": "Christof Gipser",
      "userId": "04329298021906177943"
     },
     "user_tz": -60
    },
    "id": "4f04b3e1"
   },
   "outputs": [],
   "source": [
    "network.add('Generator', name = 'Photovoltaik', bus = 'electricity', \n",
    "            p_nom = dataset_df['PV_Erzeugung'].max(),\n",
    "            p_max_pu = dataset_df['PV_Erzeugung']/dataset_df['PV_Erzeugung'].max(), \n",
    "            p_min_pu = dataset_df['PV_Erzeugung']/dataset_df['PV_Erzeugung'].max(), \n",
    "            p_nom_extendable = True,\n",
    "            marginal_cost = marginal_cost_pv, capital_cost = capital_cost_pv)\n",
    "\n",
    "network.add('Generator', name = 'Windkraft', bus = 'electricity',\n",
    "            p_nom = dataset_df['Wind_Erzeugung'].max(),\n",
    "            p_max_pu = dataset_df['Wind_Erzeugung']/dataset_df['Wind_Erzeugung'].max(), \n",
    "            p_min_pu = dataset_df['Wind_Erzeugung']/dataset_df['Wind_Erzeugung'].max(), \n",
    "            p_nom_extendable = True,\n",
    "            marginal_cost = marginal_cost_wind, capital_cost = capital_cost_wind)"
   ]
  },
  {
   "cell_type": "markdown",
   "id": "03e464ac",
   "metadata": {
    "id": "03e464ac"
   },
   "source": [
    "## Links - Electrolysis"
   ]
  },
  {
   "cell_type": "code",
   "execution_count": 14,
   "id": "8990014b",
   "metadata": {
    "code_folding": [
     0,
     7,
     14
    ],
    "executionInfo": {
     "elapsed": 8,
     "status": "aborted",
     "timestamp": 1673435393736,
     "user": {
      "displayName": "Christof Gipser",
      "userId": "04329298021906177943"
     },
     "user_tz": -60
    },
    "id": "8990014b"
   },
   "outputs": [],
   "source": [
    "network.add('Link', name = 'PEMEL', bus0 = 'electricity', bus1 = 'GH2',\n",
    "            p_nom_extendable = True,\n",
    "            lifetime = lifetime_PEMEL,\n",
    "            marginal_cost = marginal_cost_PEMEL, \n",
    "            capital_cost = capital_cost_PEMEL,\n",
    "            efficiency = efficiency_PEMEL)\n",
    "\n",
    "network.add('Link', name = 'AEL', bus0 = 'electricity', bus1 = 'GH2',\n",
    "            p_nom_extendable = True,\n",
    "            lifetime = lifetime_AEL,\n",
    "            marginal_cost = marginal_cost_AEL, \n",
    "            capital_cost = capital_cost_AEL,\n",
    "            efficiency = efficiency_AEL)\n",
    "\n",
    "#network.add('Link', name = 'HTEL', bus0 = 'electricity', bus1 = 'GH2',\n",
    "#            p_nom_extendable = True,\n",
    "#            lifetime = lifetime_HTEL,\n",
    "#            marginal_cost = marginal_cost_HTEL, \n",
    "#            capital_cost = capital_cost_HTEL,\n",
    "#            efficiency = efficiency_HTEL)"
   ]
  },
  {
   "cell_type": "code",
   "execution_count": 15,
   "id": "848044fb",
   "metadata": {
    "code_folding": [
     0,
     2
    ],
    "id": "a4e2effd"
   },
   "outputs": [],
   "source": [
    "# Veraltete Abbildung der Elektrolyse mit dem hinterlegten Volllastprofil von 8000 h/a\n",
    "\n",
    "#network.add('Link', name = 'PEMEL', bus0 = 'electricity', bus1 = 'GH2',\n",
    "#            p_nom = dataset_df['Elektrolyse'].max(),\n",
    "#            p_max_pu = dataset_df['Elektrolyse']/dataset_df['Elektrolyse'].max(), \n",
    "#            p_min_pu = dataset_df['Elektrolyse']/dataset_df['Elektrolyse'].max(), \n",
    "#            p_nom_extendable = True,\n",
    "#            lifetime = lifetime_PEMEL,\n",
    "#            marginal_cost = marginal_cost_PEMEL, \n",
    "#            capital_cost = capital_cost_PEMEL,\n",
    "#            efficiency = efficiency_PEMEL)"
   ]
  },
  {
   "cell_type": "markdown",
   "id": "7584fdd2",
   "metadata": {
    "id": "7584fdd2"
   },
   "source": [
    "## Links - Conversion"
   ]
  },
  {
   "cell_type": "code",
   "execution_count": 16,
   "id": "62ced3e5",
   "metadata": {
    "code_folding": [
     0,
     5,
     10
    ],
    "executionInfo": {
     "elapsed": 8,
     "status": "aborted",
     "timestamp": 1673435393736,
     "user": {
      "displayName": "Christof Gipser",
      "userId": "04329298021906177943"
     },
     "user_tz": -60
    },
    "id": "62ced3e5"
   },
   "outputs": [],
   "source": [
    "network.add('Link', name = 'Verflüssigung', bus0 = 'GH2', bus1 = 'LH2',\n",
    "            p_nom_extendable = True,\n",
    "            marginal_cost = marginal_cost_LH2, capital_cost = capital_cost_LH2,\n",
    "            efficiency = efficiency_LH2)\n",
    "\n",
    "#network.add('Link', name = 'Haber-Bosch', bus0 = 'GH2', bus1 = 'NH3',\n",
    "#            p_nom_extendable = True,\n",
    "#            marginal_cost = marginal_cost_NH3, capital_cost = capital_cost_NH3,\n",
    "#            efficiency = efficiency_NH3)\n",
    "\n",
    "#network.add('Link', name = 'Hydrierung', bus0 = 'GH2', bus1 = 'LOHC',\n",
    "#            p_nom_extendable = True,\n",
    "#            marginal_cost = marginal_cost_LOHC, capital_cost = capital_cost_LOHC,\n",
    "#            efficiency = efficiency_LOHC)"
   ]
  },
  {
   "cell_type": "code",
   "execution_count": 17,
   "id": "980ac6a9",
   "metadata": {
    "code_folding": [
     0,
     2
    ],
    "executionInfo": {
     "elapsed": 8,
     "status": "aborted",
     "timestamp": 1673435393736,
     "user": {
      "displayName": "Christof Gipser",
      "userId": "04329298021906177943"
     },
     "user_tz": -60
    },
    "id": "62ced3e5"
   },
   "outputs": [],
   "source": [
    "# Veraltete Abbildung der Verflüssigung mit dem hinterlegten Volllastprofil von 8000 h/a\n",
    "\n",
    "#network.add('Link', name = 'Verflüssigung', bus0 = 'GH2', bus1 = 'LH2',\n",
    "#            p_nom = dataset_df['Elektrolyse'].max(),\n",
    "#            p_max_pu = dataset_df['Elektrolyse']/dataset_df['Elektrolyse'].max(), \n",
    "#            p_min_pu = dataset_df['Elektrolyse']/dataset_df['Elektrolyse'].max(), \n",
    "#            p_nom_extendable = True,\n",
    "#            marginal_cost = marginal_cost_LH2, capital_cost = capital_cost_LH2,\n",
    "#            efficiency = efficiency_LH2)"
   ]
  },
  {
   "cell_type": "markdown",
   "id": "6e31ee79",
   "metadata": {
    "id": "6e31ee79"
   },
   "source": [
    "## Links - Cargoship"
   ]
  },
  {
   "cell_type": "code",
   "execution_count": 18,
   "id": "c2b03c0b",
   "metadata": {
    "code_folding": [
     0,
     8,
     16
    ],
    "executionInfo": {
     "elapsed": 8,
     "status": "aborted",
     "timestamp": 1673435393736,
     "user": {
      "displayName": "Christof Gipser",
      "userId": "04329298021906177943"
     },
     "user_tz": -60
    },
    "id": "c2b03c0b"
   },
   "outputs": [],
   "source": [
    "network.add('Link', name = 'Verschiffung LH2', bus0 = 'LH2', bus1 = 'bremerhaven',\n",
    "            p_nom = dataset_df['Kapazität_Schiff'].max(),\n",
    "            p_max_pu = dataset_df['Kapazität_Schiff']/dataset_df['Kapazität_Schiff'].max(), \n",
    "            p_min_pu = dataset_df['Kapazität_Schiff']/dataset_df['Kapazität_Schiff'].max(),\n",
    "            p_nom_extendable = True,\n",
    "            marginal_cost = marginal_cost_shipping_LH2, \n",
    "            capital_cost = capital_cost_shipping_LH2)\n",
    "\n",
    "network.add('Link', name = 'Verschiffung NH3', bus0 = 'NH3', bus1 = 'bremerhaven',\n",
    "            p_nom = dataset_df['Kapazität_Schiff'].max(),\n",
    "            p_max_pu = dataset_df['Kapazität_Schiff']/dataset_df['Kapazität_Schiff'].max(), \n",
    "            p_min_pu = dataset_df['Kapazität_Schiff']/dataset_df['Kapazität_Schiff'].max(),\n",
    "            p_nom_extendable = True,\n",
    "            marginal_cost = marginal_cost_shipping_NH3, \n",
    "            capital_cost = capital_cost_shipping_NH3)\n",
    "\n",
    "network.add('Link', name = 'Verschiffung LOHC', bus0 = 'LOHC', bus1 = 'bremerhaven',\n",
    "            p_nom = dataset_df['Kapazität_Schiff'].max(),\n",
    "            p_max_pu = dataset_df['Kapazität_Schiff']/dataset_df['Kapazität_Schiff'].max(), \n",
    "            p_min_pu = dataset_df['Kapazität_Schiff']/dataset_df['Kapazität_Schiff'].max(),\n",
    "            p_nom_extendable = True,\n",
    "            marginal_cost = marginal_cost_shipping_LOHC, \n",
    "            capital_cost = capital_cost_shipping_LOHC)"
   ]
  },
  {
   "cell_type": "markdown",
   "id": "391ca361",
   "metadata": {
    "id": "391ca361"
   },
   "source": [
    "## Links - Pipeline"
   ]
  },
  {
   "cell_type": "code",
   "execution_count": 19,
   "id": "f799bd16",
   "metadata": {
    "code_folding": [
     0
    ]
   },
   "outputs": [],
   "source": [
    "network.add('Link', name = 'Pipeline', bus0 = 'bremerhaven', bus1 = 'cologne', \n",
    "            p_nom_extendable = True,\n",
    "            marginal_cost = marginal_cost_pipeline, \n",
    "            capital_cost = capital_cost_pipeline)"
   ]
  },
  {
   "cell_type": "markdown",
   "id": "a7817e8c",
   "metadata": {
    "id": "a7817e8c"
   },
   "source": [
    "## Storages"
   ]
  },
  {
   "cell_type": "code",
   "execution_count": 20,
   "id": "003b6796",
   "metadata": {
    "code_folding": [
     0,
     5,
     10,
     15,
     20
    ],
    "executionInfo": {
     "elapsed": 7,
     "status": "aborted",
     "timestamp": 1673435393736,
     "user": {
      "displayName": "Christof Gipser",
      "userId": "04329298021906177943"
     },
     "user_tz": -60
    },
    "id": "003b6796"
   },
   "outputs": [],
   "source": [
    "network.add('Store', name = 'Stromspeicher', bus = 'electricity', \n",
    "            e_nom_extendable = True,  e_cyclic = True, \n",
    "            capital_cost = capital_cost_storage_el,\n",
    "            marginal_cost = marginal_cost_storage_el)\n",
    "\n",
    "network.add('Store', name = 'Flüssigspeicher', bus = 'LH2', \n",
    "            e_nom_extendable = True, e_cyclic = True,  \n",
    "            capital_cost = capital_cost_storage_LH2, \n",
    "            marginal_cost = marginal_cost_storage_LH2)\n",
    "\n",
    "network.add('Store', name = 'Ammoniakspeicher', bus = 'NH3', \n",
    "            e_nom_extendable = True,  e_cyclic = True, \n",
    "            capital_cost = capital_cost_storage_NH3, \n",
    "            marginal_cost = marginal_cost_storage_NH3)\n",
    "\n",
    "network.add('Store', name = 'LOHC-Speicher', bus = 'LOHC', \n",
    "            e_nom_extendable = True, e_cyclic = True,  \n",
    "            capital_cost = capital_cost_storage_LOHC, \n",
    "            marginal_cost = marginal_cost_storage_LOHC)\n",
    "\n",
    "network.add('Store', name = 'Gasspeicher', bus = 'bremerhaven', \n",
    "            e_nom_extendable = True, e_cyclic = True, \n",
    "            capital_cost = capital_cost_storage_GH2, \n",
    "            marginal_cost = marginal_cost_storage_GH2)"
   ]
  },
  {
   "cell_type": "markdown",
   "id": "18c3c354",
   "metadata": {
    "id": "18c3c354"
   },
   "source": [
    "# Optimierung des Systems"
   ]
  },
  {
   "cell_type": "code",
   "execution_count": 21,
   "id": "5e993293",
   "metadata": {
    "executionInfo": {
     "elapsed": 7,
     "status": "aborted",
     "timestamp": 1673435393736,
     "user": {
      "displayName": "Christof Gipser",
      "userId": "04329298021906177943"
     },
     "user_tz": -60
    },
    "id": "5e993293",
    "scrolled": true
   },
   "outputs": [
    {
     "name": "stderr",
     "output_type": "stream",
     "text": [
      "INFO:pypsa.linopf:Prepare linear problem\n",
      "INFO:pypsa.linopf:Total preparation time: 1.37s\n",
      "INFO:pypsa.linopf:Solve linear problem using Gurobi solver\n"
     ]
    },
    {
     "name": "stdout",
     "output_type": "stream",
     "text": [
      "Set parameter Username\n",
      "Academic license - for non-commercial use only - expires 2023-07-01\n",
      "Read LP format model from file /var/folders/np/fxyv4bts2s353fj5gdlrbgym0000gn/T/pypsa-problem-7bp9_xve.lp\n",
      "Reading time = 0.82 seconds\n",
      "obj: 350400 rows, 166455 columns, 691770 nonzeros\n",
      "Gurobi Optimizer version 9.5.2 build v9.5.2rc0 (mac64[rosetta2])\n",
      "Thread count: 8 physical cores, 8 logical processors, using up to 8 threads\n",
      "Optimize a model with 350400 rows, 166455 columns and 691770 nonzeros\n",
      "Model fingerprint: 0x57440738\n",
      "Coefficient statistics:\n",
      "  Matrix range     [1e-06, 1e+00]\n",
      "  Objective range  [1e+00, 3e+06]\n",
      "  Bounds range     [0e+00, 0e+00]\n",
      "  RHS range        [1e+02, 1e+02]\n",
      "\n",
      "Concurrent LP optimizer: primal simplex, dual simplex, and barrier\n",
      "Showing barrier log only...\n",
      "\n",
      "Presolve removed 287835 rows and 130136 columns\n",
      "Presolve time: 0.48s\n",
      "Presolved: 62565 rows, 36319 columns, 206077 nonzeros\n",
      "\n",
      "Ordering time: 0.01s\n",
      "\n",
      "Barrier statistics:\n",
      " Dense cols : 10\n",
      " AA' NZ     : 2.487e+05\n",
      " Factor NZ  : 9.857e+05 (roughly 50 MB of memory)\n",
      " Factor Ops : 1.876e+07 (less than 1 second per iteration)\n",
      " Threads    : 6\n",
      "\n",
      "                  Objective                Residual\n",
      "Iter       Primal          Dual         Primal    Dual     Compl     Time\n",
      "   0   3.08627533e+11  5.54862000e+06  2.57e+06 3.03e+00  5.62e+08     1s\n",
      "   1   4.41745482e+11  1.41281738e+10  9.13e+05 1.11e+03  2.45e+08     1s\n",
      "   2   4.57679798e+11 -7.42398502e+09  5.80e+05 4.39e+05  1.01e+08     1s\n",
      "   3   4.39936362e+11 -4.78398281e+10  1.92e+05 9.06e+04  4.93e+07     1s\n",
      "   4   3.46576336e+11 -3.64158882e+10  6.45e+04 6.83e+04  2.15e+07     1s\n",
      "   5   2.21923676e+11 -3.14571172e+10  2.65e+04 3.12e+04  9.32e+06     1s\n",
      "   6   7.12768527e+10 -2.46101185e+10  3.70e+03 1.25e+04  2.77e+06     1s\n",
      "   7   2.68945333e+10 -3.07625469e+09  7.52e+02 7.29e+02  4.54e+05     1s\n",
      "   8   1.02932810e+10 -2.62795709e+08  2.21e+02 1.98e+02  1.48e+05     1s\n",
      "   9   7.59586328e+09  7.72511079e+08  1.48e+02 6.71e+01  9.03e+04     1s\n",
      "  10   5.62220473e+09  1.18566106e+09  9.62e+01 3.55e+01  5.78e+04     1s\n",
      "  11   4.77081962e+09  1.37472787e+09  7.27e+01 2.53e+01  4.40e+04     1s\n",
      "  12   3.58463000e+09  1.67126583e+09  4.07e+01 1.01e+01  2.45e+04     1s\n",
      "  13   3.55677021e+09  1.67482049e+09  4.00e+01 1.00e+01  2.41e+04     1s\n",
      "  14   3.30655931e+09  1.68543059e+09  3.40e+01 9.74e+00  2.08e+04     1s\n",
      "  15   2.89888430e+09  1.89041517e+09  2.23e+01 4.30e+00  1.28e+04     1s\n",
      "  16   2.71580535e+09  2.01826580e+09  1.46e+01 2.32e+00  8.86e+03     2s\n",
      "  17   2.64041470e+09  2.15104979e+09  1.16e+01 1.24e+00  6.21e+03     2s\n",
      "  18   2.57450552e+09  2.16462810e+09  9.16e+00 1.19e+00  5.20e+03     2s\n",
      "  19   2.54719731e+09  2.17051150e+09  7.64e+00 1.08e+00  4.78e+03     2s\n",
      "  20   2.55935390e+09  2.20369880e+09  6.88e+00 3.03e-01  4.51e+03     2s\n",
      "  21   2.49555115e+09  2.28664002e+09  4.00e+00 4.20e-01  2.65e+03     2s\n",
      "  22   2.46133706e+09  2.33998563e+09  2.69e+00 3.18e-01  1.54e+03     2s\n",
      "  23   2.45766390e+09  2.36713510e+09  1.35e+00 2.67e-01  1.14e+03     2s\n",
      "  24   2.44567944e+09  2.37419753e+09  9.34e-01 2.34e-01  9.04e+02     2s\n",
      "  25   2.44272592e+09  2.38835611e+09  8.45e-01 1.26e-01  6.87e+02     2s\n",
      "  26   2.43459751e+09  2.39920078e+09  4.29e-01 7.84e-02  4.47e+02     2s\n",
      "  27   2.43152381e+09  2.40451738e+09  3.44e-01 5.16e-02  3.41e+02     2s\n",
      "  28   2.43076034e+09  2.40520590e+09  3.25e-01 4.90e-02  3.23e+02     2s\n",
      "  29   2.42663339e+09  2.40719759e+09  2.31e-01 4.10e-02  2.46e+02     2s\n",
      "  30   2.42338661e+09  2.41072901e+09  1.66e-01 2.08e-02  1.60e+02     2s\n",
      "  31   2.42319128e+09  2.41483638e+09  1.57e-01 1.22e-02  1.06e+02     2s\n",
      "  32   2.42228042e+09  2.41789789e+09  9.87e-02 6.02e-03  5.56e+01     2s\n",
      "  33   2.42169596e+09  2.41914141e+09  6.21e-02 3.29e-03  3.27e+01     3s\n",
      "  34   2.42152129e+09  2.41918913e+09  5.26e-02 3.07e-03  2.99e+01     3s\n",
      "  35   2.42133707e+09  2.41919209e+09  4.36e-02 2.87e-03  2.75e+01     3s\n",
      "  36   2.42121433e+09  2.41964215e+09  3.79e-02 1.50e-03  2.02e+01     3s\n",
      "  37   2.42088842e+09  2.42039876e+09  3.73e-02 5.96e-04  6.59e+00     3s\n",
      "  38   2.42069635e+09  2.42047079e+09  2.11e-02 1.75e-03  3.09e+00     3s\n",
      "  39   2.42067889e+09  2.42053284e+09  1.91e-02 2.22e-03  2.06e+00     3s\n",
      "  40   2.42058574e+09  2.42056563e+09  4.55e-03 6.13e-04  3.05e-01     3s\n",
      "  41   2.42057379e+09  2.42056992e+09  8.77e-04 2.41e-04  5.94e-02     3s\n",
      "  42   2.42057353e+09  2.42057070e+09  7.68e-04 1.42e-04  4.46e-02     3s\n",
      "  43   2.42057237e+09  2.42057159e+09  2.38e-04 3.04e-05  1.26e-02     3s\n",
      "  44   2.42057184e+09  2.42057184e+09  6.79e-06 7.51e-09  4.16e-05     3s\n",
      "  45   2.42057184e+09  2.42057184e+09  2.84e-07 6.64e-09  5.33e-11     3s\n",
      "\n",
      "Barrier solved model in 45 iterations and 3.19 seconds (1.50 work units)\n",
      "Optimal objective 2.42057184e+09\n",
      "\n",
      "Crossover log...\n",
      "\n",
      "   13451 DPushes remaining with DInf 0.0000000e+00                 3s\n",
      "       0 DPushes remaining with DInf 0.0000000e+00                 3s\n",
      "\n",
      "    8754 PPushes remaining with PInf 0.0000000e+00                 3s\n",
      "       0 PPushes remaining with PInf 0.0000000e+00                 3s\n",
      "\n",
      "  Push phase complete: Pinf 0.0000000e+00, Dinf 1.4630775e-07      3s\n",
      "\n",
      "Iteration    Objective       Primal Inf.    Dual Inf.      Time\n",
      "    9105    2.4205718e+09   0.000000e+00   0.000000e+00      4s\n",
      "\n",
      "Solved with barrier\n",
      "Solved in 9105 iterations and 3.73 seconds (2.48 work units)\n",
      "Optimal objective  2.420571844e+09\n"
     ]
    },
    {
     "name": "stderr",
     "output_type": "stream",
     "text": [
      "INFO:pypsa.linopf:Optimization successful. Objective value: 2.42e+09\n"
     ]
    },
    {
     "data": {
      "text/plain": [
       "('ok', 'optimal')"
      ]
     },
     "execution_count": 21,
     "metadata": {},
     "output_type": "execute_result"
    }
   ],
   "source": [
    "network.lopf(pyomo = False, solver_name = 'gurobi')"
   ]
  },
  {
   "cell_type": "markdown",
   "id": "f5855bc2",
   "metadata": {
    "id": "f5855bc2"
   },
   "source": [
    "# Auswertung der Ergebnisse"
   ]
  },
  {
   "cell_type": "code",
   "execution_count": 22,
   "id": "0c4e75ac",
   "metadata": {
    "executionInfo": {
     "elapsed": 7,
     "status": "aborted",
     "timestamp": 1673435393736,
     "user": {
      "displayName": "Christof Gipser",
      "userId": "04329298021906177943"
     },
     "user_tz": -60
    },
    "id": "0c4e75ac"
   },
   "outputs": [],
   "source": [
    "def Jahresverlauf (Titel, Zeitstempel, Leistung, xlabel, ylabel):\n",
    "\n",
    "  fig = plt.figure(figsize=(19,8))\n",
    "\n",
    " \n",
    "\n",
    "  ax1 = fig.add_axes([1, 1, 1, 1])\n",
    "  ax1.set_title(Titel,weight='bold',fontsize=15)\n",
    "  ax1.plot(Zeitstempel,Leistung,c='green')\n",
    "  plt.xlabel(xlabel,fontsize=15 )\n",
    "  plt.ylabel(ylabel,fontsize=15)\n",
    "\n",
    " \n",
    "\n",
    "  plt.show()"
   ]
  },
  {
   "cell_type": "code",
   "execution_count": 23,
   "id": "d81745b5",
   "metadata": {
    "executionInfo": {
     "elapsed": 8,
     "status": "aborted",
     "timestamp": 1673435393737,
     "user": {
      "displayName": "Christof Gipser",
      "userId": "04329298021906177943"
     },
     "user_tz": -60
    },
    "id": "d81745b5"
   },
   "outputs": [],
   "source": [
    "#Jahresverlauf('Stromerzeugung aus Photovoltaik',dataset_df.index, network.generators_t.p['Photovoltaik'],'Zeit','Leistung')"
   ]
  },
  {
   "cell_type": "code",
   "execution_count": 24,
   "id": "5fhyRwmdv4Af",
   "metadata": {
    "executionInfo": {
     "elapsed": 8,
     "status": "aborted",
     "timestamp": 1673435393737,
     "user": {
      "displayName": "Christof Gipser",
      "userId": "04329298021906177943"
     },
     "user_tz": -60
    },
    "id": "5fhyRwmdv4Af",
    "scrolled": false
   },
   "outputs": [],
   "source": [
    "#Jahresverlauf('Stromerzeugung aus Windkraft',dataset_df.index, network.generators_t.p['Windkraft'],'Zeit','Leistung')"
   ]
  },
  {
   "cell_type": "code",
   "execution_count": 25,
   "id": "_hnWzv1RwBaF",
   "metadata": {
    "executionInfo": {
     "elapsed": 8,
     "status": "aborted",
     "timestamp": 1673435393737,
     "user": {
      "displayName": "Christof Gipser",
      "userId": "04329298021906177943"
     },
     "user_tz": -60
    },
    "id": "_hnWzv1RwBaF"
   },
   "outputs": [],
   "source": [
    "#Jahresverlauf('Elektrolyse',dataset_df.index, dataset_df['Elektrolyse'],'Zeit','Leistung')"
   ]
  },
  {
   "cell_type": "code",
   "execution_count": 26,
   "id": "hm1uneV8wLvO",
   "metadata": {
    "executionInfo": {
     "elapsed": 8,
     "status": "aborted",
     "timestamp": 1673435393737,
     "user": {
      "displayName": "Christof Gipser",
      "userId": "04329298021906177943"
     },
     "user_tz": -60
    },
    "id": "hm1uneV8wLvO"
   },
   "outputs": [],
   "source": [
    "#Jahresverlauf('Ferntransport',dataset_df.index, dataset_df['Kapazität_Schiff'],'Zeit','Leistung')"
   ]
  },
  {
   "cell_type": "code",
   "execution_count": 27,
   "id": "77635622",
   "metadata": {
    "code_folding": [
     0
    ]
   },
   "outputs": [
    {
     "data": {
      "text/html": [
       "<div>\n",
       "<style scoped>\n",
       "    .dataframe tbody tr th:only-of-type {\n",
       "        vertical-align: middle;\n",
       "    }\n",
       "\n",
       "    .dataframe tbody tr th {\n",
       "        vertical-align: top;\n",
       "    }\n",
       "\n",
       "    .dataframe thead th {\n",
       "        text-align: right;\n",
       "    }\n",
       "</style>\n",
       "<table border=\"1\" class=\"dataframe\">\n",
       "  <thead>\n",
       "    <tr style=\"text-align: right;\">\n",
       "      <th></th>\n",
       "      <th>0</th>\n",
       "    </tr>\n",
       "  </thead>\n",
       "  <tbody>\n",
       "    <tr>\n",
       "      <th>Photovoltaik</th>\n",
       "      <td>2437.211524</td>\n",
       "    </tr>\n",
       "    <tr>\n",
       "      <th>Windkraft</th>\n",
       "      <td>670.987347</td>\n",
       "    </tr>\n",
       "    <tr>\n",
       "      <th>PEMEL</th>\n",
       "      <td>NaN</td>\n",
       "    </tr>\n",
       "    <tr>\n",
       "      <th>AEL</th>\n",
       "      <td>2558.302971</td>\n",
       "    </tr>\n",
       "    <tr>\n",
       "      <th>Verflüssigung</th>\n",
       "      <td>2558.302971</td>\n",
       "    </tr>\n",
       "    <tr>\n",
       "      <th>Verschiffung LH2</th>\n",
       "      <td>4368.000000</td>\n",
       "    </tr>\n",
       "    <tr>\n",
       "      <th>Verschiffung NH3</th>\n",
       "      <td>NaN</td>\n",
       "    </tr>\n",
       "    <tr>\n",
       "      <th>Verschiffung LOHC</th>\n",
       "      <td>NaN</td>\n",
       "    </tr>\n",
       "    <tr>\n",
       "      <th>Pipeline</th>\n",
       "      <td>8760.000000</td>\n",
       "    </tr>\n",
       "  </tbody>\n",
       "</table>\n",
       "</div>"
      ],
      "text/plain": [
       "                             0\n",
       "Photovoltaik       2437.211524\n",
       "Windkraft           670.987347\n",
       "PEMEL                      NaN\n",
       "AEL                2558.302971\n",
       "Verflüssigung      2558.302971\n",
       "Verschiffung LH2   4368.000000\n",
       "Verschiffung NH3           NaN\n",
       "Verschiffung LOHC          NaN\n",
       "Pipeline           8760.000000"
      ]
     },
     "execution_count": 27,
     "metadata": {},
     "output_type": "execute_result"
    }
   ],
   "source": [
    "# Berechnung der jährlichen Volllaststunden\n",
    "\n",
    "df_flh_1 = pd.DataFrame((network.generators_t.p.sum())/network.generators.p_nom_opt)\n",
    "df_flh_2 = pd.DataFrame((network.links_t.p0.sum())/network.links.p_nom_opt)\n",
    "\n",
    "df_flh = df_flh_1.append(df_flh_2)\n",
    "#df_flh = df_flh.rename(columns = {'0','Volllast [h]'})\n",
    "df_flh"
   ]
  },
  {
   "cell_type": "code",
   "execution_count": 28,
   "id": "ab94f06b",
   "metadata": {
    "code_folding": [
     0
    ]
   },
   "outputs": [
    {
     "data": {
      "text/html": [
       "<div>\n",
       "<style scoped>\n",
       "    .dataframe tbody tr th:only-of-type {\n",
       "        vertical-align: middle;\n",
       "    }\n",
       "\n",
       "    .dataframe tbody tr th {\n",
       "        vertical-align: top;\n",
       "    }\n",
       "\n",
       "    .dataframe thead th {\n",
       "        text-align: right;\n",
       "    }\n",
       "</style>\n",
       "<table border=\"1\" class=\"dataframe\">\n",
       "  <thead>\n",
       "    <tr style=\"text-align: right;\">\n",
       "      <th></th>\n",
       "      <th>Leistung [MW]</th>\n",
       "      <th>Kapazität [MWh]</th>\n",
       "    </tr>\n",
       "  </thead>\n",
       "  <tbody>\n",
       "    <tr>\n",
       "      <th>Photovoltaik</th>\n",
       "      <td>756.15</td>\n",
       "      <td>NaN</td>\n",
       "    </tr>\n",
       "    <tr>\n",
       "      <th>Windkraft</th>\n",
       "      <td>38.91</td>\n",
       "      <td>NaN</td>\n",
       "    </tr>\n",
       "    <tr>\n",
       "      <th>PEMEL</th>\n",
       "      <td>0.00</td>\n",
       "      <td>NaN</td>\n",
       "    </tr>\n",
       "    <tr>\n",
       "      <th>AEL</th>\n",
       "      <td>730.56</td>\n",
       "      <td>NaN</td>\n",
       "    </tr>\n",
       "    <tr>\n",
       "      <th>Verflüssigung</th>\n",
       "      <td>451.47</td>\n",
       "      <td>NaN</td>\n",
       "    </tr>\n",
       "    <tr>\n",
       "      <th>Verschiffung LH2</th>\n",
       "      <td>264.42</td>\n",
       "      <td>NaN</td>\n",
       "    </tr>\n",
       "    <tr>\n",
       "      <th>Verschiffung NH3</th>\n",
       "      <td>0.00</td>\n",
       "      <td>NaN</td>\n",
       "    </tr>\n",
       "    <tr>\n",
       "      <th>Verschiffung LOHC</th>\n",
       "      <td>0.00</td>\n",
       "      <td>NaN</td>\n",
       "    </tr>\n",
       "    <tr>\n",
       "      <th>Pipeline</th>\n",
       "      <td>131.85</td>\n",
       "      <td>NaN</td>\n",
       "    </tr>\n",
       "    <tr>\n",
       "      <th>Stromspeicher</th>\n",
       "      <td>NaN</td>\n",
       "      <td>53.38</td>\n",
       "    </tr>\n",
       "    <tr>\n",
       "      <th>Flüssigspeicher</th>\n",
       "      <td>NaN</td>\n",
       "      <td>64624.99</td>\n",
       "    </tr>\n",
       "    <tr>\n",
       "      <th>Ammoniakspeicher</th>\n",
       "      <td>NaN</td>\n",
       "      <td>0.00</td>\n",
       "    </tr>\n",
       "    <tr>\n",
       "      <th>LOHC-Speicher</th>\n",
       "      <td>NaN</td>\n",
       "      <td>0.00</td>\n",
       "    </tr>\n",
       "    <tr>\n",
       "      <th>Gasspeicher</th>\n",
       "      <td>NaN</td>\n",
       "      <td>49707.19</td>\n",
       "    </tr>\n",
       "  </tbody>\n",
       "</table>\n",
       "</div>"
      ],
      "text/plain": [
       "                   Leistung [MW]  Kapazität [MWh]\n",
       "Photovoltaik              756.15              NaN\n",
       "Windkraft                  38.91              NaN\n",
       "PEMEL                       0.00              NaN\n",
       "AEL                       730.56              NaN\n",
       "Verflüssigung             451.47              NaN\n",
       "Verschiffung LH2          264.42              NaN\n",
       "Verschiffung NH3            0.00              NaN\n",
       "Verschiffung LOHC           0.00              NaN\n",
       "Pipeline                  131.85              NaN\n",
       "Stromspeicher                NaN            53.38\n",
       "Flüssigspeicher              NaN         64624.99\n",
       "Ammoniakspeicher             NaN             0.00\n",
       "LOHC-Speicher                NaN             0.00\n",
       "Gasspeicher                  NaN         49707.19"
      ]
     },
     "execution_count": 28,
     "metadata": {},
     "output_type": "execute_result"
    }
   ],
   "source": [
    "# Ausgabe einer Ergebnistabelle der Leistungen in MW und Kapazitäten in MWh\n",
    "\n",
    "df_results_1 = pd.DataFrame(network.generators['p_nom_opt'])\n",
    "df_results_2 = pd.DataFrame(network.links['p_nom_opt'])\n",
    "df_results_3 = pd.DataFrame(network.stores['e_nom_opt'])\n",
    "\n",
    "frames = [df_results_1, df_results_2, df_results_3]\n",
    "\n",
    "results = pd.concat(frames).round(2).rename(columns = {'p_nom_opt':'Leistung [MW]','e_nom_opt':'Kapazität [MWh]'})\n",
    "results"
   ]
  },
  {
   "cell_type": "markdown",
   "id": "6990bf1c",
   "metadata": {},
   "source": [
    "## Grafische Darstellungen"
   ]
  },
  {
   "cell_type": "code",
   "execution_count": 29,
   "id": "effb4980",
   "metadata": {
    "executionInfo": {
     "elapsed": 8,
     "status": "aborted",
     "timestamp": 1673435393737,
     "user": {
      "displayName": "Christof Gipser",
      "userId": "04329298021906177943"
     },
     "user_tz": -60
    },
    "id": "effb4980"
   },
   "outputs": [
    {
     "data": {
      "text/plain": [
       "<AxesSubplot:xlabel='snapshot', ylabel='Leistung in MW'>"
      ]
     },
     "execution_count": 29,
     "metadata": {},
     "output_type": "execute_result"
    },
    {
     "data": {
      "image/png": "[encoded data removed]",
      "text/plain": [
       "<Figure size 1080x576 with 1 Axes>"
      ]
     },
     "metadata": {
      "needs_background": "light"
     },
     "output_type": "display_data"
    }
   ],
   "source": [
    "(network.generators_t.p).plot(figsize = (15,8), ylabel = 'Leistung in MW')"
   ]
  },
  {
   "cell_type": "markdown",
   "id": "20b1cc3b",
   "metadata": {
    "executionInfo": {
     "elapsed": 8,
     "status": "aborted",
     "timestamp": 1673435393737,
     "user": {
      "displayName": "Christof Gipser",
      "userId": "04329298021906177943"
     },
     "user_tz": -60
    },
    "id": "54420171"
   },
   "source": [
    "### Vergleich von Umwandlung und Ferntransport"
   ]
  },
  {
   "cell_type": "code",
   "execution_count": 30,
   "id": "e7aa6b23",
   "metadata": {
    "executionInfo": {
     "elapsed": 8,
     "status": "aborted",
     "timestamp": 1673435393737,
     "user": {
      "displayName": "Christof Gipser",
      "userId": "04329298021906177943"
     },
     "user_tz": -60
    },
    "id": "e7aa6b23",
    "scrolled": false
   },
   "outputs": [
    {
     "data": {
      "text/plain": [
       "<AxesSubplot:xlabel='snapshot', ylabel='Leistung in MW'>"
      ]
     },
     "execution_count": 30,
     "metadata": {},
     "output_type": "execute_result"
    },
    {
     "data": {
      "image/png": "[encoded data removed]",
      "text/plain": [
       "<Figure size 1080x576 with 1 Axes>"
      ]
     },
     "metadata": {
      "needs_background": "light"
     },
     "output_type": "display_data"
    }
   ],
   "source": [
    "network.links_t.p0.plot(figsize = (15,8), ylabel = 'Leistung in MW')"
   ]
  },
  {
   "cell_type": "markdown",
   "id": "cb786014",
   "metadata": {},
   "source": [
    "### Vergleich von Speicherung und Ferntransport"
   ]
  },
  {
   "cell_type": "code",
   "execution_count": 31,
   "id": "3bef0c48",
   "metadata": {},
   "outputs": [
    {
     "data": {
      "image/png": "[encoded data removed]",
      "text/plain": [
       "<Figure size 1080x576 with 1 Axes>"
      ]
     },
     "metadata": {
      "needs_background": "light"
     },
     "output_type": "display_data"
    }
   ],
   "source": [
    "labels = ('Verschiffung','Flüssigspeicher','Gasspeicher')\n",
    "fig, ax1 = plt.subplots(figsize = (15,8), sharey = True)\n",
    "\n",
    "#ax2 = ax1.twinx()\n",
    "ax1.plot(network.links_t.p0['Verschiffung LH2'],\n",
    "        label = 'Verschiffung')\n",
    "ax1.plot(network.stores_t.e['Flüssigspeicher'],\n",
    "        label = 'Flüssigspeicher')\n",
    "ax1.plot(network.stores_t.e['Gasspeicher'],\n",
    "        label = 'Gasspeicher')\n",
    "\n",
    "ax1.legend(loc='upper left', prop=dict(size=10))\n",
    "ax1.set_ylabel('Kapazität [t]')\n",
    "\n",
    "plt.show()"
   ]
  },
  {
   "cell_type": "code",
   "execution_count": null,
   "id": "d6447545",
   "metadata": {},
   "outputs": [],
   "source": []
  },
  {
   "cell_type": "code",
   "execution_count": null,
   "id": "7d3799c2",
   "metadata": {
    "executionInfo": {
     "elapsed": 8,
     "status": "aborted",
     "timestamp": 1673435393737,
     "user": {
      "displayName": "Christof Gipser",
      "userId": "04329298021906177943"
     },
     "user_tz": -60
    },
    "id": "7d3799c2"
   },
   "outputs": [],
   "source": []
  },
  {
   "cell_type": "markdown",
   "id": "ac5f47b8",
   "metadata": {
    "id": "ac5f47b8"
   },
   "source": [
    "# Werkstatt"
   ]
  },
  {
   "cell_type": "code",
   "execution_count": 32,
   "id": "9f34c10d",
   "metadata": {},
   "outputs": [
    {
     "data": {
      "text/html": [
       "<div>\n",
       "<style scoped>\n",
       "    .dataframe tbody tr th:only-of-type {\n",
       "        vertical-align: middle;\n",
       "    }\n",
       "\n",
       "    .dataframe tbody tr th {\n",
       "        vertical-align: top;\n",
       "    }\n",
       "\n",
       "    .dataframe thead th {\n",
       "        text-align: right;\n",
       "    }\n",
       "</style>\n",
       "<table border=\"1\" class=\"dataframe\">\n",
       "  <thead>\n",
       "    <tr style=\"text-align: right;\">\n",
       "      <th></th>\n",
       "      <th>Link</th>\n",
       "      <th>Value [€/kg]</th>\n",
       "    </tr>\n",
       "  </thead>\n",
       "  <tbody>\n",
       "    <tr>\n",
       "      <th>0</th>\n",
       "      <td>PEMEL</td>\n",
       "      <td>3.142458</td>\n",
       "    </tr>\n",
       "    <tr>\n",
       "      <th>1</th>\n",
       "      <td>AEL</td>\n",
       "      <td>5.302445</td>\n",
       "    </tr>\n",
       "    <tr>\n",
       "      <th>2</th>\n",
       "      <td>Verflüssigung</td>\n",
       "      <td>0.200000</td>\n",
       "    </tr>\n",
       "    <tr>\n",
       "      <th>3</th>\n",
       "      <td>Verschiffung LH2</td>\n",
       "      <td>0.000000</td>\n",
       "    </tr>\n",
       "    <tr>\n",
       "      <th>4</th>\n",
       "      <td>Verschiffung NH3</td>\n",
       "      <td>0.000000</td>\n",
       "    </tr>\n",
       "    <tr>\n",
       "      <th>5</th>\n",
       "      <td>Verschiffung LOHC</td>\n",
       "      <td>0.000000</td>\n",
       "    </tr>\n",
       "    <tr>\n",
       "      <th>6</th>\n",
       "      <td>Pipeline</td>\n",
       "      <td>0.158532</td>\n",
       "    </tr>\n",
       "  </tbody>\n",
       "</table>\n",
       "</div>"
      ],
      "text/plain": [
       "                Link  Value [€/kg]\n",
       "0              PEMEL      3.142458\n",
       "1                AEL      5.302445\n",
       "2      Verflüssigung      0.200000\n",
       "3   Verschiffung LH2      0.000000\n",
       "4   Verschiffung NH3      0.000000\n",
       "5  Verschiffung LOHC      0.000000\n",
       "6           Pipeline      0.158532"
      ]
     },
     "execution_count": 32,
     "metadata": {},
     "output_type": "execute_result"
    }
   ],
   "source": [
    "Linkkosten = ((network.links.p_nom_opt * network.links.capital_cost)/network.links.lifetime+network.links.marginal_cost*hydrogen_demand_kg*(33/1000))/hydrogen_demand_kg\n",
    "Linkkosten=pd.DataFrame(Linkkosten,columns=['Value [€/kg]'])\n",
    "Linkkosten['Link']=Linkkosten.index\n",
    "Linkkosten=Linkkosten.reset_index(drop=True)\n",
    "Linkkosten=Linkkosten[['Link','Value [€/kg]']]\n",
    "Linkkosten"
   ]
  },
  {
   "cell_type": "code",
   "execution_count": 33,
   "id": "5954f342",
   "metadata": {},
   "outputs": [
    {
     "data": {
      "text/html": [
       "<div>\n",
       "<style scoped>\n",
       "    .dataframe tbody tr th:only-of-type {\n",
       "        vertical-align: middle;\n",
       "    }\n",
       "\n",
       "    .dataframe tbody tr th {\n",
       "        vertical-align: top;\n",
       "    }\n",
       "\n",
       "    .dataframe thead th {\n",
       "        text-align: right;\n",
       "    }\n",
       "</style>\n",
       "<table border=\"1\" class=\"dataframe\">\n",
       "  <thead>\n",
       "    <tr style=\"text-align: right;\">\n",
       "      <th></th>\n",
       "      <th>Speicher</th>\n",
       "      <th>Value [€/kg]</th>\n",
       "    </tr>\n",
       "  </thead>\n",
       "  <tbody>\n",
       "    <tr>\n",
       "      <th>0</th>\n",
       "      <td>Stromspeicher</td>\n",
       "      <td>264.0000</td>\n",
       "    </tr>\n",
       "    <tr>\n",
       "      <th>1</th>\n",
       "      <td>Flüssigspeicher</td>\n",
       "      <td>0.7200</td>\n",
       "    </tr>\n",
       "    <tr>\n",
       "      <th>2</th>\n",
       "      <td>Ammoniakspeicher</td>\n",
       "      <td>0.0000</td>\n",
       "    </tr>\n",
       "    <tr>\n",
       "      <th>3</th>\n",
       "      <td>LOHC-Speicher</td>\n",
       "      <td>0.0000</td>\n",
       "    </tr>\n",
       "    <tr>\n",
       "      <th>4</th>\n",
       "      <td>Gasspeicher</td>\n",
       "      <td>0.6882</td>\n",
       "    </tr>\n",
       "  </tbody>\n",
       "</table>\n",
       "</div>"
      ],
      "text/plain": [
       "           Speicher  Value [€/kg]\n",
       "0     Stromspeicher      264.0000\n",
       "1   Flüssigspeicher        0.7200\n",
       "2  Ammoniakspeicher        0.0000\n",
       "3     LOHC-Speicher        0.0000\n",
       "4       Gasspeicher        0.6882"
      ]
     },
     "execution_count": 33,
     "metadata": {},
     "output_type": "execute_result"
    }
   ],
   "source": [
    "Speicherkosten = ((network.stores.e_nom_opt * network.stores.capital_cost)/network.stores.lifetime+network.stores.marginal_cost*hydrogen_demand_kg*(33/1000))/hydrogen_demand_kg\n",
    "Speicherkosten=pd.DataFrame(Speicherkosten,columns=['Value [€/kg]'])\n",
    "Speicherkosten['Speicher']=Speicherkosten.index\n",
    "Speicherkosten=Speicherkosten.reset_index(drop=True)\n",
    "Speicherkosten=Speicherkosten[['Speicher','Value [€/kg]']]\n",
    "Speicherkosten"
   ]
  },
  {
   "cell_type": "markdown",
   "id": "76cfe738",
   "metadata": {},
   "source": [
    "In dieser Grafik spiele ich gerade ein bisschen rum, um eine Abbildung für die Präsentation morgen zu bekommen\n",
    "\n",
    "TODO: Anstatt auf nummerierte Zeilen zuzugreifen, lieber auf die Benennung bzw inde"
   ]
  },
  {
   "cell_type": "code",
   "execution_count": 34,
   "id": "pcw9XUen7mFL",
   "metadata": {
    "executionInfo": {
     "elapsed": 8,
     "status": "aborted",
     "timestamp": 1673435393738,
     "user": {
      "displayName": "Christof Gipser",
      "userId": "04329298021906177943"
     },
     "user_tz": -60
    },
    "id": "pcw9XUen7mFL"
   },
   "outputs": [
    {
     "data": {
      "image/png": "[encoded data removed]",
      "text/plain": [
       "<Figure size 1008x576 with 1 Axes>"
      ]
     },
     "metadata": {
      "needs_background": "light"
     },
     "output_type": "display_data"
    }
   ],
   "source": [
    "labels = ['PEM & LH2', 'AEL & LH2']\n",
    "Stromkosten = np.array([1.5,1.5])\n",
    "\n",
    "Elektrolyse = np.array([Linkkosten['Value [€/kg]'][0],\n",
    "                        Linkkosten['Value [€/kg]'][1]])\n",
    "Umwandlung = np.array([Linkkosten['Value [€/kg]'][2],\n",
    "                       Linkkosten['Value [€/kg]'][2]])\n",
    "Ferntransport_1 = np.array([Linkkosten['Value [€/kg]'][3],\n",
    "                            Linkkosten['Value [€/kg]'][3]])\n",
    "Inlandstransport = np.array([Linkkosten['Value [€/kg]'][4],\n",
    "                             Linkkosten['Value [€/kg]'][4]])\n",
    "\n",
    "Speicherung = np.array([Speicherkosten['Value [€/kg]'][2]+Speicherkosten['Value [€/kg]'][4],\n",
    "                        Speicherkosten['Value [€/kg]'][2]+Speicherkosten['Value [€/kg]'][4]])\n",
    "\n",
    "Sonstige= np.array([0.1,0.3])\n",
    "# the width of the bars: can also be len(x) sequence\n",
    "width=0.5\n",
    "fig, ax = plt.subplots(figsize=(14,8))\n",
    "#x_pos = [-2,0,2]\n",
    "#ax.bar(labels, Stromkosten, label='Stromkosten',width=width,color='lightcoral')\n",
    "ax.bar(labels, Elektrolyse, bottom=Stromkosten,\n",
    "       label='Elektrolyse',width=width,color='indianred')\n",
    "ax.bar(labels, Speicherung, bottom=Stromkosten+Elektrolyse,\n",
    "       label='Speicherung',width=width,color='firebrick')\n",
    "ax.bar(labels, Ferntransport_1, bottom=Stromkosten+Elektrolyse+Speicherung,\n",
    "       label='Ferntransport',width=width,color='brown')\n",
    "#ax.bar(labels, Inlandstransport, bottom=Stromkosten+Elektrolyse+Speicherung+Ferntransport_1,\n",
    "#       label='Inlandstransport',width=width,color='maroon')\n",
    "ax.bar(labels, Umwandlung, bottom=Stromkosten+Elektrolyse+Speicherung+Ferntransport_1+Inlandstransport,\n",
    "       label='Umwandlung',width=width,color='darkred')\n",
    "#ax.bar(labels, Sonstige, bottom=Stromkosten+Elektrolyse+Speicherung+Ferntransport_1+Inlandstransport+Umwandlung,\n",
    "#       label='Sonstige',width=width,color='red')\n",
    "\n",
    "ax.set_ylabel('Kosten in [€/kg]')\n",
    "ax.set_title('Wasserstoffbereitstellung')\n",
    "ax.legend(loc='upper right')\n",
    "\n",
    "for p in ax.patches:\n",
    "    width, height = p.get_width(), p.get_height()\n",
    "    x, y = p.get_xy() \n",
    "    ax.text(x+width/2, \n",
    "            y+height/2, \n",
    "            '{:.02f}€'.format(height), \n",
    "            horizontalalignment='center', \n",
    "            verticalalignment='center',\n",
    "            color='white',\n",
    "            fontsize=10,\n",
    "            )\n",
    "  \n",
    "\n",
    "horiz_offset = 1.03\n",
    "vert_offset = 1.\n",
    "ax.legend(bbox_to_anchor=(horiz_offset, vert_offset))\n",
    "#plt.xticks(x_pos, labels)\n",
    "plt.show()"
   ]
  },
  {
   "cell_type": "code",
   "execution_count": 35,
   "id": "12b89a4f",
   "metadata": {},
   "outputs": [
    {
     "data": {
      "image/png": "[encoded data removed]",
      "text/plain": [
       "<Figure size 1008x576 with 1 Axes>"
      ]
     },
     "metadata": {
      "needs_background": "light"
     },
     "output_type": "display_data"
    }
   ],
   "source": [
    "labels = ['PEM & LH2', 'PEM & NH3', 'PEM & LOHC']\n",
    "Stromkosten = np.array([1.5,1.5,1.5])\n",
    "\n",
    "Elektrolyse = np.array([Linkkosten['Value [€/kg]'][0],\n",
    "                        Linkkosten['Value [€/kg]'][0],\n",
    "                        Linkkosten['Value [€/kg]'][0]])\n",
    "Umwandlung = np.array([Linkkosten['Value [€/kg]'][2],0,0])\n",
    "Ferntransport_1 = np.array([Linkkosten['Value [€/kg]'][3],0,0])\n",
    "Inlandstransport = np.array([Linkkosten['Value [€/kg]'][4],0,0])\n",
    "\n",
    "Speicherung = np.array([Speicherkosten['Value [€/kg]'][2]+Speicherkosten['Value [€/kg]'][4],0,0])\n",
    "\n",
    "Sonstige= np.array([0.1,0.3,0.5])\n",
    "# the width of the bars: can also be len(x) sequence\n",
    "width=0.5\n",
    "fig, ax = plt.subplots(figsize=(14,8))\n",
    "#x_pos = [-2,0,2]\n",
    "#ax.bar(labels, Stromkosten, label='Stromkosten',width=width,color='lightcoral')\n",
    "ax.bar(labels, Elektrolyse, bottom=Stromkosten,\n",
    "       label='Elektrolyse',width=width,color='indianred')\n",
    "ax.bar(labels, Speicherung, bottom=Stromkosten+Elektrolyse,\n",
    "       label='Speicherung',width=width,color='firebrick')\n",
    "ax.bar(labels, Ferntransport_1, bottom=Stromkosten+Elektrolyse+Speicherung,\n",
    "       label='Ferntransport',width=width,color='brown')\n",
    "#ax.bar(labels, Inlandstransport, bottom=Stromkosten+Elektrolyse+Speicherung+Ferntransport_1,\n",
    "#       label='Inlandstransport',width=width,color='maroon')\n",
    "ax.bar(labels, Umwandlung, bottom=Stromkosten+Elektrolyse+Speicherung+Ferntransport_1+Inlandstransport,\n",
    "       label='Umwandlung',width=width,color='darkred')\n",
    "#ax.bar(labels, Sonstige, bottom=Stromkosten+Elektrolyse+Speicherung+Ferntransport_1+Inlandstransport+Umwandlung,\n",
    "#       label='Sonstige',width=width,color='red')\n",
    "\n",
    "ax.set_ylabel('Kosten in [€/kg]')\n",
    "ax.set_title('Wasserstoffbereitstellung')\n",
    "ax.legend(loc='upper right')\n",
    "\n",
    "for p in ax.patches:\n",
    "    width, height = p.get_width(), p.get_height()\n",
    "    x, y = p.get_xy() \n",
    "    ax.text(x+width/2, \n",
    "            y+height/2, \n",
    "            '{:.02f}€'.format(height), \n",
    "            horizontalalignment='center', \n",
    "            verticalalignment='center',\n",
    "            color='white',\n",
    "            fontsize=10,\n",
    "            )\n",
    "  \n",
    "\n",
    "horiz_offset = 1.03\n",
    "vert_offset = 1.\n",
    "ax.legend(bbox_to_anchor=(horiz_offset, vert_offset))\n",
    "#plt.xticks(x_pos, labels)\n",
    "plt.show()"
   ]
  },
  {
   "cell_type": "markdown",
   "id": "dd7eb477",
   "metadata": {},
   "source": [
    "Ursprüngliche Grafik"
   ]
  },
  {
   "cell_type": "code",
   "execution_count": 36,
   "id": "5bf2d553",
   "metadata": {
    "executionInfo": {
     "elapsed": 8,
     "status": "aborted",
     "timestamp": 1673435393738,
     "user": {
      "displayName": "Christof Gipser",
      "userId": "04329298021906177943"
     },
     "user_tz": -60
    },
    "id": "pcw9XUen7mFL"
   },
   "outputs": [
    {
     "data": {
      "image/png": "[encoded data removed]",
      "text/plain": [
       "<Figure size 504x504 with 1 Axes>"
      ]
     },
     "metadata": {
      "needs_background": "light"
     },
     "output_type": "display_data"
    }
   ],
   "source": [
    "labels = ['PEM & LH2', 'AEL & LH2']\n",
    "Stromkosten = np.array([Linkkosten['Value [€/kg]'][0],Linkkosten['Value [€/kg]'][1]])\n",
    "Elektrolyse = np.array([2,1.5])\n",
    "Speicherung = np.array([0.15,0.12])\n",
    "Ferntransport_1 = np.array([1,0.2])\n",
    "Inlandstransport = np.array([0.3,0.3])\n",
    "Umwandlung = np.array([0.7,0.3])\n",
    "Sonstige= np.array([0.1,0.3])\n",
    "# the width of the bars: can also be len(x) sequence\n",
    "width=0.5\n",
    "fig, ax = plt.subplots(figsize=(7,7))\n",
    "#x_pos = [-2,0,2]\n",
    "ax.bar(labels, Stromkosten, label='Stromkosten',width=width,color='lightcoral')\n",
    "ax.bar(labels, Elektrolyse, bottom=Stromkosten,\n",
    "       label='Elektrolyse',width=width,color='indianred')\n",
    "ax.bar(labels, Speicherung, bottom=Stromkosten+Elektrolyse,\n",
    "       label='Speicherung',width=width,color='firebrick')\n",
    "ax.bar(labels, Ferntransport_1, bottom=Stromkosten+Elektrolyse+Speicherung,\n",
    "       label='Ferntransport',width=width,color='brown')\n",
    "ax.bar(labels, Inlandstransport, bottom=Stromkosten+Elektrolyse+Speicherung+Ferntransport_1,\n",
    "       label='Inlandstransport',width=width,color='maroon')\n",
    "ax.bar(labels, Umwandlung, bottom=Stromkosten+Elektrolyse+Speicherung+Ferntransport_1+Inlandstransport,\n",
    "       label='Umwandlung',width=width,color='darkred')\n",
    "ax.bar(labels, Sonstige, bottom=Stromkosten+Elektrolyse+Speicherung+Ferntransport_1+Inlandstransport+Umwandlung,\n",
    "       label='Sonstige',width=width,color='red')\n",
    "\n",
    "ax.set_ylabel('Kosten in [€]')\n",
    "ax.set_title('Wasserstoffbereitstellungskosten in €/kg Wasserstoff')\n",
    "ax.legend(loc='upper right')\n",
    "\n",
    "for p in ax.patches:\n",
    "    width, height = p.get_width(), p.get_height()\n",
    "    x, y = p.get_xy() \n",
    "    ax.text(x+width/2, \n",
    "            y+height/2, \n",
    "            '{:.02f}€'.format(height), \n",
    "            horizontalalignment='center', \n",
    "            verticalalignment='center',\n",
    "            color='white',\n",
    "            fontsize=10,\n",
    "            )\n",
    "  \n",
    "\n",
    "horiz_offset = 1.03\n",
    "vert_offset = 1.\n",
    "ax.legend(bbox_to_anchor=(horiz_offset, vert_offset))\n",
    "#plt.xticks(x_pos, labels)\n",
    "plt.show()"
   ]
  },
  {
   "cell_type": "code",
   "execution_count": null,
   "id": "45a1577b",
   "metadata": {},
   "outputs": [],
   "source": []
  }
 ],
 "metadata": {
  "colab": {
   "provenance": []
  },
  "hide_input": false,
  "kernelspec": {
   "display_name": "Python 3 (ipykernel)",
   "language": "python",
   "name": "python3"
  },
  "language_info": {
   "codemirror_mode": {
    "name": "ipython",
    "version": 3
   },
   "file_extension": ".py",
   "mimetype": "text/x-python",
   "name": "python",
   "nbconvert_exporter": "python",
   "pygments_lexer": "ipython3",
   "version": "3.9.7"
  },
  "toc": {
   "base_numbering": 1,
   "nav_menu": {},
   "number_sections": true,
   "sideBar": true,
   "skip_h1_title": false,
   "title_cell": "Table of Contents",
   "title_sidebar": "Contents",
   "toc_cell": false,
   "toc_position": {
    "height": "calc(100% - 180px)",
    "left": "10px",
    "top": "150px",
    "width": "269px"
   },
   "toc_section_display": true,
   "toc_window_display": true
  }
 },
 "nbformat": 4,
 "nbformat_minor": 5
}
