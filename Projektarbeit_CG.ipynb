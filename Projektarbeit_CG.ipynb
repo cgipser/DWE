{
 "cells": [
  {
   "cell_type": "code",
   "execution_count": 1,
   "id": "f9a9c5ab",
   "metadata": {
    "code_folding": [
     0
    ],
    "executionInfo": {
     "elapsed": 6550,
     "status": "ok",
     "timestamp": 1673435341643,
     "user": {
      "displayName": "Christof Gipser",
      "userId": "04329298021906177943"
     },
     "user_tz": -60
    },
    "id": "f9a9c5ab"
   },
   "outputs": [],
   "source": [
    "# Import der Bibliotheken\n",
    "\n",
    "import pypsa\n",
    "import pandas as pd\n",
    "import numpy as np\n",
    "import matplotlib.pyplot as plt\n",
    "import datetime\n",
    "from datetime import date, datetime\n",
    "import plotly"
   ]
  },
  {
   "cell_type": "code",
   "execution_count": 2,
   "id": "7b3f3900",
   "metadata": {
    "code_folding": [
     0
    ],
    "executionInfo": {
     "elapsed": 6550,
     "status": "ok",
     "timestamp": 1673435341643,
     "user": {
      "displayName": "Christof Gipser",
      "userId": "04329298021906177943"
     },
     "user_tz": -60
    },
    "id": "f9a9c5ab"
   },
   "outputs": [],
   "source": [
    "# Konfiguration der Grafiken\n",
    "\n",
    "plt.rcParams['savefig.dpi'] = 200\n",
    "plt.rcParams['figure.dpi'] = 200\n",
    "plt.rcParams['figure.autolayout'] = False\n",
    "\n",
    "plt.rcParams['figure.figsize'] = (20, 10)\n",
    "plt.rcParams['axes.labelsize'] = 14\n",
    "plt.rcParams['axes.titlesize'] = 20\n",
    "plt.rcParams['font.size'] = 14\n",
    "plt.rcParams['legend.fontsize'] = 12\n",
    "\n",
    "plt.rcParams['lines.linewidth'] = 1.5\n",
    "plt.rcParams['lines.markersize'] = 8\n",
    "\n",
    "plt.rcParams['xtick.labelsize'] = 14\n",
    "plt.rcParams['ytick.labelsize'] = 14\n"
   ]
  },
  {
   "cell_type": "markdown",
   "id": "abbfb024",
   "metadata": {},
   "source": [
    "# Definition von Funktionen"
   ]
  },
  {
   "cell_type": "code",
   "execution_count": 3,
   "id": "1ec1a650",
   "metadata": {
    "code_folding": [
     0
    ]
   },
   "outputs": [],
   "source": [
    "# Funktion zur Abbildung des Jahresverlaufs\n",
    "\n",
    "def Jahresverlauf (Titel, Zeitstempel, Leistung, xlabel, ylabel):\n",
    "\n",
    "  fig = plt.figure(figsize=(19,8))\n",
    "\n",
    " \n",
    "\n",
    "  ax1 = fig.add_axes([1, 1, 1, 1])\n",
    "  ax1.set_title(Titel,weight='bold',fontsize=15)\n",
    "  ax1.plot(Zeitstempel,Leistung,c='green')\n",
    "  plt.xlabel(xlabel,fontsize=15 )\n",
    "  plt.ylabel(ylabel,fontsize=15)\n",
    "\n",
    " \n",
    "\n",
    "  plt.show()"
   ]
  },
  {
   "cell_type": "code",
   "execution_count": 4,
   "id": "a3dedb58",
   "metadata": {
    "code_folding": [
     0
    ]
   },
   "outputs": [],
   "source": [
    "# Funktion zur Abbildung der Jahresdauerlinie\n",
    "\n",
    "def Dauerlinie (Dataframe, Column, Titel,Yachse ):\n",
    "  df_sort = Dataframe.sort_values(by=[Column], ascending=False) # sortieren der Wirkleistungen in absteigender Reihenfolge\n",
    "  df_sort = df_sort.reset_index(drop=True) #zurücksetzen des Index\n",
    "  plt.plot(df_sort.index, df_sort[Column]) # Plotten der Dauerlinie\n",
    "  plt.title(Titel)\n",
    "  plt.ylabel(Yachse)"
   ]
  },
  {
   "cell_type": "markdown",
   "id": "2b98ccea",
   "metadata": {
    "id": "2b98ccea"
   },
   "source": [
    "# Einlesen der Datenreihen"
   ]
  },
  {
   "cell_type": "code",
   "execution_count": 5,
   "id": "Fe26l2tN6gYr",
   "metadata": {
    "code_folding": [
     0
    ],
    "colab": {
     "base_uri": "https://localhost:8080/",
     "height": 446
    },
    "executionInfo": {
     "elapsed": 731,
     "status": "error",
     "timestamp": 1673435393733,
     "user": {
      "displayName": "Christof Gipser",
      "userId": "04329298021906177943"
     },
     "user_tz": -60
    },
    "id": "Fe26l2tN6gYr",
    "outputId": "61866d25-63ff-42b3-daa9-cb0b24df3458"
   },
   "outputs": [],
   "source": [
    "# Einlesen externen Daten\n",
    "data_pv = pd.read_csv('data/data_pv_antofagasta_1MW.csv', skiprows = 3)\n",
    "data_wind = pd.read_csv('data/data_wind_antofagasta_1MW.csv', skiprows = 3)\n",
    "data_shipping_1 = pd.read_excel('data/Ferntransport_12.xlsx')"
   ]
  },
  {
   "cell_type": "code",
   "execution_count": 6,
   "id": "ifaKYx4DfMZO",
   "metadata": {
    "code_folding": [
     0
    ],
    "executionInfo": {
     "elapsed": 8,
     "status": "aborted",
     "timestamp": 1673435393734,
     "user": {
      "displayName": "Christof Gipser",
      "userId": "04329298021906177943"
     },
     "user_tz": -60
    },
    "id": "ifaKYx4DfMZO"
   },
   "outputs": [],
   "source": [
    "# Erstellung eines Dataframes aus externen Daten\n",
    "\n",
    "dataset_df=pd.DataFrame()\n",
    "dataset_df['Zeitstempel']=data_pv['time']\n",
    "dataset_df['PV_Erzeugung']=data_pv['electricity']\n",
    "dataset_df['Wind_Erzeugung']=data_wind['electricity']\n",
    "dataset_df['Kapazität_Schiff']=data_shipping_1['10 Fahrten pro Jahr mit Betankung']\n",
    "dataset_df.Kapazität_Schiff=dataset_df.Kapazität_Schiff.fillna(method='ffill')\n",
    "#dataset_df"
   ]
  },
  {
   "cell_type": "code",
   "execution_count": 7,
   "id": "6b6aa064",
   "metadata": {
    "code_folding": [
     0
    ],
    "executionInfo": {
     "elapsed": 9,
     "status": "aborted",
     "timestamp": 1673435393735,
     "user": {
      "displayName": "Christof Gipser",
      "userId": "04329298021906177943"
     },
     "user_tz": -60
    },
    "id": "6b6aa064",
    "scrolled": false
   },
   "outputs": [
    {
     "data": {
      "text/html": [
       "<div>\n",
       "<style scoped>\n",
       "    .dataframe tbody tr th:only-of-type {\n",
       "        vertical-align: middle;\n",
       "    }\n",
       "\n",
       "    .dataframe tbody tr th {\n",
       "        vertical-align: top;\n",
       "    }\n",
       "\n",
       "    .dataframe thead th {\n",
       "        text-align: right;\n",
       "    }\n",
       "</style>\n",
       "<table border=\"1\" class=\"dataframe\">\n",
       "  <thead>\n",
       "    <tr style=\"text-align: right;\">\n",
       "      <th></th>\n",
       "      <th>marginal_cost</th>\n",
       "      <th>lifetime</th>\n",
       "      <th>capital_cost</th>\n",
       "      <th>efficiency</th>\n",
       "      <th>standing_loss</th>\n",
       "    </tr>\n",
       "  </thead>\n",
       "  <tbody>\n",
       "    <tr>\n",
       "      <th>NaN</th>\n",
       "      <td>static</td>\n",
       "      <td>float</td>\n",
       "      <td>float</td>\n",
       "      <td>float</td>\n",
       "      <td>float</td>\n",
       "    </tr>\n",
       "    <tr>\n",
       "      <th>Photovoltaik (Chile)</th>\n",
       "      <td>38.3</td>\n",
       "      <td>20</td>\n",
       "      <td>1333000</td>\n",
       "      <td>n.v.</td>\n",
       "      <td>n.v.</td>\n",
       "    </tr>\n",
       "    <tr>\n",
       "      <th>Windkraft (Chile)</th>\n",
       "      <td>30</td>\n",
       "      <td>20</td>\n",
       "      <td>1462000</td>\n",
       "      <td>n.v.</td>\n",
       "      <td>n.v.</td>\n",
       "    </tr>\n",
       "    <tr>\n",
       "      <th>Entsalzung</th>\n",
       "      <td>0.008161</td>\n",
       "      <td>20</td>\n",
       "      <td>1213.497969</td>\n",
       "      <td>1</td>\n",
       "      <td>n.v.</td>\n",
       "    </tr>\n",
       "    <tr>\n",
       "      <th>PEM Elektrolyse</th>\n",
       "      <td>95.226003</td>\n",
       "      <td>10</td>\n",
       "      <td>720000</td>\n",
       "      <td>0.598911</td>\n",
       "      <td>n.v.</td>\n",
       "    </tr>\n",
       "    <tr>\n",
       "      <th>AEL Elektrolyse</th>\n",
       "      <td>120.831319</td>\n",
       "      <td>10</td>\n",
       "      <td>630000</td>\n",
       "      <td>0.617978</td>\n",
       "      <td>n.v.</td>\n",
       "    </tr>\n",
       "    <tr>\n",
       "      <th>Verflüssigung</th>\n",
       "      <td>6.060606</td>\n",
       "      <td>20</td>\n",
       "      <td>3296969.69697</td>\n",
       "      <td>1</td>\n",
       "      <td>n.v.</td>\n",
       "    </tr>\n",
       "    <tr>\n",
       "      <th>Haber-Bosch</th>\n",
       "      <td>0</td>\n",
       "      <td>20</td>\n",
       "      <td>1212000</td>\n",
       "      <td>0.92</td>\n",
       "      <td>n.v.</td>\n",
       "    </tr>\n",
       "    <tr>\n",
       "      <th>Hydrierung</th>\n",
       "      <td>0</td>\n",
       "      <td>20</td>\n",
       "      <td>79500</td>\n",
       "      <td>0.7</td>\n",
       "      <td>n.v.</td>\n",
       "    </tr>\n",
       "    <tr>\n",
       "      <th>GH2 Speicher</th>\n",
       "      <td>24.442424</td>\n",
       "      <td>20</td>\n",
       "      <td>1222.121212</td>\n",
       "      <td>n.v.</td>\n",
       "      <td>0.033</td>\n",
       "    </tr>\n",
       "    <tr>\n",
       "      <th>LH2 Speicher</th>\n",
       "      <td>21.818182</td>\n",
       "      <td>25</td>\n",
       "      <td>1090.909091</td>\n",
       "      <td>n.v.</td>\n",
       "      <td>0.048</td>\n",
       "    </tr>\n",
       "    <tr>\n",
       "      <th>NH3 Speicher</th>\n",
       "      <td>5.1</td>\n",
       "      <td>20</td>\n",
       "      <td>255</td>\n",
       "      <td>n.v.</td>\n",
       "      <td>0.0004</td>\n",
       "    </tr>\n",
       "    <tr>\n",
       "      <th>LOHC Speicher</th>\n",
       "      <td>1.673</td>\n",
       "      <td>30</td>\n",
       "      <td>239</td>\n",
       "      <td>n.v.</td>\n",
       "      <td>0</td>\n",
       "    </tr>\n",
       "    <tr>\n",
       "      <th>Pipeline</th>\n",
       "      <td>3.9</td>\n",
       "      <td>n.v.</td>\n",
       "      <td>0</td>\n",
       "      <td>0</td>\n",
       "      <td>n.v.</td>\n",
       "    </tr>\n",
       "    <tr>\n",
       "      <th>LH2 Schiff</th>\n",
       "      <td>0.111078</td>\n",
       "      <td>20</td>\n",
       "      <td>2291308.869284</td>\n",
       "      <td>0.862212</td>\n",
       "      <td>n.v.</td>\n",
       "    </tr>\n",
       "    <tr>\n",
       "      <th>NH3 Schiff</th>\n",
       "      <td>0.0583</td>\n",
       "      <td>20</td>\n",
       "      <td>1135336.848272</td>\n",
       "      <td>0.99675</td>\n",
       "      <td>n.v.</td>\n",
       "    </tr>\n",
       "    <tr>\n",
       "      <th>LOHC Schiff</th>\n",
       "      <td>0.015973</td>\n",
       "      <td>20</td>\n",
       "      <td>453967.12068</td>\n",
       "      <td>1</td>\n",
       "      <td>n.v.</td>\n",
       "    </tr>\n",
       "    <tr>\n",
       "      <th>Regasifizierung</th>\n",
       "      <td>0</td>\n",
       "      <td>20</td>\n",
       "      <td>409500</td>\n",
       "      <td>0.997</td>\n",
       "      <td>n.v.</td>\n",
       "    </tr>\n",
       "    <tr>\n",
       "      <th>NH3 Cracker</th>\n",
       "      <td>0</td>\n",
       "      <td>20</td>\n",
       "      <td>376000</td>\n",
       "      <td>0.86</td>\n",
       "      <td>n.v.</td>\n",
       "    </tr>\n",
       "    <tr>\n",
       "      <th>Dehydrierung</th>\n",
       "      <td>0</td>\n",
       "      <td>20</td>\n",
       "      <td>204000</td>\n",
       "      <td>0.67</td>\n",
       "      <td>n.v.</td>\n",
       "    </tr>\n",
       "  </tbody>\n",
       "</table>\n",
       "</div>"
      ],
      "text/plain": [
       "                     marginal_cost lifetime    capital_cost efficiency  \\\n",
       "NaN                         static    float           float      float   \n",
       "Photovoltaik (Chile)          38.3       20         1333000       n.v.   \n",
       "Windkraft (Chile)               30       20         1462000       n.v.   \n",
       "Entsalzung                0.008161       20     1213.497969          1   \n",
       "PEM Elektrolyse          95.226003       10          720000   0.598911   \n",
       "AEL Elektrolyse         120.831319       10          630000   0.617978   \n",
       "Verflüssigung             6.060606       20   3296969.69697          1   \n",
       "Haber-Bosch                      0       20         1212000       0.92   \n",
       "Hydrierung                       0       20           79500        0.7   \n",
       "GH2 Speicher             24.442424       20     1222.121212       n.v.   \n",
       "LH2 Speicher             21.818182       25     1090.909091       n.v.   \n",
       "NH3 Speicher                   5.1       20             255       n.v.   \n",
       "LOHC Speicher                1.673       30             239       n.v.   \n",
       "Pipeline                       3.9     n.v.               0          0   \n",
       "LH2 Schiff                0.111078       20  2291308.869284   0.862212   \n",
       "NH3 Schiff                  0.0583       20  1135336.848272    0.99675   \n",
       "LOHC Schiff               0.015973       20    453967.12068          1   \n",
       "Regasifizierung                  0       20          409500      0.997   \n",
       "NH3 Cracker                      0       20          376000       0.86   \n",
       "Dehydrierung                     0       20          204000       0.67   \n",
       "\n",
       "                     standing_loss  \n",
       "NaN                          float  \n",
       "Photovoltaik (Chile)          n.v.  \n",
       "Windkraft (Chile)             n.v.  \n",
       "Entsalzung                    n.v.  \n",
       "PEM Elektrolyse               n.v.  \n",
       "AEL Elektrolyse               n.v.  \n",
       "Verflüssigung                 n.v.  \n",
       "Haber-Bosch                   n.v.  \n",
       "Hydrierung                    n.v.  \n",
       "GH2 Speicher                 0.033  \n",
       "LH2 Speicher                 0.048  \n",
       "NH3 Speicher                0.0004  \n",
       "LOHC Speicher                    0  \n",
       "Pipeline                      n.v.  \n",
       "LH2 Schiff                    n.v.  \n",
       "NH3 Schiff                    n.v.  \n",
       "LOHC Schiff                   n.v.  \n",
       "Regasifizierung               n.v.  \n",
       "NH3 Cracker                   n.v.  \n",
       "Dehydrierung                  n.v.  "
      ]
     },
     "execution_count": 7,
     "metadata": {},
     "output_type": "execute_result"
    }
   ],
   "source": [
    "# Einlesen und Ausgabe der Inputs für die Variablen\n",
    "\n",
    "data_inputs = pd.read_excel('data/Inputs_Modell.xlsx', sheet_name = 'Gesamt', header = 2, index_col = 0, nrows = 20)\n",
    "\n",
    "data_inputs=pd.DataFrame(data_inputs.fillna(0)).drop(columns = ['Unnamed: 1','name','bus','p_nom','Unnamed: 10','Unnamed: 11'])\n",
    "data_inputs"
   ]
  },
  {
   "cell_type": "markdown",
   "id": "5fadf68f",
   "metadata": {
    "id": "5fadf68f"
   },
   "source": [
    "# Definition der Variablen"
   ]
  },
  {
   "cell_type": "code",
   "execution_count": 8,
   "id": "a1970481",
   "metadata": {
    "code_folding": [
     0
    ],
    "executionInfo": {
     "elapsed": 9,
     "status": "aborted",
     "timestamp": 1673435393735,
     "user": {
      "displayName": "Christof Gipser",
      "userId": "04329298021906177943"
     },
     "user_tz": -60
    },
    "id": "a1970481",
    "scrolled": true
   },
   "outputs": [
    {
     "name": "stdout",
     "output_type": "stream",
     "text": [
      "Der stündliche Bedarf bei konstanter Verteilung des Jahresbedarfs von 35 kt Wasserstoff beträgt ungefähr 132.0 MWh\n"
     ]
    }
   ],
   "source": [
    "# Erstellung der Last durch den Wasserstoffbedarf\n",
    "\n",
    "hydrogen_energy_content = 33 #kWh/kg oder MWh/t\n",
    "hydrogen_demand_t = 35 * 1000\n",
    "hydrogen_demand_kg = hydrogen_demand_t * 1000\n",
    "hydrogen_demand_MWh = hydrogen_demand_t * hydrogen_energy_content # MWh\n",
    "hydrogen_demand_hourly = hydrogen_demand_MWh/8760 #MW\n",
    "\n",
    "print('Der stündliche Bedarf bei konstanter Verteilung des Jahresbedarfs von 35 kt Wasserstoff beträgt ungefähr ' + str(round(hydrogen_demand_hourly,0)) + ' MWh')"
   ]
  },
  {
   "cell_type": "markdown",
   "id": "b5e81e71",
   "metadata": {
    "id": "b5e81e71"
   },
   "source": [
    "## Investitionskosten"
   ]
  },
  {
   "cell_type": "code",
   "execution_count": 9,
   "id": "f7557704",
   "metadata": {
    "code_folding": [
     0
    ],
    "executionInfo": {
     "elapsed": 8,
     "status": "aborted",
     "timestamp": 1673435393735,
     "user": {
      "displayName": "Christof Gipser",
      "userId": "04329298021906177943"
     },
     "user_tz": -60
    },
    "id": "f7557704"
   },
   "outputs": [],
   "source": [
    "# capital_cost\n",
    "\n",
    "# Erzeugung\n",
    "capital_cost_pv = data_inputs.loc['Photovoltaik (Chile)']['capital_cost'] # €/MW\n",
    "capital_cost_wind = data_inputs.loc['Windkraft (Chile)']['capital_cost'] # €/MW\n",
    "\n",
    "\n",
    "# Elektrolyse\n",
    "capital_cost_PEMEL = data_inputs.loc['PEM Elektrolyse']['capital_cost'] # €/MW\n",
    "capital_cost_AEL = data_inputs.loc['AEL Elektrolyse']['capital_cost'] # €/MW\n",
    "\n",
    "\n",
    "# Umwandlung\n",
    "capital_cost_LH2 = data_inputs.loc['Verflüssigung']['capital_cost'] # €/MW\n",
    "capital_cost_NH3 = data_inputs.loc['Haber-Bosch']['capital_cost'] # €/MW\n",
    "capital_cost_LOHC = data_inputs.loc['Hydrierung']['capital_cost'] # €/MW\n",
    "capital_cost_LH2_b = data_inputs.loc['Regasifizierung']['capital_cost'] # €/MW\n",
    "capital_cost_NH3_b = data_inputs.loc['NH3 Cracker']['capital_cost'] # €/MW\n",
    "capital_cost_LOHC_b = data_inputs.loc['Dehydrierung']['capital_cost'] # €/MW\n",
    "\n",
    "\n",
    "#Transport\n",
    "capital_cost_pipeline = data_inputs.loc['Pipeline']['capital_cost'] # €/MW\n",
    "capital_cost_shipping_LH2 = data_inputs.loc['LH2 Schiff']['capital_cost'] # €/MW\n",
    "capital_cost_shipping_NH3 = data_inputs.loc['NH3 Schiff']['capital_cost'] # €/MW\n",
    "capital_cost_shipping_LOHC = data_inputs.loc['LOHC Schiff']['capital_cost'] # €/MW\n",
    "\n",
    "\n",
    "# Speicherung\n",
    "capital_cost_storage_el = 1000000 #data_inputs.loc['Stromspeicher']['capital_cost']\n",
    "capital_cost_storage_LH2 = data_inputs.loc['LH2 Speicher']['capital_cost'] # €/MW\n",
    "capital_cost_storage_NH3 = data_inputs.loc['NH3 Speicher']['capital_cost'] # €/MW\n",
    "capital_cost_storage_LOHC = data_inputs.loc['LOHC Speicher']['capital_cost'] # €/MW\n",
    "capital_cost_storage_GH2 = data_inputs.loc['GH2 Speicher']['capital_cost'] # €/MW"
   ]
  },
  {
   "cell_type": "markdown",
   "id": "4a7b55cc",
   "metadata": {
    "id": "4a7b55cc"
   },
   "source": [
    "## Gestehungskosten"
   ]
  },
  {
   "cell_type": "code",
   "execution_count": 10,
   "id": "bc66b833",
   "metadata": {
    "code_folding": [
     0
    ],
    "executionInfo": {
     "elapsed": 8,
     "status": "aborted",
     "timestamp": 1673435393735,
     "user": {
      "displayName": "Christof Gipser",
      "userId": "04329298021906177943"
     },
     "user_tz": -60
    },
    "id": "bc66b833"
   },
   "outputs": [],
   "source": [
    "# marginal_cost\n",
    "\n",
    "# Erzeugung\n",
    "marginal_cost_pv = data_inputs.loc['Photovoltaik (Chile)']['marginal_cost'] # €/MWh\n",
    "marginal_cost_wind = data_inputs.loc['Windkraft (Chile)']['marginal_cost'] # €/MWh\n",
    "\n",
    "# Elektrolyse\n",
    "marginal_cost_PEMEL = data_inputs.loc['PEM Elektrolyse']['marginal_cost'] # €/MWh\n",
    "marginal_cost_AEL = data_inputs.loc['AEL Elektrolyse']['marginal_cost'] # €/MWh\n",
    "\n",
    "# Umwandlung\n",
    "marginal_cost_LH2 = data_inputs.loc['Verflüssigung']['marginal_cost'] # €/MWh\n",
    "marginal_cost_NH3 = data_inputs.loc['Haber-Bosch']['marginal_cost'] # €/MWh\n",
    "marginal_cost_LOHC = data_inputs.loc['Hydrierung']['marginal_cost'] # €/MWh\n",
    "marginal_cost_LH2_b = data_inputs.loc['Regasifizierung']['marginal_cost'] # €/MWh\n",
    "marginal_cost_NH3_b = data_inputs.loc['NH3 Cracker']['marginal_cost'] # €/MWh\n",
    "marginal_cost_LOHC_b = data_inputs.loc['Dehydrierung']['marginal_cost'] # €/MWh\n",
    "\n",
    "# Transport\n",
    "marginal_cost_pipeline = data_inputs.loc['Pipeline']['marginal_cost'] # €/MWh\n",
    "marginal_cost_shipping_LH2 = data_inputs.loc['LH2 Schiff']['marginal_cost'] # €/MWh\n",
    "marginal_cost_shipping_NH3 = data_inputs.loc['NH3 Schiff']['marginal_cost'] # €/MWh\n",
    "marginal_cost_shipping_LOHC = data_inputs.loc['LOHC Schiff']['marginal_cost'] # €/MWh\n",
    "\n",
    "# Speicherung\n",
    "marginal_cost_storage_el = 0 #data_inputs.loc['Stromspeicher']['marginal_cost']\n",
    "marginal_cost_storage_LH2 = data_inputs.loc['LH2 Speicher']['marginal_cost'] # €/MWh\n",
    "marginal_cost_storage_NH3 = data_inputs.loc['NH3 Speicher']['marginal_cost'] # €/MWh\n",
    "marginal_cost_storage_LOHC = data_inputs.loc['LOHC Speicher']['marginal_cost'] # €/MWh\n",
    "#marginal_cost_storage_GH2 = data_inputs.loc['GH2 Speicher']['marginal_cost'] # €/MWh"
   ]
  },
  {
   "cell_type": "markdown",
   "id": "bf48b910",
   "metadata": {
    "id": "bf48b910"
   },
   "source": [
    "## Effizienzen"
   ]
  },
  {
   "cell_type": "code",
   "execution_count": 11,
   "id": "d3e88dda",
   "metadata": {
    "code_folding": [],
    "executionInfo": {
     "elapsed": 8,
     "status": "aborted",
     "timestamp": 1673435393735,
     "user": {
      "displayName": "Christof Gipser",
      "userId": "04329298021906177943"
     },
     "user_tz": -60
    },
    "id": "d3e88dda"
   },
   "outputs": [],
   "source": [
    "# efficiency\n",
    "\n",
    "# Wirkungsgrad Erzeugung\n",
    "efficiency_PEMEL = data_inputs.loc['PEM Elektrolyse']['efficiency']\n",
    "efficiency_AEL = data_inputs.loc['AEL Elektrolyse']['efficiency']\n",
    "\n",
    "# Wirkungsgrad Umwandlung\n",
    "efficiency_LH2 = data_inputs.loc['Verflüssigung']['efficiency']\n",
    "efficiency_NH3 =  data_inputs.loc['Haber-Bosch']['efficiency']\n",
    "efficiency_LOHC = data_inputs.loc['Hydrierung']['efficiency']\n",
    "\n",
    "efficiency_LH2_b =  data_inputs.loc['Regasifizierung']['efficiency']\n",
    "efficiency_NH3_b =  data_inputs.loc['NH3 Cracker']['efficiency']\n",
    "efficiency_LOHC_b = data_inputs.loc['Dehydrierung']['efficiency']\n",
    "\n",
    "# Wirkungsgrad der Transporte\n",
    "efficiency_shipping_LH2 = data_inputs.loc['LH2 Schiff']['efficiency'] \n",
    "efficiency_shipping_NH3 = data_inputs.loc['NH3 Schiff']['efficiency']\n",
    "efficiency_shipping_LOHC = data_inputs.loc['LOHC Schiff']['efficiency']\n",
    "\n",
    "\n",
    "# Speicherverluste\n",
    "standing_loss_el = 0.1 #data_inputs.loc['Stromspeicher']['standing_loss']\n",
    "standing_loss_LH2 = 0 # data_inputs.loc['LH2 Speicher']['standing_loss']\n",
    "standing_loss_NH3 = data_inputs.loc['NH3 Speicher']['standing_loss']\n",
    "standing_loss_LOHC = data_inputs.loc['LOHC Speicher']['standing_loss']"
   ]
  },
  {
   "cell_type": "markdown",
   "id": "a7d9f631",
   "metadata": {},
   "source": [
    "## Lebenszeit"
   ]
  },
  {
   "cell_type": "code",
   "execution_count": 12,
   "id": "98e63511",
   "metadata": {
    "code_folding": [
     0
    ]
   },
   "outputs": [],
   "source": [
    "# lifetime\n",
    "\n",
    "lifetime_pv = data_inputs.loc['Photovoltaik (Chile)']['lifetime']\n",
    "lifetime_wind = data_inputs.loc['Windkraft (Chile)']['lifetime']\n",
    "\n",
    "lifetime_PEMEL = data_inputs.loc['PEM Elektrolyse']['lifetime']\n",
    "lifetime_AEL = data_inputs.loc['AEL Elektrolyse']['lifetime']\n",
    "\n",
    "lifetime_NH3 = data_inputs.loc['Haber-Bosch']['lifetime']\n",
    "lifetime_LH2 = data_inputs.loc['Verflüssigung']['lifetime']\n",
    "lifetime_LOHC = data_inputs.loc['Hydrierung']['lifetime']\n",
    "\n",
    "lifetime_LH2_b = data_inputs.loc['Regasifizierung']['lifetime']\n",
    "lifetime_NH3_b = data_inputs.loc['NH3 Cracker']['lifetime']\n",
    "lifetime_LOHC_b = data_inputs.loc['Dehydrierung']['lifetime']\n",
    "\n",
    "lifetime_shipping_LH2 = data_inputs.loc['LH2 Schiff']['lifetime'] \n",
    "lifetime_shipping_NH3 = data_inputs.loc['NH3 Schiff']['lifetime']\n",
    "lifetime_shipping_LOHC = data_inputs.loc['LOHC Schiff']['lifetime']\n",
    "\n",
    "lifetime_storage_el = 20 #data_inputs.loc['Stromspeicher']['lifetime']\n",
    "lifetime_storage_LH2 = data_inputs.loc['LH2 Speicher']['lifetime']\n",
    "lifetime_storage_NH3 = data_inputs.loc['NH3 Speicher']['lifetime']\n",
    "lifetime_storage_LOHC = data_inputs.loc['LOHC Speicher']['lifetime']"
   ]
  },
  {
   "cell_type": "markdown",
   "id": "27ce0ca5",
   "metadata": {},
   "source": [
    "# Auswahlmöglichkeiten"
   ]
  },
  {
   "cell_type": "code",
   "execution_count": 13,
   "id": "2175f9f4",
   "metadata": {
    "code_folding": [
     0
    ]
   },
   "outputs": [],
   "source": [
    "# Durch Eingabe der Elektrolyse wird der entsprechende Pfad aktiviert oder deaktiviert\n",
    "\n",
    "electrolysis_PEMEL = True\n",
    "electrolysis_AEL = True"
   ]
  },
  {
   "cell_type": "code",
   "execution_count": 14,
   "id": "b911cdfb",
   "metadata": {
    "code_folding": [
     2
    ]
   },
   "outputs": [],
   "source": [
    "# Durch Eingabe der maximalen Erzeugungsleistungen werden die entsprechenden Komponenten limitiert\n",
    "\n",
    "#limit_pv = 0\n",
    "#limit_wind = 0\n",
    "#limit_electrolysis = 0\n",
    "#\n",
    "#if limit_pv >= 0:    \n",
    "#    p_nom_max_pv = limit_pv\n",
    "#else:\n",
    "#    p_nom_max_pv = 1000000\n",
    "#    \n",
    "#if limit_wind >= 0:    \n",
    "#    p_nom_max_wind = limit_wind\n",
    "#else:\n",
    "#    p_nom_max_wind = 1000000\n",
    "#\n",
    "#if limit_electrolysis >= 0:    \n",
    "#    p_nom_max_electrolysis = limit_electrolysis\n",
    "#else:\n",
    "#    p_nom_max_electrolysis = 1000000\n",
    "\n",
    "\n",
    "p_nom_max_pv = 100000000\n",
    "p_nom_max_wind = 100000000\n",
    "p_nom_max_electrolysis = 100000000"
   ]
  },
  {
   "cell_type": "markdown",
   "id": "d6282dfc",
   "metadata": {
    "id": "d6282dfc"
   },
   "source": [
    "# Netzwerke aufbauen"
   ]
  },
  {
   "cell_type": "code",
   "execution_count": 15,
   "id": "e544e18f",
   "metadata": {
    "code_folding": [
     0
    ],
    "executionInfo": {
     "elapsed": 8,
     "status": "aborted",
     "timestamp": 1673435393735,
     "user": {
      "displayName": "Christof Gipser",
      "userId": "04329298021906177943"
     },
     "user_tz": -60
    },
    "id": "e544e18f"
   },
   "outputs": [],
   "source": [
    "#Erzeugung der drei Netzwerke\n",
    "\n",
    "network1 = pypsa.Network()\n",
    "network2 = pypsa.Network()\n",
    "network3 = pypsa.Network()\n",
    "\n",
    "# Einstellung der Snapshots\n",
    "\n",
    "network1.set_snapshots(range(8760))\n",
    "network2.set_snapshots(range(8760))\n",
    "network3.set_snapshots(range(8760))"
   ]
  },
  {
   "cell_type": "markdown",
   "id": "9991c95a",
   "metadata": {
    "id": "9991c95a"
   },
   "source": [
    "## Buses"
   ]
  },
  {
   "cell_type": "code",
   "execution_count": 16,
   "id": "9cede772",
   "metadata": {
    "code_folding": [
     0
    ],
    "executionInfo": {
     "elapsed": 8,
     "status": "aborted",
     "timestamp": 1673435393736,
     "user": {
      "displayName": "Christof Gipser",
      "userId": "04329298021906177943"
     },
     "user_tz": -60
    },
    "id": "9cede772"
   },
   "outputs": [],
   "source": [
    "# Erzeugung der Knotenpunkte\n",
    "\n",
    "# Der Suffix _b steht für Bremerhaven\n",
    "# Der Suffix _c steht für Chile\n",
    "    \n",
    "network1.add('Bus', name = 'electricity')\n",
    "network1.add('Bus', name = 'GH2_b')\n",
    "network1.add('Bus', name = 'GH2_c')\n",
    "network1.add('Bus', name = 'cologne')\n",
    "network1.add('Bus', name = 'LH2_b')\n",
    "network1.add('Bus', name = 'LH2_c')\n",
    "\n",
    "network2.add('Bus', name = 'electricity')\n",
    "network2.add('Bus', name = 'GH2_b')\n",
    "network2.add('Bus', name = 'GH2_c')\n",
    "network2.add('Bus', name = 'cologne')\n",
    "network2.add('Bus', name = 'NH3_b')\n",
    "network2.add('Bus', name = 'NH3_c')\n",
    "\n",
    "network3.add('Bus', name = 'electricity')\n",
    "network3.add('Bus', name = 'GH2_b')\n",
    "network3.add('Bus', name = 'GH2_c')\n",
    "network3.add('Bus', name = 'cologne')\n",
    "network3.add('Bus', name = 'LOHC_b')\n",
    "network3.add('Bus', name = 'LOHC_c')"
   ]
  },
  {
   "cell_type": "markdown",
   "id": "b6a510d5",
   "metadata": {
    "id": "b6a510d5"
   },
   "source": [
    "## Loads"
   ]
  },
  {
   "cell_type": "code",
   "execution_count": 17,
   "id": "e90456f6",
   "metadata": {
    "code_folding": [
     0,
     3,
     6
    ],
    "executionInfo": {
     "elapsed": 8,
     "status": "aborted",
     "timestamp": 1673435393736,
     "user": {
      "displayName": "Christof Gipser",
      "userId": "04329298021906177943"
     },
     "user_tz": -60
    },
    "id": "e90456f6"
   },
   "outputs": [],
   "source": [
    "network1.add('Load', name = 'hydrogen_demand', bus = 'cologne', \n",
    "            p_set = hydrogen_demand_hourly)\n",
    "\n",
    "network2.add('Load', name = 'hydrogen_demand', bus = 'cologne', \n",
    "            p_set = hydrogen_demand_hourly)\n",
    "\n",
    "network3.add('Load', name = 'hydrogen_demand', bus = 'cologne', \n",
    "            p_set = hydrogen_demand_hourly)"
   ]
  },
  {
   "cell_type": "markdown",
   "id": "2ccfd17e",
   "metadata": {
    "id": "2ccfd17e"
   },
   "source": [
    "## Generators"
   ]
  },
  {
   "cell_type": "code",
   "execution_count": 18,
   "id": "4f04b3e1",
   "metadata": {
    "code_folding": [
     0,
     6,
     13,
     19,
     26,
     32
    ],
    "executionInfo": {
     "elapsed": 8,
     "status": "aborted",
     "timestamp": 1673435393736,
     "user": {
      "displayName": "Christof Gipser",
      "userId": "04329298021906177943"
     },
     "user_tz": -60
    },
    "id": "4f04b3e1"
   },
   "outputs": [],
   "source": [
    "network1.add('Generator', name = 'Photovoltaik', bus = 'electricity', \n",
    "            p_nom_max = p_nom_max_pv,\n",
    "            p_max_pu = dataset_df['PV_Erzeugung']/dataset_df['PV_Erzeugung'].max(), \n",
    "            p_min_pu = dataset_df['PV_Erzeugung']/dataset_df['PV_Erzeugung'].max(), \n",
    "            p_nom_extendable = True,\n",
    "            marginal_cost = marginal_cost_pv, capital_cost = capital_cost_pv)\n",
    "network1.add('Generator', name = 'Windkraft', bus = 'electricity',\n",
    "            p_nom_max = p_nom_max_wind,\n",
    "            p_max_pu = dataset_df['Wind_Erzeugung']/dataset_df['Wind_Erzeugung'].max(), \n",
    "            p_min_pu = dataset_df['Wind_Erzeugung']/dataset_df['Wind_Erzeugung'].max(), \n",
    "            p_nom_extendable = True,\n",
    "            marginal_cost = marginal_cost_wind, capital_cost = capital_cost_wind)\n",
    "\n",
    "network2.add('Generator', name = 'Photovoltaik', bus = 'electricity', \n",
    "            p_nom_max = p_nom_max_pv,\n",
    "            p_max_pu = dataset_df['PV_Erzeugung']/dataset_df['PV_Erzeugung'].max(), \n",
    "            p_min_pu = dataset_df['PV_Erzeugung']/dataset_df['PV_Erzeugung'].max(), \n",
    "            p_nom_extendable = True,\n",
    "            marginal_cost = marginal_cost_pv, capital_cost = capital_cost_pv)\n",
    "network2.add('Generator', name = 'Windkraft', bus = 'electricity',\n",
    "            p_nom_max = p_nom_max_wind,\n",
    "            p_max_pu = dataset_df['Wind_Erzeugung']/dataset_df['Wind_Erzeugung'].max(), \n",
    "            p_min_pu = dataset_df['Wind_Erzeugung']/dataset_df['Wind_Erzeugung'].max(), \n",
    "            p_nom_extendable = True,\n",
    "            marginal_cost = marginal_cost_wind, capital_cost = capital_cost_wind)\n",
    "\n",
    "network3.add('Generator', name = 'Photovoltaik', bus = 'electricity', \n",
    "            p_nom_max = p_nom_max_pv,\n",
    "            p_max_pu = dataset_df['PV_Erzeugung']/dataset_df['PV_Erzeugung'].max(), \n",
    "            p_min_pu = dataset_df['PV_Erzeugung']/dataset_df['PV_Erzeugung'].max(), \n",
    "            p_nom_extendable = True,\n",
    "            marginal_cost = marginal_cost_pv, capital_cost = capital_cost_pv)\n",
    "network3.add('Generator', name = 'Windkraft', bus = 'electricity',\n",
    "            p_nom_max = p_nom_max_wind,\n",
    "            p_max_pu = dataset_df['Wind_Erzeugung']/dataset_df['Wind_Erzeugung'].max(), \n",
    "            p_min_pu = dataset_df['Wind_Erzeugung']/dataset_df['Wind_Erzeugung'].max(), \n",
    "            p_nom_extendable = True,\n",
    "            marginal_cost = marginal_cost_wind, capital_cost = capital_cost_wind)"
   ]
  },
  {
   "cell_type": "markdown",
   "id": "03e464ac",
   "metadata": {
    "id": "03e464ac"
   },
   "source": [
    "## Links - Electrolysis"
   ]
  },
  {
   "cell_type": "code",
   "execution_count": 19,
   "id": "8990014b",
   "metadata": {
    "code_folding": [
     0,
     7,
     15,
     22,
     30,
     37
    ],
    "executionInfo": {
     "elapsed": 8,
     "status": "aborted",
     "timestamp": 1673435393736,
     "user": {
      "displayName": "Christof Gipser",
      "userId": "04329298021906177943"
     },
     "user_tz": -60
    },
    "id": "8990014b"
   },
   "outputs": [],
   "source": [
    "network1.add('Link', name = 'PEMEL', bus0 = 'electricity', bus1 = 'GH2_c',\n",
    "                p_nom_extendable = True,\n",
    "                p_nom_max = p_nom_max_electrolysis,\n",
    "                lifetime = lifetime_PEMEL,\n",
    "                marginal_cost = marginal_cost_PEMEL, \n",
    "                capital_cost = capital_cost_PEMEL,\n",
    "                efficiency = efficiency_PEMEL)\n",
    "network1.add('Link', name = 'AEL', bus0 = 'electricity', bus1 = 'GH2_c',\n",
    "                p_nom_extendable = True,\n",
    "                p_nom_max = p_nom_max_electrolysis,\n",
    "                lifetime = lifetime_AEL,\n",
    "                marginal_cost = marginal_cost_AEL, \n",
    "                capital_cost = capital_cost_AEL,\n",
    "                efficiency = efficiency_AEL)\n",
    "\n",
    "network2.add('Link', name = 'PEMEL', bus0 = 'electricity', bus1 = 'GH2_c',\n",
    "                p_nom_extendable = True,\n",
    "                p_nom_max = p_nom_max_electrolysis,\n",
    "                lifetime = lifetime_PEMEL,\n",
    "                marginal_cost = marginal_cost_PEMEL, \n",
    "                capital_cost = capital_cost_PEMEL,\n",
    "                efficiency = efficiency_PEMEL)    \n",
    "network2.add('Link', name = 'AEL', bus0 = 'electricity', bus1 = 'GH2_c',\n",
    "                p_nom_extendable = True,\n",
    "                p_nom_max = p_nom_max_electrolysis,\n",
    "                lifetime = lifetime_AEL,\n",
    "                marginal_cost = marginal_cost_AEL, \n",
    "                capital_cost = capital_cost_AEL,\n",
    "                efficiency = efficiency_AEL)\n",
    "\n",
    "network3.add('Link', name = 'PEMEL', bus0 = 'electricity', bus1 = 'GH2_c',\n",
    "                p_nom_extendable = True,\n",
    "                p_nom_max = p_nom_max_electrolysis,\n",
    "                lifetime = lifetime_PEMEL,\n",
    "                marginal_cost = marginal_cost_PEMEL, \n",
    "                capital_cost = capital_cost_PEMEL,\n",
    "                efficiency = efficiency_PEMEL)    \n",
    "network3.add('Link', name = 'AEL', bus0 = 'electricity', bus1 = 'GH2_c',\n",
    "                p_nom_extendable = True,\n",
    "                p_nom_max = p_nom_max_electrolysis,\n",
    "                lifetime = lifetime_AEL,\n",
    "                marginal_cost = marginal_cost_AEL, \n",
    "                capital_cost = capital_cost_AEL,\n",
    "                efficiency = efficiency_AEL)"
   ]
  },
  {
   "cell_type": "markdown",
   "id": "7584fdd2",
   "metadata": {
    "id": "7584fdd2"
   },
   "source": [
    "## Links - Conversion"
   ]
  },
  {
   "cell_type": "code",
   "execution_count": 20,
   "id": "62ced3e5",
   "metadata": {
    "code_folding": [
     0,
     5,
     12,
     17,
     24,
     29
    ],
    "executionInfo": {
     "elapsed": 8,
     "status": "aborted",
     "timestamp": 1673435393736,
     "user": {
      "displayName": "Christof Gipser",
      "userId": "04329298021906177943"
     },
     "user_tz": -60
    },
    "id": "62ced3e5"
   },
   "outputs": [],
   "source": [
    "network1.add('Link', name = 'Verflüssigung', bus0 = 'GH2_c', bus1 = 'LH2_c',\n",
    "                p_nom_extendable = True,\n",
    "                marginal_cost = marginal_cost_LH2, \n",
    "                capital_cost = capital_cost_LH2,\n",
    "                efficiency = efficiency_LH2)\n",
    "network1.add('Link', name = 'Regasifizierung', bus0 = 'LH2_b', bus1 = 'GH2_b',\n",
    "                p_nom_extendable = True,\n",
    "                marginal_cost = marginal_cost_LH2_b, \n",
    "                capital_cost = capital_cost_LH2_b,\n",
    "                efficiency = efficiency_LH2_b)\n",
    "\n",
    "    \n",
    "network2.add('Link', name = 'Haber-Bosch', bus0 = 'GH2_c', bus1 = 'NH3_c',\n",
    "                p_nom_extendable = True,\n",
    "                marginal_cost = marginal_cost_NH3, \n",
    "                capital_cost = capital_cost_NH3,\n",
    "                efficiency = efficiency_NH3)\n",
    "network2.add('Link', name = 'NH3 Cracker', bus0 = 'NH3_b', bus1 = 'GH2_b',\n",
    "                p_nom_extendable = True,\n",
    "                marginal_cost = marginal_cost_NH3_b, \n",
    "                capital_cost = capital_cost_NH3_b,\n",
    "                efficiency = efficiency_NH3_b)\n",
    "\n",
    "    \n",
    "network3.add('Link', name = 'Hydrierung', bus0 = 'GH2_c', bus1 = 'LOHC_c',\n",
    "                p_nom_extendable = True,\n",
    "                marginal_cost = marginal_cost_LOHC, \n",
    "                capital_cost = capital_cost_LOHC,\n",
    "                efficiency = efficiency_LOHC)\n",
    "network3.add('Link', name = 'Dehydrierung', bus0 = 'LOHC_b', bus1 = 'GH2_b',\n",
    "                p_nom_extendable = True,\n",
    "                marginal_cost = marginal_cost_LOHC_b, \n",
    "                capital_cost = capital_cost_LOHC_b,\n",
    "                efficiency = efficiency_LOHC_b)"
   ]
  },
  {
   "cell_type": "markdown",
   "id": "6e31ee79",
   "metadata": {
    "id": "6e31ee79"
   },
   "source": [
    "## Links - Cargoship"
   ]
  },
  {
   "cell_type": "code",
   "execution_count": 21,
   "id": "c2b03c0b",
   "metadata": {
    "code_folding": [
     0,
     9,
     18
    ],
    "executionInfo": {
     "elapsed": 8,
     "status": "aborted",
     "timestamp": 1673435393736,
     "user": {
      "displayName": "Christof Gipser",
      "userId": "04329298021906177943"
     },
     "user_tz": -60
    },
    "id": "c2b03c0b"
   },
   "outputs": [],
   "source": [
    "network1.add('Link', name = 'Verschiffung LH2', bus0 = 'LH2_c', bus1 = 'LH2_b',\n",
    "             p_nom = dataset_df['Kapazität_Schiff'].max(),\n",
    "             p_max_pu = dataset_df['Kapazität_Schiff']/dataset_df['Kapazität_Schiff'].max(), \n",
    "             p_min_pu = dataset_df['Kapazität_Schiff']/dataset_df['Kapazität_Schiff'].max(),\n",
    "             p_nom_extendable = True,\n",
    "             marginal_cost = marginal_cost_shipping_LH2, \n",
    "             capital_cost = capital_cost_shipping_LH2,\n",
    "             efficiency = efficiency_shipping_LH2)\n",
    "\n",
    "network2.add('Link', name = 'Verschiffung NH3', bus0 = 'NH3_c', bus1 = 'NH3_b',\n",
    "             p_nom = dataset_df['Kapazität_Schiff'].max(),\n",
    "             p_max_pu = dataset_df['Kapazität_Schiff']/dataset_df['Kapazität_Schiff'].max(), \n",
    "             p_min_pu = dataset_df['Kapazität_Schiff']/dataset_df['Kapazität_Schiff'].max(),\n",
    "             p_nom_extendable = True,\n",
    "             marginal_cost = marginal_cost_shipping_NH3, \n",
    "             capital_cost = capital_cost_shipping_NH3,\n",
    "             efficiency = efficiency_shipping_NH3)\n",
    "    \n",
    "network3.add('Link', name = 'Verschiffung LOHC', bus0 = 'LOHC_c', bus1 = 'LOHC_b',\n",
    "             p_nom = dataset_df['Kapazität_Schiff'].max(),\n",
    "             p_max_pu = dataset_df['Kapazität_Schiff']/dataset_df['Kapazität_Schiff'].max(), \n",
    "             p_min_pu = dataset_df['Kapazität_Schiff']/dataset_df['Kapazität_Schiff'].max(),\n",
    "             p_nom_extendable = True,\n",
    "             marginal_cost = marginal_cost_shipping_LOHC, \n",
    "             capital_cost = capital_cost_shipping_LOHC,\n",
    "             efficiency = efficiency_shipping_LOHC)"
   ]
  },
  {
   "cell_type": "markdown",
   "id": "391ca361",
   "metadata": {
    "id": "391ca361"
   },
   "source": [
    "## Links - Pipeline"
   ]
  },
  {
   "cell_type": "code",
   "execution_count": 22,
   "id": "f799bd16",
   "metadata": {
    "code_folding": [
     0,
     5,
     10
    ]
   },
   "outputs": [],
   "source": [
    "network1.add('Link', name = 'Pipeline', bus0 = 'GH2_b', bus1 = 'cologne', \n",
    "            p_nom_extendable = True,\n",
    "            marginal_cost = marginal_cost_pipeline, \n",
    "            capital_cost = capital_cost_pipeline)\n",
    "\n",
    "network2.add('Link', name = 'Pipeline', bus0 = 'GH2_b', bus1 = 'cologne', \n",
    "            p_nom_extendable = True,\n",
    "            marginal_cost = marginal_cost_pipeline, \n",
    "            capital_cost = capital_cost_pipeline)\n",
    "\n",
    "network3.add('Link', name = 'Pipeline', bus0 = 'GH2_b', bus1 = 'cologne', \n",
    "            p_nom_extendable = True,\n",
    "            marginal_cost = marginal_cost_pipeline, \n",
    "            capital_cost = capital_cost_pipeline)"
   ]
  },
  {
   "cell_type": "markdown",
   "id": "a7817e8c",
   "metadata": {
    "id": "a7817e8c"
   },
   "source": [
    "## Storages"
   ]
  },
  {
   "cell_type": "code",
   "execution_count": 23,
   "id": "003b6796",
   "metadata": {
    "code_folding": [
     0,
     7,
     14,
     22,
     28,
     35,
     41,
     48,
     54
    ],
    "executionInfo": {
     "elapsed": 7,
     "status": "aborted",
     "timestamp": 1673435393736,
     "user": {
      "displayName": "Christof Gipser",
      "userId": "04329298021906177943"
     },
     "user_tz": -60
    },
    "id": "003b6796"
   },
   "outputs": [],
   "source": [
    "network1.add('Store', name = 'Stromspeicher', bus = 'electricity', \n",
    "            e_nom_extendable = True,  e_cyclic = True, \n",
    "            capital_cost = capital_cost_storage_el,\n",
    "            marginal_cost = marginal_cost_storage_el,\n",
    "            standing_loss = standing_loss_el,\n",
    "            lifetime = lifetime_storage_el)\n",
    "\n",
    "network2.add('Store', name = 'Stromspeicher', bus = 'electricity', \n",
    "            e_nom_extendable = True,  e_cyclic = True, \n",
    "            capital_cost = capital_cost_storage_el,\n",
    "            marginal_cost = marginal_cost_storage_el,\n",
    "            standing_loss = standing_loss_el,\n",
    "            lifetime = lifetime_storage_el)\n",
    "\n",
    "network3.add('Store', name = 'Stromspeicher', bus = 'electricity', \n",
    "            e_nom_extendable = True,  e_cyclic = True, \n",
    "            capital_cost = capital_cost_storage_el,\n",
    "            marginal_cost = marginal_cost_storage_el,\n",
    "            standing_loss = standing_loss_el,\n",
    "            lifetime = lifetime_storage_el)\n",
    "\n",
    "\n",
    "network1.add('Store', name = 'Flüssigspeicher Chile', bus = 'LH2_c', \n",
    "                e_nom_extendable = True, e_cyclic = True,  \n",
    "                capital_cost = capital_cost_storage_LH2, \n",
    "                marginal_cost = marginal_cost_storage_LH2,\n",
    "                standing_loss = standing_loss_LH2,\n",
    "                lifetime = lifetime_storage_LH2)\n",
    "network1.add('Store', name = 'Flüssigspeicher Bremerhaven', bus = 'LH2_b', \n",
    "                e_nom_extendable = True, e_cyclic = True,  \n",
    "                capital_cost = capital_cost_storage_LH2, \n",
    "                marginal_cost = marginal_cost_storage_LH2,\n",
    "                standing_loss = standing_loss_LH2,\n",
    "                lifetime = lifetime_storage_LH2)\n",
    "\n",
    "network2.add('Store', name = 'Ammoniakspeicher Chile', bus = 'NH3_c', \n",
    "                e_nom_extendable = True,  e_cyclic = True, \n",
    "                capital_cost = capital_cost_storage_NH3, \n",
    "                marginal_cost = marginal_cost_storage_NH3,\n",
    "                standing_loss = standing_loss_NH3,\n",
    "                lifetime = lifetime_storage_NH3)\n",
    "network2.add('Store', name = 'Ammoniakspeicher Bremerhaven', bus = 'NH3_b', \n",
    "                e_nom_extendable = True,  e_cyclic = True, \n",
    "                capital_cost = capital_cost_storage_NH3, \n",
    "                marginal_cost = marginal_cost_storage_NH3,\n",
    "                standing_loss = standing_loss_NH3,\n",
    "                lifetime = lifetime_storage_NH3)\n",
    "    \n",
    "network3.add('Store', name = 'LOHC-Speicher Chile', bus = 'LOHC_c', \n",
    "                e_nom_extendable = True, e_cyclic = True,  \n",
    "                capital_cost = capital_cost_storage_LOHC, \n",
    "                marginal_cost = marginal_cost_storage_LOHC,\n",
    "                standing_loss = standing_loss_LOHC,\n",
    "                lifetime = lifetime_storage_LOHC)\n",
    "network3.add('Store', name = 'LOHC-Speicher Bremerhaven', bus = 'LOHC_b', \n",
    "                e_nom_extendable = True, e_cyclic = True,  \n",
    "                capital_cost = capital_cost_storage_LOHC, \n",
    "                marginal_cost = marginal_cost_storage_LOHC,\n",
    "                standing_loss = standing_loss_LOHC,\n",
    "                lifetime = lifetime_storage_LOHC)"
   ]
  },
  {
   "cell_type": "markdown",
   "id": "513e4320",
   "metadata": {},
   "source": [
    "# Grafische Darstellung der Ausgangsprofile"
   ]
  },
  {
   "cell_type": "code",
   "execution_count": 24,
   "id": "8c25ed4a",
   "metadata": {
    "code_folding": []
   },
   "outputs": [],
   "source": [
    "#Jahresverlauf('Stromerzeugung aus Windkraft',dataset_df.Zeitstempel.loc[2000:2055], dataset_df['Wind_Erzeugung'].loc[2000:2055],'Zeit','Leistung')"
   ]
  },
  {
   "cell_type": "code",
   "execution_count": 25,
   "id": "5065dfb6",
   "metadata": {
    "executionInfo": {
     "elapsed": 8,
     "status": "aborted",
     "timestamp": 1673435393737,
     "user": {
      "displayName": "Christof Gipser",
      "userId": "04329298021906177943"
     },
     "user_tz": -60
    },
    "id": "d81745b5"
   },
   "outputs": [],
   "source": [
    "#Jahresverlauf('Stromerzeugung aus Photovoltaik',dataset_df.index, dataset_df['PV_Erzeugung'],'Zeit','Leistung')"
   ]
  },
  {
   "cell_type": "code",
   "execution_count": 26,
   "id": "207765da",
   "metadata": {},
   "outputs": [],
   "source": [
    "#Jahresverlauf('Elektrolyse',dataset_df.index, dataset_df['Elektrolyse'],'Zeit','Leistung')"
   ]
  },
  {
   "cell_type": "code",
   "execution_count": 27,
   "id": "65bfd143",
   "metadata": {},
   "outputs": [],
   "source": [
    "#Jahresverlauf('Ferntransport',dataset_df.index, dataset_df['Kapazität_Schiff'],'Zeit','Leistung')"
   ]
  },
  {
   "cell_type": "code",
   "execution_count": null,
   "id": "4d64dc5d",
   "metadata": {},
   "outputs": [],
   "source": []
  },
  {
   "cell_type": "markdown",
   "id": "18c3c354",
   "metadata": {
    "id": "18c3c354"
   },
   "source": [
    "# Optimierung des Systems"
   ]
  },
  {
   "cell_type": "code",
   "execution_count": 39,
   "id": "5e993293",
   "metadata": {
    "executionInfo": {
     "elapsed": 7,
     "status": "aborted",
     "timestamp": 1673435393736,
     "user": {
      "displayName": "Christof Gipser",
      "userId": "04329298021906177943"
     },
     "user_tz": -60
    },
    "id": "5e993293",
    "scrolled": true
   },
   "outputs": [
    {
     "name": "stderr",
     "output_type": "stream",
     "text": [
      "INFO:pypsa.linopf:Prepare linear problem\n",
      "INFO:pypsa.linopf:Total preparation time: 1.34s\n",
      "INFO:pypsa.linopf:Solve linear problem using Gurobi solver\n"
     ]
    },
    {
     "name": "stdout",
     "output_type": "stream",
     "text": [
      "Read LP format model from file /var/folders/np/fxyv4bts2s353fj5gdlrbgym0000gn/T/pypsa-problem-mhwwbbtq.lp\n",
      "Reading time = 0.65 seconds\n",
      "obj: 271560 rows, 122652 columns, 525842 nonzeros\n",
      "Gurobi Optimizer version 9.5.2 build v9.5.2rc0 (mac64[rosetta2])\n",
      "Thread count: 8 physical cores, 8 logical processors, using up to 8 threads\n",
      "Optimize a model with 271560 rows, 122652 columns and 525842 nonzeros\n",
      "Model fingerprint: 0x3ea9e433\n",
      "Coefficient statistics:\n",
      "  Matrix range     [1e-06, 1e+00]\n",
      "  Objective range  [1e-01, 3e+06]\n",
      "  Bounds range     [2e+06, 1e+08]\n",
      "  RHS range        [1e+02, 1e+02]\n",
      "\n",
      "Concurrent LP optimizer: primal simplex, dual simplex, and barrier\n",
      "Showing barrier log only...\n",
      "\n",
      "Presolve removed 203208 rows and 85171 columns\n",
      "Presolve time: 0.43s\n",
      "Presolved: 68352 rows, 37481 columns, 211365 nonzeros\n",
      "\n",
      "Ordering time: 0.01s\n",
      "\n",
      "Barrier statistics:\n",
      " Dense cols : 9\n",
      " AA' NZ     : 2.207e+05\n",
      " Factor NZ  : 9.779e+05 (roughly 50 MB of memory)\n",
      " Factor Ops : 1.821e+07 (less than 1 second per iteration)\n",
      " Threads    : 6\n",
      "\n",
      "                  Objective                Residual\n",
      "Iter       Primal          Dual         Primal    Dual     Compl     Time\n",
      "   0   1.29720183e+14 -3.34877868e+14  9.82e+08 1.41e+02  2.17e+12     1s\n",
      "   1   1.30798640e+14 -1.59651329e+14  3.00e+08 8.38e+03  9.16e+11     1s\n",
      "   2   1.42139220e+14 -6.66563510e+13  1.21e+08 3.44e+03  3.87e+11     1s\n",
      "   3   1.47819214e+14 -2.91133314e+13  5.79e+07 1.51e+03  1.78e+11     1s\n",
      "   4   1.48018932e+14 -1.77094129e+13  3.16e+07 9.03e+02  1.08e+11     1s\n",
      "   5   1.45050977e+14 -9.59338382e+12  2.15e+07 4.84e+02  6.15e+10     1s\n",
      "   6   1.36752327e+14 -5.80371448e+12  1.16e+07 2.82e+02  3.62e+10     1s\n",
      "   7   1.24759851e+14 -3.54133179e+12  5.19e+06 1.66e+02  2.04e+10     1s\n",
      "   8   1.06558736e+14 -1.94144516e+12  2.07e+06 8.25e+01  1.01e+10     1s\n",
      "   9   8.71829566e+13 -1.16346529e+12  9.31e+05 4.31e+01  5.32e+09     1s\n",
      "  10   8.02288450e+13 -9.40216162e+11  7.86e+05 3.17e+01  4.13e+09     1s\n",
      "  11   6.82222169e+13 -7.60747762e+11  5.52e+05 2.32e+01  2.98e+09     1s\n",
      "  12   5.90601830e+13 -6.25389956e+11  4.20e+05 1.68e+01  2.21e+09     2s\n",
      "  13   5.43108213e+13 -5.13160040e+11  3.66e+05 1.18e+01  1.74e+09     2s\n",
      "  14   4.02453258e+13 -4.44832713e+11  2.28e+05 8.97e+00  1.21e+09     2s\n",
      "  15   3.40300576e+13 -3.39198536e+11  1.83e+05 1.66e+00  6.77e+08     2s\n",
      "  16   1.64470008e+13 -3.36752362e+11  8.12e+04 1.54e+00  3.46e+08     2s\n",
      "  17   2.07778754e+12 -2.90270313e+11  3.63e+03 4.31e-04  3.32e+07     2s\n",
      "  18   1.74522825e+11 -5.00823065e+10  1.90e+02 4.72e-03  2.92e+06     2s\n",
      "  19   8.77535296e+10 -3.23602357e+09  9.07e+01 4.68e-04  1.17e+06     2s\n",
      "  20   4.52383920e+10 -1.04534622e+09  4.33e+01 3.36e-04  5.97e+05     2s\n",
      "  21   2.92250252e+10  1.53374478e+09  2.54e+01 1.75e-04  3.57e+05     2s\n",
      "  22   2.84532188e+10  2.28641081e+09  2.44e+01 1.23e-04  3.37e+05     2s\n",
      "  23   1.83725966e+10  2.76841799e+09  1.40e+01 6.90e-05  2.01e+05     2s\n",
      "  24   9.48341913e+09  3.29960327e+09  5.10e+00 3.20e-05  7.97e+04     2s\n",
      "  25   6.51258055e+09  3.83703761e+09  2.09e+00 5.67e-06  3.45e+04     2s\n",
      "  26   5.59672837e+09  4.06687024e+09  1.13e+00 3.12e-06  1.97e+04     3s\n",
      "  27   5.52411728e+09  4.14320507e+09  1.05e+00 2.51e-06  1.78e+04     3s\n",
      "  28   5.29437995e+09  4.30020960e+09  7.33e-01 1.47e-06  1.28e+04     3s\n",
      "  29   5.18691229e+09  4.42737481e+09  6.23e-01 1.33e-06  9.79e+03     3s\n",
      "  30   5.17889361e+09  4.44807351e+09  5.95e-01 1.23e-06  9.42e+03     3s\n",
      "  31   5.06585177e+09  4.54961969e+09  4.46e-01 8.39e-07  6.66e+03     3s\n",
      "  32   5.00641140e+09  4.63313560e+09  3.59e-01 5.66e-07  4.81e+03     3s\n",
      "  33   4.96181428e+09  4.70786288e+09  2.31e-01 4.91e-07  3.27e+03     3s\n",
      "  34   4.93772312e+09  4.71971873e+09  1.86e-01 4.46e-07  2.81e+03     3s\n",
      "  35   4.91559895e+09  4.76362074e+09  1.43e-01 4.22e-07  1.96e+03     3s\n",
      "  36   4.89792234e+09  4.80120956e+09  1.09e-01 1.62e-07  1.25e+03     3s\n",
      "  37   4.88058088e+09  4.81931754e+09  7.68e-02 3.24e-08  7.90e+02     3s\n",
      "  38   4.87040319e+09  4.82854422e+09  5.51e-02 1.14e-09  5.40e+02     3s\n",
      "  39   4.86447787e+09  4.83106221e+09  4.33e-02 1.59e-09  4.31e+02     3s\n",
      "  40   4.86035430e+09  4.83397804e+09  3.44e-02 1.85e-09  3.40e+02     3s\n",
      "  41   4.85656964e+09  4.83592494e+09  2.71e-02 2.52e-09  2.66e+02     4s\n",
      "  42   4.85332139e+09  4.83780659e+09  2.12e-02 2.81e-09  2.00e+02     4s\n",
      "  43   4.85085257e+09  4.83880855e+09  1.65e-02 1.74e-09  1.55e+02     4s\n",
      "  44   4.84808596e+09  4.84090923e+09  1.06e-02 5.62e-09  9.27e+01     4s\n",
      "  45   4.84665734e+09  4.84147174e+09  7.80e-03 6.42e-09  6.70e+01     4s\n",
      "  46   4.84569651e+09  4.84172985e+09  5.89e-03 5.96e-09  5.12e+01     4s\n",
      "  47   4.84498838e+09  4.84184076e+09  4.51e-03 5.09e-09  4.07e+01     4s\n",
      "  48   4.84442809e+09  4.84205262e+09  3.42e-03 4.80e-09  3.07e+01     4s\n",
      "  49   4.84400555e+09  4.84217836e+09  2.67e-03 5.78e-09  2.36e+01     4s\n",
      "  50   4.84367749e+09  4.84231050e+09  2.08e-03 6.71e-09  1.77e+01     4s\n",
      "  51   4.84352956e+09  4.84236015e+09  1.80e-03 9.50e-09  1.51e+01     4s\n",
      "  52   4.84328399e+09  4.84245323e+09  1.35e-03 4.58e-09  1.07e+01     4s\n",
      "  53   4.84309150e+09  4.84247519e+09  1.00e-03 3.46e-09  7.96e+00     4s\n",
      "  54   4.84293990e+09  4.84248696e+09  7.24e-04 2.42e-09  5.85e+00     4s\n",
      "  55   4.84288065e+09  4.84249900e+09  6.22e-04 3.84e-09  4.93e+00     4s\n",
      "  56   4.84279305e+09  4.84250490e+09  4.53e-04 1.96e-09  3.72e+00     5s\n",
      "  57   4.84274278e+09  4.84251463e+09  3.59e-04 1.25e-09  2.95e+00     5s\n",
      "  58   4.84268385e+09  4.84253071e+09  2.52e-04 7.28e-10  1.98e+00     5s\n",
      "  59   4.84264579e+09  4.84253369e+09  1.82e-04 9.31e-10  1.45e+00     5s\n",
      "  60   4.84261474e+09  4.84253945e+09  1.25e-04 8.15e-10  9.72e-01     5s\n",
      "  61   4.84259183e+09  4.84254119e+09  8.34e-05 5.47e-09  6.54e-01     5s\n",
      "  62   4.84258036e+09  4.84254215e+09  6.26e-05 4.77e-09  4.93e-01     5s\n",
      "  63   4.84257093e+09  4.84254223e+09  4.63e-05 3.84e-09  3.71e-01     5s\n",
      "  64   4.84255090e+09  4.84254295e+09  1.13e-05 9.28e-09  1.03e-01     5s\n",
      "  65   4.84254447e+09  4.84254370e+09  4.72e-06 8.09e-09  9.96e-03     5s\n",
      "  66   4.84254405e+09  4.84254404e+09  1.85e-06 1.30e-08  6.31e-05     5s\n",
      "  67   4.84254405e+09  4.84254405e+09  5.08e-08 3.99e-08  2.94e-10     5s\n",
      "  68   4.84254405e+09  4.84254405e+09  3.49e-10 7.86e-09  2.94e-16     5s\n",
      "\n",
      "Barrier solved model in 68 iterations and 5.38 seconds (1.88 work units)\n",
      "Optimal objective 4.84254405e+09\n",
      "\n",
      "Crossover log...\n",
      "\n",
      "   13013 DPushes remaining with DInf 0.0000000e+00                 5s\n",
      "       0 DPushes remaining with DInf 0.0000000e+00                 6s\n",
      "\n",
      "       0 PPushes remaining with PInf 0.0000000e+00                 6s\n",
      "\n",
      "  Push phase complete: Pinf 0.0000000e+00, Dinf 3.4753141e-08      6s\n",
      "\n",
      "Iteration    Objective       Primal Inf.    Dual Inf.      Time\n",
      "    4292    4.8425440e+09   0.000000e+00   0.000000e+00      6s\n",
      "\n",
      "Use crossover to convert LP symmetric solution to basic solution...\n",
      "Crossover log...\n",
      "\n",
      "      73 DPushes remaining with DInf 0.0000000e+00                 6s\n",
      "       0 DPushes remaining with DInf 0.0000000e+00                 6s\n",
      "Warning: Markowitz tolerance tightened to 0.25\n",
      "\n",
      "       0 PPushes remaining with PInf 0.0000000e+00                 6s\n",
      "\n",
      "  Push phase complete: Pinf 0.0000000e+00, Dinf 1.5758804e-08      6s\n",
      "\n",
      "Iteration    Objective       Primal Inf.    Dual Inf.      Time\n",
      "    4368    4.8425440e+09   0.000000e+00   0.000000e+00      6s\n",
      "\n",
      "Solved with barrier\n",
      "Solved in 4368 iterations and 5.88 seconds (2.57 work units)\n",
      "Optimal objective  4.842544046e+09\n"
     ]
    },
    {
     "name": "stderr",
     "output_type": "stream",
     "text": [
      "INFO:pypsa.linopf:Optimization successful. Objective value: 4.84e+09\n",
      "INFO:pypsa.linopf:Prepare linear problem\n",
      "INFO:pypsa.linopf:Total preparation time: 1.23s\n",
      "INFO:pypsa.linopf:Solve linear problem using Gurobi solver\n"
     ]
    },
    {
     "name": "stdout",
     "output_type": "stream",
     "text": [
      "Read LP format model from file /var/folders/np/fxyv4bts2s353fj5gdlrbgym0000gn/T/pypsa-problem-zrr_u2qf.lp\n",
      "Reading time = 0.67 seconds\n",
      "obj: 271560 rows, 122652 columns, 525842 nonzeros\n",
      "Gurobi Optimizer version 9.5.2 build v9.5.2rc0 (mac64[rosetta2])\n",
      "Thread count: 8 physical cores, 8 logical processors, using up to 8 threads\n",
      "Optimize a model with 271560 rows, 122652 columns and 525842 nonzeros\n",
      "Model fingerprint: 0x6415f530\n",
      "Coefficient statistics:\n",
      "  Matrix range     [1e-06, 1e+00]\n",
      "  Objective range  [6e-02, 1e+06]\n",
      "  Bounds range     [1e+06, 1e+08]\n",
      "  RHS range        [1e+02, 1e+02]\n",
      "\n",
      "Concurrent LP optimizer: primal simplex, dual simplex, and barrier\n",
      "Showing barrier log only...\n",
      "\n",
      "Presolve removed 200088 rows and 86211 columns\n",
      "Presolve time: 0.43s\n",
      "Presolved: 71472 rows, 36441 columns, 221817 nonzeros\n",
      "\n",
      "Ordering time: 0.01s\n",
      "\n",
      "Barrier statistics:\n",
      " Dense cols : 19\n",
      " AA' NZ     : 2.530e+05\n",
      " Factor NZ  : 1.145e+06 (roughly 50 MB of memory)\n",
      " Factor Ops : 2.230e+07 (less than 1 second per iteration)\n",
      " Threads    : 6\n",
      "\n",
      "                  Objective                Residual\n",
      "Iter       Primal          Dual         Primal    Dual     Compl     Time\n",
      "   0   9.77895560e+13 -2.38947022e+14  1.01e+09 1.43e+02  1.59e+12     1s\n",
      "   1   9.14798536e+13 -1.15351249e+14  3.00e+08 3.27e+04  6.92e+11     1s\n",
      "   2   9.69798064e+13 -4.99916959e+13  1.23e+08 7.39e+04  3.03e+11     1s\n",
      "   3   9.86143806e+13 -2.57803174e+13  6.90e+07 3.52e+04  1.61e+11     1s\n",
      "   4   9.86431246e+13 -1.76459344e+13  4.64e+07 2.20e+04  1.11e+11     1s\n",
      "   5   9.82570858e+13 -1.27797547e+13  2.84e+07 1.17e+04  7.91e+10     1s\n",
      "   6   9.68829654e+13 -6.91620883e+12  1.89e+07 1.65e+03  4.42e+10     1s\n",
      "   7   9.27759892e+13 -4.03221122e+12  9.95e+06 2.07e+02  2.54e+10     1s\n",
      "   8   8.54367296e+13 -1.23544303e+12  2.42e+06 5.83e+01  7.82e+09     1s\n",
      "   9   5.69897532e+13 -3.26467664e+11  2.03e+03 1.83e+03  2.21e+09     1s\n",
      "  10   4.47092964e+13 -1.13109589e+11  1.24e+03 5.08e+02  1.02e+09     1s\n",
      "  11   4.41184468e+13 -6.86763364e+10  1.22e+03 2.74e+02  8.18e+08     1s\n",
      "  12   1.61716144e+13 -2.25145182e+10  3.17e+02 1.90e+02  2.65e+08     1s\n",
      "  13   3.79891297e+12 -3.34104184e+09  5.31e+01 2.37e-01  5.54e+07     1s\n",
      "  14   5.26474414e+11  1.64873674e+09  4.69e+00 2.74e+01  5.90e+06     1s\n",
      "  15   1.64252335e+10  1.68322702e+09  1.23e-01 1.31e-02  1.66e+05     1s\n",
      "  16   6.30158024e+09  2.06614267e+09  2.80e-02 3.16e-03  4.76e+04     2s\n",
      "  17   6.03834647e+09  2.75784372e+09  2.37e-02 1.21e-03  3.69e+04     2s\n",
      "  18   4.91561882e+09  3.32800916e+09  1.03e-02 3.03e-04  1.78e+04     2s\n",
      "  19   4.84648623e+09  3.58115527e+09  9.50e-03 1.86e-04  1.42e+04     2s\n",
      "  20   4.55942812e+09  3.81571712e+09  5.53e-03 8.45e-05  8.36e+03     2s\n",
      "  21   4.47444694e+09  3.98383194e+09  4.34e-03 3.53e-05  5.51e+03     2s\n",
      "  22   4.41065718e+09  4.06408033e+09  3.44e-03 1.82e-05  3.89e+03     2s\n",
      "  23   4.36928411e+09  4.09892759e+09  2.78e-03 1.24e-05  3.04e+03     2s\n",
      "  24   4.32256392e+09  4.12420630e+09  2.01e-03 8.15e-06  2.23e+03     2s\n",
      "  25   4.28027601e+09  4.15844486e+09  1.38e-03 1.30e-03  1.37e+03     2s\n",
      "  26   4.27474478e+09  4.16577974e+09  1.28e-03 8.60e-04  1.22e+03     2s\n",
      "  27   4.27905355e+09  4.16837049e+09  1.16e-03 8.03e-04  1.24e+03     2s\n",
      "  28   4.25378145e+09  4.17861613e+09  6.87e-04 6.07e-04  8.45e+02     2s\n",
      "  29   4.24674135e+09  4.19795577e+09  5.10e-04 6.40e-07  5.48e+02     2s\n",
      "  30   4.23750026e+09  4.19961850e+09  3.77e-04 5.52e-07  4.26e+02     2s\n",
      "  31   4.23291941e+09  4.20163496e+09  3.10e-04 4.47e-07  3.51e+02     2s\n",
      "  32   4.23097282e+09  4.20273983e+09  2.81e-04 3.90e-07  3.17e+02     2s\n",
      "  33   4.22737792e+09  4.20667905e+09  2.29e-04 1.92e-07  2.33e+02     3s\n",
      "  34   4.22663224e+09  4.20708286e+09  2.19e-04 1.73e-07  2.20e+02     3s\n",
      "  35   4.22563866e+09  4.20747461e+09  2.02e-04 1.56e-07  2.04e+02     3s\n",
      "  36   4.22368387e+09  4.21248643e+09  1.53e-04 7.97e-08  1.26e+02     3s\n",
      "  37   4.22133366e+09  4.21443505e+09  9.53e-05 4.78e-08  7.75e+01     3s\n",
      "  38   4.21900713e+09  4.21612286e+09  3.85e-05 1.97e-08  3.24e+01     3s\n",
      "  39   4.21809294e+09  4.21656285e+09  1.71e-05 1.23e-08  1.72e+01     3s\n",
      "  40   4.21777433e+09  4.21682677e+09  9.69e-06 7.97e-09  1.06e+01     3s\n",
      "  41   4.21757840e+09  4.21701802e+09  5.21e-06 4.91e-09  6.30e+00     3s\n",
      "  42   4.21745746e+09  4.21721084e+09  2.46e-06 1.96e-09  2.77e+00     3s\n",
      "  43   4.21740663e+09  4.21727339e+09  5.99e-04 9.84e-10  1.50e+00     3s\n",
      "  44   4.21740432e+09  4.21727563e+09  2.16e-02 9.50e-10  1.45e+00     4s\n",
      "  45   4.21737504e+09  4.21729981e+09  1.19e-02 8.73e-09  8.44e-01     4s\n",
      "  46   4.21735818e+09  4.21731308e+09  6.77e-03 3.47e-10  5.05e-01     4s\n",
      "  47   4.21734656e+09  4.21732624e+09  3.30e-03 1.06e-09  2.27e-01     4s\n",
      "  48   4.21733958e+09  4.21733125e+09  1.34e-03 8.44e-09  9.31e-02     4s\n",
      "  49   4.21733673e+09  4.21733314e+09  4.91e-03 2.76e-10  3.84e-02     4s\n",
      "  50   4.21733454e+09  4.21733416e+09  3.87e-04 3.87e-09  4.28e-03     4s\n",
      "  51   4.21733436e+09  4.21733434e+09  9.95e-06 6.05e-09  2.37e-04     4s\n",
      "  52   4.21733436e+09  4.21733436e+09  4.95e-07 6.79e-09  2.41e-07     4s\n",
      "  53   4.21733436e+09  4.21733436e+09  1.06e-08 2.20e-09  1.12e-11     4s\n",
      "\n",
      "Barrier solved model in 53 iterations and 4.07 seconds (1.99 work units)\n",
      "Optimal objective 4.21733436e+09\n",
      "\n",
      "Crossover log...\n",
      "\n",
      "   12596 DPushes remaining with DInf 0.0000000e+00                 4s\n",
      "       0 DPushes remaining with DInf 0.0000000e+00                 4s\n",
      "\n",
      "       1 PPushes remaining with PInf 0.0000000e+00                 4s\n",
      "       0 PPushes remaining with PInf 0.0000000e+00                 4s\n",
      "\n",
      "  Push phase complete: Pinf 0.0000000e+00, Dinf 1.7795890e-09      4s\n",
      "\n",
      "Iteration    Objective       Primal Inf.    Dual Inf.      Time\n",
      "    6919    4.2173344e+09   0.000000e+00   0.000000e+00      5s\n",
      "\n",
      "Solved with barrier\n",
      "Solved in 6919 iterations and 4.57 seconds (3.49 work units)\n",
      "Optimal objective  4.217334358e+09\n"
     ]
    },
    {
     "name": "stderr",
     "output_type": "stream",
     "text": [
      "INFO:pypsa.linopf:Optimization successful. Objective value: 4.22e+09\n",
      "INFO:pypsa.linopf:Prepare linear problem\n",
      "INFO:pypsa.linopf:Total preparation time: 1.26s\n",
      "INFO:pypsa.linopf:Solve linear problem using Gurobi solver\n"
     ]
    },
    {
     "name": "stdout",
     "output_type": "stream",
     "text": [
      "Read LP format model from file /var/folders/np/fxyv4bts2s353fj5gdlrbgym0000gn/T/pypsa-problem-nd2wzcu0.lp\n",
      "Reading time = 0.67 seconds\n",
      "obj: 271560 rows, 122652 columns, 525842 nonzeros\n",
      "Gurobi Optimizer version 9.5.2 build v9.5.2rc0 (mac64[rosetta2])\n",
      "Thread count: 8 physical cores, 8 logical processors, using up to 8 threads\n",
      "Optimize a model with 271560 rows, 122652 columns and 525842 nonzeros\n",
      "Model fingerprint: 0x1342aa3b\n",
      "Coefficient statistics:\n",
      "  Matrix range     [1e-06, 1e+00]\n",
      "  Objective range  [2e-02, 1e+06]\n",
      "  Bounds range     [5e+05, 1e+08]\n",
      "  RHS range        [1e+02, 1e+02]\n",
      "\n",
      "Concurrent LP optimizer: primal simplex, dual simplex, and barrier\n",
      "Showing barrier log only...\n",
      "\n",
      "Presolve removed 204248 rows and 86211 columns\n",
      "Presolve time: 0.45s\n",
      "Presolved: 67312 rows, 36441 columns, 209381 nonzeros\n",
      "\n",
      "Ordering time: 0.02s\n",
      "\n",
      "Barrier statistics:\n",
      " Dense cols : 9\n",
      " AA' NZ     : 2.158e+05\n",
      " Factor NZ  : 9.882e+05 (roughly 45 MB of memory)\n",
      " Factor Ops : 1.918e+07 (less than 1 second per iteration)\n",
      " Threads    : 6\n",
      "\n",
      "                  Objective                Residual\n",
      "Iter       Primal          Dual         Primal    Dual     Compl     Time\n",
      "   0   8.38547858e+13 -1.66672611e+14  9.90e+08 1.54e+02  1.17e+12     1s\n",
      "   1   7.24284937e+13 -8.01503581e+13  2.75e+08 4.11e+03  4.83e+11     1s\n",
      "   2   7.60444276e+13 -3.24168788e+13  1.23e+08 1.64e+03  2.04e+11     1s\n",
      "   3   7.83388218e+13 -1.84153106e+13  5.96e+07 9.24e+02  1.15e+11     1s\n",
      "   4   7.82990198e+13 -1.07338650e+13  3.23e+07 5.39e+02  6.72e+10     1s\n",
      "   5   7.62934586e+13 -6.75126921e+12  2.02e+07 3.35e+02  4.21e+10     1s\n",
      "   6   7.23475214e+13 -3.68960301e+12  1.09e+07 1.81e+02  2.27e+10     1s\n",
      "   7   6.76238377e+13 -1.81854437e+12  5.85e+06 8.28e+01  1.12e+10     1s\n",
      "   8   6.01753770e+13 -1.23902581e+12  2.96e+06 5.19e+01  6.77e+09     1s\n",
      "   9   4.98171405e+13 -7.12705556e+11  1.36e+06 2.34e+01  3.25e+09     1s\n",
      "  10   4.47964901e+13 -5.99254065e+11  1.05e+06 1.75e+01  2.48e+09     1s\n",
      "  11   3.88284396e+13 -4.75777785e+11  7.70e+05 1.12e+01  1.70e+09     1s\n",
      "  12   3.35458403e+13 -4.46577418e+11  5.93e+05 9.80e+00  1.41e+09     1s\n",
      "  13   2.66971027e+13 -3.84584801e+11  4.18e+05 6.87e+00  9.92e+08     1s\n",
      "  14   2.14153345e+13 -3.25426883e+11  3.01e+05 4.32e+00  6.79e+08     1s\n",
      "  15   1.79477256e+13 -2.48139543e+11  2.38e+05 9.12e-01  3.79e+08     2s\n",
      "  16   6.12466389e+11 -2.15463015e+11  2.70e+03 1.95e-10  1.17e+07     2s\n",
      "  17   1.23213181e+11 -2.64990681e+10  4.11e+02 3.22e-04  1.98e+06     2s\n",
      "  18   8.51151120e+10 -1.66881943e+10  2.69e+02 7.87e-05  1.34e+06     2s\n",
      "  19   5.58811409e+10 -3.56433492e+09  1.59e+02 2.41e-04  7.79e+05     2s\n",
      "  20   5.10495750e+10 -3.82420172e+08  1.43e+02 1.48e-04  6.73e+05     2s\n",
      "  21   2.33410885e+10  1.83469424e+09  5.64e+01 4.15e-10  2.81e+05     2s\n",
      "  22   1.34224541e+10  2.79340775e+09  2.63e+01 1.24e-10  1.39e+05     2s\n",
      "  23   8.46914467e+09  2.95156737e+09  1.17e+01 5.50e-12  7.21e+04     2s\n",
      "  24   6.23313046e+09  3.38087007e+09  5.77e+00 1.96e-10  3.73e+04     2s\n",
      "  25   5.44414036e+09  3.70030507e+09  3.60e+00 2.98e-10  2.28e+04     2s\n",
      "  26   5.04951407e+09  3.78908413e+09  2.56e+00 6.91e-10  1.65e+04     2s\n",
      "  27   4.80546538e+09  3.81248034e+09  1.83e+00 9.46e-11  1.30e+04     2s\n",
      "  28   4.69658225e+09  3.96308976e+09  1.52e+00 3.18e-11  9.59e+03     2s\n",
      "  29   4.46527720e+09  4.06442468e+09  8.47e-01 1.53e-10  5.24e+03     2s\n",
      "  30   4.31580694e+09  4.11951919e+09  3.97e-01 1.32e-09  2.57e+03     2s\n",
      "  31   4.28620625e+09  4.13394938e+09  3.14e-01 8.15e-10  1.99e+03     3s\n",
      "  32   4.27275717e+09  4.13884310e+09  2.68e-01 2.91e-10  1.75e+03     3s\n",
      "  33   4.24121499e+09  4.16248804e+09  1.53e-01 8.29e-10  1.03e+03     3s\n",
      "  34   4.24585734e+09  4.16399502e+09  1.44e-01 7.57e-10  1.07e+03     3s\n",
      "  35   4.23186131e+09  4.19148461e+09  7.40e-02 1.27e-09  5.28e+02     3s\n",
      "  36   4.22397290e+09  4.19484197e+09  3.19e-02 8.66e-10  3.81e+02     3s\n",
      "  37   4.22154265e+09  4.19634263e+09  2.84e-02 5.38e-10  3.29e+02     3s\n",
      "  38   4.21890600e+09  4.19876092e+09  2.46e-02 6.18e-10  2.63e+02     3s\n",
      "  39   4.22013780e+09  4.20004895e+09  2.33e-02 4.29e-10  2.62e+02     3s\n",
      "  40   4.20994459e+09  4.20204243e+09  6.80e-03 2.06e-10  1.03e+02     3s\n",
      "  41   4.20818270e+09  4.20465492e+09  8.04e-03 3.71e-10  4.62e+01     3s\n",
      "  42   4.20790027e+09  4.20542928e+09  8.78e-03 5.82e-10  3.24e+01     3s\n",
      "  43   4.20676109e+09  4.20568622e+09  6.31e-03 4.66e-10  1.41e+01     3s\n",
      "  44   4.20639166e+09  4.20578944e+09  4.44e-03 2.65e-09  7.91e+00     3s\n",
      "  45   4.20613508e+09  4.20587412e+09  2.61e-03 4.66e-10  3.43e+00     3s\n",
      "  46   4.20602766e+09  4.20590091e+09  1.40e-03 2.59e-09  1.67e+00     3s\n",
      "  47   4.20597578e+09  4.20591382e+09  6.87e-04 5.45e-11  8.16e-01     3s\n",
      "  48   4.20593501e+09  4.20592324e+09  1.30e-04 2.87e-09  1.55e-01     3s\n",
      "  49   4.20592425e+09  4.20592374e+09  4.77e-05 5.82e-11  6.71e-03     3s\n",
      "  50   4.20592384e+09  4.20592384e+09  1.03e-07 7.50e-09  1.72e-06     4s\n",
      "  51   4.20592384e+09  4.20592384e+09  3.43e-10 6.10e-08  1.72e-12     4s\n",
      "\n",
      "Barrier solved model in 51 iterations and 3.59 seconds (1.49 work units)\n",
      "Optimal objective 4.20592384e+09\n",
      "\n",
      "Crossover log...\n",
      "\n",
      "   21729 DPushes remaining with DInf 0.0000000e+00                 4s\n",
      "       0 DPushes remaining with DInf 0.0000000e+00                 4s\n",
      "\n",
      "       0 PPushes remaining with PInf 0.0000000e+00                 4s\n",
      "\n",
      "  Push phase complete: Pinf 0.0000000e+00, Dinf 3.8922991e-08      4s\n",
      "\n",
      "Iteration    Objective       Primal Inf.    Dual Inf.      Time\n",
      "    5225    4.2059238e+09   0.000000e+00   0.000000e+00      4s\n",
      "\n",
      "Use crossover to convert LP symmetric solution to basic solution...\n",
      "Crossover log...\n",
      "\n",
      "       0 DPushes remaining with DInf 0.0000000e+00                 4s\n",
      "\n",
      "       0 PPushes remaining with PInf 0.0000000e+00                 4s\n",
      "\n",
      "  Push phase complete: Pinf 0.0000000e+00, Dinf 3.7221426e-08      4s\n",
      "\n",
      "Iteration    Objective       Primal Inf.    Dual Inf.      Time\n",
      "    5363    4.2059238e+09   0.000000e+00   0.000000e+00      4s\n",
      "\n",
      "Solved with barrier\n",
      "Solved in 5363 iterations and 4.12 seconds (2.14 work units)\n",
      "Optimal objective  4.205923843e+09\n"
     ]
    },
    {
     "name": "stderr",
     "output_type": "stream",
     "text": [
      "INFO:pypsa.linopf:Optimization successful. Objective value: 4.21e+09\n"
     ]
    },
    {
     "data": {
      "text/plain": [
       "('ok', 'optimal')"
      ]
     },
     "execution_count": 39,
     "metadata": {},
     "output_type": "execute_result"
    }
   ],
   "source": [
    "network1.lopf(pyomo = False, solver_name = 'gurobi')\n",
    "network2.lopf(pyomo = False, solver_name = 'gurobi')\n",
    "network3.lopf(pyomo = False, solver_name = 'gurobi')"
   ]
  },
  {
   "cell_type": "markdown",
   "id": "f5855bc2",
   "metadata": {
    "id": "f5855bc2"
   },
   "source": [
    "# Auswertung der Ergebnisse"
   ]
  },
  {
   "cell_type": "code",
   "execution_count": 38,
   "id": "9e9535d8",
   "metadata": {},
   "outputs": [
    {
     "data": {
      "text/html": [
       "<div>\n",
       "<style scoped>\n",
       "    .dataframe tbody tr th:only-of-type {\n",
       "        vertical-align: middle;\n",
       "    }\n",
       "\n",
       "    .dataframe tbody tr th {\n",
       "        vertical-align: top;\n",
       "    }\n",
       "\n",
       "    .dataframe thead th {\n",
       "        text-align: right;\n",
       "    }\n",
       "</style>\n",
       "<table border=\"1\" class=\"dataframe\">\n",
       "  <thead>\n",
       "    <tr style=\"text-align: right;\">\n",
       "      <th>attribute</th>\n",
       "      <th>bus0</th>\n",
       "      <th>bus1</th>\n",
       "      <th>type</th>\n",
       "      <th>carrier</th>\n",
       "      <th>efficiency</th>\n",
       "      <th>build_year</th>\n",
       "      <th>lifetime</th>\n",
       "      <th>p_nom</th>\n",
       "      <th>p_nom_extendable</th>\n",
       "      <th>p_nom_min</th>\n",
       "      <th>...</th>\n",
       "      <th>p_set</th>\n",
       "      <th>p_min_pu</th>\n",
       "      <th>p_max_pu</th>\n",
       "      <th>capital_cost</th>\n",
       "      <th>marginal_cost</th>\n",
       "      <th>length</th>\n",
       "      <th>terrain_factor</th>\n",
       "      <th>ramp_limit_up</th>\n",
       "      <th>ramp_limit_down</th>\n",
       "      <th>p_nom_opt</th>\n",
       "    </tr>\n",
       "    <tr>\n",
       "      <th>Link</th>\n",
       "      <th></th>\n",
       "      <th></th>\n",
       "      <th></th>\n",
       "      <th></th>\n",
       "      <th></th>\n",
       "      <th></th>\n",
       "      <th></th>\n",
       "      <th></th>\n",
       "      <th></th>\n",
       "      <th></th>\n",
       "      <th></th>\n",
       "      <th></th>\n",
       "      <th></th>\n",
       "      <th></th>\n",
       "      <th></th>\n",
       "      <th></th>\n",
       "      <th></th>\n",
       "      <th></th>\n",
       "      <th></th>\n",
       "      <th></th>\n",
       "      <th></th>\n",
       "    </tr>\n",
       "  </thead>\n",
       "  <tbody>\n",
       "    <tr>\n",
       "      <th>PEMEL</th>\n",
       "      <td>electricity</td>\n",
       "      <td>GH2_c</td>\n",
       "      <td></td>\n",
       "      <td>AC</td>\n",
       "      <td>0.598911</td>\n",
       "      <td>0</td>\n",
       "      <td>10.0</td>\n",
       "      <td>0.0</td>\n",
       "      <td>True</td>\n",
       "      <td>0.0</td>\n",
       "      <td>...</td>\n",
       "      <td>0.0</td>\n",
       "      <td>0.0</td>\n",
       "      <td>1.0</td>\n",
       "      <td>7.200000e+05</td>\n",
       "      <td>95.226003</td>\n",
       "      <td>0.0</td>\n",
       "      <td>1.0</td>\n",
       "      <td>NaN</td>\n",
       "      <td>NaN</td>\n",
       "      <td>0.000000</td>\n",
       "    </tr>\n",
       "    <tr>\n",
       "      <th>AEL</th>\n",
       "      <td>electricity</td>\n",
       "      <td>GH2_c</td>\n",
       "      <td></td>\n",
       "      <td>AC</td>\n",
       "      <td>0.617978</td>\n",
       "      <td>0</td>\n",
       "      <td>10.0</td>\n",
       "      <td>0.0</td>\n",
       "      <td>True</td>\n",
       "      <td>0.0</td>\n",
       "      <td>...</td>\n",
       "      <td>0.0</td>\n",
       "      <td>0.0</td>\n",
       "      <td>1.0</td>\n",
       "      <td>6.300000e+05</td>\n",
       "      <td>120.831319</td>\n",
       "      <td>0.0</td>\n",
       "      <td>1.0</td>\n",
       "      <td>NaN</td>\n",
       "      <td>NaN</td>\n",
       "      <td>855.696310</td>\n",
       "    </tr>\n",
       "    <tr>\n",
       "      <th>Verflüssigung</th>\n",
       "      <td>GH2_c</td>\n",
       "      <td>LH2_c</td>\n",
       "      <td></td>\n",
       "      <td>AC</td>\n",
       "      <td>1.000000</td>\n",
       "      <td>0</td>\n",
       "      <td>inf</td>\n",
       "      <td>0.0</td>\n",
       "      <td>True</td>\n",
       "      <td>0.0</td>\n",
       "      <td>...</td>\n",
       "      <td>0.0</td>\n",
       "      <td>0.0</td>\n",
       "      <td>1.0</td>\n",
       "      <td>3.296970e+06</td>\n",
       "      <td>6.060606</td>\n",
       "      <td>0.0</td>\n",
       "      <td>1.0</td>\n",
       "      <td>NaN</td>\n",
       "      <td>NaN</td>\n",
       "      <td>528.801494</td>\n",
       "    </tr>\n",
       "    <tr>\n",
       "      <th>Regasifizierung</th>\n",
       "      <td>LH2_b</td>\n",
       "      <td>GH2_b</td>\n",
       "      <td></td>\n",
       "      <td>AC</td>\n",
       "      <td>0.997000</td>\n",
       "      <td>0</td>\n",
       "      <td>inf</td>\n",
       "      <td>0.0</td>\n",
       "      <td>True</td>\n",
       "      <td>0.0</td>\n",
       "      <td>...</td>\n",
       "      <td>0.0</td>\n",
       "      <td>0.0</td>\n",
       "      <td>1.0</td>\n",
       "      <td>4.095000e+05</td>\n",
       "      <td>0.000000</td>\n",
       "      <td>0.0</td>\n",
       "      <td>1.0</td>\n",
       "      <td>NaN</td>\n",
       "      <td>NaN</td>\n",
       "      <td>132.246053</td>\n",
       "    </tr>\n",
       "    <tr>\n",
       "      <th>Verschiffung LH2</th>\n",
       "      <td>LH2_c</td>\n",
       "      <td>LH2_b</td>\n",
       "      <td></td>\n",
       "      <td>AC</td>\n",
       "      <td>0.862212</td>\n",
       "      <td>0</td>\n",
       "      <td>inf</td>\n",
       "      <td>1.0</td>\n",
       "      <td>True</td>\n",
       "      <td>0.0</td>\n",
       "      <td>...</td>\n",
       "      <td>0.0</td>\n",
       "      <td>0.0</td>\n",
       "      <td>1.0</td>\n",
       "      <td>2.291309e+06</td>\n",
       "      <td>0.111078</td>\n",
       "      <td>0.0</td>\n",
       "      <td>1.0</td>\n",
       "      <td>NaN</td>\n",
       "      <td>NaN</td>\n",
       "      <td>325.328950</td>\n",
       "    </tr>\n",
       "    <tr>\n",
       "      <th>Pipeline</th>\n",
       "      <td>GH2_b</td>\n",
       "      <td>cologne</td>\n",
       "      <td></td>\n",
       "      <td>AC</td>\n",
       "      <td>1.000000</td>\n",
       "      <td>0</td>\n",
       "      <td>inf</td>\n",
       "      <td>0.0</td>\n",
       "      <td>True</td>\n",
       "      <td>0.0</td>\n",
       "      <td>...</td>\n",
       "      <td>0.0</td>\n",
       "      <td>0.0</td>\n",
       "      <td>1.0</td>\n",
       "      <td>0.000000e+00</td>\n",
       "      <td>3.900000</td>\n",
       "      <td>0.0</td>\n",
       "      <td>1.0</td>\n",
       "      <td>NaN</td>\n",
       "      <td>NaN</td>\n",
       "      <td>131.849315</td>\n",
       "    </tr>\n",
       "  </tbody>\n",
       "</table>\n",
       "<p>6 rows × 21 columns</p>\n",
       "</div>"
      ],
      "text/plain": [
       "attribute                bus0     bus1 type carrier  efficiency  build_year  \\\n",
       "Link                                                                          \n",
       "PEMEL             electricity    GH2_c           AC    0.598911           0   \n",
       "AEL               electricity    GH2_c           AC    0.617978           0   \n",
       "Verflüssigung           GH2_c    LH2_c           AC    1.000000           0   \n",
       "Regasifizierung         LH2_b    GH2_b           AC    0.997000           0   \n",
       "Verschiffung LH2        LH2_c    LH2_b           AC    0.862212           0   \n",
       "Pipeline                GH2_b  cologne           AC    1.000000           0   \n",
       "\n",
       "attribute         lifetime  p_nom  p_nom_extendable  p_nom_min  ...  p_set  \\\n",
       "Link                                                            ...          \n",
       "PEMEL                 10.0    0.0              True        0.0  ...    0.0   \n",
       "AEL                   10.0    0.0              True        0.0  ...    0.0   \n",
       "Verflüssigung          inf    0.0              True        0.0  ...    0.0   \n",
       "Regasifizierung        inf    0.0              True        0.0  ...    0.0   \n",
       "Verschiffung LH2       inf    1.0              True        0.0  ...    0.0   \n",
       "Pipeline               inf    0.0              True        0.0  ...    0.0   \n",
       "\n",
       "attribute         p_min_pu  p_max_pu  capital_cost  marginal_cost  length  \\\n",
       "Link                                                                        \n",
       "PEMEL                  0.0       1.0  7.200000e+05      95.226003     0.0   \n",
       "AEL                    0.0       1.0  6.300000e+05     120.831319     0.0   \n",
       "Verflüssigung          0.0       1.0  3.296970e+06       6.060606     0.0   \n",
       "Regasifizierung        0.0       1.0  4.095000e+05       0.000000     0.0   \n",
       "Verschiffung LH2       0.0       1.0  2.291309e+06       0.111078     0.0   \n",
       "Pipeline               0.0       1.0  0.000000e+00       3.900000     0.0   \n",
       "\n",
       "attribute         terrain_factor  ramp_limit_up  ramp_limit_down   p_nom_opt  \n",
       "Link                                                                          \n",
       "PEMEL                        1.0            NaN              NaN    0.000000  \n",
       "AEL                          1.0            NaN              NaN  855.696310  \n",
       "Verflüssigung                1.0            NaN              NaN  528.801494  \n",
       "Regasifizierung              1.0            NaN              NaN  132.246053  \n",
       "Verschiffung LH2             1.0            NaN              NaN  325.328950  \n",
       "Pipeline                     1.0            NaN              NaN  131.849315  \n",
       "\n",
       "[6 rows x 21 columns]"
      ]
     },
     "execution_count": 38,
     "metadata": {},
     "output_type": "execute_result"
    }
   ],
   "source": [
    "network1.links"
   ]
  },
  {
   "cell_type": "markdown",
   "id": "6ad006e9",
   "metadata": {},
   "source": [
    "## Ausgabe der Ergebnistabellen (Netzwerk 1)"
   ]
  },
  {
   "cell_type": "markdown",
   "id": "0d640cad",
   "metadata": {},
   "source": [
    "### Installierte Leistungen, Kapazitäten und Volllststunden"
   ]
  },
  {
   "cell_type": "code",
   "execution_count": 30,
   "id": "5860f261",
   "metadata": {
    "code_folding": [
     0
    ],
    "scrolled": true
   },
   "outputs": [
    {
     "data": {
      "text/html": [
       "<div>\n",
       "<style scoped>\n",
       "    .dataframe tbody tr th:only-of-type {\n",
       "        vertical-align: middle;\n",
       "    }\n",
       "\n",
       "    .dataframe tbody tr th {\n",
       "        vertical-align: top;\n",
       "    }\n",
       "\n",
       "    .dataframe thead th {\n",
       "        text-align: right;\n",
       "    }\n",
       "</style>\n",
       "<table border=\"1\" class=\"dataframe\">\n",
       "  <thead>\n",
       "    <tr style=\"text-align: right;\">\n",
       "      <th></th>\n",
       "      <th>Leistung [MW]</th>\n",
       "      <th>Speicherkapazität [MWh]</th>\n",
       "      <th>Volllast [h]</th>\n",
       "      <th>Energie [GWh]</th>\n",
       "    </tr>\n",
       "  </thead>\n",
       "  <tbody>\n",
       "    <tr>\n",
       "      <th>Photovoltaik</th>\n",
       "      <td>892.11</td>\n",
       "      <td>0.00</td>\n",
       "      <td>2437.0</td>\n",
       "      <td>2174.26</td>\n",
       "    </tr>\n",
       "    <tr>\n",
       "      <th>AEL</th>\n",
       "      <td>855.70</td>\n",
       "      <td>0.00</td>\n",
       "      <td>2541.0</td>\n",
       "      <td>1343.61</td>\n",
       "    </tr>\n",
       "    <tr>\n",
       "      <th>Verflüssigung</th>\n",
       "      <td>528.80</td>\n",
       "      <td>0.00</td>\n",
       "      <td>2541.0</td>\n",
       "      <td>1343.61</td>\n",
       "    </tr>\n",
       "    <tr>\n",
       "      <th>Regasifizierung</th>\n",
       "      <td>132.25</td>\n",
       "      <td>0.00</td>\n",
       "      <td>8760.0</td>\n",
       "      <td>1155.00</td>\n",
       "    </tr>\n",
       "    <tr>\n",
       "      <th>Verschiffung LH2</th>\n",
       "      <td>325.33</td>\n",
       "      <td>0.00</td>\n",
       "      <td>4130.0</td>\n",
       "      <td>1158.48</td>\n",
       "    </tr>\n",
       "    <tr>\n",
       "      <th>Pipeline</th>\n",
       "      <td>131.85</td>\n",
       "      <td>0.00</td>\n",
       "      <td>8760.0</td>\n",
       "      <td>1155.00</td>\n",
       "    </tr>\n",
       "    <tr>\n",
       "      <th>Stromspeicher</th>\n",
       "      <td>0.00</td>\n",
       "      <td>53.97</td>\n",
       "      <td>0.0</td>\n",
       "      <td>0.56</td>\n",
       "    </tr>\n",
       "    <tr>\n",
       "      <th>Flüssigspeicher Chile</th>\n",
       "      <td>0.00</td>\n",
       "      <td>89507.57</td>\n",
       "      <td>0.0</td>\n",
       "      <td>418785.87</td>\n",
       "    </tr>\n",
       "    <tr>\n",
       "      <th>Flüssigspeicher Bremerhaven</th>\n",
       "      <td>0.00</td>\n",
       "      <td>57876.22</td>\n",
       "      <td>0.0</td>\n",
       "      <td>253497.85</td>\n",
       "    </tr>\n",
       "    <tr>\n",
       "      <th>Windkraft</th>\n",
       "      <td>0.00</td>\n",
       "      <td>0.00</td>\n",
       "      <td>0.0</td>\n",
       "      <td>0.00</td>\n",
       "    </tr>\n",
       "    <tr>\n",
       "      <th>PEMEL</th>\n",
       "      <td>0.00</td>\n",
       "      <td>0.00</td>\n",
       "      <td>0.0</td>\n",
       "      <td>-0.00</td>\n",
       "    </tr>\n",
       "  </tbody>\n",
       "</table>\n",
       "</div>"
      ],
      "text/plain": [
       "                             Leistung [MW]  Speicherkapazität [MWh]  \\\n",
       "Photovoltaik                        892.11                     0.00   \n",
       "AEL                                 855.70                     0.00   \n",
       "Verflüssigung                       528.80                     0.00   \n",
       "Regasifizierung                     132.25                     0.00   \n",
       "Verschiffung LH2                    325.33                     0.00   \n",
       "Pipeline                            131.85                     0.00   \n",
       "Stromspeicher                         0.00                    53.97   \n",
       "Flüssigspeicher Chile                 0.00                 89507.57   \n",
       "Flüssigspeicher Bremerhaven           0.00                 57876.22   \n",
       "Windkraft                             0.00                     0.00   \n",
       "PEMEL                                 0.00                     0.00   \n",
       "\n",
       "                             Volllast [h]  Energie [GWh]  \n",
       "Photovoltaik                       2437.0        2174.26  \n",
       "AEL                                2541.0        1343.61  \n",
       "Verflüssigung                      2541.0        1343.61  \n",
       "Regasifizierung                    8760.0        1155.00  \n",
       "Verschiffung LH2                   4130.0        1158.48  \n",
       "Pipeline                           8760.0        1155.00  \n",
       "Stromspeicher                         0.0           0.56  \n",
       "Flüssigspeicher Chile                 0.0      418785.87  \n",
       "Flüssigspeicher Bremerhaven           0.0      253497.85  \n",
       "Windkraft                             0.0           0.00  \n",
       "PEMEL                                 0.0          -0.00  "
      ]
     },
     "execution_count": 30,
     "metadata": {},
     "output_type": "execute_result"
    }
   ],
   "source": [
    "# Ausgabe einer Ergebnistabelle der optimierten Leistungen in MW und optimierten Kapazitäten in MWh\n",
    "\n",
    "df_results_1 = pd.DataFrame(network1.generators['p_nom_opt'])\n",
    "df_results_2 = pd.DataFrame(network1.links['p_nom_opt'])\n",
    "df_results_3 = pd.DataFrame(network1.stores['e_nom_opt'])\n",
    "\n",
    "frames = [df_results_1, df_results_2, df_results_3]\n",
    "\n",
    "results_x = (pd.concat(frames).round(2).fillna(0).rename(columns = {'p_nom_opt':'Leistung [MW]','e_nom_opt':'Speicherkapazität [MWh]'}))\n",
    "results = results_x.loc[(results_x.sum(axis=1) != 0), (results_x.sum(axis=0) != 0)]\n",
    "results\n",
    "\n",
    "# Berechnung der jährlichen Volllaststunden\n",
    "\n",
    "df_flh_1 = pd.DataFrame((network1.generators_t.p.sum())/network1.generators.p_nom_opt)\n",
    "df_flh_2 = pd.DataFrame((network1.links_t.p0.sum())/network1.links.p_nom_opt)\n",
    "\n",
    "df_flh_x = df_flh_1.append(df_flh_2).round(0).fillna(0)\n",
    "df_flh = df_flh_x.loc[(df_flh_x.sum(axis=1) != 0), (df_flh_x.sum(axis=0) != 0)]\n",
    "df_flh = df_flh.rename(columns = {0:'Volllast [h]'}).fillna(0)\n",
    "\n",
    "# Berechnung der Energie \n",
    "\n",
    "df_results_1 = pd.DataFrame(network1.generators_t.p.sum())/1000\n",
    "df_results_2 = pd.DataFrame(-network1.links_t.p1.sum())/1000\n",
    "df_results_3 = pd.DataFrame(network1.stores_t.e.sum())/1000\n",
    "frames = [df_results_1, df_results_2, df_results_3]\n",
    "results_x = (pd.concat(frames).round(2).fillna(0).rename(columns = {0:'Energie [GWh]'}))\n",
    "\n",
    "results_sum = pd.concat([results,df_flh,results_x],axis=1).fillna(0)\n",
    "results_sum"
   ]
  },
  {
   "cell_type": "markdown",
   "id": "b1c19d5b",
   "metadata": {},
   "source": [
    "### Gestehungskosten Wasserstoff"
   ]
  },
  {
   "cell_type": "code",
   "execution_count": 31,
   "id": "5827c8f5",
   "metadata": {
    "code_folding": [
     0
    ]
   },
   "outputs": [
    {
     "data": {
      "text/html": [
       "<div>\n",
       "<style scoped>\n",
       "    .dataframe tbody tr th:only-of-type {\n",
       "        vertical-align: middle;\n",
       "    }\n",
       "\n",
       "    .dataframe tbody tr th {\n",
       "        vertical-align: top;\n",
       "    }\n",
       "\n",
       "    .dataframe thead th {\n",
       "        text-align: right;\n",
       "    }\n",
       "</style>\n",
       "<table border=\"1\" class=\"dataframe\">\n",
       "  <thead>\n",
       "    <tr style=\"text-align: right;\">\n",
       "      <th></th>\n",
       "      <th>Gestehungspreis [€/kg]</th>\n",
       "    </tr>\n",
       "  </thead>\n",
       "  <tbody>\n",
       "    <tr>\n",
       "      <th>Stromkosten</th>\n",
       "      <td>1.226889</td>\n",
       "    </tr>\n",
       "    <tr>\n",
       "      <th>Elektrolyse</th>\n",
       "      <td>5.311475</td>\n",
       "    </tr>\n",
       "    <tr>\n",
       "      <th>Umwandlung</th>\n",
       "      <td>0.200000</td>\n",
       "    </tr>\n",
       "    <tr>\n",
       "      <th>Transport</th>\n",
       "      <td>0.113794</td>\n",
       "    </tr>\n",
       "    <tr>\n",
       "      <th>Speicherung</th>\n",
       "      <td>360.415147</td>\n",
       "    </tr>\n",
       "  </tbody>\n",
       "</table>\n",
       "</div>"
      ],
      "text/plain": [
       "             Gestehungspreis [€/kg]\n",
       "Stromkosten                1.226889\n",
       "Elektrolyse                5.311475\n",
       "Umwandlung                 0.200000\n",
       "Transport                  0.113794\n",
       "Speicherung              360.415147"
      ]
     },
     "execution_count": 31,
     "metadata": {},
     "output_type": "execute_result"
    }
   ],
   "source": [
    "# Berechnung des Wasserstoffpreises in €/kg\n",
    "\n",
    "# Wasserstoffproduktion\n",
    "if electrolysis_PEMEL:\n",
    "    hydrogen_production_MWh_PEMEL = -(network1.links_t.p1['PEMEL'].sum())\n",
    "else:\n",
    "    hydrogen_production_MWh_PEMEL = 0\n",
    "    \n",
    "if electrolysis_AEL:\n",
    "    hydrogen_production_MWh_AEL = -(network1.links_t.p1['AEL'].sum())\n",
    "else:\n",
    "    hydrogen_production_MWh_AEL = 0\n",
    "\n",
    "hydrogen_production_MWh = hydrogen_production_MWh_PEMEL + hydrogen_production_MWh_AEL\n",
    "hydrogen_production_kg = hydrogen_production_MWh/(hydrogen_energy_content)*1000\n",
    "\n",
    "# Kilopreis der Generatoren\n",
    "Generatorkosten = (((network1.generators.capital_cost * network1.generators.p_nom_opt)/network1.generators.lifetime\n",
    "                    + network1.generators.marginal_cost * network1.generators_t.p.sum())/network1.generators_t.p.sum()\n",
    "                   / hydrogen_energy_content).fillna(0)\n",
    "     \n",
    "Generatorkosten=pd.DataFrame(Generatorkosten,columns=['Preis [€/kg]'])\n",
    "Generatorkosten['Generator']=Generatorkosten.index\n",
    "Generatorkosten=Generatorkosten[['Preis [€/kg]']]\n",
    "\n",
    "# Kilopreis der Links\n",
    "Linkkosten = (((network1.links.p_nom_opt * network1.links.capital_cost)/network1.links.lifetime\n",
    "              + network1.links.marginal_cost*(-network1.links_t.p1.sum()))\n",
    "              /hydrogen_production_kg)\n",
    "\n",
    "Linkkosten=pd.DataFrame(Linkkosten,columns=['Preis [€/kg]'])\n",
    "Linkkosten['Link']=Linkkosten.index\n",
    "Linkkosten=Linkkosten[['Preis [€/kg]']]\n",
    "\n",
    "# Kilopreis der Speicher\n",
    "Speicherkosten = (((network1.stores.e_nom_opt * network1.stores.capital_cost)/network1.stores.lifetime\n",
    "                   + network1.stores.marginal_cost*network1.stores_t.e.sum())/hydrogen_production_kg)\n",
    "\n",
    "Speicherkosten=pd.DataFrame(Speicherkosten,columns=['Preis [€/kg]'])\n",
    "Speicherkosten['Speicher']=Speicherkosten.index\n",
    "Speicherkosten=Speicherkosten[['Preis [€/kg]']]\n",
    "\n",
    "Kilogrammpreis = (Generatorkosten.append(Linkkosten).append(Speicherkosten))\n",
    "#Kilogrammpreis\n",
    "\n",
    "# Erstellung der Dataframes zur Darstellung in den Kategorien\n",
    "\n",
    "Kilogrammpreis_Strom = pd.DataFrame((Kilogrammpreis.iloc[[0,1]].append(Kilogrammpreis.loc[['Stromspeicher']]).sum())).rename(index={'Preis [€/kg]': 'Stromkosten'})\n",
    "Kilogrammpreis_Elektrolyse = pd.DataFrame(Kilogrammpreis.iloc[[2,3]].sum()).rename(index={'Preis [€/kg]': 'Elektrolyse'})\n",
    "Kilogrammpreis_Umwandlung = pd.DataFrame(Kilogrammpreis.iloc[[4,5]].sum()).rename(index={'Preis [€/kg]': 'Umwandlung'})\n",
    "Kilogrammpreis_Transport = pd.DataFrame(Kilogrammpreis.iloc[[6,7]].sum()).rename(index={'Preis [€/kg]': 'Transport'})\n",
    "Kilogrammpreis_Speicherung = pd.DataFrame(Kilogrammpreis.iloc[[9,10]].sum()).rename(index={'Preis [€/kg]': 'Speicherung'})\n",
    "\n",
    "Gestehungskosten_Wasserstoff_1 = (Kilogrammpreis_Strom\n",
    "                                .append(Kilogrammpreis_Elektrolyse)\n",
    "                                .append(Kilogrammpreis_Umwandlung)\n",
    "                                .append(Kilogrammpreis_Transport)\n",
    "                                .append(Kilogrammpreis_Speicherung)).rename(columns = {0:'Gestehungspreis [€/kg]'})\n",
    "Gestehungskosten_Wasserstoff_1"
   ]
  },
  {
   "cell_type": "code",
   "execution_count": 32,
   "id": "a0711b05",
   "metadata": {},
   "outputs": [
    {
     "data": {
      "text/html": [
       "<div>\n",
       "<style scoped>\n",
       "    .dataframe tbody tr th:only-of-type {\n",
       "        vertical-align: middle;\n",
       "    }\n",
       "\n",
       "    .dataframe tbody tr th {\n",
       "        vertical-align: top;\n",
       "    }\n",
       "\n",
       "    .dataframe thead th {\n",
       "        text-align: right;\n",
       "    }\n",
       "</style>\n",
       "<table border=\"1\" class=\"dataframe\">\n",
       "  <thead>\n",
       "    <tr style=\"text-align: right;\">\n",
       "      <th></th>\n",
       "      <th>Preis [€/kg]</th>\n",
       "    </tr>\n",
       "  </thead>\n",
       "  <tbody>\n",
       "    <tr>\n",
       "      <th>Photovoltaik</th>\n",
       "      <td>1.160606</td>\n",
       "    </tr>\n",
       "    <tr>\n",
       "      <th>Windkraft</th>\n",
       "      <td>0.000000</td>\n",
       "    </tr>\n",
       "    <tr>\n",
       "      <th>PEMEL</th>\n",
       "      <td>0.000000</td>\n",
       "    </tr>\n",
       "    <tr>\n",
       "      <th>AEL</th>\n",
       "      <td>5.311475</td>\n",
       "    </tr>\n",
       "    <tr>\n",
       "      <th>Verflüssigung</th>\n",
       "      <td>0.200000</td>\n",
       "    </tr>\n",
       "    <tr>\n",
       "      <th>Regasifizierung</th>\n",
       "      <td>0.000000</td>\n",
       "    </tr>\n",
       "    <tr>\n",
       "      <th>Verschiffung LH2</th>\n",
       "      <td>0.003161</td>\n",
       "    </tr>\n",
       "    <tr>\n",
       "      <th>Pipeline</th>\n",
       "      <td>0.110634</td>\n",
       "    </tr>\n",
       "    <tr>\n",
       "      <th>Stromspeicher</th>\n",
       "      <td>0.066283</td>\n",
       "    </tr>\n",
       "    <tr>\n",
       "      <th>Flüssigspeicher Chile</th>\n",
       "      <td>224.511033</td>\n",
       "    </tr>\n",
       "    <tr>\n",
       "      <th>Flüssigspeicher Bremerhaven</th>\n",
       "      <td>135.904113</td>\n",
       "    </tr>\n",
       "  </tbody>\n",
       "</table>\n",
       "</div>"
      ],
      "text/plain": [
       "                             Preis [€/kg]\n",
       "Photovoltaik                     1.160606\n",
       "Windkraft                        0.000000\n",
       "PEMEL                            0.000000\n",
       "AEL                              5.311475\n",
       "Verflüssigung                    0.200000\n",
       "Regasifizierung                  0.000000\n",
       "Verschiffung LH2                 0.003161\n",
       "Pipeline                         0.110634\n",
       "Stromspeicher                    0.066283\n",
       "Flüssigspeicher Chile          224.511033\n",
       "Flüssigspeicher Bremerhaven    135.904113"
      ]
     },
     "execution_count": 32,
     "metadata": {},
     "output_type": "execute_result"
    }
   ],
   "source": [
    "Kilogrammpreis"
   ]
  },
  {
   "cell_type": "code",
   "execution_count": 33,
   "id": "01a970c3",
   "metadata": {
    "code_folding": [
     0
    ]
   },
   "outputs": [
    {
     "name": "stdout",
     "output_type": "stream",
     "text": [
      "Die Gestehungskosten für ein Kilogramm Wasserstoff liegen bei 367.27 €\n"
     ]
    }
   ],
   "source": [
    "# Ausgabe des Ergebnisses\n",
    "Gestehungskosten_Wasserstoff_EUR_1 = float(round(Gestehungskosten_Wasserstoff_1.sum(),2))\n",
    "print('Die Gestehungskosten für ein Kilogramm Wasserstoff liegen bei '+str(Gestehungskosten_Wasserstoff_EUR_1)+' €')"
   ]
  },
  {
   "cell_type": "markdown",
   "id": "6d3182c4",
   "metadata": {},
   "source": [
    "## Ausgabe der Ergebnistabellen (Netzwerk 2)"
   ]
  },
  {
   "cell_type": "markdown",
   "id": "35885c5b",
   "metadata": {},
   "source": [
    "### Installierte Leistungen, Kapazitäten"
   ]
  },
  {
   "cell_type": "code",
   "execution_count": 40,
   "id": "c0b03f77",
   "metadata": {},
   "outputs": [
    {
     "data": {
      "text/html": [
       "<div>\n",
       "<style scoped>\n",
       "    .dataframe tbody tr th:only-of-type {\n",
       "        vertical-align: middle;\n",
       "    }\n",
       "\n",
       "    .dataframe tbody tr th {\n",
       "        vertical-align: top;\n",
       "    }\n",
       "\n",
       "    .dataframe thead th {\n",
       "        text-align: right;\n",
       "    }\n",
       "</style>\n",
       "<table border=\"1\" class=\"dataframe\">\n",
       "  <thead>\n",
       "    <tr style=\"text-align: right;\">\n",
       "      <th>attribute</th>\n",
       "      <th>bus0</th>\n",
       "      <th>bus1</th>\n",
       "      <th>type</th>\n",
       "      <th>carrier</th>\n",
       "      <th>efficiency</th>\n",
       "      <th>build_year</th>\n",
       "      <th>lifetime</th>\n",
       "      <th>p_nom</th>\n",
       "      <th>p_nom_extendable</th>\n",
       "      <th>p_nom_min</th>\n",
       "      <th>...</th>\n",
       "      <th>p_set</th>\n",
       "      <th>p_min_pu</th>\n",
       "      <th>p_max_pu</th>\n",
       "      <th>capital_cost</th>\n",
       "      <th>marginal_cost</th>\n",
       "      <th>length</th>\n",
       "      <th>terrain_factor</th>\n",
       "      <th>ramp_limit_up</th>\n",
       "      <th>ramp_limit_down</th>\n",
       "      <th>p_nom_opt</th>\n",
       "    </tr>\n",
       "    <tr>\n",
       "      <th>Link</th>\n",
       "      <th></th>\n",
       "      <th></th>\n",
       "      <th></th>\n",
       "      <th></th>\n",
       "      <th></th>\n",
       "      <th></th>\n",
       "      <th></th>\n",
       "      <th></th>\n",
       "      <th></th>\n",
       "      <th></th>\n",
       "      <th></th>\n",
       "      <th></th>\n",
       "      <th></th>\n",
       "      <th></th>\n",
       "      <th></th>\n",
       "      <th></th>\n",
       "      <th></th>\n",
       "      <th></th>\n",
       "      <th></th>\n",
       "      <th></th>\n",
       "      <th></th>\n",
       "    </tr>\n",
       "  </thead>\n",
       "  <tbody>\n",
       "    <tr>\n",
       "      <th>PEMEL</th>\n",
       "      <td>electricity</td>\n",
       "      <td>GH2_c</td>\n",
       "      <td></td>\n",
       "      <td>AC</td>\n",
       "      <td>0.598911</td>\n",
       "      <td>0</td>\n",
       "      <td>10.0</td>\n",
       "      <td>0.0</td>\n",
       "      <td>True</td>\n",
       "      <td>0.0</td>\n",
       "      <td>...</td>\n",
       "      <td>0.0</td>\n",
       "      <td>0.0</td>\n",
       "      <td>1.0</td>\n",
       "      <td>7.200000e+05</td>\n",
       "      <td>95.226003</td>\n",
       "      <td>0.0</td>\n",
       "      <td>1.0</td>\n",
       "      <td>NaN</td>\n",
       "      <td>NaN</td>\n",
       "      <td>0.000000</td>\n",
       "    </tr>\n",
       "    <tr>\n",
       "      <th>AEL</th>\n",
       "      <td>electricity</td>\n",
       "      <td>GH2_c</td>\n",
       "      <td></td>\n",
       "      <td>AC</td>\n",
       "      <td>0.617978</td>\n",
       "      <td>0</td>\n",
       "      <td>10.0</td>\n",
       "      <td>0.0</td>\n",
       "      <td>True</td>\n",
       "      <td>0.0</td>\n",
       "      <td>...</td>\n",
       "      <td>0.0</td>\n",
       "      <td>0.0</td>\n",
       "      <td>1.0</td>\n",
       "      <td>6.300000e+05</td>\n",
       "      <td>120.831319</td>\n",
       "      <td>0.0</td>\n",
       "      <td>1.0</td>\n",
       "      <td>NaN</td>\n",
       "      <td>NaN</td>\n",
       "      <td>1176.144230</td>\n",
       "    </tr>\n",
       "    <tr>\n",
       "      <th>Haber-Bosch</th>\n",
       "      <td>GH2_c</td>\n",
       "      <td>NH3_c</td>\n",
       "      <td></td>\n",
       "      <td>AC</td>\n",
       "      <td>0.920000</td>\n",
       "      <td>0</td>\n",
       "      <td>inf</td>\n",
       "      <td>0.0</td>\n",
       "      <td>True</td>\n",
       "      <td>0.0</td>\n",
       "      <td>...</td>\n",
       "      <td>0.0</td>\n",
       "      <td>0.0</td>\n",
       "      <td>1.0</td>\n",
       "      <td>1.212000e+06</td>\n",
       "      <td>0.000000</td>\n",
       "      <td>0.0</td>\n",
       "      <td>1.0</td>\n",
       "      <td>NaN</td>\n",
       "      <td>NaN</td>\n",
       "      <td>726.831259</td>\n",
       "    </tr>\n",
       "    <tr>\n",
       "      <th>NH3 Cracker</th>\n",
       "      <td>NH3_b</td>\n",
       "      <td>GH2_b</td>\n",
       "      <td></td>\n",
       "      <td>AC</td>\n",
       "      <td>0.860000</td>\n",
       "      <td>0</td>\n",
       "      <td>inf</td>\n",
       "      <td>0.0</td>\n",
       "      <td>True</td>\n",
       "      <td>0.0</td>\n",
       "      <td>...</td>\n",
       "      <td>0.0</td>\n",
       "      <td>0.0</td>\n",
       "      <td>1.0</td>\n",
       "      <td>3.760000e+05</td>\n",
       "      <td>0.000000</td>\n",
       "      <td>0.0</td>\n",
       "      <td>1.0</td>\n",
       "      <td>NaN</td>\n",
       "      <td>NaN</td>\n",
       "      <td>153.313157</td>\n",
       "    </tr>\n",
       "    <tr>\n",
       "      <th>Verschiffung NH3</th>\n",
       "      <td>NH3_c</td>\n",
       "      <td>NH3_b</td>\n",
       "      <td></td>\n",
       "      <td>AC</td>\n",
       "      <td>0.996750</td>\n",
       "      <td>0</td>\n",
       "      <td>inf</td>\n",
       "      <td>1.0</td>\n",
       "      <td>True</td>\n",
       "      <td>0.0</td>\n",
       "      <td>...</td>\n",
       "      <td>0.0</td>\n",
       "      <td>0.0</td>\n",
       "      <td>1.0</td>\n",
       "      <td>1.135337e+06</td>\n",
       "      <td>0.058300</td>\n",
       "      <td>0.0</td>\n",
       "      <td>1.0</td>\n",
       "      <td>NaN</td>\n",
       "      <td>NaN</td>\n",
       "      <td>357.369657</td>\n",
       "    </tr>\n",
       "    <tr>\n",
       "      <th>Pipeline</th>\n",
       "      <td>GH2_b</td>\n",
       "      <td>cologne</td>\n",
       "      <td></td>\n",
       "      <td>AC</td>\n",
       "      <td>1.000000</td>\n",
       "      <td>0</td>\n",
       "      <td>inf</td>\n",
       "      <td>0.0</td>\n",
       "      <td>True</td>\n",
       "      <td>0.0</td>\n",
       "      <td>...</td>\n",
       "      <td>0.0</td>\n",
       "      <td>0.0</td>\n",
       "      <td>1.0</td>\n",
       "      <td>0.000000e+00</td>\n",
       "      <td>3.900000</td>\n",
       "      <td>0.0</td>\n",
       "      <td>1.0</td>\n",
       "      <td>NaN</td>\n",
       "      <td>NaN</td>\n",
       "      <td>131.849315</td>\n",
       "    </tr>\n",
       "  </tbody>\n",
       "</table>\n",
       "<p>6 rows × 21 columns</p>\n",
       "</div>"
      ],
      "text/plain": [
       "attribute                bus0     bus1 type carrier  efficiency  build_year  \\\n",
       "Link                                                                          \n",
       "PEMEL             electricity    GH2_c           AC    0.598911           0   \n",
       "AEL               electricity    GH2_c           AC    0.617978           0   \n",
       "Haber-Bosch             GH2_c    NH3_c           AC    0.920000           0   \n",
       "NH3 Cracker             NH3_b    GH2_b           AC    0.860000           0   \n",
       "Verschiffung NH3        NH3_c    NH3_b           AC    0.996750           0   \n",
       "Pipeline                GH2_b  cologne           AC    1.000000           0   \n",
       "\n",
       "attribute         lifetime  p_nom  p_nom_extendable  p_nom_min  ...  p_set  \\\n",
       "Link                                                            ...          \n",
       "PEMEL                 10.0    0.0              True        0.0  ...    0.0   \n",
       "AEL                   10.0    0.0              True        0.0  ...    0.0   \n",
       "Haber-Bosch            inf    0.0              True        0.0  ...    0.0   \n",
       "NH3 Cracker            inf    0.0              True        0.0  ...    0.0   \n",
       "Verschiffung NH3       inf    1.0              True        0.0  ...    0.0   \n",
       "Pipeline               inf    0.0              True        0.0  ...    0.0   \n",
       "\n",
       "attribute         p_min_pu  p_max_pu  capital_cost  marginal_cost  length  \\\n",
       "Link                                                                        \n",
       "PEMEL                  0.0       1.0  7.200000e+05      95.226003     0.0   \n",
       "AEL                    0.0       1.0  6.300000e+05     120.831319     0.0   \n",
       "Haber-Bosch            0.0       1.0  1.212000e+06       0.000000     0.0   \n",
       "NH3 Cracker            0.0       1.0  3.760000e+05       0.000000     0.0   \n",
       "Verschiffung NH3       0.0       1.0  1.135337e+06       0.058300     0.0   \n",
       "Pipeline               0.0       1.0  0.000000e+00       3.900000     0.0   \n",
       "\n",
       "attribute         terrain_factor  ramp_limit_up  ramp_limit_down    p_nom_opt  \n",
       "Link                                                                           \n",
       "PEMEL                        1.0            NaN              NaN     0.000000  \n",
       "AEL                          1.0            NaN              NaN  1176.144230  \n",
       "Haber-Bosch                  1.0            NaN              NaN   726.831259  \n",
       "NH3 Cracker                  1.0            NaN              NaN   153.313157  \n",
       "Verschiffung NH3             1.0            NaN              NaN   357.369657  \n",
       "Pipeline                     1.0            NaN              NaN   131.849315  \n",
       "\n",
       "[6 rows x 21 columns]"
      ]
     },
     "execution_count": 40,
     "metadata": {},
     "output_type": "execute_result"
    }
   ],
   "source": [
    "network2.links"
   ]
  },
  {
   "cell_type": "code",
   "execution_count": 34,
   "id": "1e03a8d0",
   "metadata": {
    "code_folding": []
   },
   "outputs": [
    {
     "data": {
      "text/html": [
       "<div>\n",
       "<style scoped>\n",
       "    .dataframe tbody tr th:only-of-type {\n",
       "        vertical-align: middle;\n",
       "    }\n",
       "\n",
       "    .dataframe tbody tr th {\n",
       "        vertical-align: top;\n",
       "    }\n",
       "\n",
       "    .dataframe thead th {\n",
       "        text-align: right;\n",
       "    }\n",
       "</style>\n",
       "<table border=\"1\" class=\"dataframe\">\n",
       "  <thead>\n",
       "    <tr style=\"text-align: right;\">\n",
       "      <th></th>\n",
       "      <th>Energie [MWh]</th>\n",
       "    </tr>\n",
       "  </thead>\n",
       "  <tbody>\n",
       "  </tbody>\n",
       "</table>\n",
       "</div>"
      ],
      "text/plain": [
       "Empty DataFrame\n",
       "Columns: [Energie [MWh]]\n",
       "Index: []"
      ]
     },
     "execution_count": 34,
     "metadata": {},
     "output_type": "execute_result"
    }
   ],
   "source": [
    "# Ausgabe einer Ergebnistabelle der optimierten Leistungen in MW und optimierten Kapazitäten in MWh\n",
    "\n",
    "df_results_1 = pd.DataFrame(network2.generators['p_nom_opt'])\n",
    "df_results_2 = pd.DataFrame(network2.links['p_nom_opt'])\n",
    "df_results_3 = pd.DataFrame(network2.stores['e_nom_opt'])\n",
    "\n",
    "frames = [df_results_1, df_results_2, df_results_3]\n",
    "\n",
    "results_x = (pd.concat(frames).round(2).fillna(0).rename(columns = {'p_nom_opt':'Leistung [MW]','e_nom_opt':'Speicherkapazität [MWh]'}))\n",
    "results = results_x.loc[(results_x.sum(axis=1) != 0), (results_x.sum(axis=0) != 0)]\n",
    "results\n",
    "\n",
    "# Berechnung der jährlichen Volllaststunden\n",
    "\n",
    "df_flh_1 = pd.DataFrame((network2.generators_t.p.sum())/network2.generators.p_nom_opt)\n",
    "df_flh_2 = pd.DataFrame((network2.links_t.p0.sum())/network2.links.p_nom_opt)\n",
    "\n",
    "df_flh_x = df_flh_1.append(df_flh_2).round(0).fillna(0)\n",
    "df_flh = df_flh_x.loc[(df_flh_x.sum(axis=1) != 0), (df_flh_x.sum(axis=0) != 0)]\n",
    "df_flh = df_flh.rename(columns = {0:'Volllast [h]'}).fillna(0)\n",
    "#Berechnung der Energie \n",
    "df_results_1 = pd.DataFrame(network2.generators_t.p.sum())/1000\n",
    "df_results_2 = pd.DataFrame(-network2.links_t.p1.sum())/1000\n",
    "df_results_3 = pd.DataFrame(network2.stores_t.e.sum())/1000\n",
    "frames = [df_results_1, df_results_2, df_results_3]\n",
    "results_x = (pd.concat(frames).round(2).fillna(0).rename(columns = {0:'Energie [MWh]'}))\n",
    "#df_flh\n",
    "\n",
    "results_sum = pd.concat([results,df_flh,results_x],axis=1).fillna(0)\n",
    "results_sum"
   ]
  },
  {
   "cell_type": "markdown",
   "id": "bcc29d7b",
   "metadata": {},
   "source": [
    "### Gestehungskosten Wasserstoff"
   ]
  },
  {
   "cell_type": "code",
   "execution_count": 35,
   "id": "90444970",
   "metadata": {
    "code_folding": [
     0
    ]
   },
   "outputs": [
    {
     "ename": "KeyError",
     "evalue": "'PEMEL'",
     "output_type": "error",
     "traceback": [
      "\u001b[0;31m---------------------------------------------------------------------------\u001b[0m",
      "\u001b[0;31mKeyError\u001b[0m                                  Traceback (most recent call last)",
      "\u001b[0;32m~/opt/anaconda3/lib/python3.9/site-packages/pandas/core/indexes/base.py\u001b[0m in \u001b[0;36mget_loc\u001b[0;34m(self, key, method, tolerance)\u001b[0m\n\u001b[1;32m   3360\u001b[0m             \u001b[0;32mtry\u001b[0m\u001b[0;34m:\u001b[0m\u001b[0;34m\u001b[0m\u001b[0;34m\u001b[0m\u001b[0m\n\u001b[0;32m-> 3361\u001b[0;31m                 \u001b[0;32mreturn\u001b[0m \u001b[0mself\u001b[0m\u001b[0;34m.\u001b[0m\u001b[0m_engine\u001b[0m\u001b[0;34m.\u001b[0m\u001b[0mget_loc\u001b[0m\u001b[0;34m(\u001b[0m\u001b[0mcasted_key\u001b[0m\u001b[0;34m)\u001b[0m\u001b[0;34m\u001b[0m\u001b[0;34m\u001b[0m\u001b[0m\n\u001b[0m\u001b[1;32m   3362\u001b[0m             \u001b[0;32mexcept\u001b[0m \u001b[0mKeyError\u001b[0m \u001b[0;32mas\u001b[0m \u001b[0merr\u001b[0m\u001b[0;34m:\u001b[0m\u001b[0;34m\u001b[0m\u001b[0;34m\u001b[0m\u001b[0m\n",
      "\u001b[0;32m~/opt/anaconda3/lib/python3.9/site-packages/pandas/_libs/index.pyx\u001b[0m in \u001b[0;36mpandas._libs.index.IndexEngine.get_loc\u001b[0;34m()\u001b[0m\n",
      "\u001b[0;32m~/opt/anaconda3/lib/python3.9/site-packages/pandas/_libs/index.pyx\u001b[0m in \u001b[0;36mpandas._libs.index.IndexEngine.get_loc\u001b[0;34m()\u001b[0m\n",
      "\u001b[0;32mpandas/_libs/hashtable_class_helper.pxi\u001b[0m in \u001b[0;36mpandas._libs.hashtable.PyObjectHashTable.get_item\u001b[0;34m()\u001b[0m\n",
      "\u001b[0;32mpandas/_libs/hashtable_class_helper.pxi\u001b[0m in \u001b[0;36mpandas._libs.hashtable.PyObjectHashTable.get_item\u001b[0;34m()\u001b[0m\n",
      "\u001b[0;31mKeyError\u001b[0m: 'PEMEL'",
      "\nThe above exception was the direct cause of the following exception:\n",
      "\u001b[0;31mKeyError\u001b[0m                                  Traceback (most recent call last)",
      "\u001b[0;32m/var/folders/np/fxyv4bts2s353fj5gdlrbgym0000gn/T/ipykernel_29513/3566059977.py\u001b[0m in \u001b[0;36m<module>\u001b[0;34m\u001b[0m\n\u001b[1;32m      3\u001b[0m \u001b[0;31m# Wasserstoffproduktion\u001b[0m\u001b[0;34m\u001b[0m\u001b[0;34m\u001b[0m\u001b[0m\n\u001b[1;32m      4\u001b[0m \u001b[0;32mif\u001b[0m \u001b[0melectrolysis_PEMEL\u001b[0m\u001b[0;34m:\u001b[0m\u001b[0;34m\u001b[0m\u001b[0;34m\u001b[0m\u001b[0m\n\u001b[0;32m----> 5\u001b[0;31m     \u001b[0mhydrogen_production_MWh_PEMEL\u001b[0m \u001b[0;34m=\u001b[0m \u001b[0;34m-\u001b[0m\u001b[0;34m(\u001b[0m\u001b[0mnetwork2\u001b[0m\u001b[0;34m.\u001b[0m\u001b[0mlinks_t\u001b[0m\u001b[0;34m.\u001b[0m\u001b[0mp1\u001b[0m\u001b[0;34m[\u001b[0m\u001b[0;34m'PEMEL'\u001b[0m\u001b[0;34m]\u001b[0m\u001b[0;34m.\u001b[0m\u001b[0msum\u001b[0m\u001b[0;34m(\u001b[0m\u001b[0;34m)\u001b[0m\u001b[0;34m)\u001b[0m\u001b[0;34m\u001b[0m\u001b[0;34m\u001b[0m\u001b[0m\n\u001b[0m\u001b[1;32m      6\u001b[0m \u001b[0;32melse\u001b[0m\u001b[0;34m:\u001b[0m\u001b[0;34m\u001b[0m\u001b[0;34m\u001b[0m\u001b[0m\n\u001b[1;32m      7\u001b[0m     \u001b[0mhydrogen_production_MWh_PEMEL\u001b[0m \u001b[0;34m=\u001b[0m \u001b[0;36m0\u001b[0m\u001b[0;34m\u001b[0m\u001b[0;34m\u001b[0m\u001b[0m\n",
      "\u001b[0;32m~/opt/anaconda3/lib/python3.9/site-packages/pandas/core/frame.py\u001b[0m in \u001b[0;36m__getitem__\u001b[0;34m(self, key)\u001b[0m\n\u001b[1;32m   3456\u001b[0m             \u001b[0;32mif\u001b[0m \u001b[0mself\u001b[0m\u001b[0;34m.\u001b[0m\u001b[0mcolumns\u001b[0m\u001b[0;34m.\u001b[0m\u001b[0mnlevels\u001b[0m \u001b[0;34m>\u001b[0m \u001b[0;36m1\u001b[0m\u001b[0;34m:\u001b[0m\u001b[0;34m\u001b[0m\u001b[0;34m\u001b[0m\u001b[0m\n\u001b[1;32m   3457\u001b[0m                 \u001b[0;32mreturn\u001b[0m \u001b[0mself\u001b[0m\u001b[0;34m.\u001b[0m\u001b[0m_getitem_multilevel\u001b[0m\u001b[0;34m(\u001b[0m\u001b[0mkey\u001b[0m\u001b[0;34m)\u001b[0m\u001b[0;34m\u001b[0m\u001b[0;34m\u001b[0m\u001b[0m\n\u001b[0;32m-> 3458\u001b[0;31m             \u001b[0mindexer\u001b[0m \u001b[0;34m=\u001b[0m \u001b[0mself\u001b[0m\u001b[0;34m.\u001b[0m\u001b[0mcolumns\u001b[0m\u001b[0;34m.\u001b[0m\u001b[0mget_loc\u001b[0m\u001b[0;34m(\u001b[0m\u001b[0mkey\u001b[0m\u001b[0;34m)\u001b[0m\u001b[0;34m\u001b[0m\u001b[0;34m\u001b[0m\u001b[0m\n\u001b[0m\u001b[1;32m   3459\u001b[0m             \u001b[0;32mif\u001b[0m \u001b[0mis_integer\u001b[0m\u001b[0;34m(\u001b[0m\u001b[0mindexer\u001b[0m\u001b[0;34m)\u001b[0m\u001b[0;34m:\u001b[0m\u001b[0;34m\u001b[0m\u001b[0;34m\u001b[0m\u001b[0m\n\u001b[1;32m   3460\u001b[0m                 \u001b[0mindexer\u001b[0m \u001b[0;34m=\u001b[0m \u001b[0;34m[\u001b[0m\u001b[0mindexer\u001b[0m\u001b[0;34m]\u001b[0m\u001b[0;34m\u001b[0m\u001b[0;34m\u001b[0m\u001b[0m\n",
      "\u001b[0;32m~/opt/anaconda3/lib/python3.9/site-packages/pandas/core/indexes/base.py\u001b[0m in \u001b[0;36mget_loc\u001b[0;34m(self, key, method, tolerance)\u001b[0m\n\u001b[1;32m   3361\u001b[0m                 \u001b[0;32mreturn\u001b[0m \u001b[0mself\u001b[0m\u001b[0;34m.\u001b[0m\u001b[0m_engine\u001b[0m\u001b[0;34m.\u001b[0m\u001b[0mget_loc\u001b[0m\u001b[0;34m(\u001b[0m\u001b[0mcasted_key\u001b[0m\u001b[0;34m)\u001b[0m\u001b[0;34m\u001b[0m\u001b[0;34m\u001b[0m\u001b[0m\n\u001b[1;32m   3362\u001b[0m             \u001b[0;32mexcept\u001b[0m \u001b[0mKeyError\u001b[0m \u001b[0;32mas\u001b[0m \u001b[0merr\u001b[0m\u001b[0;34m:\u001b[0m\u001b[0;34m\u001b[0m\u001b[0;34m\u001b[0m\u001b[0m\n\u001b[0;32m-> 3363\u001b[0;31m                 \u001b[0;32mraise\u001b[0m \u001b[0mKeyError\u001b[0m\u001b[0;34m(\u001b[0m\u001b[0mkey\u001b[0m\u001b[0;34m)\u001b[0m \u001b[0;32mfrom\u001b[0m \u001b[0merr\u001b[0m\u001b[0;34m\u001b[0m\u001b[0;34m\u001b[0m\u001b[0m\n\u001b[0m\u001b[1;32m   3364\u001b[0m \u001b[0;34m\u001b[0m\u001b[0m\n\u001b[1;32m   3365\u001b[0m         \u001b[0;32mif\u001b[0m \u001b[0mis_scalar\u001b[0m\u001b[0;34m(\u001b[0m\u001b[0mkey\u001b[0m\u001b[0;34m)\u001b[0m \u001b[0;32mand\u001b[0m \u001b[0misna\u001b[0m\u001b[0;34m(\u001b[0m\u001b[0mkey\u001b[0m\u001b[0;34m)\u001b[0m \u001b[0;32mand\u001b[0m \u001b[0;32mnot\u001b[0m \u001b[0mself\u001b[0m\u001b[0;34m.\u001b[0m\u001b[0mhasnans\u001b[0m\u001b[0;34m:\u001b[0m\u001b[0;34m\u001b[0m\u001b[0;34m\u001b[0m\u001b[0m\n",
      "\u001b[0;31mKeyError\u001b[0m: 'PEMEL'"
     ]
    }
   ],
   "source": [
    "# Berechnung des Wasserstoffpreises in €/kg\n",
    "\n",
    "# Wasserstoffproduktion\n",
    "if electrolysis_PEMEL:\n",
    "    hydrogen_production_MWh_PEMEL = -(network2.links_t.p1['PEMEL'].sum())\n",
    "else:\n",
    "    hydrogen_production_MWh_PEMEL = 0\n",
    "    \n",
    "if electrolysis_AEL:\n",
    "    hydrogen_production_MWh_AEL = -(network2.links_t.p1['AEL'].sum())\n",
    "else:\n",
    "    hydrogen_production_MWh_AEL = 0\n",
    "\n",
    "hydrogen_production_MWh = hydrogen_production_MWh_PEMEL + hydrogen_production_MWh_AEL\n",
    "hydrogen_production_kg = hydrogen_production_MWh/(hydrogen_energy_content)*1000\n",
    "\n",
    "# Kilopreis der Generatoren\n",
    "Generatorkosten = (((network2.generators.capital_cost * network2.generators.p_nom_opt)/network2.generators.lifetime\n",
    "                    + network2.generators.marginal_cost * network2.generators_t.p.sum())/network2.generators_t.p.sum()\n",
    "                   / hydrogen_energy_content).fillna(0)\n",
    "     \n",
    "Generatorkosten=pd.DataFrame(Generatorkosten,columns=['Preis [€/kg]'])\n",
    "Generatorkosten['Generator']=Generatorkosten.index\n",
    "Generatorkosten=Generatorkosten[['Preis [€/kg]']]\n",
    "\n",
    "# Kilopreis der Links\n",
    "Linkkosten = (((network2.links.p_nom_opt * network2.links.capital_cost)/network2.links.lifetime\n",
    "              + network2.links.marginal_cost*(-network2.links_t.p1.sum()))\n",
    "              /hydrogen_production_kg)\n",
    "\n",
    "Linkkosten=pd.DataFrame(Linkkosten,columns=['Preis [€/kg]'])\n",
    "Linkkosten['Link']=Linkkosten.index\n",
    "Linkkosten=Linkkosten[['Preis [€/kg]']]\n",
    "\n",
    "# Kilopreis der Speicher\n",
    "Speicherkosten = (((network2.stores.e_nom_opt * network2.stores.capital_cost)/network2.stores.lifetime\n",
    "                   + network2.stores.marginal_cost*network2.stores_t.e.sum())/hydrogen_production_kg)\n",
    "\n",
    "Speicherkosten=pd.DataFrame(Speicherkosten,columns=['Preis [€/kg]'])\n",
    "Speicherkosten['Speicher']=Speicherkosten.index\n",
    "Speicherkosten=Speicherkosten[['Preis [€/kg]']]\n",
    "\n",
    "Kilogrammpreis = (Generatorkosten.append(Linkkosten).append(Speicherkosten))\n",
    "#Kilogrammpreis\n",
    "\n",
    "# Erstellung der Dataframes zur Darstellung in den Kategorien\n",
    "\n",
    "Kilogrammpreis_Strom = pd.DataFrame((Kilogrammpreis.iloc[[0,1]].append(Kilogrammpreis.loc[['Stromspeicher']]).sum())).rename(index={'Preis [€/kg]': 'Stromkosten'})\n",
    "Kilogrammpreis_Elektrolyse = pd.DataFrame(Kilogrammpreis.iloc[[2,3]].sum()).rename(index={'Preis [€/kg]': 'Elektrolyse'})\n",
    "Kilogrammpreis_Umwandlung = pd.DataFrame(Kilogrammpreis.iloc[[4,5]].sum()).rename(index={'Preis [€/kg]': 'Umwandlung'})\n",
    "Kilogrammpreis_Transport = pd.DataFrame(Kilogrammpreis.iloc[[6,7]].sum()).rename(index={'Preis [€/kg]': 'Transport'})\n",
    "Kilogrammpreis_Speicherung = pd.DataFrame(Kilogrammpreis.iloc[[9,10]].sum()).rename(index={'Preis [€/kg]': 'Speicherung'})\n",
    "\n",
    "Gestehungskosten_Wasserstoff_2 = (Kilogrammpreis_Strom\n",
    "                                .append(Kilogrammpreis_Elektrolyse)\n",
    "                                .append(Kilogrammpreis_Umwandlung)\n",
    "                                .append(Kilogrammpreis_Transport)\n",
    "                                .append(Kilogrammpreis_Speicherung)).rename(columns = {0:'Gestehungspreis [€/kg]'})\n",
    "Gestehungskosten_Wasserstoff_2"
   ]
  },
  {
   "cell_type": "code",
   "execution_count": null,
   "id": "99b4171e",
   "metadata": {
    "code_folding": [
     0
    ]
   },
   "outputs": [],
   "source": [
    "# Ausgabe des Ergebnisses\n",
    "Gestehungskosten_Wasserstoff_EUR_2 = float(round(Gestehungskosten_Wasserstoff_2.sum(),2))\n",
    "print('Die Gestehungskosten für ein Kilogramm Wasserstoff liegen bei '+str(Gestehungskosten_Wasserstoff_EUR_2)+' €')"
   ]
  },
  {
   "cell_type": "markdown",
   "id": "4559eea3",
   "metadata": {},
   "source": [
    "## Ausgabe der Ergebnistabellen (Netzwerk 3)"
   ]
  },
  {
   "cell_type": "markdown",
   "id": "ea6889a2",
   "metadata": {},
   "source": [
    "### Installierte Leistungen, Kapazitäten"
   ]
  },
  {
   "cell_type": "code",
   "execution_count": null,
   "id": "7f992e74",
   "metadata": {
    "code_folding": [
     0
    ]
   },
   "outputs": [],
   "source": [
    "# Ausgabe einer Ergebnistabelle der optimierten Leistungen in MW und optimierten Kapazitäten in MWh\n",
    "\n",
    "df_results_1 = pd.DataFrame(network3.generators['p_nom_opt'])\n",
    "df_results_2 = pd.DataFrame(network3.links['p_nom_opt'])\n",
    "df_results_3 = pd.DataFrame(network3.stores['e_nom_opt'])\n",
    "\n",
    "frames = [df_results_1, df_results_2, df_results_3]\n",
    "\n",
    "results_x = (pd.concat(frames).round(2).fillna(0).rename(columns = {'p_nom_opt':'Leistung [MW]','e_nom_opt':'Speicherkapazität [MWh]'}))\n",
    "results = results_x.loc[(results_x.sum(axis=1) != 0), (results_x.sum(axis=0) != 0)]\n",
    "results\n",
    "\n",
    "# Berechnung der jährlichen Volllaststunden\n",
    "\n",
    "df_flh_1 = pd.DataFrame((network3.generators_t.p.sum())/network3.generators.p_nom_opt)\n",
    "df_flh_2 = pd.DataFrame((network3.links_t.p0.sum())/network3.links.p_nom_opt)\n",
    "\n",
    "df_flh_x = df_flh_1.append(df_flh_2).round(0).fillna(0)\n",
    "df_flh = df_flh_x.loc[(df_flh_x.sum(axis=1) != 0), (df_flh_x.sum(axis=0) != 0)]\n",
    "df_flh = df_flh.rename(columns = {0:'Volllast [h]'}).fillna(0)\n",
    "#Berechnung der Energie \n",
    "df_results_1 = pd.DataFrame(network3.generators_t.p.sum())/1000\n",
    "df_results_2 = pd.DataFrame(-network3.links_t.p1.sum())/1000\n",
    "df_results_3 = pd.DataFrame(network3.stores_t.e.sum())/1000\n",
    "frames = [df_results_1, df_results_2, df_results_3]\n",
    "results_x = (pd.concat(frames).round(2).fillna(0).rename(columns = {0:'Energie [MWh]'}))\n",
    "#df_flh\n",
    "\n",
    "results_sum = pd.concat([results,df_flh,results_x],axis=1).fillna(0)\n",
    "results_sum"
   ]
  },
  {
   "cell_type": "markdown",
   "id": "bd382eb6",
   "metadata": {},
   "source": [
    "### Gestehungskosten Wasserstoff"
   ]
  },
  {
   "cell_type": "code",
   "execution_count": null,
   "id": "78badc61",
   "metadata": {
    "code_folding": [
     0
    ]
   },
   "outputs": [],
   "source": [
    "# Berechnung des Wasserstoffpreises in €/kg\n",
    "\n",
    "# Wasserstoffproduktion\n",
    "if electrolysis_PEMEL:\n",
    "    hydrogen_production_MWh_PEMEL = -(network3.links_t.p1['PEMEL'].sum())\n",
    "else:\n",
    "    hydrogen_production_MWh_PEMEL = 0\n",
    "    \n",
    "if electrolysis_AEL:\n",
    "    hydrogen_production_MWh_AEL = -(network3.links_t.p1['AEL'].sum())\n",
    "else:\n",
    "    hydrogen_production_MWh_AEL = 0\n",
    "\n",
    "hydrogen_production_MWh = hydrogen_production_MWh_PEMEL + hydrogen_production_MWh_AEL\n",
    "hydrogen_production_kg = hydrogen_production_MWh/(hydrogen_energy_content)*1000\n",
    "\n",
    "# Kilopreis der Generatoren\n",
    "Generatorkosten = (((network3.generators.capital_cost * network3.generators.p_nom_opt)/network3.generators.lifetime\n",
    "                    + network3.generators.marginal_cost * network3.generators_t.p.sum())/network3.generators_t.p.sum()\n",
    "                   / hydrogen_energy_content).fillna(0)\n",
    "     \n",
    "Generatorkosten=pd.DataFrame(Generatorkosten,columns=['Preis [€/kg]'])\n",
    "Generatorkosten['Generator']=Generatorkosten.index\n",
    "Generatorkosten=Generatorkosten[['Preis [€/kg]']]\n",
    "\n",
    "# Kilopreis der Links\n",
    "Linkkosten = (((network3.links.p_nom_opt * network3.links.capital_cost)/network3.links.lifetime\n",
    "              + network3.links.marginal_cost*(-network3.links_t.p1.sum()))\n",
    "              /hydrogen_production_kg)\n",
    "\n",
    "Linkkosten=pd.DataFrame(Linkkosten,columns=['Preis [€/kg]'])\n",
    "Linkkosten['Link']=Linkkosten.index\n",
    "Linkkosten=Linkkosten[['Preis [€/kg]']]\n",
    "\n",
    "# Kilopreis der Speicher\n",
    "Speicherkosten = (((network3.stores.e_nom_opt * network3.stores.capital_cost)/network3.stores.lifetime\n",
    "                   + network3.stores.marginal_cost*network3.stores_t.e.sum())/hydrogen_production_kg)\n",
    "\n",
    "Speicherkosten=pd.DataFrame(Speicherkosten,columns=['Preis [€/kg]'])\n",
    "Speicherkosten['Speicher']=Speicherkosten.index\n",
    "Speicherkosten=Speicherkosten[['Preis [€/kg]']]\n",
    "\n",
    "Kilogrammpreis_3 = (Generatorkosten.append(Linkkosten).append(Speicherkosten))\n",
    "#Kilogrammpreis\n",
    "\n",
    "# Erstellung der Dataframes zur Darstellung in den Kategorien\n",
    "\n",
    "Kilogrammpreis_Strom = pd.DataFrame((Kilogrammpreis.iloc[[0,1]].append(Kilogrammpreis.loc[['Stromspeicher']]).sum())).rename(index={'Preis [€/kg]': 'Stromkosten'})\n",
    "Kilogrammpreis_Elektrolyse = pd.DataFrame(Kilogrammpreis.iloc[[2,3]].sum()).rename(index={'Preis [€/kg]': 'Elektrolyse'})\n",
    "Kilogrammpreis_Umwandlung = pd.DataFrame(Kilogrammpreis.iloc[[4,5]].sum()).rename(index={'Preis [€/kg]': 'Umwandlung'})\n",
    "Kilogrammpreis_Transport = pd.DataFrame(Kilogrammpreis.iloc[[6,7]].sum()).rename(index={'Preis [€/kg]': 'Transport'})\n",
    "Kilogrammpreis_Speicherung = pd.DataFrame(Kilogrammpreis.iloc[[9,10]].sum()).rename(index={'Preis [€/kg]': 'Speicherung'})\n",
    "\n",
    "Gestehungskosten_Wasserstoff_3 = (Kilogrammpreis_Strom\n",
    "                                .append(Kilogrammpreis_Elektrolyse)\n",
    "                                .append(Kilogrammpreis_Umwandlung)\n",
    "                                .append(Kilogrammpreis_Transport)\n",
    "                                .append(Kilogrammpreis_Speicherung)).rename(columns = {0:'Gestehungspreis [€/kg]'})\n",
    "Gestehungskosten_Wasserstoff_3"
   ]
  },
  {
   "cell_type": "code",
   "execution_count": null,
   "id": "13dbd9f2",
   "metadata": {
    "code_folding": [
     0
    ]
   },
   "outputs": [],
   "source": [
    "# Ausgabe des Ergebnisses\n",
    "Gestehungskosten_Wasserstoff_EUR_3 = float(round(Gestehungskosten_Wasserstoff_3.sum(),2))\n",
    "print('Die Gestehungskosten für ein Kilogramm Wasserstoff liegen bei '+str(Gestehungskosten_Wasserstoff_EUR_3)+' €')"
   ]
  },
  {
   "cell_type": "markdown",
   "id": "f55462de",
   "metadata": {},
   "source": [
    "## Grafische Darstellungen"
   ]
  },
  {
   "cell_type": "code",
   "execution_count": null,
   "id": "12b89a4f",
   "metadata": {
    "code_folding": []
   },
   "outputs": [],
   "source": [
    "# Übersicht der Kilopreise\n",
    "\n",
    "labels = ['AEL & LH2', 'AEL & NH3', 'AEL & LOHC']\n",
    "Stromkosten = np.array([Gestehungskosten_Wasserstoff_1['Gestehungspreis [€/kg]']['Stromkosten'],\n",
    "                        Gestehungskosten_Wasserstoff_2['Gestehungspreis [€/kg]']['Stromkosten'],\n",
    "                         Gestehungskosten_Wasserstoff_3['Gestehungspreis [€/kg]']['Stromkosten']])\n",
    "\n",
    "Elektrolyse = np.array([Gestehungskosten_Wasserstoff_1['Gestehungspreis [€/kg]']['Elektrolyse'],\n",
    "                        Gestehungskosten_Wasserstoff_2['Gestehungspreis [€/kg]']['Elektrolyse'],\n",
    "                         Gestehungskosten_Wasserstoff_3['Gestehungspreis [€/kg]']['Elektrolyse']])\n",
    "                         \n",
    "Umwandlung =  np.array([Gestehungskosten_Wasserstoff_1['Gestehungspreis [€/kg]']['Umwandlung'],\n",
    "                        Gestehungskosten_Wasserstoff_2['Gestehungspreis [€/kg]']['Umwandlung'],\n",
    "                         Gestehungskosten_Wasserstoff_3['Gestehungspreis [€/kg]']['Umwandlung']])\n",
    "                          \n",
    "Ferntransport_1 = np.array([Gestehungskosten_Wasserstoff_1['Gestehungspreis [€/kg]']['Transport'],\n",
    "                        Gestehungskosten_Wasserstoff_2['Gestehungspreis [€/kg]']['Transport'],\n",
    "                         Gestehungskosten_Wasserstoff_3['Gestehungspreis [€/kg]']['Transport']])\n",
    "\n",
    "                         \n",
    "Speicherung = np.array([Gestehungskosten_Wasserstoff_1['Gestehungspreis [€/kg]']['Speicherung'],\n",
    "                        Gestehungskosten_Wasserstoff_2['Gestehungspreis [€/kg]']['Speicherung'],\n",
    "                         Gestehungskosten_Wasserstoff_3['Gestehungspreis [€/kg]']['Speicherung']])\n",
    "# the width of the bars: can also be len(x) sequence\n",
    "width=0.5\n",
    "fig, ax = plt.subplots(figsize=(14,8))\n",
    "#x_pos = [-2,0,2]\n",
    "ax.bar(labels, Stromkosten, label='Stromkosten',width=width,color='lightcoral')\n",
    "ax.bar(labels, Elektrolyse, bottom=Stromkosten,\n",
    "       label='Elektrolyse',width=width,color='indianred')\n",
    "ax.bar(labels, Speicherung, bottom=Stromkosten+Elektrolyse,\n",
    "       label='Speicherung',width=width,color='firebrick')\n",
    "ax.bar(labels, Ferntransport_1, bottom=Stromkosten+Elektrolyse+Speicherung,\n",
    "       label='Ferntransport',width=width,color='brown')\n",
    "ax.bar(labels, Umwandlung, bottom=Stromkosten+Elektrolyse+Speicherung+Ferntransport_1,\n",
    "       label='Umwandlung',width=width,color='darkred')\n",
    "\n",
    "ax.set_ylabel('Kosten in [€/kg]')\n",
    "ax.set_title('Wasserstoffbereitstellungskosten')\n",
    "ax.legend(loc='upper right')\n",
    "\n",
    "for p in ax.patches:\n",
    "    width, height = p.get_width(), p.get_height()\n",
    "    x, y = p.get_xy() \n",
    "    ax.text(x+width/2, \n",
    "            y+height/2, \n",
    "            '{:.02f}€'.format(height), \n",
    "            horizontalalignment='center', \n",
    "            verticalalignment='center',\n",
    "            color='white',\n",
    "            fontsize=8,\n",
    "            )\n",
    "  \n",
    "\n",
    "horiz_offset = 1.03\n",
    "vert_offset = 1.\n",
    "ax.legend(bbox_to_anchor=(horiz_offset, vert_offset))\n",
    "#plt.xticks(x_pos, labels)\n",
    "plt.show()"
   ]
  },
  {
   "cell_type": "code",
   "execution_count": null,
   "id": "fcef1dc4",
   "metadata": {
    "code_folding": [
     0
    ]
   },
   "outputs": [],
   "source": [
    "# Darstellung der optimierten Erzeugungsleistung\n",
    "\n",
    "ax = network1.generators_t.p.plot()\n",
    "\n",
    "plt.axhline(y=network1.generators_t.p['Photovoltaik'].max(), xmin=0.01, xmax=0.99, color = 'black', linestyle = \"--\")\n",
    "plt.axhline(y=network1.generators_t.p['Windkraft'].max(), xmin=0.01, xmax=0.99, color = 'black', linestyle = \"--\")\n",
    "\n",
    "plt.text(s = 'Photovoltaik: '+str(network1.generators.p_nom_opt.round(0)['Photovoltaik'])+' MW' , y = network1.generators_t.p['Photovoltaik'].max() + 10, x = 0, color = 'black', fontsize = 12)\n",
    "plt.text(s = 'Windkraft: '+str(network1.generators.p_nom_opt.round(0)['Windkraft'])+' MW', y = network1.generators_t.p['Windkraft'].max() + 10, x = 0, color = 'black', fontsize = 12)\n",
    "\n",
    "ax.set_title('Erzeugungsleistung')\n",
    "ax.set_ylabel(\"Leistung [MW]\")\n",
    "horiz_offset = 1.03\n",
    "vert_offset = 1.\n",
    "ax.legend(bbox_to_anchor=(horiz_offset, vert_offset))\n",
    "plt.show()                  "
   ]
  },
  {
   "cell_type": "code",
   "execution_count": null,
   "id": "f7f95e02",
   "metadata": {},
   "outputs": [],
   "source": [
    "Dauerlinie(network1.generators_t,p,'Hi','Leistung')"
   ]
  },
  {
   "cell_type": "code",
   "execution_count": null,
   "id": "eb3b2778",
   "metadata": {
    "code_folding": [
     0
    ],
    "scrolled": true
   },
   "outputs": [],
   "source": [
    "# Darstellung der optimierten Elektrolyseleistung\n",
    "\n",
    "fig, ax = plt.subplots()\n",
    "\n",
    "ax.plot(network1.links_t.p0['PEMEL'])\n",
    "ax.plot(network1.links_t.p0['AEL'])\n",
    "\n",
    "plt.axhline(y=network1.links_t.p0['PEMEL'].max(), xmin=0.01, xmax=0.99, color = 'black', linestyle = \"--\")\n",
    "plt.axhline(y=network1.links_t.p0['AEL'].max(), xmin=0.01, xmax=0.99, color = 'black', linestyle = \"--\")\n",
    "\n",
    "plt.text(s = 'PEMEL: '+str(network1.links.p_nom_opt.round(0)['PEMEL'])+' MW' , y = network1.links_t.p0['PEMEL'].max() + 10, x = 0, color = 'black', fontsize = 12)\n",
    "plt.text(s = 'AEL: '+str(network1.links.p_nom_opt.round(0)['AEL'])+' MW', y = network1.links_t.p0['AEL'].max() + 10, x = 0, color = 'black', fontsize = 12)\n",
    "\n",
    "ax.set_title('Elektrolyseleistung')\n",
    "ax.set_ylabel(\"Leistung [MW]\")\n",
    "plt.show()         "
   ]
  },
  {
   "cell_type": "markdown",
   "id": "67d0d692",
   "metadata": {
    "executionInfo": {
     "elapsed": 8,
     "status": "aborted",
     "timestamp": 1673435393737,
     "user": {
      "displayName": "Christof Gipser",
      "userId": "04329298021906177943"
     },
     "user_tz": -60
    },
    "id": "54420171"
   },
   "source": [
    "### Vergleich von Umwandlung und Ferntransport"
   ]
  },
  {
   "cell_type": "code",
   "execution_count": null,
   "id": "141a1d95",
   "metadata": {},
   "outputs": [],
   "source": [
    "Betrachtungszeitraum = 5 #Tag(e)"
   ]
  },
  {
   "cell_type": "code",
   "execution_count": null,
   "id": "e7aa6b23",
   "metadata": {
    "code_folding": [
     0
    ],
    "executionInfo": {
     "elapsed": 8,
     "status": "aborted",
     "timestamp": 1673435393737,
     "user": {
      "displayName": "Christof Gipser",
      "userId": "04329298021906177943"
     },
     "user_tz": -60
    },
    "id": "e7aa6b23",
    "scrolled": false
   },
   "outputs": [],
   "source": [
    "# Plot\n",
    "\n",
    "a=200\n",
    "b=a+Betrachtungszeitraum*24\n",
    "\n",
    "ax=network1.links_t.p0.loc[a:b].plot(ylabel = 'Leistung in MW')\n",
    "horiz_offset = 1.03\n",
    "vert_offset = 1.\n",
    "ax.legend(bbox_to_anchor=(horiz_offset, vert_offset))\n",
    "plt.show()"
   ]
  },
  {
   "cell_type": "markdown",
   "id": "21c9ef8d",
   "metadata": {},
   "source": [
    "### Vergleich von Speicherung und Ferntransport"
   ]
  },
  {
   "cell_type": "code",
   "execution_count": null,
   "id": "3bef0c48",
   "metadata": {
    "code_folding": [
     0
    ]
   },
   "outputs": [],
   "source": [
    "# Plot_AEL&PEM_ Speicher_und_Verschiffung\n",
    "\n",
    "a=0\n",
    "b=5000\n",
    "fig, ax1 = plt.subplots(sharey = True)\n",
    "Verschiffung_Tonnen=network1.links_t.p0['Verschiffung LH2']/33\n",
    "ax2 = ax1.twinx()\n",
    "ax2.plot(Verschiffung_Tonnen.loc[a:b],\n",
    "        label = 'Verschiffung LH2',color='red')\n",
    "ax1.plot(network1.stores_t.e['Flüssigspeicher Chile'].loc[a:b],\n",
    "        label = 'Flüssigspeicher Chile')\n",
    "ax1.plot(network1.stores_t.e['Flüssigspeicher Bremerhaven'].loc[a:b],\n",
    "        label = 'Flüssigspeicher Bremerhaven')\n",
    "ax2.set_ylabel('Kapazität Verschiffung [t/h]')\n",
    "ax1.set_ylabel('Kapazität Speicher [MWh]')\n",
    "\n",
    "\n",
    "horiz_offset = 1.1\n",
    "vert_offset = 0.90\n",
    "fig.legend(bbox_to_anchor=(horiz_offset, vert_offset))\n",
    "plt.show()"
   ]
  },
  {
   "cell_type": "markdown",
   "id": "ac5f47b8",
   "metadata": {
    "id": "ac5f47b8"
   },
   "source": [
    "# Werkstatt"
   ]
  },
  {
   "cell_type": "code",
   "execution_count": null,
   "id": "ffc3d298",
   "metadata": {},
   "outputs": [],
   "source": [
    "Gestehungskosten_Wasserstoff"
   ]
  },
  {
   "cell_type": "code",
   "execution_count": null,
   "id": "cdc1c271",
   "metadata": {},
   "outputs": [],
   "source": [
    "# Gestehungskosten_Wasserstoff.plot.pie(subplots = True)"
   ]
  },
  {
   "cell_type": "markdown",
   "id": "76a8b3ac",
   "metadata": {},
   "source": [
    "## Grafiken des Kilogrammpreises für alle Komponenten"
   ]
  },
  {
   "cell_type": "markdown",
   "id": "76cfe738",
   "metadata": {},
   "source": [
    "In dieser Grafik spiele ich gerade ein bisschen rum, um eine Abbildung für die Präsentation morgen zu bekommen\n",
    "\n",
    "TODO: Anstatt auf nummerierte Zeilen zuzugreifen, lieber auf die Benennung bzw inde"
   ]
  },
  {
   "cell_type": "code",
   "execution_count": null,
   "id": "cb2ba011",
   "metadata": {},
   "outputs": [],
   "source": []
  },
  {
   "cell_type": "markdown",
   "id": "dd7eb477",
   "metadata": {},
   "source": [
    "Ursprüngliche Grafik"
   ]
  },
  {
   "cell_type": "code",
   "execution_count": null,
   "id": "5bf2d553",
   "metadata": {
    "code_folding": [
     0
    ],
    "executionInfo": {
     "elapsed": 8,
     "status": "aborted",
     "timestamp": 1673435393738,
     "user": {
      "displayName": "Christof Gipser",
      "userId": "04329298021906177943"
     },
     "user_tz": -60
    },
    "id": "pcw9XUen7mFL"
   },
   "outputs": [],
   "source": [
    "# Übersicht der Kilopreise\n",
    "\n",
    "labels = ['PEM & LH2', 'AEL & LH2']\n",
    "Stromkosten = np.array([Linkkosten['Value [€/kg]'][0],Linkkosten['Value [€/kg]'][1]])\n",
    "Elektrolyse = np.array([2,1.5])\n",
    "Speicherung = np.array([0.15,0.12])\n",
    "Ferntransport_1 = np.array([1,0.2])\n",
    "frachtfrafrachtfra\n",
    "Umwandlung = np.array([0.7,0.3])\n",
    "Sonstige= np.array([0.1,0.3])\n",
    "# the width of the bars: can also be len(x) sequence\n",
    "width=0.5\n",
    "fig, ax = plt.subplots(figsize=(7,7))\n",
    "#x_pos = [-2,0,2]\n",
    "ax.bar(labels, Stromkosten, label='Stromkosten',width=width,color='lightcoral')\n",
    "ax.bar(labels, Elektrolyse, bottom=Stromkosten,\n",
    "       label='Elektrolyse',width=width,color='indianred')\n",
    "ax.bar(labels, Speicherung, bottom=Stromkosten+Elektrolyse,\n",
    "       label='Speicherung',width=width,color='firebrick')\n",
    "ax.bar(labels, Ferntransport_1, bottom=Stromkosten+Elektrolyse+Speicherung,\n",
    "       label='Ferntransport',width=width,color='brown')\n",
    "ax.bar(labels, Inlandstransport, bottom=Stromkosten+Elektrolyse+Speicherung+Ferntransport_1,\n",
    "       label='Inlandstransport',width=width,color='maroon')\n",
    "ax.bar(labels, Umwandlung, bottom=Stromkosten+Elektrolyse+Speicherung+Ferntransport_1+Inlandstransport,\n",
    "       label='Umwandlung',width=width,color='darkred')\n",
    "ax.bar(labels, Sonstige, bottom=Stromkosten+Elektrolyse+Speicherung+Ferntransport_1+Inlandstransport+Umwandlung,\n",
    "       label='Sonstige',width=width,color='red')\n",
    "\n",
    "ax.set_ylabel('Kosten in [€]')\n",
    "ax.set_title('Wasserstoffbereitstellungskosten in €/kg Wasserstoff')\n",
    "ax.legend(loc='upper right')\n",
    "\n",
    "for p in ax.patches:\n",
    "    width, height = p.get_width(), p.get_height()\n",
    "    x, y = p.get_xy() \n",
    "    ax.text(x+width/2, \n",
    "            y+height/2, \n",
    "            '{:.02f}€'.format(height), \n",
    "            horizontalalignment='center', \n",
    "            verticalalignment='center',\n",
    "            color='white',\n",
    "            fontsize=10,\n",
    "            )\n",
    "  \n",
    "\n",
    "horiz_offset = 1.03\n",
    "vert_offset = 1.\n",
    "ax.legend(bbox_to_anchor=(horiz_offset, vert_offset))\n",
    "#plt.xticks(x_pos, labels)\n",
    "plt.show()"
   ]
  },
  {
   "cell_type": "markdown",
   "id": "2944383b",
   "metadata": {},
   "source": [
    "## Archiv"
   ]
  },
  {
   "cell_type": "code",
   "execution_count": null,
   "id": "386641ed",
   "metadata": {
    "code_folding": [
     0
    ]
   },
   "outputs": [],
   "source": [
    "# Kilopreis der Links - ACHTUNG: veraltet und vermutlich falsch!!!\n",
    "Linkkosten = ((network1.links.p_nom_opt * network1.links.capital_cost)/network1.links.lifetime+network1.links.marginal_cost*hydrogen_production_kg*(33/1000))/hydrogen_production_kg\n",
    "Linkkosten=pd.DataFrame(Linkkosten,columns=['Value [€/kg]'])\n",
    "Linkkosten['Link']=Linkkosten.index\n",
    "Linkkosten=Linkkosten.reset_index(drop=True)\n",
    "Linkkosten=Linkkosten[['Link','Value [€/kg]']]\n",
    "Linkkosten"
   ]
  },
  {
   "cell_type": "code",
   "execution_count": null,
   "id": "3f4dbb2b",
   "metadata": {
    "code_folding": []
   },
   "outputs": [],
   "source": [
    "# Test\n",
    "\n",
    "# Gespeicherte Wasserstoffmenge in kg\n",
    "hydrogen_storage_kg = (network1.stores_t.e.sum()/(hydrogen_energy_content*1000)) #kg/a\n",
    "\n",
    "\n",
    "# Betriebskosten pro Jahr\n",
    "marginal_cost_links = network1.links.marginal_cost * network1.links_t.p0.sum() # €/a\n",
    "marginal_cost_stores = network1.stores.marginal_cost * network1.stores_t.e.sum() # €/a\n",
    "\n",
    "# Investitionskosten pro Jahr\n",
    "capital_cost_links = network1.links.capital_cost * network1.links.p_nom_opt # €\n",
    "capital_cost_stores = network1.stores.capital_cost * network1.stores.e_nom_opt # €\n",
    "\n",
    "# Lebenszeit\n",
    "lifetime_links = network1.links.lifetime # €\n",
    "lifetime_stores = network1.stores.lifetime # €\n",
    "\n",
    "\n",
    "# Kilopreis Links\n",
    "hydrogen_price_links = ((((capital_cost_links/lifetime_links)+marginal_cost_links))/hydrogen_production_kg).round(2)\n",
    "\n",
    "# Kilopreis Stores\n",
    "hydrogen_price_stores = ((((capital_cost_stores/lifetime_stores)+marginal_cost_stores))/hydrogen_storage_kg).round(2)\n",
    "\n"
   ]
  },
  {
   "cell_type": "code",
   "execution_count": null,
   "id": "c1fab0f3",
   "metadata": {},
   "outputs": [],
   "source": []
  },
  {
   "cell_type": "code",
   "execution_count": null,
   "id": "fd509ed4",
   "metadata": {},
   "outputs": [],
   "source": []
  },
  {
   "cell_type": "code",
   "execution_count": null,
   "id": "16774ce1",
   "metadata": {},
   "outputs": [],
   "source": []
  },
  {
   "cell_type": "code",
   "execution_count": null,
   "id": "79b53ce3",
   "metadata": {},
   "outputs": [],
   "source": [
    "# Kilopreis der Generatoren     \n",
    "electricity_price_MWh = ((network1.generators.capital_cost * network1.generators.p_nom_opt)/network1.generators.lifetime \n",
    "                         + network1.generators.marginal_cost * network1.generators_t.p.sum())/network1.generators_t.p.sum()\n",
    "electricity_price_kg = electricity_price_MWh / hydrogen_energy_content\n",
    "electricity_price_kg"
   ]
  },
  {
   "cell_type": "code",
   "execution_count": null,
   "id": "44a7057a",
   "metadata": {},
   "outputs": [],
   "source": []
  },
  {
   "cell_type": "code",
   "execution_count": null,
   "id": "47c5c64b",
   "metadata": {},
   "outputs": [],
   "source": [
    "# Kaptialkosten pro kg Elektrolyse\n",
    "electrolysis_capital_cost = (((links_electrolysis.T.loc['p_nom_opt'] * links_electrolysis.T.loc['capital_cost'])\n",
    "                             /links_electrolysis.T.loc['lifetime'])/hydrogen_demand_kg)\n",
    "electrolysis_capital_cost"
   ]
  },
  {
   "cell_type": "code",
   "execution_count": null,
   "id": "bbf1e866",
   "metadata": {},
   "outputs": [],
   "source": [
    "electrolysis_marginal_cost = (links_electrolysis.T.loc['marginal_cost'] * hydrogen_production_MWh)/hydrogen_production_kg\n",
    "electrolysis_marginal_cost"
   ]
  },
  {
   "cell_type": "code",
   "execution_count": null,
   "id": "7c0f3e93",
   "metadata": {},
   "outputs": [],
   "source": []
  },
  {
   "cell_type": "code",
   "execution_count": null,
   "id": "3fce8d9e",
   "metadata": {},
   "outputs": [],
   "source": [
    "# Betriebskosten pro kg Elektrolyse\n",
    "marginal_AEL = (-(network1.links.marginal_cost['AEL'] * network1.links_t.p0['AEL'].sum())\n",
    "                /(network1.links_t.p1['AEL'].sum()/(hydrogen_energy_content/1000))) # €/kg\n",
    "\n",
    "marginal_PEMEL = (-(network1.links.marginal_cost['PEMEL'] * network1.links_t.p0['PEMEL'].sum())\n",
    "                /(network1.links_t.p1['PEMEL'].sum()/(hydrogen_energy_content/1000))) # €/kg"
   ]
  },
  {
   "cell_type": "code",
   "execution_count": null,
   "id": "0fa574f0",
   "metadata": {},
   "outputs": [],
   "source": [
    "#Kapitalkosten pro kg Elektrolyse\n",
    "capital_AEL = (-((network1.links.capital_cost['AEL'] * network1.links.p_nom_opt['AEL'])\n",
    "                 /network1.links.lifetime['AEL'])/(network1.links_t.p1['AEL'].sum()\n",
    "                                                  /(hydrogen_energy_content/1000))) # €/kg\n",
    "\n",
    "capital_PEMEL = (-((network1.links.capital_cost['PEMEL'] * network1.links.p_nom_opt['PEMEL'])\n",
    "                 /network1.links.lifetime['PEMEL'])/(network1.links_t.p1['PEMEL'].sum()\n",
    "                                                  /(hydrogen_energy_content/1000))) # €/kg"
   ]
  }
 ],
 "metadata": {
  "colab": {
   "provenance": []
  },
  "hide_input": false,
  "kernelspec": {
   "display_name": "Python 3 (ipykernel)",
   "language": "python",
   "name": "python3"
  },
  "language_info": {
   "codemirror_mode": {
    "name": "ipython",
    "version": 3
   },
   "file_extension": ".py",
   "mimetype": "text/x-python",
   "name": "python",
   "nbconvert_exporter": "python",
   "pygments_lexer": "ipython3",
   "version": "3.9.7"
  },
  "toc": {
   "base_numbering": 1,
   "nav_menu": {},
   "number_sections": true,
   "sideBar": true,
   "skip_h1_title": false,
   "title_cell": "Table of Contents",
   "title_sidebar": "Contents",
   "toc_cell": false,
   "toc_position": {
    "height": "calc(100% - 180px)",
    "left": "10px",
    "top": "150px",
    "width": "268.96875px"
   },
   "toc_section_display": true,
   "toc_window_display": true
  }
 },
 "nbformat": 4,
 "nbformat_minor": 5
}
