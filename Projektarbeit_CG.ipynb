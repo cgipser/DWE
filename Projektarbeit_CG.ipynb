{
 "cells": [
  {
   "cell_type": "code",
   "execution_count": 1,
   "id": "f9a9c5ab",
   "metadata": {
    "executionInfo": {
     "elapsed": 6550,
     "status": "ok",
     "timestamp": 1673435341643,
     "user": {
      "displayName": "Christof Gipser",
      "userId": "04329298021906177943"
     },
     "user_tz": -60
    },
    "id": "f9a9c5ab"
   },
   "outputs": [],
   "source": [
    "import pypsa\n",
    "import pandas as pd\n",
    "import numpy as np\n",
    "import matplotlib.pyplot as plt\n",
    "import datetime\n",
    "from datetime import date, datetime"
   ]
  },
  {
   "cell_type": "markdown",
   "id": "2b98ccea",
   "metadata": {
    "id": "2b98ccea"
   },
   "source": [
    "# Einlesen der Datenreihen"
   ]
  },
  {
   "cell_type": "code",
   "execution_count": 2,
   "id": "Fe26l2tN6gYr",
   "metadata": {
    "code_folding": [],
    "colab": {
     "base_uri": "https://localhost:8080/",
     "height": 446
    },
    "executionInfo": {
     "elapsed": 731,
     "status": "error",
     "timestamp": 1673435393733,
     "user": {
      "displayName": "Christof Gipser",
      "userId": "04329298021906177943"
     },
     "user_tz": -60
    },
    "id": "Fe26l2tN6gYr",
    "outputId": "61866d25-63ff-42b3-daa9-cb0b24df3458"
   },
   "outputs": [],
   "source": [
    "# Externe Daten\n",
    "data_pv = pd.read_csv('data/data_pv_antofagasta_1MW.csv', skiprows = 3)\n",
    "data_wind = pd.read_csv('data/data_wind_antofagasta_1MW.csv', skiprows = 3)\n",
    "data_electrolysis = pd.read_excel('data/load_electrolysis.xlsx')\n",
    "data_shipping_1 = pd.read_excel('data/Ferntransport.xlsx')"
   ]
  },
  {
   "cell_type": "code",
   "execution_count": 65,
   "id": "ifaKYx4DfMZO",
   "metadata": {
    "code_folding": [],
    "executionInfo": {
     "elapsed": 8,
     "status": "aborted",
     "timestamp": 1673435393734,
     "user": {
      "displayName": "Christof Gipser",
      "userId": "04329298021906177943"
     },
     "user_tz": -60
    },
    "id": "ifaKYx4DfMZO"
   },
   "outputs": [],
   "source": [
    "# Erstellung eines Dataframes für externe Daten\n",
    "dataset_df=pd.DataFrame()\n",
    "dataset_df['Zeitstempel']=data_pv['time']\n",
    "dataset_df['PV_Erzeugung']=data_pv['electricity']\n",
    "dataset_df['Wind_Erzeugung']=data_wind['electricity']\n",
    "dataset_df['Elektrolyse']=data_electrolysis['hydrogen']\n",
    "dataset_df['Kapazität_Schiff']=data_shipping_1['Kapazität [MWh]']\n",
    "dataset_df.Kapazität_Schiff=dataset_df.Kapazität_Schiff.fillna(method='ffill')"
   ]
  },
  {
   "cell_type": "code",
   "execution_count": 4,
   "id": "6b6aa064",
   "metadata": {
    "code_folding": [],
    "executionInfo": {
     "elapsed": 9,
     "status": "aborted",
     "timestamp": 1673435393735,
     "user": {
      "displayName": "Christof Gipser",
      "userId": "04329298021906177943"
     },
     "user_tz": -60
    },
    "id": "6b6aa064"
   },
   "outputs": [
    {
     "data": {
      "text/html": [
       "<div>\n",
       "<style scoped>\n",
       "    .dataframe tbody tr th:only-of-type {\n",
       "        vertical-align: middle;\n",
       "    }\n",
       "\n",
       "    .dataframe tbody tr th {\n",
       "        vertical-align: top;\n",
       "    }\n",
       "\n",
       "    .dataframe thead th {\n",
       "        text-align: right;\n",
       "    }\n",
       "</style>\n",
       "<table border=\"1\" class=\"dataframe\">\n",
       "  <thead>\n",
       "    <tr style=\"text-align: right;\">\n",
       "      <th></th>\n",
       "      <th>Unnamed: 1</th>\n",
       "      <th>name</th>\n",
       "      <th>bus</th>\n",
       "      <th>p_nom</th>\n",
       "      <th>marginal_cost</th>\n",
       "      <th>lifetime</th>\n",
       "      <th>capital_cost</th>\n",
       "      <th>efficiency</th>\n",
       "      <th>standing_loss</th>\n",
       "      <th>Unnamed: 10</th>\n",
       "    </tr>\n",
       "  </thead>\n",
       "  <tbody>\n",
       "    <tr>\n",
       "      <th>NaN</th>\n",
       "      <td>0</td>\n",
       "      <td>string</td>\n",
       "      <td>string</td>\n",
       "      <td>series</td>\n",
       "      <td>static</td>\n",
       "      <td>float</td>\n",
       "      <td>float</td>\n",
       "      <td>float</td>\n",
       "      <td>float</td>\n",
       "      <td>0</td>\n",
       "    </tr>\n",
       "    <tr>\n",
       "      <th>Photovoltaik (Chile)</th>\n",
       "      <td>Generator</td>\n",
       "      <td>x</td>\n",
       "      <td>x</td>\n",
       "      <td>x</td>\n",
       "      <td>68.9</td>\n",
       "      <td>0</td>\n",
       "      <td>0</td>\n",
       "      <td>n.v.</td>\n",
       "      <td>n.v.</td>\n",
       "      <td>0</td>\n",
       "    </tr>\n",
       "    <tr>\n",
       "      <th>Windkraft (Chile)</th>\n",
       "      <td>Generator</td>\n",
       "      <td>x</td>\n",
       "      <td>x</td>\n",
       "      <td>x</td>\n",
       "      <td>48.41</td>\n",
       "      <td>0</td>\n",
       "      <td>0</td>\n",
       "      <td>n.v.</td>\n",
       "      <td>n.v.</td>\n",
       "      <td>0</td>\n",
       "    </tr>\n",
       "    <tr>\n",
       "      <th>PEM Elektrolyse</th>\n",
       "      <td>Link</td>\n",
       "      <td>x</td>\n",
       "      <td>x</td>\n",
       "      <td>Simulation</td>\n",
       "      <td>95.226003</td>\n",
       "      <td>10</td>\n",
       "      <td>720000</td>\n",
       "      <td>0.598911</td>\n",
       "      <td>n.v.</td>\n",
       "      <td>[2]</td>\n",
       "    </tr>\n",
       "    <tr>\n",
       "      <th>AEL Elektrolyse</th>\n",
       "      <td>Link</td>\n",
       "      <td>x</td>\n",
       "      <td>x</td>\n",
       "      <td>Simulation</td>\n",
       "      <td>120.831319</td>\n",
       "      <td>10</td>\n",
       "      <td>630000</td>\n",
       "      <td>0.617978</td>\n",
       "      <td>n.v.</td>\n",
       "      <td>[2]</td>\n",
       "    </tr>\n",
       "    <tr>\n",
       "      <th>Verflüssigung</th>\n",
       "      <td>Link</td>\n",
       "      <td>x</td>\n",
       "      <td>x</td>\n",
       "      <td>Simulation</td>\n",
       "      <td>6.060606</td>\n",
       "      <td>20</td>\n",
       "      <td>3296969.69697</td>\n",
       "      <td>1</td>\n",
       "      <td>n.v.</td>\n",
       "      <td>[1]</td>\n",
       "    </tr>\n",
       "    <tr>\n",
       "      <th>Haber-Bosch</th>\n",
       "      <td>Link</td>\n",
       "      <td>x</td>\n",
       "      <td>x</td>\n",
       "      <td>Simulation</td>\n",
       "      <td>0</td>\n",
       "      <td>0</td>\n",
       "      <td>0</td>\n",
       "      <td>0</td>\n",
       "      <td>n.v.</td>\n",
       "      <td>0</td>\n",
       "    </tr>\n",
       "    <tr>\n",
       "      <th>Hydrierung</th>\n",
       "      <td>Link</td>\n",
       "      <td>x</td>\n",
       "      <td>x</td>\n",
       "      <td>Simulation</td>\n",
       "      <td>0</td>\n",
       "      <td>0</td>\n",
       "      <td>0</td>\n",
       "      <td>0</td>\n",
       "      <td>n.v.</td>\n",
       "      <td>0</td>\n",
       "    </tr>\n",
       "    <tr>\n",
       "      <th>GH2 Speicher</th>\n",
       "      <td>Store</td>\n",
       "      <td>x</td>\n",
       "      <td>x</td>\n",
       "      <td>Simulation</td>\n",
       "      <td>20.854545</td>\n",
       "      <td>20</td>\n",
       "      <td>1042.727273</td>\n",
       "      <td>n.v.</td>\n",
       "      <td>0</td>\n",
       "      <td>0</td>\n",
       "    </tr>\n",
       "    <tr>\n",
       "      <th>LH2 Speicher</th>\n",
       "      <td>Store</td>\n",
       "      <td>x</td>\n",
       "      <td>x</td>\n",
       "      <td>Simulation</td>\n",
       "      <td>21.818182</td>\n",
       "      <td>25</td>\n",
       "      <td>1090.909091</td>\n",
       "      <td>n.v.</td>\n",
       "      <td>0.000083</td>\n",
       "      <td>0</td>\n",
       "    </tr>\n",
       "    <tr>\n",
       "      <th>NH3 Speicher</th>\n",
       "      <td>Store</td>\n",
       "      <td>x</td>\n",
       "      <td>x</td>\n",
       "      <td>Simulation</td>\n",
       "      <td>0</td>\n",
       "      <td>0</td>\n",
       "      <td>0</td>\n",
       "      <td>n.v.</td>\n",
       "      <td>0</td>\n",
       "      <td>0</td>\n",
       "    </tr>\n",
       "    <tr>\n",
       "      <th>LOHC Speicher</th>\n",
       "      <td>Store</td>\n",
       "      <td>x</td>\n",
       "      <td>x</td>\n",
       "      <td>Simulation</td>\n",
       "      <td>0</td>\n",
       "      <td>0</td>\n",
       "      <td>0</td>\n",
       "      <td>n.v.</td>\n",
       "      <td>0</td>\n",
       "      <td>0</td>\n",
       "    </tr>\n",
       "    <tr>\n",
       "      <th>Pipeline</th>\n",
       "      <td>Link</td>\n",
       "      <td>x</td>\n",
       "      <td>x</td>\n",
       "      <td>Simulation</td>\n",
       "      <td>4.804</td>\n",
       "      <td>n.v.</td>\n",
       "      <td>0</td>\n",
       "      <td>0</td>\n",
       "      <td>n.v.</td>\n",
       "      <td>0</td>\n",
       "    </tr>\n",
       "    <tr>\n",
       "      <th>LH2 Schiff</th>\n",
       "      <td>Link</td>\n",
       "      <td>x</td>\n",
       "      <td>x</td>\n",
       "      <td>Simulation</td>\n",
       "      <td>0</td>\n",
       "      <td>n.v.</td>\n",
       "      <td>0</td>\n",
       "      <td>0</td>\n",
       "      <td>n.v.</td>\n",
       "      <td>0</td>\n",
       "    </tr>\n",
       "    <tr>\n",
       "      <th>NH3 Schiff</th>\n",
       "      <td>Link</td>\n",
       "      <td>x</td>\n",
       "      <td>x</td>\n",
       "      <td>Simulation</td>\n",
       "      <td>0</td>\n",
       "      <td>n.v.</td>\n",
       "      <td>0</td>\n",
       "      <td>0</td>\n",
       "      <td>n.v.</td>\n",
       "      <td>0</td>\n",
       "    </tr>\n",
       "    <tr>\n",
       "      <th>LOHC Schiff</th>\n",
       "      <td>Link</td>\n",
       "      <td>x</td>\n",
       "      <td>x</td>\n",
       "      <td>Simulation</td>\n",
       "      <td>0</td>\n",
       "      <td>n.v.</td>\n",
       "      <td>0</td>\n",
       "      <td>0</td>\n",
       "      <td>n.v.</td>\n",
       "      <td>0</td>\n",
       "    </tr>\n",
       "  </tbody>\n",
       "</table>\n",
       "</div>"
      ],
      "text/plain": [
       "                     Unnamed: 1    name     bus       p_nom marginal_cost  \\\n",
       "NaN                           0  string  string      series        static   \n",
       "Photovoltaik (Chile)  Generator       x       x           x          68.9   \n",
       "Windkraft (Chile)     Generator       x       x           x         48.41   \n",
       "PEM Elektrolyse            Link       x       x  Simulation     95.226003   \n",
       "AEL Elektrolyse            Link       x       x  Simulation    120.831319   \n",
       "Verflüssigung              Link       x       x  Simulation      6.060606   \n",
       "Haber-Bosch                Link       x       x  Simulation             0   \n",
       "Hydrierung                 Link       x       x  Simulation             0   \n",
       "GH2 Speicher              Store       x       x  Simulation     20.854545   \n",
       "LH2 Speicher              Store       x       x  Simulation     21.818182   \n",
       "NH3 Speicher              Store       x       x  Simulation             0   \n",
       "LOHC Speicher             Store       x       x  Simulation             0   \n",
       "Pipeline                   Link       x       x  Simulation         4.804   \n",
       "LH2 Schiff                 Link       x       x  Simulation             0   \n",
       "NH3 Schiff                 Link       x       x  Simulation             0   \n",
       "LOHC Schiff                Link       x       x  Simulation             0   \n",
       "\n",
       "                     lifetime   capital_cost efficiency standing_loss  \\\n",
       "NaN                     float          float      float         float   \n",
       "Photovoltaik (Chile)        0              0       n.v.          n.v.   \n",
       "Windkraft (Chile)           0              0       n.v.          n.v.   \n",
       "PEM Elektrolyse            10         720000   0.598911          n.v.   \n",
       "AEL Elektrolyse            10         630000   0.617978          n.v.   \n",
       "Verflüssigung              20  3296969.69697          1          n.v.   \n",
       "Haber-Bosch                 0              0          0          n.v.   \n",
       "Hydrierung                  0              0          0          n.v.   \n",
       "GH2 Speicher               20    1042.727273       n.v.             0   \n",
       "LH2 Speicher               25    1090.909091       n.v.      0.000083   \n",
       "NH3 Speicher                0              0       n.v.             0   \n",
       "LOHC Speicher               0              0       n.v.             0   \n",
       "Pipeline                 n.v.              0          0          n.v.   \n",
       "LH2 Schiff               n.v.              0          0          n.v.   \n",
       "NH3 Schiff               n.v.              0          0          n.v.   \n",
       "LOHC Schiff              n.v.              0          0          n.v.   \n",
       "\n",
       "                     Unnamed: 10  \n",
       "NaN                            0  \n",
       "Photovoltaik (Chile)           0  \n",
       "Windkraft (Chile)              0  \n",
       "PEM Elektrolyse              [2]  \n",
       "AEL Elektrolyse              [2]  \n",
       "Verflüssigung                [1]  \n",
       "Haber-Bosch                    0  \n",
       "Hydrierung                     0  \n",
       "GH2 Speicher                   0  \n",
       "LH2 Speicher                   0  \n",
       "NH3 Speicher                   0  \n",
       "LOHC Speicher                  0  \n",
       "Pipeline                       0  \n",
       "LH2 Schiff                     0  \n",
       "NH3 Schiff                     0  \n",
       "LOHC Schiff                    0  "
      ]
     },
     "execution_count": 4,
     "metadata": {},
     "output_type": "execute_result"
    }
   ],
   "source": [
    "# Inputs Variablen\n",
    "data_inputs = pd.read_excel('data/Inputs_Modell.xlsx', sheet_name = 'Gesamt', header = 2, index_col = 0, nrows = 16)\n",
    "\n",
    "data_inputs=pd.DataFrame(data_inputs.fillna(0))\n",
    "data_inputs\n",
    "#data_inputs.head()"
   ]
  },
  {
   "cell_type": "code",
   "execution_count": 5,
   "id": "a1970481",
   "metadata": {
    "code_folding": [],
    "executionInfo": {
     "elapsed": 9,
     "status": "aborted",
     "timestamp": 1673435393735,
     "user": {
      "displayName": "Christof Gipser",
      "userId": "04329298021906177943"
     },
     "user_tz": -60
    },
    "id": "a1970481",
    "scrolled": true
   },
   "outputs": [
    {
     "name": "stdout",
     "output_type": "stream",
     "text": [
      "Der stündliche Bedarf bei konstanter Verteilung des Jahresbedarfs von 35 kt Wasserstoff beträgt ungefähr 132.0 MWh\n"
     ]
    }
   ],
   "source": [
    "# Erstellung Last\n",
    "hydrogen_energy_content = 33 #kWh/kg oder MWh/t\n",
    "hydrogen_demand_t = 35 * 1000\n",
    "hydrogen_demand_kg = hydrogen_demand_t * 1000\n",
    "hydrogen_demand_MWh = hydrogen_demand_t * hydrogen_energy_content # MWh\n",
    "hydrogen_demand_hourly = hydrogen_demand_MWh/8760 #MW\n",
    "\n",
    "print('Der stündliche Bedarf bei konstanter Verteilung des Jahresbedarfs von 35 kt Wasserstoff beträgt ungefähr ' + str(round(hydrogen_demand_hourly,0)) + ' MWh')"
   ]
  },
  {
   "cell_type": "markdown",
   "id": "5fadf68f",
   "metadata": {
    "id": "5fadf68f"
   },
   "source": [
    "# Definition der Variablen"
   ]
  },
  {
   "cell_type": "markdown",
   "id": "b5e81e71",
   "metadata": {
    "id": "b5e81e71"
   },
   "source": [
    "## Investitionskosten"
   ]
  },
  {
   "cell_type": "code",
   "execution_count": 6,
   "id": "f7557704",
   "metadata": {
    "code_folding": [],
    "executionInfo": {
     "elapsed": 8,
     "status": "aborted",
     "timestamp": 1673435393735,
     "user": {
      "displayName": "Christof Gipser",
      "userId": "04329298021906177943"
     },
     "user_tz": -60
    },
    "id": "f7557704"
   },
   "outputs": [],
   "source": [
    "# Erzeugung\n",
    "capital_cost_pv = data_inputs.loc['Photovoltaik (Chile)']['capital_cost'] # €/MW\n",
    "capital_cost_wind = data_inputs.loc['Windkraft (Chile)']['capital_cost'] # €/MW\n",
    "\n",
    "\n",
    "# Elektrolyse\n",
    "capital_cost_PEMEL = data_inputs.loc['PEM Elektrolyse']['capital_cost'] # €/MW\n",
    "capital_cost_AEL = data_inputs.loc['AEL Elektrolyse']['capital_cost'] # €/MW\n",
    "#capital_cost_HTEL = 1300 # €/MW\n",
    "\n",
    "\n",
    "# Umwandlung\n",
    "capital_cost_LH2 = data_inputs.loc['Verflüssigung']['capital_cost'] # €/MW\n",
    "capital_cost_NH3 = data_inputs.loc['Haber-Bosch']['capital_cost'] # €/MW\n",
    "capital_cost_LOHC = data_inputs.loc['Hydrierung']['capital_cost'] # €/MW\n",
    "\n",
    "\n",
    "#Transport\n",
    "capital_cost_pipeline = data_inputs.loc['Pipeline']['capital_cost'] # €/MW\n",
    "capital_cost_shipping_LH2 = data_inputs.loc['LH2 Schiff']['capital_cost'] # €/MW\n",
    "capital_cost_shipping_NH3 = data_inputs.loc['NH3 Schiff']['capital_cost'] # €/MW\n",
    "capital_cost_shipping_LOHC = data_inputs.loc['LOHC Schiff']['capital_cost'] # €/MW\n",
    "\n",
    "\n",
    "# Speicherung\n",
    "capital_cost_storage_el = 10000\n",
    "capital_cost_storage_NH3 = data_inputs.loc['LH2 Speicher']['capital_cost'] # €/MW\n",
    "capital_cost_storage_LH2 = data_inputs.loc['NH3 Speicher']['capital_cost'] # €/MW\n",
    "capital_cost_storage_LOHC = data_inputs.loc['LOHC Speicher']['capital_cost'] # €/MW\n",
    "capital_cost_storage_GH2 = data_inputs.loc['GH2 Speicher']['capital_cost'] # €/MW"
   ]
  },
  {
   "cell_type": "markdown",
   "id": "4a7b55cc",
   "metadata": {
    "id": "4a7b55cc"
   },
   "source": [
    "## Gestehungskosten"
   ]
  },
  {
   "cell_type": "code",
   "execution_count": 7,
   "id": "bc66b833",
   "metadata": {
    "code_folding": [],
    "executionInfo": {
     "elapsed": 8,
     "status": "aborted",
     "timestamp": 1673435393735,
     "user": {
      "displayName": "Christof Gipser",
      "userId": "04329298021906177943"
     },
     "user_tz": -60
    },
    "id": "bc66b833"
   },
   "outputs": [],
   "source": [
    "# Erzeugung\n",
    "marginal_cost_pv = data_inputs.loc['Photovoltaik (Chile)']['marginal_cost'] # €/MWh\n",
    "marginal_cost_wind = data_inputs.loc['Windkraft (Chile)']['marginal_cost'] # €/MWh\n",
    "\n",
    "# Elektrolyse\n",
    "marginal_cost_PEMEL = data_inputs.loc['PEM Elektrolyse']['marginal_cost'] # €/MWh\n",
    "marginal_cost_AEL = data_inputs.loc['AEL Elektrolyse']['marginal_cost'] # €/MWh\n",
    "#marginal_cost_HTEL = 100 # €/MWh\n",
    "\n",
    "# Umwandlung\n",
    "marginal_cost_LH2 = data_inputs.loc['Verflüssigung']['marginal_cost'] # €/MWh\n",
    "marginal_cost_NH3 = data_inputs.loc['Haber-Bosch']['marginal_cost'] # €/MWh\n",
    "marginal_cost_LOHC = data_inputs.loc['Hydrierung']['marginal_cost'] # €/MWh\n",
    "\n",
    "# Transport\n",
    "marginal_cost_pipeline = data_inputs.loc['Pipeline']['marginal_cost'] # €/MWh\n",
    "marginal_cost_shipping_LH2 = data_inputs.loc['LH2 Schiff']['marginal_cost'] # €/MWh\n",
    "marginal_cost_shipping_NH3 = data_inputs.loc['NH3 Schiff']['marginal_cost'] # €/MWh\n",
    "marginal_cost_shipping_LOHC = data_inputs.loc['LOHC Schiff']['marginal_cost'] # €/MWh\n",
    "\n",
    "# Speicherung\n",
    "marginal_cost_storage_el = 0\n",
    "marginal_cost_storage_LH2 = data_inputs.loc['LH2 Speicher']['marginal_cost'] # €/MWh\n",
    "marginal_cost_storage_NH3 = data_inputs.loc['NH3 Speicher']['marginal_cost'] # €/MWh\n",
    "marginal_cost_storage_LOHC = data_inputs.loc['LOHC Speicher']['marginal_cost'] # €/MWh\n",
    "marginal_cost_storage_GH2 = data_inputs.loc['GH2 Speicher']['marginal_cost'] # €/MWh"
   ]
  },
  {
   "cell_type": "code",
   "execution_count": null,
   "id": "d3af7299",
   "metadata": {},
   "outputs": [],
   "source": []
  },
  {
   "cell_type": "markdown",
   "id": "177c94ec",
   "metadata": {},
   "source": []
  },
  {
   "cell_type": "markdown",
   "id": "bf48b910",
   "metadata": {
    "id": "bf48b910"
   },
   "source": [
    "## Sonstiges"
   ]
  },
  {
   "cell_type": "code",
   "execution_count": 8,
   "id": "d3e88dda",
   "metadata": {
    "code_folding": [],
    "executionInfo": {
     "elapsed": 8,
     "status": "aborted",
     "timestamp": 1673435393735,
     "user": {
      "displayName": "Christof Gipser",
      "userId": "04329298021906177943"
     },
     "user_tz": -60
    },
    "id": "d3e88dda"
   },
   "outputs": [],
   "source": [
    "# Wirkungsgrad Erzeugung\n",
    "efficiency_PEMEL = data_inputs.loc['PEM Elektrolyse']['efficiency']\n",
    "efficiency_AEL = data_inputs.loc['AEL Elektrolyse']['efficiency']\n",
    "#efficiency_HTEL = 1\n",
    "\n",
    "# Wirkungsgrad Umwandlung\n",
    "efficiency_NH3 = data_inputs.loc['Haber-Bosch']['efficiency']\n",
    "efficiency_LH2 = data_inputs.loc['Verflüssigung']['efficiency']\n",
    "efficiency_LOHC = data_inputs.loc['Hydrierung']['efficiency']\n",
    "\n",
    "# Lebenszeit\n",
    "lifetime_PEMEL = data_inputs.loc['PEM Elektrolyse']['lifetime']\n",
    "lifetime_AEL = data_inputs.loc['AEL Elektrolyse']['lifetime']\n",
    "#lifetime_HTEL = 20\n",
    "\n",
    "# Speicherverluste\n",
    "standing_loss_el = 0\n",
    "standing_loss_NH3 = data_inputs.loc['LH2 Speicher']['standing_loss']\n",
    "standing_loss_LH2 = data_inputs.loc['NH3 Speicher']['standing_loss']\n",
    "standing_loss_LOHC = data_inputs.loc['LOHC Speicher']['standing_loss']\n",
    "standing_loss_GH2 = data_inputs.loc['GH2 Speicher']['standing_loss']"
   ]
  },
  {
   "cell_type": "markdown",
   "id": "d6282dfc",
   "metadata": {
    "id": "d6282dfc"
   },
   "source": [
    "# Netzwerk aufbauen"
   ]
  },
  {
   "cell_type": "code",
   "execution_count": 9,
   "id": "e544e18f",
   "metadata": {
    "executionInfo": {
     "elapsed": 8,
     "status": "aborted",
     "timestamp": 1673435393735,
     "user": {
      "displayName": "Christof Gipser",
      "userId": "04329298021906177943"
     },
     "user_tz": -60
    },
    "id": "e544e18f"
   },
   "outputs": [],
   "source": [
    "network = pypsa.Network()\n",
    "network.set_snapshots(range(8760))"
   ]
  },
  {
   "cell_type": "markdown",
   "id": "9991c95a",
   "metadata": {
    "id": "9991c95a"
   },
   "source": [
    "## Buses"
   ]
  },
  {
   "cell_type": "code",
   "execution_count": 10,
   "id": "9cede772",
   "metadata": {
    "code_folding": [],
    "executionInfo": {
     "elapsed": 8,
     "status": "aborted",
     "timestamp": 1673435393736,
     "user": {
      "displayName": "Christof Gipser",
      "userId": "04329298021906177943"
     },
     "user_tz": -60
    },
    "id": "9cede772"
   },
   "outputs": [],
   "source": [
    "network.add('Bus', name = 'electricity')\n",
    "network.add('Bus', name = 'GH2')\n",
    "network.add('Bus', name = 'LH2')\n",
    "network.add('Bus', name = 'NH3')\n",
    "network.add('Bus', name = 'LOHC')\n",
    "network.add('Bus', name = 'bremerhaven')\n",
    "network.add('Bus', name = 'cologne')"
   ]
  },
  {
   "cell_type": "markdown",
   "id": "b6a510d5",
   "metadata": {
    "id": "b6a510d5"
   },
   "source": [
    "## Loads"
   ]
  },
  {
   "cell_type": "code",
   "execution_count": 11,
   "id": "e90456f6",
   "metadata": {
    "executionInfo": {
     "elapsed": 8,
     "status": "aborted",
     "timestamp": 1673435393736,
     "user": {
      "displayName": "Christof Gipser",
      "userId": "04329298021906177943"
     },
     "user_tz": -60
    },
    "id": "e90456f6"
   },
   "outputs": [],
   "source": [
    "network.add('Load', name = 'hydrogen_demand', bus = 'cologne', p_set = hydrogen_demand_hourly)"
   ]
  },
  {
   "cell_type": "code",
   "execution_count": null,
   "id": "cc3b3f07",
   "metadata": {},
   "outputs": [],
   "source": []
  },
  {
   "cell_type": "markdown",
   "id": "2ccfd17e",
   "metadata": {
    "id": "2ccfd17e"
   },
   "source": [
    "## Generators"
   ]
  },
  {
   "cell_type": "code",
   "execution_count": 12,
   "id": "4f04b3e1",
   "metadata": {
    "executionInfo": {
     "elapsed": 8,
     "status": "aborted",
     "timestamp": 1673435393736,
     "user": {
      "displayName": "Christof Gipser",
      "userId": "04329298021906177943"
     },
     "user_tz": -60
    },
    "id": "4f04b3e1"
   },
   "outputs": [],
   "source": [
    "network.add('Generator', name = 'Photovoltaik', bus = 'electricity', \n",
    "            p_nom = dataset_df['PV_Erzeugung'].max(),\n",
    "            p_max_pu = dataset_df['PV_Erzeugung']/dataset_df['PV_Erzeugung'].max(), \n",
    "            p_min_pu = dataset_df['PV_Erzeugung']/dataset_df['PV_Erzeugung'].max(), \n",
    "            p_nom_extendable = True,\n",
    "            marginal_cost = marginal_cost_pv, capital_cost = capital_cost_pv)\n",
    "\n",
    "network.add('Generator', name = 'Windkraft', bus = 'electricity',\n",
    "            p_nom = dataset_df['Wind_Erzeugung'].max(),\n",
    "            p_max_pu = dataset_df['Wind_Erzeugung']/dataset_df['Wind_Erzeugung'].max(), \n",
    "            p_min_pu = dataset_df['Wind_Erzeugung']/dataset_df['Wind_Erzeugung'].max(), \n",
    "            p_nom_extendable = True,\n",
    "            marginal_cost = marginal_cost_wind, capital_cost = capital_cost_wind)"
   ]
  },
  {
   "cell_type": "markdown",
   "id": "03e464ac",
   "metadata": {
    "id": "03e464ac"
   },
   "source": [
    "## Links - Electrolysis"
   ]
  },
  {
   "cell_type": "code",
   "execution_count": 13,
   "id": "8990014b",
   "metadata": {
    "code_folding": [],
    "executionInfo": {
     "elapsed": 8,
     "status": "aborted",
     "timestamp": 1673435393736,
     "user": {
      "displayName": "Christof Gipser",
      "userId": "04329298021906177943"
     },
     "user_tz": -60
    },
    "id": "8990014b"
   },
   "outputs": [],
   "source": [
    "network.add('Link', name = 'PEMEL', bus0 = 'electricity', bus1 = 'GH2',\n",
    "            p_nom = dataset_df['Elektrolyse'].max(),\n",
    "            p_max_pu = dataset_df['Elektrolyse']/dataset_df['Elektrolyse'].max(), \n",
    "            p_min_pu = dataset_df['Elektrolyse']/dataset_df['Elektrolyse'].max(), \n",
    "            p_nom_extendable = True,\n",
    "            lifetime = lifetime_PEMEL,\n",
    "            marginal_cost = marginal_cost_PEMEL, \n",
    "            capital_cost = capital_cost_PEMEL,\n",
    "            efficiency = efficiency_PEMEL)\n",
    "\n",
    "#network.add('Link', name = 'AEL', bus0 = 'electricity', bus1 = 'GH2',\n",
    "#            p_nom = dataset_df['Elektrolyse'].max(),\n",
    "#            p_max_pu = dataset_df['Elektrolyse']/dataset_df['Elektrolyse'].max(), \n",
    "#            p_min_pu = dataset_df['Elektrolyse']/dataset_df['Elektrolyse'].max(), \n",
    "#            p_nom_extendable = True,\n",
    "#            lifetime = lifetime_AEL,\n",
    "#            marginal_cost = marginal_cost_AEL, \n",
    "#            capital_cost = capital_cost_AEL,\n",
    "#            efficiency = efficiency_AEL)"
   ]
  },
  {
   "cell_type": "code",
   "execution_count": null,
   "id": "848044fb",
   "metadata": {
    "id": "a4e2effd"
   },
   "outputs": [],
   "source": []
  },
  {
   "cell_type": "markdown",
   "id": "18bb7e4d",
   "metadata": {},
   "source": [
    "network.add('Link', name = 'HTEL', bus0 = 'electricity', bus1 = 'GH2',\n",
    "           p_nom_extendable = True,\n",
    "           marginal_cost = marginal_cost_HTEL, capital_cost = capital_cost_HTEL,\n",
    "           efficiency = efficiency_HTEL)"
   ]
  },
  {
   "cell_type": "markdown",
   "id": "7584fdd2",
   "metadata": {
    "id": "7584fdd2"
   },
   "source": [
    "## Links - Conversion"
   ]
  },
  {
   "cell_type": "code",
   "execution_count": 14,
   "id": "62ced3e5",
   "metadata": {
    "executionInfo": {
     "elapsed": 8,
     "status": "aborted",
     "timestamp": 1673435393736,
     "user": {
      "displayName": "Christof Gipser",
      "userId": "04329298021906177943"
     },
     "user_tz": -60
    },
    "id": "62ced3e5"
   },
   "outputs": [],
   "source": [
    "network.add('Link', name = 'Verflüssigung', bus0 = 'GH2', bus1 = 'LH2',\n",
    "            p_nom = dataset_df['Elektrolyse'].max(),\n",
    "            p_max_pu = dataset_df['Elektrolyse']/dataset_df['Elektrolyse'].max(), \n",
    "            p_min_pu = dataset_df['Elektrolyse']/dataset_df['Elektrolyse'].max(), \n",
    "            p_nom_extendable = True,\n",
    "            marginal_cost = marginal_cost_LH2, capital_cost = capital_cost_LH2,\n",
    "            efficiency = efficiency_LH2)"
   ]
  },
  {
   "cell_type": "markdown",
   "id": "f4dfc0ac",
   "metadata": {
    "id": "f4dfc0ac"
   },
   "source": [
    "network.add('Link', name = 'NH3', bus0 = 'electricity', bus1 = 'NH3',\n",
    "           p_nom_extendable = True,\n",
    "           marginal_cost = marginal_cost_NH3, capital_cost = capital_cost_NH3,\n",
    "           efficiency = efficiency_NH3)\n",
    "\n",
    "network.add('Link', name = 'LOHC', bus0 = 'electricity', bus1 = 'LOHC',\n",
    "           p_nom_extendable = True,\n",
    "           marginal_cost = marginal_cost_LOHC, capital_cost = capital_cost_LOHC,\n",
    "           efficiency = efficiency_LOHC)"
   ]
  },
  {
   "cell_type": "markdown",
   "id": "6e31ee79",
   "metadata": {
    "id": "6e31ee79"
   },
   "source": [
    "## Links - Transportation"
   ]
  },
  {
   "cell_type": "code",
   "execution_count": 15,
   "id": "c2b03c0b",
   "metadata": {
    "code_folding": [],
    "executionInfo": {
     "elapsed": 8,
     "status": "aborted",
     "timestamp": 1673435393736,
     "user": {
      "displayName": "Christof Gipser",
      "userId": "04329298021906177943"
     },
     "user_tz": -60
    },
    "id": "c2b03c0b"
   },
   "outputs": [],
   "source": [
    "network.add('Link', name = 'Verschiffung_LH2', bus0 = 'LH2', bus1 = 'bremerhaven',\n",
    "            p_nom = dataset_df['Kapazität_Schiff'].max(),\n",
    "            p_max_pu = dataset_df['Kapazität_Schiff']/dataset_df['Kapazität_Schiff'].max(), \n",
    "            p_min_pu = dataset_df['Kapazität_Schiff']/dataset_df['Kapazität_Schiff'].max(),\n",
    "            p_nom_extendable = True,\n",
    "            marginal_cost = marginal_cost_shipping_LH2, \n",
    "            capital_cost = capital_cost_shipping_LH2)"
   ]
  },
  {
   "cell_type": "markdown",
   "id": "a13f49b2",
   "metadata": {
    "id": "a13f49b2"
   },
   "source": [
    "network.add('Link', name = 'Ferntransport_NH3', bus0 = 'NH3', bus1 = 'bremerhaven',\n",
    "            p_nom = data_shipping_1.max(), p_max_pu = data_shipping_1/data_shipping_1.max(),\n",
    "            marginal_cost = marginal_cost_shipping_NH3)\n",
    "\n",
    "network.add('Link', name = 'Ferntransport_LH2', bus0 = 'LH2', bus1 = 'bremerhaven',\n",
    "            p_nom = data_shipping_1.max(), p_max_pu = data_shipping_1/data_shipping_1.max(),\n",
    "            marginal_cost = marginal_cost_shipping_LH2)\n",
    "\n",
    "network.add('Link', name = 'Ferntransport_LHOC', bus0 = 'LHOC', bus1 = 'bremerhaven',\n",
    "            p_nom = data_shipping_1.max(), p_max_pu = data_shipping_1/data_shipping_1.max(),\n",
    "            marginal_cost = marginal_cost_shipping_LHOC)\n"
   ]
  },
  {
   "cell_type": "markdown",
   "id": "391ca361",
   "metadata": {
    "id": "391ca361"
   },
   "source": [
    "## Links - Pipeline"
   ]
  },
  {
   "cell_type": "code",
   "execution_count": 16,
   "id": "f799bd16",
   "metadata": {},
   "outputs": [],
   "source": [
    "network.add('Link', name = 'Pipeline', bus0 = 'bremerhaven', bus1 = 'cologne', \n",
    "            p_nom_extendable = True,\n",
    "            marginal_cost = marginal_cost_pipeline, \n",
    "            capital_cost = capital_cost_pipeline)"
   ]
  },
  {
   "cell_type": "code",
   "execution_count": 17,
   "id": "d993c7ae",
   "metadata": {},
   "outputs": [
    {
     "data": {
      "text/plain": [
       "0"
      ]
     },
     "execution_count": 17,
     "metadata": {},
     "output_type": "execute_result"
    }
   ],
   "source": [
    "capital_cost_pipeline"
   ]
  },
  {
   "cell_type": "markdown",
   "id": "a7817e8c",
   "metadata": {
    "id": "a7817e8c"
   },
   "source": [
    "## Storages"
   ]
  },
  {
   "cell_type": "code",
   "execution_count": 18,
   "id": "003b6796",
   "metadata": {
    "code_folding": [],
    "executionInfo": {
     "elapsed": 7,
     "status": "aborted",
     "timestamp": 1673435393736,
     "user": {
      "displayName": "Christof Gipser",
      "userId": "04329298021906177943"
     },
     "user_tz": -60
    },
    "id": "003b6796"
   },
   "outputs": [],
   "source": [
    "network.add('Store', name = 'Stromspeicher', bus = 'electricity', \n",
    "            e_nom_extendable = True,  e_cyclic = True, \n",
    "            capital_cost = capital_cost_storage_el,\n",
    "            marginal_cost = marginal_cost_storage_el)\n",
    "\n",
    "network.add('Store', name = 'Flüssigspeicher', bus = 'LH2', \n",
    "            e_nom_extendable = True, e_cyclic = True,  \n",
    "            capital_cost = capital_cost_storage_LH2, \n",
    "            marginal_cost = marginal_cost_storage_LH2)\n",
    "\n",
    "network.add('Store', name = 'Ammoniakspeicher', bus = 'NH3', \n",
    "            e_nom_extendable = True,  e_cyclic = True, \n",
    "            capital_cost = capital_cost_storage_NH3, \n",
    "            marginal_cost = marginal_cost_storage_NH3)\n",
    "\n",
    "network.add('Store', name = 'LOHC-Speicher', bus = 'LOHC', \n",
    "            e_nom_extendable = True, e_cyclic = True,  \n",
    "            capital_cost = capital_cost_storage_LOHC, \n",
    "            marginal_cost = marginal_cost_storage_LOHC)\n",
    "\n",
    "network.add('Store', name = 'Gasspeicher', bus = 'bremerhaven', \n",
    "            e_nom_extendable = True, e_cyclic = True, \n",
    "            capital_cost = capital_cost_storage_GH2, \n",
    "            marginal_cost = marginal_cost_storage_GH2)"
   ]
  },
  {
   "cell_type": "code",
   "execution_count": null,
   "id": "ddbb7807",
   "metadata": {},
   "outputs": [],
   "source": []
  },
  {
   "cell_type": "markdown",
   "id": "18c3c354",
   "metadata": {
    "id": "18c3c354"
   },
   "source": [
    "# Optimierung des Systems"
   ]
  },
  {
   "cell_type": "code",
   "execution_count": 19,
   "id": "5e993293",
   "metadata": {
    "executionInfo": {
     "elapsed": 7,
     "status": "aborted",
     "timestamp": 1673435393736,
     "user": {
      "displayName": "Christof Gipser",
      "userId": "04329298021906177943"
     },
     "user_tz": -60
    },
    "id": "5e993293",
    "scrolled": true
   },
   "outputs": [
    {
     "name": "stderr",
     "output_type": "stream",
     "text": [
      "INFO:pypsa.linopf:Prepare linear problem\n",
      "INFO:pypsa.linopf:Total preparation time: 1.24s\n",
      "INFO:pypsa.linopf:Solve linear problem using Gurobi solver\n"
     ]
    },
    {
     "name": "stdout",
     "output_type": "stream",
     "text": [
      "Set parameter Username\n",
      "Academic license - for non-commercial use only - expires 2023-07-01\n",
      "Read LP format model from file /var/folders/np/fxyv4bts2s353fj5gdlrbgym0000gn/T/pypsa-problem-2q8t33dc.lp\n",
      "Reading time = 0.68 seconds\n",
      "obj: 297840 rows, 140172 columns, 567402 nonzeros\n",
      "Gurobi Optimizer version 9.5.2 build v9.5.2rc0 (mac64[rosetta2])\n",
      "Thread count: 8 physical cores, 8 logical processors, using up to 8 threads\n",
      "Optimize a model with 297840 rows, 140172 columns and 567402 nonzeros\n",
      "Model fingerprint: 0x75104ef1\n",
      "Coefficient statistics:\n",
      "  Matrix range     [1e-06, 1e+00]\n",
      "  Objective range  [1e+00, 3e+06]\n",
      "  Bounds range     [4e+06, 4e+06]\n",
      "  RHS range        [1e+02, 1e+02]\n",
      "\n",
      "Concurrent LP optimizer: primal simplex, dual simplex, and barrier\n",
      "Showing barrier log only...\n",
      "\n",
      "Presolve removed 278878 rows and 130567 columns\n",
      "Presolve time: 0.62s\n",
      "Presolved: 18962 rows, 9605 columns, 61164 nonzeros\n",
      "\n",
      "Ordering time: 0.00s\n",
      "\n",
      "Barrier statistics:\n",
      " Dense cols : 6\n",
      " AA' NZ     : 6.780e+04\n",
      " Factor NZ  : 3.581e+05 (roughly 14 MB of memory)\n",
      " Factor Ops : 8.191e+06 (less than 1 second per iteration)\n",
      " Threads    : 6\n",
      "\n",
      "                  Objective                Residual\n",
      "Iter       Primal          Dual         Primal    Dual     Compl     Time\n",
      "   0   3.16460385e+11  9.77345951e+08  1.38e+06 3.24e-03  2.46e+08     1s\n",
      "   1   1.27256140e+10  5.84620918e+08  1.40e+03 2.11e+03  3.53e+07     1s\n",
      "   2   1.18101902e+10  1.04133045e+09  4.67e-04 1.24e+00  5.73e+05     1s\n",
      "   3   4.48309801e+09  1.11446791e+09  3.67e-04 3.17e-01  1.78e+05     1s\n",
      "   4   2.11504102e+09  1.30580957e+09  1.85e-04 3.32e-02  4.28e+04     1s\n",
      "   5   1.99513456e+09  1.47935897e+09  1.33e-04 4.56e-03  2.72e+04     1s\n",
      "   6   2.21607191e+09  1.59884324e+09  1.02e-04 2.25e-03  3.26e+04     1s\n",
      "   7   2.01143741e+09  1.75409537e+09  5.15e-05 1.77e-06  1.36e+04     1s\n",
      "\n",
      "Barrier performed 7 iterations in 0.82 seconds (0.65 work units)\n",
      "Barrier solve interrupted - model solved by another algorithm\n",
      "\n",
      "\n",
      "Solved with primal simplex\n",
      "Solved in 9 iterations and 0.82 seconds (0.77 work units)\n",
      "Optimal objective  1.892197448e+09\n"
     ]
    },
    {
     "name": "stderr",
     "output_type": "stream",
     "text": [
      "INFO:pypsa.linopf:Optimization successful. Objective value: 1.89e+09\n"
     ]
    },
    {
     "data": {
      "text/plain": [
       "('ok', 'optimal')"
      ]
     },
     "execution_count": 19,
     "metadata": {},
     "output_type": "execute_result"
    }
   ],
   "source": [
    "network.lopf(pyomo = False, solver_name = 'gurobi')"
   ]
  },
  {
   "cell_type": "markdown",
   "id": "f5855bc2",
   "metadata": {
    "id": "f5855bc2"
   },
   "source": [
    "# Auswertung der Ergebnisse"
   ]
  },
  {
   "cell_type": "code",
   "execution_count": 20,
   "id": "0c4e75ac",
   "metadata": {
    "executionInfo": {
     "elapsed": 7,
     "status": "aborted",
     "timestamp": 1673435393736,
     "user": {
      "displayName": "Christof Gipser",
      "userId": "04329298021906177943"
     },
     "user_tz": -60
    },
    "id": "0c4e75ac"
   },
   "outputs": [],
   "source": [
    "def Jahresverlauf (Titel, Zeitstempel, Leistung, xlabel, ylabel):\n",
    "\n",
    "  fig = plt.figure(figsize=(19,8))\n",
    "\n",
    " \n",
    "\n",
    "  ax1 = fig.add_axes([1, 1, 1, 1])\n",
    "  ax1.set_title(Titel,weight='bold',fontsize=15)\n",
    "  ax1.plot(Zeitstempel,Leistung,c='green')\n",
    "  plt.xlabel(xlabel,fontsize=15 )\n",
    "  plt.ylabel(ylabel,fontsize=15)\n",
    "\n",
    " \n",
    "\n",
    "  plt.show()"
   ]
  },
  {
   "cell_type": "code",
   "execution_count": 21,
   "id": "d81745b5",
   "metadata": {
    "executionInfo": {
     "elapsed": 8,
     "status": "aborted",
     "timestamp": 1673435393737,
     "user": {
      "displayName": "Christof Gipser",
      "userId": "04329298021906177943"
     },
     "user_tz": -60
    },
    "id": "d81745b5"
   },
   "outputs": [],
   "source": [
    "#Jahresverlauf('Stromerzeugung aus Photovoltaik',dataset_df.index, network.generators_t.p['Photovoltaik'],'Zeit','Leistung')"
   ]
  },
  {
   "cell_type": "code",
   "execution_count": 22,
   "id": "5fhyRwmdv4Af",
   "metadata": {
    "executionInfo": {
     "elapsed": 8,
     "status": "aborted",
     "timestamp": 1673435393737,
     "user": {
      "displayName": "Christof Gipser",
      "userId": "04329298021906177943"
     },
     "user_tz": -60
    },
    "id": "5fhyRwmdv4Af",
    "scrolled": false
   },
   "outputs": [],
   "source": [
    "#Jahresverlauf('Stromerzeugung aus Windkraft',dataset_df.index, network.generators_t.p['Windkraft'],'Zeit','Leistung')"
   ]
  },
  {
   "cell_type": "code",
   "execution_count": 23,
   "id": "_hnWzv1RwBaF",
   "metadata": {
    "executionInfo": {
     "elapsed": 8,
     "status": "aborted",
     "timestamp": 1673435393737,
     "user": {
      "displayName": "Christof Gipser",
      "userId": "04329298021906177943"
     },
     "user_tz": -60
    },
    "id": "_hnWzv1RwBaF"
   },
   "outputs": [],
   "source": [
    "#Jahresverlauf('Elektrolyse',dataset_df.index, dataset_df['Elektrolyse'],'Zeit','Leistung')"
   ]
  },
  {
   "cell_type": "code",
   "execution_count": 24,
   "id": "hm1uneV8wLvO",
   "metadata": {
    "executionInfo": {
     "elapsed": 8,
     "status": "aborted",
     "timestamp": 1673435393737,
     "user": {
      "displayName": "Christof Gipser",
      "userId": "04329298021906177943"
     },
     "user_tz": -60
    },
    "id": "hm1uneV8wLvO"
   },
   "outputs": [],
   "source": [
    "#Jahresverlauf('Ferntransport',dataset_df.index, dataset_df['Kapazität_Schiff'],'Zeit','Leistung')"
   ]
  },
  {
   "cell_type": "code",
   "execution_count": 68,
   "id": "daded6ef",
   "metadata": {
    "executionInfo": {
     "elapsed": 8,
     "status": "aborted",
     "timestamp": 1673435393737,
     "user": {
      "displayName": "Christof Gipser",
      "userId": "04329298021906177943"
     },
     "user_tz": -60
    },
    "id": "daded6ef"
   },
   "outputs": [
    {
     "data": {
      "text/html": [
       "<div>\n",
       "<style scoped>\n",
       "    .dataframe tbody tr th:only-of-type {\n",
       "        vertical-align: middle;\n",
       "    }\n",
       "\n",
       "    .dataframe tbody tr th {\n",
       "        vertical-align: top;\n",
       "    }\n",
       "\n",
       "    .dataframe thead th {\n",
       "        text-align: right;\n",
       "    }\n",
       "</style>\n",
       "<table border=\"1\" class=\"dataframe\">\n",
       "  <thead>\n",
       "    <tr style=\"text-align: right;\">\n",
       "      <th>attribute</th>\n",
       "      <th>bus</th>\n",
       "      <th>control</th>\n",
       "      <th>type</th>\n",
       "      <th>p_nom</th>\n",
       "      <th>p_nom_extendable</th>\n",
       "      <th>p_nom_min</th>\n",
       "      <th>p_nom_max</th>\n",
       "      <th>p_min_pu</th>\n",
       "      <th>p_max_pu</th>\n",
       "      <th>p_set</th>\n",
       "      <th>...</th>\n",
       "      <th>shut_down_cost</th>\n",
       "      <th>min_up_time</th>\n",
       "      <th>min_down_time</th>\n",
       "      <th>up_time_before</th>\n",
       "      <th>down_time_before</th>\n",
       "      <th>ramp_limit_up</th>\n",
       "      <th>ramp_limit_down</th>\n",
       "      <th>ramp_limit_start_up</th>\n",
       "      <th>ramp_limit_shut_down</th>\n",
       "      <th>p_nom_opt</th>\n",
       "    </tr>\n",
       "    <tr>\n",
       "      <th>Generator</th>\n",
       "      <th></th>\n",
       "      <th></th>\n",
       "      <th></th>\n",
       "      <th></th>\n",
       "      <th></th>\n",
       "      <th></th>\n",
       "      <th></th>\n",
       "      <th></th>\n",
       "      <th></th>\n",
       "      <th></th>\n",
       "      <th></th>\n",
       "      <th></th>\n",
       "      <th></th>\n",
       "      <th></th>\n",
       "      <th></th>\n",
       "      <th></th>\n",
       "      <th></th>\n",
       "      <th></th>\n",
       "      <th></th>\n",
       "      <th></th>\n",
       "      <th></th>\n",
       "    </tr>\n",
       "  </thead>\n",
       "  <tbody>\n",
       "    <tr>\n",
       "      <th>Photovoltaik</th>\n",
       "      <td>electricity</td>\n",
       "      <td>Slack</td>\n",
       "      <td></td>\n",
       "      <td>855.692</td>\n",
       "      <td>True</td>\n",
       "      <td>0.0</td>\n",
       "      <td>inf</td>\n",
       "      <td>0.0</td>\n",
       "      <td>1.0</td>\n",
       "      <td>0.0</td>\n",
       "      <td>...</td>\n",
       "      <td>0.0</td>\n",
       "      <td>0</td>\n",
       "      <td>0</td>\n",
       "      <td>1</td>\n",
       "      <td>0</td>\n",
       "      <td>NaN</td>\n",
       "      <td>NaN</td>\n",
       "      <td>1.0</td>\n",
       "      <td>1.0</td>\n",
       "      <td>785.330701</td>\n",
       "    </tr>\n",
       "    <tr>\n",
       "      <th>Windkraft</th>\n",
       "      <td>electricity</td>\n",
       "      <td>PQ</td>\n",
       "      <td></td>\n",
       "      <td>767.638</td>\n",
       "      <td>True</td>\n",
       "      <td>0.0</td>\n",
       "      <td>inf</td>\n",
       "      <td>0.0</td>\n",
       "      <td>1.0</td>\n",
       "      <td>0.0</td>\n",
       "      <td>...</td>\n",
       "      <td>0.0</td>\n",
       "      <td>0</td>\n",
       "      <td>0</td>\n",
       "      <td>1</td>\n",
       "      <td>0</td>\n",
       "      <td>NaN</td>\n",
       "      <td>NaN</td>\n",
       "      <td>1.0</td>\n",
       "      <td>1.0</td>\n",
       "      <td>21.584898</td>\n",
       "    </tr>\n",
       "  </tbody>\n",
       "</table>\n",
       "<p>2 rows × 30 columns</p>\n",
       "</div>"
      ],
      "text/plain": [
       "attribute             bus control type    p_nom  p_nom_extendable  p_nom_min  \\\n",
       "Generator                                                                      \n",
       "Photovoltaik  electricity   Slack       855.692              True        0.0   \n",
       "Windkraft     electricity      PQ       767.638              True        0.0   \n",
       "\n",
       "attribute     p_nom_max  p_min_pu  p_max_pu  p_set  ...  shut_down_cost  \\\n",
       "Generator                                           ...                   \n",
       "Photovoltaik        inf       0.0       1.0    0.0  ...             0.0   \n",
       "Windkraft           inf       0.0       1.0    0.0  ...             0.0   \n",
       "\n",
       "attribute     min_up_time min_down_time  up_time_before  down_time_before  \\\n",
       "Generator                                                                   \n",
       "Photovoltaik            0             0               1                 0   \n",
       "Windkraft               0             0               1                 0   \n",
       "\n",
       "attribute     ramp_limit_up  ramp_limit_down  ramp_limit_start_up  \\\n",
       "Generator                                                           \n",
       "Photovoltaik            NaN              NaN                  1.0   \n",
       "Windkraft               NaN              NaN                  1.0   \n",
       "\n",
       "attribute     ramp_limit_shut_down   p_nom_opt  \n",
       "Generator                                       \n",
       "Photovoltaik                   1.0  785.330701  \n",
       "Windkraft                      1.0   21.584898  \n",
       "\n",
       "[2 rows x 30 columns]"
      ]
     },
     "execution_count": 68,
     "metadata": {},
     "output_type": "execute_result"
    }
   ],
   "source": [
    "network.generators"
   ]
  },
  {
   "cell_type": "code",
   "execution_count": 27,
   "id": "effb4980",
   "metadata": {
    "executionInfo": {
     "elapsed": 8,
     "status": "aborted",
     "timestamp": 1673435393737,
     "user": {
      "displayName": "Christof Gipser",
      "userId": "04329298021906177943"
     },
     "user_tz": -60
    },
    "id": "effb4980"
   },
   "outputs": [
    {
     "data": {
      "text/plain": [
       "<AxesSubplot:xlabel='snapshot', ylabel='Leistung in MW'>"
      ]
     },
     "execution_count": 27,
     "metadata": {},
     "output_type": "execute_result"
    },
    {
     "data": {
      "image/png": "[encoded data removed]",
      "text/plain": [
       "<Figure size 1080x576 with 1 Axes>"
      ]
     },
     "metadata": {
      "needs_background": "light"
     },
     "output_type": "display_data"
    }
   ],
   "source": [
    "(network.generators_t.p).plot(figsize = (15,8), ylabel = 'Leistung in MW')"
   ]
  },
  {
   "cell_type": "code",
   "execution_count": 28,
   "id": "54420171",
   "metadata": {
    "executionInfo": {
     "elapsed": 8,
     "status": "aborted",
     "timestamp": 1673435393737,
     "user": {
      "displayName": "Christof Gipser",
      "userId": "04329298021906177943"
     },
     "user_tz": -60
    },
    "id": "54420171"
   },
   "outputs": [
    {
     "data": {
      "text/plain": [
       "Link\n",
       "PEMEL                240.942057\n",
       "Verflüssigung        144.302849\n",
       "Verschiffung_LH2    1887.254901\n",
       "Pipeline             131.849315\n",
       "Name: p_nom_opt, dtype: float64"
      ]
     },
     "execution_count": 28,
     "metadata": {},
     "output_type": "execute_result"
    }
   ],
   "source": [
    "network.links.p_nom_opt"
   ]
  },
  {
   "cell_type": "code",
   "execution_count": 77,
   "id": "3bef0c48",
   "metadata": {},
   "outputs": [
    {
     "data": {
      "image/png": "[encoded data removed]",
      "text/plain": [
       "<Figure size 1080x576 with 1 Axes>"
      ]
     },
     "metadata": {
      "needs_background": "light"
     },
     "output_type": "display_data"
    }
   ],
   "source": [
    "labels = ('Verschiffung','Flüssigspeicher','Gasspeicher')\n",
    "fig, ax1 = plt.subplots(figsize = (15,8), sharey = True)\n",
    "\n",
    "#ax2 = ax1.twinx()\n",
    "ax1.plot(network.links_t.p0['Verschiffung_LH2']*4.6,\n",
    "        label = 'Verschiffung')\n",
    "ax1.plot(network.stores_t.e['Flüssigspeicher']/33,\n",
    "        label = 'Flüssigspeicher')\n",
    "ax1.plot(network.stores_t.e['Gasspeicher']/33,\n",
    "        label = 'Gasspeicher')\n",
    "\n",
    "ax1.legend(loc='upper left', prop=dict(size=10))\n",
    "ax1.set_ylabel('Kapazität [t]')\n",
    "\n",
    "plt.show()"
   ]
  },
  {
   "cell_type": "code",
   "execution_count": 32,
   "id": "e7aa6b23",
   "metadata": {
    "executionInfo": {
     "elapsed": 8,
     "status": "aborted",
     "timestamp": 1673435393737,
     "user": {
      "displayName": "Christof Gipser",
      "userId": "04329298021906177943"
     },
     "user_tz": -60
    },
    "id": "e7aa6b23",
    "scrolled": false
   },
   "outputs": [
    {
     "data": {
      "text/plain": [
       "<AxesSubplot:xlabel='snapshot', ylabel='Leistung in MW'>"
      ]
     },
     "execution_count": 32,
     "metadata": {},
     "output_type": "execute_result"
    },
    {
     "data": {
      "image/png": "[encoded data removed]",
      "text/plain": [
       "<Figure size 1080x576 with 1 Axes>"
      ]
     },
     "metadata": {
      "needs_background": "light"
     },
     "output_type": "display_data"
    }
   ],
   "source": [
    "network.links_t.p0.plot(figsize = (15,8), ylabel = 'Leistung in MW')"
   ]
  },
  {
   "cell_type": "code",
   "execution_count": 33,
   "id": "d6447545",
   "metadata": {},
   "outputs": [
    {
     "data": {
      "text/html": [
       "<div>\n",
       "<style scoped>\n",
       "    .dataframe tbody tr th:only-of-type {\n",
       "        vertical-align: middle;\n",
       "    }\n",
       "\n",
       "    .dataframe tbody tr th {\n",
       "        vertical-align: top;\n",
       "    }\n",
       "\n",
       "    .dataframe thead th {\n",
       "        text-align: right;\n",
       "    }\n",
       "</style>\n",
       "<table border=\"1\" class=\"dataframe\">\n",
       "  <thead>\n",
       "    <tr style=\"text-align: right;\">\n",
       "      <th>attribute</th>\n",
       "      <th>bus</th>\n",
       "      <th>type</th>\n",
       "      <th>carrier</th>\n",
       "      <th>e_nom</th>\n",
       "      <th>e_nom_extendable</th>\n",
       "      <th>e_nom_min</th>\n",
       "      <th>e_nom_max</th>\n",
       "      <th>e_min_pu</th>\n",
       "      <th>e_max_pu</th>\n",
       "      <th>e_initial</th>\n",
       "      <th>...</th>\n",
       "      <th>e_cyclic_per_period</th>\n",
       "      <th>p_set</th>\n",
       "      <th>q_set</th>\n",
       "      <th>sign</th>\n",
       "      <th>marginal_cost</th>\n",
       "      <th>capital_cost</th>\n",
       "      <th>standing_loss</th>\n",
       "      <th>build_year</th>\n",
       "      <th>lifetime</th>\n",
       "      <th>e_nom_opt</th>\n",
       "    </tr>\n",
       "    <tr>\n",
       "      <th>Store</th>\n",
       "      <th></th>\n",
       "      <th></th>\n",
       "      <th></th>\n",
       "      <th></th>\n",
       "      <th></th>\n",
       "      <th></th>\n",
       "      <th></th>\n",
       "      <th></th>\n",
       "      <th></th>\n",
       "      <th></th>\n",
       "      <th></th>\n",
       "      <th></th>\n",
       "      <th></th>\n",
       "      <th></th>\n",
       "      <th></th>\n",
       "      <th></th>\n",
       "      <th></th>\n",
       "      <th></th>\n",
       "      <th></th>\n",
       "      <th></th>\n",
       "      <th></th>\n",
       "    </tr>\n",
       "  </thead>\n",
       "  <tbody>\n",
       "    <tr>\n",
       "      <th>Stromspeicher</th>\n",
       "      <td>electricity</td>\n",
       "      <td></td>\n",
       "      <td>AC</td>\n",
       "      <td>0.0</td>\n",
       "      <td>True</td>\n",
       "      <td>0.0</td>\n",
       "      <td>inf</td>\n",
       "      <td>0.0</td>\n",
       "      <td>1.0</td>\n",
       "      <td>0.0</td>\n",
       "      <td>...</td>\n",
       "      <td>True</td>\n",
       "      <td>0.0</td>\n",
       "      <td>0.0</td>\n",
       "      <td>1.0</td>\n",
       "      <td>0.000000</td>\n",
       "      <td>10000.000000</td>\n",
       "      <td>0.0</td>\n",
       "      <td>0</td>\n",
       "      <td>inf</td>\n",
       "      <td>45750.000422</td>\n",
       "    </tr>\n",
       "    <tr>\n",
       "      <th>Flüssigspeicher</th>\n",
       "      <td>LH2</td>\n",
       "      <td></td>\n",
       "      <td>AC</td>\n",
       "      <td>0.0</td>\n",
       "      <td>True</td>\n",
       "      <td>0.0</td>\n",
       "      <td>inf</td>\n",
       "      <td>0.0</td>\n",
       "      <td>1.0</td>\n",
       "      <td>0.0</td>\n",
       "      <td>...</td>\n",
       "      <td>True</td>\n",
       "      <td>0.0</td>\n",
       "      <td>0.0</td>\n",
       "      <td>1.0</td>\n",
       "      <td>21.818182</td>\n",
       "      <td>0.000000</td>\n",
       "      <td>0.0</td>\n",
       "      <td>0</td>\n",
       "      <td>inf</td>\n",
       "      <td>438103.448048</td>\n",
       "    </tr>\n",
       "    <tr>\n",
       "      <th>Ammoniakspeicher</th>\n",
       "      <td>NH3</td>\n",
       "      <td></td>\n",
       "      <td>AC</td>\n",
       "      <td>0.0</td>\n",
       "      <td>True</td>\n",
       "      <td>0.0</td>\n",
       "      <td>inf</td>\n",
       "      <td>0.0</td>\n",
       "      <td>1.0</td>\n",
       "      <td>0.0</td>\n",
       "      <td>...</td>\n",
       "      <td>True</td>\n",
       "      <td>0.0</td>\n",
       "      <td>0.0</td>\n",
       "      <td>1.0</td>\n",
       "      <td>0.000000</td>\n",
       "      <td>1090.909091</td>\n",
       "      <td>0.0</td>\n",
       "      <td>0</td>\n",
       "      <td>inf</td>\n",
       "      <td>0.000000</td>\n",
       "    </tr>\n",
       "    <tr>\n",
       "      <th>LOHC-Speicher</th>\n",
       "      <td>LOHC</td>\n",
       "      <td></td>\n",
       "      <td>AC</td>\n",
       "      <td>0.0</td>\n",
       "      <td>True</td>\n",
       "      <td>0.0</td>\n",
       "      <td>inf</td>\n",
       "      <td>0.0</td>\n",
       "      <td>1.0</td>\n",
       "      <td>0.0</td>\n",
       "      <td>...</td>\n",
       "      <td>True</td>\n",
       "      <td>0.0</td>\n",
       "      <td>0.0</td>\n",
       "      <td>1.0</td>\n",
       "      <td>0.000000</td>\n",
       "      <td>0.000000</td>\n",
       "      <td>0.0</td>\n",
       "      <td>0</td>\n",
       "      <td>inf</td>\n",
       "      <td>0.000000</td>\n",
       "    </tr>\n",
       "    <tr>\n",
       "      <th>Gasspeicher</th>\n",
       "      <td>bremerhaven</td>\n",
       "      <td></td>\n",
       "      <td>AC</td>\n",
       "      <td>0.0</td>\n",
       "      <td>True</td>\n",
       "      <td>0.0</td>\n",
       "      <td>inf</td>\n",
       "      <td>0.0</td>\n",
       "      <td>1.0</td>\n",
       "      <td>0.0</td>\n",
       "      <td>...</td>\n",
       "      <td>True</td>\n",
       "      <td>0.0</td>\n",
       "      <td>0.0</td>\n",
       "      <td>1.0</td>\n",
       "      <td>20.854545</td>\n",
       "      <td>1042.727273</td>\n",
       "      <td>0.0</td>\n",
       "      <td>0</td>\n",
       "      <td>inf</td>\n",
       "      <td>441827.054565</td>\n",
       "    </tr>\n",
       "  </tbody>\n",
       "</table>\n",
       "<p>5 rows × 22 columns</p>\n",
       "</div>"
      ],
      "text/plain": [
       "attribute                 bus type carrier  e_nom  e_nom_extendable  \\\n",
       "Store                                                                 \n",
       "Stromspeicher     electricity           AC    0.0              True   \n",
       "Flüssigspeicher           LH2           AC    0.0              True   \n",
       "Ammoniakspeicher          NH3           AC    0.0              True   \n",
       "LOHC-Speicher            LOHC           AC    0.0              True   \n",
       "Gasspeicher       bremerhaven           AC    0.0              True   \n",
       "\n",
       "attribute         e_nom_min  e_nom_max  e_min_pu  e_max_pu  e_initial  ...  \\\n",
       "Store                                                                  ...   \n",
       "Stromspeicher           0.0        inf       0.0       1.0        0.0  ...   \n",
       "Flüssigspeicher         0.0        inf       0.0       1.0        0.0  ...   \n",
       "Ammoniakspeicher        0.0        inf       0.0       1.0        0.0  ...   \n",
       "LOHC-Speicher           0.0        inf       0.0       1.0        0.0  ...   \n",
       "Gasspeicher             0.0        inf       0.0       1.0        0.0  ...   \n",
       "\n",
       "attribute         e_cyclic_per_period  p_set  q_set  sign  marginal_cost  \\\n",
       "Store                                                                      \n",
       "Stromspeicher                    True    0.0    0.0   1.0       0.000000   \n",
       "Flüssigspeicher                  True    0.0    0.0   1.0      21.818182   \n",
       "Ammoniakspeicher                 True    0.0    0.0   1.0       0.000000   \n",
       "LOHC-Speicher                    True    0.0    0.0   1.0       0.000000   \n",
       "Gasspeicher                      True    0.0    0.0   1.0      20.854545   \n",
       "\n",
       "attribute         capital_cost  standing_loss  build_year  lifetime  \\\n",
       "Store                                                                 \n",
       "Stromspeicher     10000.000000            0.0           0       inf   \n",
       "Flüssigspeicher       0.000000            0.0           0       inf   \n",
       "Ammoniakspeicher   1090.909091            0.0           0       inf   \n",
       "LOHC-Speicher         0.000000            0.0           0       inf   \n",
       "Gasspeicher        1042.727273            0.0           0       inf   \n",
       "\n",
       "attribute             e_nom_opt  \n",
       "Store                            \n",
       "Stromspeicher      45750.000422  \n",
       "Flüssigspeicher   438103.448048  \n",
       "Ammoniakspeicher       0.000000  \n",
       "LOHC-Speicher          0.000000  \n",
       "Gasspeicher       441827.054565  \n",
       "\n",
       "[5 rows x 22 columns]"
      ]
     },
     "execution_count": 33,
     "metadata": {},
     "output_type": "execute_result"
    }
   ],
   "source": [
    "network.stores#.e_nom_opt"
   ]
  },
  {
   "cell_type": "code",
   "execution_count": 34,
   "id": "7d3799c2",
   "metadata": {
    "executionInfo": {
     "elapsed": 8,
     "status": "aborted",
     "timestamp": 1673435393737,
     "user": {
      "displayName": "Christof Gipser",
      "userId": "04329298021906177943"
     },
     "user_tz": -60
    },
    "id": "7d3799c2"
   },
   "outputs": [
    {
     "data": {
      "text/plain": [
       "<AxesSubplot:xlabel='snapshot'>"
      ]
     },
     "execution_count": 34,
     "metadata": {},
     "output_type": "execute_result"
    },
    {
     "data": {
      "image/png": "[encoded data removed]",
      "text/plain": [
       "<Figure size 1080x576 with 1 Axes>"
      ]
     },
     "metadata": {
      "needs_background": "light"
     },
     "output_type": "display_data"
    }
   ],
   "source": [
    "(network.stores_t.e['Flüssigspeicher']/(33)).plot(figsize = (15,8))"
   ]
  },
  {
   "cell_type": "markdown",
   "id": "ac5f47b8",
   "metadata": {
    "id": "ac5f47b8"
   },
   "source": [
    "# Werkstatt"
   ]
  },
  {
   "cell_type": "code",
   "execution_count": 35,
   "id": "9f34c10d",
   "metadata": {},
   "outputs": [
    {
     "data": {
      "text/html": [
       "<div>\n",
       "<style scoped>\n",
       "    .dataframe tbody tr th:only-of-type {\n",
       "        vertical-align: middle;\n",
       "    }\n",
       "\n",
       "    .dataframe tbody tr th {\n",
       "        vertical-align: top;\n",
       "    }\n",
       "\n",
       "    .dataframe thead th {\n",
       "        text-align: right;\n",
       "    }\n",
       "</style>\n",
       "<table border=\"1\" class=\"dataframe\">\n",
       "  <thead>\n",
       "    <tr style=\"text-align: right;\">\n",
       "      <th></th>\n",
       "      <th>Link</th>\n",
       "      <th>Value [€/kg]</th>\n",
       "    </tr>\n",
       "  </thead>\n",
       "  <tbody>\n",
       "    <tr>\n",
       "      <th>0</th>\n",
       "      <td>PEMEL</td>\n",
       "      <td>3.638110</td>\n",
       "    </tr>\n",
       "    <tr>\n",
       "      <th>1</th>\n",
       "      <td>Verflüssigung</td>\n",
       "      <td>0.200000</td>\n",
       "    </tr>\n",
       "    <tr>\n",
       "      <th>2</th>\n",
       "      <td>Verschiffung_LH2</td>\n",
       "      <td>0.000000</td>\n",
       "    </tr>\n",
       "    <tr>\n",
       "      <th>3</th>\n",
       "      <td>Pipeline</td>\n",
       "      <td>0.158532</td>\n",
       "    </tr>\n",
       "  </tbody>\n",
       "</table>\n",
       "</div>"
      ],
      "text/plain": [
       "               Link  Value [€/kg]\n",
       "0             PEMEL      3.638110\n",
       "1     Verflüssigung      0.200000\n",
       "2  Verschiffung_LH2      0.000000\n",
       "3          Pipeline      0.158532"
      ]
     },
     "execution_count": 35,
     "metadata": {},
     "output_type": "execute_result"
    }
   ],
   "source": [
    "Linkkosten = ((network.links.p_nom_opt * network.links.capital_cost)/network.links.lifetime+network.links.marginal_cost*hydrogen_demand_kg*(33/1000))/hydrogen_demand_kg\n",
    "Linkkosten=pd.DataFrame(Linkkosten,columns=['Value [€/kg]'])\n",
    "Linkkosten['Link']=Linkkosten.index\n",
    "Linkkosten=Linkkosten.reset_index(drop=True)\n",
    "Linkkosten=Linkkosten[['Link','Value [€/kg]']]\n",
    "Linkkosten"
   ]
  },
  {
   "cell_type": "code",
   "execution_count": 36,
   "id": "5954f342",
   "metadata": {},
   "outputs": [
    {
     "data": {
      "text/html": [
       "<div>\n",
       "<style scoped>\n",
       "    .dataframe tbody tr th:only-of-type {\n",
       "        vertical-align: middle;\n",
       "    }\n",
       "\n",
       "    .dataframe tbody tr th {\n",
       "        vertical-align: top;\n",
       "    }\n",
       "\n",
       "    .dataframe thead th {\n",
       "        text-align: right;\n",
       "    }\n",
       "</style>\n",
       "<table border=\"1\" class=\"dataframe\">\n",
       "  <thead>\n",
       "    <tr style=\"text-align: right;\">\n",
       "      <th></th>\n",
       "      <th>Speicher</th>\n",
       "      <th>Value [€/kg]</th>\n",
       "    </tr>\n",
       "  </thead>\n",
       "  <tbody>\n",
       "    <tr>\n",
       "      <th>0</th>\n",
       "      <td>Stromspeicher</td>\n",
       "      <td>0.0000</td>\n",
       "    </tr>\n",
       "    <tr>\n",
       "      <th>1</th>\n",
       "      <td>Flüssigspeicher</td>\n",
       "      <td>0.7200</td>\n",
       "    </tr>\n",
       "    <tr>\n",
       "      <th>2</th>\n",
       "      <td>Ammoniakspeicher</td>\n",
       "      <td>0.0000</td>\n",
       "    </tr>\n",
       "    <tr>\n",
       "      <th>3</th>\n",
       "      <td>LOHC-Speicher</td>\n",
       "      <td>0.0000</td>\n",
       "    </tr>\n",
       "    <tr>\n",
       "      <th>4</th>\n",
       "      <td>Gasspeicher</td>\n",
       "      <td>0.6882</td>\n",
       "    </tr>\n",
       "  </tbody>\n",
       "</table>\n",
       "</div>"
      ],
      "text/plain": [
       "           Speicher  Value [€/kg]\n",
       "0     Stromspeicher        0.0000\n",
       "1   Flüssigspeicher        0.7200\n",
       "2  Ammoniakspeicher        0.0000\n",
       "3     LOHC-Speicher        0.0000\n",
       "4       Gasspeicher        0.6882"
      ]
     },
     "execution_count": 36,
     "metadata": {},
     "output_type": "execute_result"
    }
   ],
   "source": [
    "Speicherkosten = ((network.stores.e_nom_opt * network.stores.capital_cost)/network.stores.lifetime+network.stores.marginal_cost*hydrogen_demand_kg*(33/1000))/hydrogen_demand_kg\n",
    "Speicherkosten=pd.DataFrame(Speicherkosten,columns=['Value [€/kg]'])\n",
    "Speicherkosten['Speicher']=Speicherkosten.index\n",
    "Speicherkosten=Speicherkosten.reset_index(drop=True)\n",
    "Speicherkosten=Speicherkosten[['Speicher','Value [€/kg]']]\n",
    "Speicherkosten"
   ]
  },
  {
   "cell_type": "markdown",
   "id": "76cfe738",
   "metadata": {},
   "source": [
    "In dieser Grafik spiele ich gerade ein bisschen rum, um eine Abbildung für die Präsentation morgen zu bekommen\n",
    "\n",
    "TODO: Anstatt auf nummerierte Zeilen zuzugreifen, lieber auf die Benennung bzw inde"
   ]
  },
  {
   "cell_type": "code",
   "execution_count": 37,
   "id": "pcw9XUen7mFL",
   "metadata": {
    "executionInfo": {
     "elapsed": 8,
     "status": "aborted",
     "timestamp": 1673435393738,
     "user": {
      "displayName": "Christof Gipser",
      "userId": "04329298021906177943"
     },
     "user_tz": -60
    },
    "id": "pcw9XUen7mFL"
   },
   "outputs": [
    {
     "ename": "KeyError",
     "evalue": "4",
     "output_type": "error",
     "traceback": [
      "\u001b[0;31m---------------------------------------------------------------------------\u001b[0m",
      "\u001b[0;31mValueError\u001b[0m                                Traceback (most recent call last)",
      "\u001b[0;32m~/opt/anaconda3/lib/python3.9/site-packages/pandas/core/indexes/range.py\u001b[0m in \u001b[0;36mget_loc\u001b[0;34m(self, key, method, tolerance)\u001b[0m\n\u001b[1;32m    384\u001b[0m                 \u001b[0;32mtry\u001b[0m\u001b[0;34m:\u001b[0m\u001b[0;34m\u001b[0m\u001b[0;34m\u001b[0m\u001b[0m\n\u001b[0;32m--> 385\u001b[0;31m                     \u001b[0;32mreturn\u001b[0m \u001b[0mself\u001b[0m\u001b[0;34m.\u001b[0m\u001b[0m_range\u001b[0m\u001b[0;34m.\u001b[0m\u001b[0mindex\u001b[0m\u001b[0;34m(\u001b[0m\u001b[0mnew_key\u001b[0m\u001b[0;34m)\u001b[0m\u001b[0;34m\u001b[0m\u001b[0;34m\u001b[0m\u001b[0m\n\u001b[0m\u001b[1;32m    386\u001b[0m                 \u001b[0;32mexcept\u001b[0m \u001b[0mValueError\u001b[0m \u001b[0;32mas\u001b[0m \u001b[0merr\u001b[0m\u001b[0;34m:\u001b[0m\u001b[0;34m\u001b[0m\u001b[0;34m\u001b[0m\u001b[0m\n",
      "\u001b[0;31mValueError\u001b[0m: 4 is not in range",
      "\nThe above exception was the direct cause of the following exception:\n",
      "\u001b[0;31mKeyError\u001b[0m                                  Traceback (most recent call last)",
      "\u001b[0;32m/var/folders/np/fxyv4bts2s353fj5gdlrbgym0000gn/T/ipykernel_96748/1401193769.py\u001b[0m in \u001b[0;36m<module>\u001b[0;34m\u001b[0m\n\u001b[1;32m      8\u001b[0m Ferntransport_1 = np.array([Linkkosten['Value [€/kg]'][3],\n\u001b[1;32m      9\u001b[0m                             Linkkosten['Value [€/kg]'][3]])\n\u001b[0;32m---> 10\u001b[0;31m Inlandstransport = np.array([Linkkosten['Value [€/kg]'][4],\n\u001b[0m\u001b[1;32m     11\u001b[0m                              Linkkosten['Value [€/kg]'][4]])\n\u001b[1;32m     12\u001b[0m \u001b[0;34m\u001b[0m\u001b[0m\n",
      "\u001b[0;32m~/opt/anaconda3/lib/python3.9/site-packages/pandas/core/series.py\u001b[0m in \u001b[0;36m__getitem__\u001b[0;34m(self, key)\u001b[0m\n\u001b[1;32m    940\u001b[0m \u001b[0;34m\u001b[0m\u001b[0m\n\u001b[1;32m    941\u001b[0m         \u001b[0;32melif\u001b[0m \u001b[0mkey_is_scalar\u001b[0m\u001b[0;34m:\u001b[0m\u001b[0;34m\u001b[0m\u001b[0;34m\u001b[0m\u001b[0m\n\u001b[0;32m--> 942\u001b[0;31m             \u001b[0;32mreturn\u001b[0m \u001b[0mself\u001b[0m\u001b[0;34m.\u001b[0m\u001b[0m_get_value\u001b[0m\u001b[0;34m(\u001b[0m\u001b[0mkey\u001b[0m\u001b[0;34m)\u001b[0m\u001b[0;34m\u001b[0m\u001b[0;34m\u001b[0m\u001b[0m\n\u001b[0m\u001b[1;32m    943\u001b[0m \u001b[0;34m\u001b[0m\u001b[0m\n\u001b[1;32m    944\u001b[0m         \u001b[0;32mif\u001b[0m \u001b[0mis_hashable\u001b[0m\u001b[0;34m(\u001b[0m\u001b[0mkey\u001b[0m\u001b[0;34m)\u001b[0m\u001b[0;34m:\u001b[0m\u001b[0;34m\u001b[0m\u001b[0;34m\u001b[0m\u001b[0m\n",
      "\u001b[0;32m~/opt/anaconda3/lib/python3.9/site-packages/pandas/core/series.py\u001b[0m in \u001b[0;36m_get_value\u001b[0;34m(self, label, takeable)\u001b[0m\n\u001b[1;32m   1049\u001b[0m \u001b[0;34m\u001b[0m\u001b[0m\n\u001b[1;32m   1050\u001b[0m         \u001b[0;31m# Similar to Index.get_value, but we do not fall back to positional\u001b[0m\u001b[0;34m\u001b[0m\u001b[0;34m\u001b[0m\u001b[0m\n\u001b[0;32m-> 1051\u001b[0;31m         \u001b[0mloc\u001b[0m \u001b[0;34m=\u001b[0m \u001b[0mself\u001b[0m\u001b[0;34m.\u001b[0m\u001b[0mindex\u001b[0m\u001b[0;34m.\u001b[0m\u001b[0mget_loc\u001b[0m\u001b[0;34m(\u001b[0m\u001b[0mlabel\u001b[0m\u001b[0;34m)\u001b[0m\u001b[0;34m\u001b[0m\u001b[0;34m\u001b[0m\u001b[0m\n\u001b[0m\u001b[1;32m   1052\u001b[0m         \u001b[0;32mreturn\u001b[0m \u001b[0mself\u001b[0m\u001b[0;34m.\u001b[0m\u001b[0mindex\u001b[0m\u001b[0;34m.\u001b[0m\u001b[0m_get_values_for_loc\u001b[0m\u001b[0;34m(\u001b[0m\u001b[0mself\u001b[0m\u001b[0;34m,\u001b[0m \u001b[0mloc\u001b[0m\u001b[0;34m,\u001b[0m \u001b[0mlabel\u001b[0m\u001b[0;34m)\u001b[0m\u001b[0;34m\u001b[0m\u001b[0;34m\u001b[0m\u001b[0m\n\u001b[1;32m   1053\u001b[0m \u001b[0;34m\u001b[0m\u001b[0m\n",
      "\u001b[0;32m~/opt/anaconda3/lib/python3.9/site-packages/pandas/core/indexes/range.py\u001b[0m in \u001b[0;36mget_loc\u001b[0;34m(self, key, method, tolerance)\u001b[0m\n\u001b[1;32m    385\u001b[0m                     \u001b[0;32mreturn\u001b[0m \u001b[0mself\u001b[0m\u001b[0;34m.\u001b[0m\u001b[0m_range\u001b[0m\u001b[0;34m.\u001b[0m\u001b[0mindex\u001b[0m\u001b[0;34m(\u001b[0m\u001b[0mnew_key\u001b[0m\u001b[0;34m)\u001b[0m\u001b[0;34m\u001b[0m\u001b[0;34m\u001b[0m\u001b[0m\n\u001b[1;32m    386\u001b[0m                 \u001b[0;32mexcept\u001b[0m \u001b[0mValueError\u001b[0m \u001b[0;32mas\u001b[0m \u001b[0merr\u001b[0m\u001b[0;34m:\u001b[0m\u001b[0;34m\u001b[0m\u001b[0;34m\u001b[0m\u001b[0m\n\u001b[0;32m--> 387\u001b[0;31m                     \u001b[0;32mraise\u001b[0m \u001b[0mKeyError\u001b[0m\u001b[0;34m(\u001b[0m\u001b[0mkey\u001b[0m\u001b[0;34m)\u001b[0m \u001b[0;32mfrom\u001b[0m \u001b[0merr\u001b[0m\u001b[0;34m\u001b[0m\u001b[0;34m\u001b[0m\u001b[0m\n\u001b[0m\u001b[1;32m    388\u001b[0m             \u001b[0;32mraise\u001b[0m \u001b[0mKeyError\u001b[0m\u001b[0;34m(\u001b[0m\u001b[0mkey\u001b[0m\u001b[0;34m)\u001b[0m\u001b[0;34m\u001b[0m\u001b[0;34m\u001b[0m\u001b[0m\n\u001b[1;32m    389\u001b[0m         \u001b[0;32mreturn\u001b[0m \u001b[0msuper\u001b[0m\u001b[0;34m(\u001b[0m\u001b[0;34m)\u001b[0m\u001b[0;34m.\u001b[0m\u001b[0mget_loc\u001b[0m\u001b[0;34m(\u001b[0m\u001b[0mkey\u001b[0m\u001b[0;34m,\u001b[0m \u001b[0mmethod\u001b[0m\u001b[0;34m=\u001b[0m\u001b[0mmethod\u001b[0m\u001b[0;34m,\u001b[0m \u001b[0mtolerance\u001b[0m\u001b[0;34m=\u001b[0m\u001b[0mtolerance\u001b[0m\u001b[0;34m)\u001b[0m\u001b[0;34m\u001b[0m\u001b[0;34m\u001b[0m\u001b[0m\n",
      "\u001b[0;31mKeyError\u001b[0m: 4"
     ]
    }
   ],
   "source": [
    "labels = ['PEM & LH2', 'AEL & LH2']\n",
    "Stromkosten = np.array([1.5,1.5])\n",
    "\n",
    "Elektrolyse = np.array([Linkkosten['Value [€/kg]'][0],\n",
    "                        Linkkosten['Value [€/kg]'][1]])\n",
    "Umwandlung = np.array([Linkkosten['Value [€/kg]'][2],\n",
    "                       Linkkosten['Value [€/kg]'][2]])\n",
    "Ferntransport_1 = np.array([Linkkosten['Value [€/kg]'][3],\n",
    "                            Linkkosten['Value [€/kg]'][3]])\n",
    "Inlandstransport = np.array([Linkkosten['Value [€/kg]'][4],\n",
    "                             Linkkosten['Value [€/kg]'][4]])\n",
    "\n",
    "Speicherung = np.array([Speicherkosten['Value [€/kg]'][2]+Speicherkosten['Value [€/kg]'][4],\n",
    "                        Speicherkosten['Value [€/kg]'][2]+Speicherkosten['Value [€/kg]'][4]])\n",
    "\n",
    "Sonstige= np.array([0.1,0.3])\n",
    "# the width of the bars: can also be len(x) sequence\n",
    "width=0.5\n",
    "fig, ax = plt.subplots(figsize=(14,8))\n",
    "#x_pos = [-2,0,2]\n",
    "#ax.bar(labels, Stromkosten, label='Stromkosten',width=width,color='lightcoral')\n",
    "ax.bar(labels, Elektrolyse, bottom=Stromkosten,\n",
    "       label='Elektrolyse',width=width,color='indianred')\n",
    "ax.bar(labels, Speicherung, bottom=Stromkosten+Elektrolyse,\n",
    "       label='Speicherung',width=width,color='firebrick')\n",
    "ax.bar(labels, Ferntransport_1, bottom=Stromkosten+Elektrolyse+Speicherung,\n",
    "       label='Ferntransport',width=width,color='brown')\n",
    "#ax.bar(labels, Inlandstransport, bottom=Stromkosten+Elektrolyse+Speicherung+Ferntransport_1,\n",
    "#       label='Inlandstransport',width=width,color='maroon')\n",
    "ax.bar(labels, Umwandlung, bottom=Stromkosten+Elektrolyse+Speicherung+Ferntransport_1+Inlandstransport,\n",
    "       label='Umwandlung',width=width,color='darkred')\n",
    "#ax.bar(labels, Sonstige, bottom=Stromkosten+Elektrolyse+Speicherung+Ferntransport_1+Inlandstransport+Umwandlung,\n",
    "#       label='Sonstige',width=width,color='red')\n",
    "\n",
    "ax.set_ylabel('Kosten in [€/kg]')\n",
    "ax.set_title('Wasserstoffbereitstellung')\n",
    "ax.legend(loc='upper right')\n",
    "\n",
    "for p in ax.patches:\n",
    "    width, height = p.get_width(), p.get_height()\n",
    "    x, y = p.get_xy() \n",
    "    ax.text(x+width/2, \n",
    "            y+height/2, \n",
    "            '{:.02f}€'.format(height), \n",
    "            horizontalalignment='center', \n",
    "            verticalalignment='center',\n",
    "            color='white',\n",
    "            fontsize=10,\n",
    "            )\n",
    "  \n",
    "\n",
    "horiz_offset = 1.03\n",
    "vert_offset = 1.\n",
    "ax.legend(bbox_to_anchor=(horiz_offset, vert_offset))\n",
    "#plt.xticks(x_pos, labels)\n",
    "plt.show()"
   ]
  },
  {
   "cell_type": "code",
   "execution_count": null,
   "id": "12b89a4f",
   "metadata": {},
   "outputs": [],
   "source": [
    "labels = ['PEM & LH2', 'PEM & NH3', 'PEM & LOHC']\n",
    "Stromkosten = np.array([1.5,1.5,1.5])\n",
    "\n",
    "Elektrolyse = np.array([Linkkosten['Value [€/kg]'][0],\n",
    "                        Linkkosten['Value [€/kg]'][0],\n",
    "                        Linkkosten['Value [€/kg]'][0]])\n",
    "Umwandlung = np.array([Linkkosten['Value [€/kg]'][2],0,0])\n",
    "Ferntransport_1 = np.array([Linkkosten['Value [€/kg]'][3],0,0])\n",
    "Inlandstransport = np.array([Linkkosten['Value [€/kg]'][4],0,0])\n",
    "\n",
    "Speicherung = np.array([Speicherkosten['Value [€/kg]'][2]+Speicherkosten['Value [€/kg]'][4],0,0])\n",
    "\n",
    "Sonstige= np.array([0.1,0.3,0.5])\n",
    "# the width of the bars: can also be len(x) sequence\n",
    "width=0.5\n",
    "fig, ax = plt.subplots(figsize=(14,8))\n",
    "#x_pos = [-2,0,2]\n",
    "#ax.bar(labels, Stromkosten, label='Stromkosten',width=width,color='lightcoral')\n",
    "ax.bar(labels, Elektrolyse, bottom=Stromkosten,\n",
    "       label='Elektrolyse',width=width,color='indianred')\n",
    "ax.bar(labels, Speicherung, bottom=Stromkosten+Elektrolyse,\n",
    "       label='Speicherung',width=width,color='firebrick')\n",
    "ax.bar(labels, Ferntransport_1, bottom=Stromkosten+Elektrolyse+Speicherung,\n",
    "       label='Ferntransport',width=width,color='brown')\n",
    "#ax.bar(labels, Inlandstransport, bottom=Stromkosten+Elektrolyse+Speicherung+Ferntransport_1,\n",
    "#       label='Inlandstransport',width=width,color='maroon')\n",
    "ax.bar(labels, Umwandlung, bottom=Stromkosten+Elektrolyse+Speicherung+Ferntransport_1+Inlandstransport,\n",
    "       label='Umwandlung',width=width,color='darkred')\n",
    "#ax.bar(labels, Sonstige, bottom=Stromkosten+Elektrolyse+Speicherung+Ferntransport_1+Inlandstransport+Umwandlung,\n",
    "#       label='Sonstige',width=width,color='red')\n",
    "\n",
    "ax.set_ylabel('Kosten in [€/kg]')\n",
    "ax.set_title('Wasserstoffbereitstellung')\n",
    "ax.legend(loc='upper right')\n",
    "\n",
    "for p in ax.patches:\n",
    "    width, height = p.get_width(), p.get_height()\n",
    "    x, y = p.get_xy() \n",
    "    ax.text(x+width/2, \n",
    "            y+height/2, \n",
    "            '{:.02f}€'.format(height), \n",
    "            horizontalalignment='center', \n",
    "            verticalalignment='center',\n",
    "            color='white',\n",
    "            fontsize=10,\n",
    "            )\n",
    "  \n",
    "\n",
    "horiz_offset = 1.03\n",
    "vert_offset = 1.\n",
    "ax.legend(bbox_to_anchor=(horiz_offset, vert_offset))\n",
    "#plt.xticks(x_pos, labels)\n",
    "plt.show()"
   ]
  },
  {
   "cell_type": "markdown",
   "id": "dd7eb477",
   "metadata": {},
   "source": [
    "Ursprüngliche Grafik"
   ]
  },
  {
   "cell_type": "code",
   "execution_count": null,
   "id": "5bf2d553",
   "metadata": {
    "executionInfo": {
     "elapsed": 8,
     "status": "aborted",
     "timestamp": 1673435393738,
     "user": {
      "displayName": "Christof Gipser",
      "userId": "04329298021906177943"
     },
     "user_tz": -60
    },
    "id": "pcw9XUen7mFL"
   },
   "outputs": [],
   "source": [
    "labels = ['PEM & LH2', 'AEL & LH2']\n",
    "Stromkosten = np.array([Linkkosten['Value [€/kg]'][0],Linkkosten['Value [€/kg]'][1]])\n",
    "Elektrolyse = np.array([2,1.5])\n",
    "Speicherung = np.array([0.15,0.12])\n",
    "Ferntransport_1 = np.array([1,0.2])\n",
    "Inlandstransport = np.array([0.3,0.3])\n",
    "Umwandlung = np.array([0.7,0.3])\n",
    "Sonstige= np.array([0.1,0.3])\n",
    "# the width of the bars: can also be len(x) sequence\n",
    "width=0.5\n",
    "fig, ax = plt.subplots(figsize=(7,7))\n",
    "#x_pos = [-2,0,2]\n",
    "ax.bar(labels, Stromkosten, label='Stromkosten',width=width,color='lightcoral')\n",
    "ax.bar(labels, Elektrolyse, bottom=Stromkosten,\n",
    "       label='Elektrolyse',width=width,color='indianred')\n",
    "ax.bar(labels, Speicherung, bottom=Stromkosten+Elektrolyse,\n",
    "       label='Speicherung',width=width,color='firebrick')\n",
    "ax.bar(labels, Ferntransport_1, bottom=Stromkosten+Elektrolyse+Speicherung,\n",
    "       label='Ferntransport',width=width,color='brown')\n",
    "ax.bar(labels, Inlandstransport, bottom=Stromkosten+Elektrolyse+Speicherung+Ferntransport_1,\n",
    "       label='Inlandstransport',width=width,color='maroon')\n",
    "ax.bar(labels, Umwandlung, bottom=Stromkosten+Elektrolyse+Speicherung+Ferntransport_1+Inlandstransport,\n",
    "       label='Umwandlung',width=width,color='darkred')\n",
    "ax.bar(labels, Sonstige, bottom=Stromkosten+Elektrolyse+Speicherung+Ferntransport_1+Inlandstransport+Umwandlung,\n",
    "       label='Sonstige',width=width,color='red')\n",
    "\n",
    "ax.set_ylabel('Kosten in [€]')\n",
    "ax.set_title('Wasserstoffbereitstellungskosten in €/kg Wasserstoff')\n",
    "ax.legend(loc='upper right')\n",
    "\n",
    "for p in ax.patches:\n",
    "    width, height = p.get_width(), p.get_height()\n",
    "    x, y = p.get_xy() \n",
    "    ax.text(x+width/2, \n",
    "            y+height/2, \n",
    "            '{:.02f}€'.format(height), \n",
    "            horizontalalignment='center', \n",
    "            verticalalignment='center',\n",
    "            color='white',\n",
    "            fontsize=10,\n",
    "            )\n",
    "  \n",
    "\n",
    "horiz_offset = 1.03\n",
    "vert_offset = 1.\n",
    "ax.legend(bbox_to_anchor=(horiz_offset, vert_offset))\n",
    "#plt.xticks(x_pos, labels)\n",
    "plt.show()"
   ]
  },
  {
   "cell_type": "code",
   "execution_count": null,
   "id": "45a1577b",
   "metadata": {},
   "outputs": [],
   "source": []
  }
 ],
 "metadata": {
  "colab": {
   "provenance": []
  },
  "hide_input": false,
  "kernelspec": {
   "display_name": "Python 3 (ipykernel)",
   "language": "python",
   "name": "python3"
  },
  "language_info": {
   "codemirror_mode": {
    "name": "ipython",
    "version": 3
   },
   "file_extension": ".py",
   "mimetype": "text/x-python",
   "name": "python",
   "nbconvert_exporter": "python",
   "pygments_lexer": "ipython3",
   "version": "3.9.7"
  },
  "toc": {
   "base_numbering": 1,
   "nav_menu": {},
   "number_sections": true,
   "sideBar": true,
   "skip_h1_title": false,
   "title_cell": "Table of Contents",
   "title_sidebar": "Contents",
   "toc_cell": false,
   "toc_position": {
    "height": "calc(100% - 180px)",
    "left": "10px",
    "top": "150px",
    "width": "269px"
   },
   "toc_section_display": true,
   "toc_window_display": true
  }
 },
 "nbformat": 4,
 "nbformat_minor": 5
}
