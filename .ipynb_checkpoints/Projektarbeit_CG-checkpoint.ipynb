{
 "cells": [
  {
   "cell_type": "code",
   "execution_count": 1,
   "id": "f9a9c5ab",
   "metadata": {
    "code_folding": [
     0
    ],
    "executionInfo": {
     "elapsed": 6550,
     "status": "ok",
     "timestamp": 1673435341643,
     "user": {
      "displayName": "Christof Gipser",
      "userId": "04329298021906177943"
     },
     "user_tz": -60
    },
    "id": "f9a9c5ab"
   },
   "outputs": [],
   "source": [
    "# Import der Bibliotheken\n",
    "\n",
    "import pypsa\n",
    "import pandas as pd\n",
    "import numpy as np\n",
    "import matplotlib.pyplot as plt\n",
    "import datetime\n",
    "from datetime import date, datetime\n",
    "import locale"
   ]
  },
  {
   "cell_type": "code",
   "execution_count": 2,
   "id": "7b3f3900",
   "metadata": {
    "code_folding": [
     0
    ],
    "executionInfo": {
     "elapsed": 6550,
     "status": "ok",
     "timestamp": 1673435341643,
     "user": {
      "displayName": "Christof Gipser",
      "userId": "04329298021906177943"
     },
     "user_tz": -60
    },
    "id": "f9a9c5ab"
   },
   "outputs": [],
   "source": [
    "# Konfiguration der Grafiken\n",
    "\n",
    "plt.rcParams['savefig.dpi'] = 200\n",
    "plt.rcParams['figure.dpi'] = 200\n",
    "plt.rcParams['figure.autolayout'] = False\n",
    "\n",
    "plt.rcParams['figure.figsize'] = (20, 10)\n",
    "plt.rcParams['axes.labelsize'] = 14\n",
    "plt.rcParams['axes.titlesize'] = 20\n",
    "plt.rcParams['font.size'] = 14\n",
    "plt.rcParams['legend.fontsize'] = 12\n",
    "\n",
    "plt.rcParams['lines.linewidth'] = 1.5\n",
    "plt.rcParams['lines.markersize'] = 8\n",
    "\n",
    "plt.rcParams['xtick.labelsize'] = 14\n",
    "plt.rcParams['ytick.labelsize'] = 14\n"
   ]
  },
  {
   "cell_type": "markdown",
   "id": "2b98ccea",
   "metadata": {
    "id": "2b98ccea"
   },
   "source": [
    "# Einlesen der Datenreihen"
   ]
  },
  {
   "cell_type": "code",
   "execution_count": 3,
   "id": "Fe26l2tN6gYr",
   "metadata": {
    "code_folding": [
     0
    ],
    "colab": {
     "base_uri": "https://localhost:8080/",
     "height": 446
    },
    "executionInfo": {
     "elapsed": 731,
     "status": "error",
     "timestamp": 1673435393733,
     "user": {
      "displayName": "Christof Gipser",
      "userId": "04329298021906177943"
     },
     "user_tz": -60
    },
    "id": "Fe26l2tN6gYr",
    "outputId": "61866d25-63ff-42b3-daa9-cb0b24df3458"
   },
   "outputs": [],
   "source": [
    "# Einlesen externen Daten\n",
    "data_pv = pd.read_csv('data/data_pv_antofagasta_1MW.csv', skiprows = 3)\n",
    "data_wind = pd.read_csv('data/data_wind_antofagasta_1MW.csv', skiprows = 3)\n",
    "#data_electrolysis = pd.read_excel('data/load_electrolysis.xlsx')\n",
    "data_shipping_1 = pd.read_excel('data/Ferntransport_12.xlsx')"
   ]
  },
  {
   "cell_type": "code",
   "execution_count": 4,
   "id": "ifaKYx4DfMZO",
   "metadata": {
    "code_folding": [
     0
    ],
    "executionInfo": {
     "elapsed": 8,
     "status": "aborted",
     "timestamp": 1673435393734,
     "user": {
      "displayName": "Christof Gipser",
      "userId": "04329298021906177943"
     },
     "user_tz": -60
    },
    "id": "ifaKYx4DfMZO"
   },
   "outputs": [],
   "source": [
    "# Erstellung eines Dataframes aus externen Daten\n",
    "\n",
    "dataset_df=pd.DataFrame()\n",
    "dataset_df['Zeitstempel']=data_pv['time']\n",
    "dataset_df['PV_Erzeugung']=data_pv['electricity']\n",
    "dataset_df['Wind_Erzeugung']=data_wind['electricity']\n",
    "#dataset_df['Elektrolyse']=data_electrolysis['hydrogen']\n",
    "dataset_df['Kapazität_Schiff']=data_shipping_1['Kapazität [MWh]']\n",
    "dataset_df.Kapazität_Schiff=dataset_df.Kapazität_Schiff.fillna(method='ffill')"
   ]
  },
  {
   "cell_type": "code",
   "execution_count": 5,
   "id": "6b6aa064",
   "metadata": {
    "code_folding": [],
    "executionInfo": {
     "elapsed": 9,
     "status": "aborted",
     "timestamp": 1673435393735,
     "user": {
      "displayName": "Christof Gipser",
      "userId": "04329298021906177943"
     },
     "user_tz": -60
    },
    "id": "6b6aa064",
    "scrolled": true
   },
   "outputs": [
    {
     "data": {
      "text/html": [
       "<div>\n",
       "<style scoped>\n",
       "    .dataframe tbody tr th:only-of-type {\n",
       "        vertical-align: middle;\n",
       "    }\n",
       "\n",
       "    .dataframe tbody tr th {\n",
       "        vertical-align: top;\n",
       "    }\n",
       "\n",
       "    .dataframe thead th {\n",
       "        text-align: right;\n",
       "    }\n",
       "</style>\n",
       "<table border=\"1\" class=\"dataframe\">\n",
       "  <thead>\n",
       "    <tr style=\"text-align: right;\">\n",
       "      <th></th>\n",
       "      <th>marginal_cost</th>\n",
       "      <th>lifetime</th>\n",
       "      <th>capital_cost</th>\n",
       "      <th>efficiency</th>\n",
       "      <th>standing_loss</th>\n",
       "    </tr>\n",
       "  </thead>\n",
       "  <tbody>\n",
       "    <tr>\n",
       "      <th>NaN</th>\n",
       "      <td>static</td>\n",
       "      <td>float</td>\n",
       "      <td>float</td>\n",
       "      <td>float</td>\n",
       "      <td>float</td>\n",
       "    </tr>\n",
       "    <tr>\n",
       "      <th>Photovoltaik (Chile)</th>\n",
       "      <td>68.9</td>\n",
       "      <td>0</td>\n",
       "      <td>0</td>\n",
       "      <td>n.v.</td>\n",
       "      <td>n.v.</td>\n",
       "    </tr>\n",
       "    <tr>\n",
       "      <th>Windkraft (Chile)</th>\n",
       "      <td>48.41</td>\n",
       "      <td>0</td>\n",
       "      <td>0</td>\n",
       "      <td>n.v.</td>\n",
       "      <td>n.v.</td>\n",
       "    </tr>\n",
       "    <tr>\n",
       "      <th>PEM Elektrolyse</th>\n",
       "      <td>95.226003</td>\n",
       "      <td>10</td>\n",
       "      <td>720000</td>\n",
       "      <td>0.598911</td>\n",
       "      <td>n.v.</td>\n",
       "    </tr>\n",
       "    <tr>\n",
       "      <th>AEL Elektrolyse</th>\n",
       "      <td>120.831319</td>\n",
       "      <td>10</td>\n",
       "      <td>630000</td>\n",
       "      <td>0.617978</td>\n",
       "      <td>n.v.</td>\n",
       "    </tr>\n",
       "    <tr>\n",
       "      <th>Verflüssigung</th>\n",
       "      <td>6.060606</td>\n",
       "      <td>20</td>\n",
       "      <td>3296969.69697</td>\n",
       "      <td>1</td>\n",
       "      <td>n.v.</td>\n",
       "    </tr>\n",
       "    <tr>\n",
       "      <th>Haber-Bosch</th>\n",
       "      <td>0</td>\n",
       "      <td>0</td>\n",
       "      <td>0</td>\n",
       "      <td>0</td>\n",
       "      <td>n.v.</td>\n",
       "    </tr>\n",
       "    <tr>\n",
       "      <th>Hydrierung</th>\n",
       "      <td>0</td>\n",
       "      <td>0</td>\n",
       "      <td>0</td>\n",
       "      <td>0</td>\n",
       "      <td>n.v.</td>\n",
       "    </tr>\n",
       "    <tr>\n",
       "      <th>GH2 Speicher</th>\n",
       "      <td>20.854545</td>\n",
       "      <td>20</td>\n",
       "      <td>1042.727273</td>\n",
       "      <td>n.v.</td>\n",
       "      <td>0</td>\n",
       "    </tr>\n",
       "    <tr>\n",
       "      <th>LH2 Speicher</th>\n",
       "      <td>21.818182</td>\n",
       "      <td>25</td>\n",
       "      <td>1090.909091</td>\n",
       "      <td>n.v.</td>\n",
       "      <td>0.000083</td>\n",
       "    </tr>\n",
       "    <tr>\n",
       "      <th>NH3 Speicher</th>\n",
       "      <td>0</td>\n",
       "      <td>0</td>\n",
       "      <td>0</td>\n",
       "      <td>n.v.</td>\n",
       "      <td>0</td>\n",
       "    </tr>\n",
       "    <tr>\n",
       "      <th>LOHC Speicher</th>\n",
       "      <td>0</td>\n",
       "      <td>0</td>\n",
       "      <td>0</td>\n",
       "      <td>n.v.</td>\n",
       "      <td>0</td>\n",
       "    </tr>\n",
       "    <tr>\n",
       "      <th>Pipeline</th>\n",
       "      <td>4.804</td>\n",
       "      <td>n.v.</td>\n",
       "      <td>0</td>\n",
       "      <td>0</td>\n",
       "      <td>n.v.</td>\n",
       "    </tr>\n",
       "    <tr>\n",
       "      <th>LH2 Schiff</th>\n",
       "      <td>0</td>\n",
       "      <td>n.v.</td>\n",
       "      <td>0</td>\n",
       "      <td>0</td>\n",
       "      <td>n.v.</td>\n",
       "    </tr>\n",
       "    <tr>\n",
       "      <th>NH3 Schiff</th>\n",
       "      <td>0</td>\n",
       "      <td>n.v.</td>\n",
       "      <td>0</td>\n",
       "      <td>0</td>\n",
       "      <td>n.v.</td>\n",
       "    </tr>\n",
       "    <tr>\n",
       "      <th>LOHC Schiff</th>\n",
       "      <td>0</td>\n",
       "      <td>n.v.</td>\n",
       "      <td>0</td>\n",
       "      <td>0</td>\n",
       "      <td>n.v.</td>\n",
       "    </tr>\n",
       "  </tbody>\n",
       "</table>\n",
       "</div>"
      ],
      "text/plain": [
       "                     marginal_cost lifetime   capital_cost efficiency  \\\n",
       "NaN                         static    float          float      float   \n",
       "Photovoltaik (Chile)          68.9        0              0       n.v.   \n",
       "Windkraft (Chile)            48.41        0              0       n.v.   \n",
       "PEM Elektrolyse          95.226003       10         720000   0.598911   \n",
       "AEL Elektrolyse         120.831319       10         630000   0.617978   \n",
       "Verflüssigung             6.060606       20  3296969.69697          1   \n",
       "Haber-Bosch                      0        0              0          0   \n",
       "Hydrierung                       0        0              0          0   \n",
       "GH2 Speicher             20.854545       20    1042.727273       n.v.   \n",
       "LH2 Speicher             21.818182       25    1090.909091       n.v.   \n",
       "NH3 Speicher                     0        0              0       n.v.   \n",
       "LOHC Speicher                    0        0              0       n.v.   \n",
       "Pipeline                     4.804     n.v.              0          0   \n",
       "LH2 Schiff                       0     n.v.              0          0   \n",
       "NH3 Schiff                       0     n.v.              0          0   \n",
       "LOHC Schiff                      0     n.v.              0          0   \n",
       "\n",
       "                     standing_loss  \n",
       "NaN                          float  \n",
       "Photovoltaik (Chile)          n.v.  \n",
       "Windkraft (Chile)             n.v.  \n",
       "PEM Elektrolyse               n.v.  \n",
       "AEL Elektrolyse               n.v.  \n",
       "Verflüssigung                 n.v.  \n",
       "Haber-Bosch                   n.v.  \n",
       "Hydrierung                    n.v.  \n",
       "GH2 Speicher                     0  \n",
       "LH2 Speicher              0.000083  \n",
       "NH3 Speicher                     0  \n",
       "LOHC Speicher                    0  \n",
       "Pipeline                      n.v.  \n",
       "LH2 Schiff                    n.v.  \n",
       "NH3 Schiff                    n.v.  \n",
       "LOHC Schiff                   n.v.  "
      ]
     },
     "execution_count": 5,
     "metadata": {},
     "output_type": "execute_result"
    }
   ],
   "source": [
    "# Einlesen und Ausgabe der Inputs für die Variablen\n",
    "\n",
    "data_inputs = pd.read_excel('data/Inputs_Modell.xlsx', sheet_name = 'Gesamt', header = 2, index_col = 0, nrows = 16)\n",
    "\n",
    "data_inputs=pd.DataFrame(data_inputs.fillna(0)).drop(columns = ['Unnamed: 1','name','bus','p_nom','Unnamed: 10']).round(2)\n",
    "data_inputs"
   ]
  },
  {
   "cell_type": "markdown",
   "id": "5fadf68f",
   "metadata": {
    "id": "5fadf68f"
   },
   "source": [
    "# Definition der Variablen"
   ]
  },
  {
   "cell_type": "code",
   "execution_count": 6,
   "id": "a1970481",
   "metadata": {
    "code_folding": [
     0
    ],
    "executionInfo": {
     "elapsed": 9,
     "status": "aborted",
     "timestamp": 1673435393735,
     "user": {
      "displayName": "Christof Gipser",
      "userId": "04329298021906177943"
     },
     "user_tz": -60
    },
    "id": "a1970481",
    "scrolled": true
   },
   "outputs": [
    {
     "name": "stdout",
     "output_type": "stream",
     "text": [
      "Der stündliche Bedarf bei konstanter Verteilung des Jahresbedarfs von 35 kt Wasserstoff beträgt ungefähr 132.0 MWh\n"
     ]
    }
   ],
   "source": [
    "# Erstellung des Wasserstoffbedarfs\n",
    "\n",
    "hydrogen_energy_content = 33 #kWh/kg oder MWh/t\n",
    "hydrogen_demand_t = 35 * 1000\n",
    "hydrogen_demand_kg = hydrogen_demand_t * 1000\n",
    "hydrogen_demand_MWh = hydrogen_demand_t * hydrogen_energy_content # MWh\n",
    "hydrogen_demand_hourly = hydrogen_demand_MWh/8760 #MW\n",
    "\n",
    "print('Der stündliche Bedarf bei konstanter Verteilung des Jahresbedarfs von 35 kt Wasserstoff beträgt ungefähr ' + str(round(hydrogen_demand_hourly,0)) + ' MWh')"
   ]
  },
  {
   "cell_type": "code",
   "execution_count": 7,
   "id": "b8bc5fc1",
   "metadata": {
    "code_folding": [
     0
    ]
   },
   "outputs": [
    {
     "name": "stdout",
     "output_type": "stream",
     "text": [
      "Der stündliche Bedarf bei konstanter Verteilung des Jahresbedarfs für die Entsalzungsanlage beträgt ungefähr 0 MWh\n"
     ]
    }
   ],
   "source": [
    "# Erstellung der Last durch die Entsalzungsanlage\n",
    "\n",
    "p_desalination = 0 #MWh/a)\n",
    "print('Der stündliche Bedarf bei konstanter Verteilung des Jahresbedarfs für die Entsalzungsanlage beträgt ungefähr ' + str(round(p_desalination,0)) + ' MWh')"
   ]
  },
  {
   "cell_type": "markdown",
   "id": "b5e81e71",
   "metadata": {
    "id": "b5e81e71"
   },
   "source": [
    "## Investitionskosten"
   ]
  },
  {
   "cell_type": "code",
   "execution_count": 8,
   "id": "f7557704",
   "metadata": {
    "code_folding": [
     0
    ],
    "executionInfo": {
     "elapsed": 8,
     "status": "aborted",
     "timestamp": 1673435393735,
     "user": {
      "displayName": "Christof Gipser",
      "userId": "04329298021906177943"
     },
     "user_tz": -60
    },
    "id": "f7557704"
   },
   "outputs": [],
   "source": [
    "# capital_cost\n",
    "\n",
    "# Erzeugung\n",
    "capital_cost_pv = data_inputs.loc['Photovoltaik (Chile)']['capital_cost'] # €/MW\n",
    "capital_cost_wind = data_inputs.loc['Windkraft (Chile)']['capital_cost'] # €/MW\n",
    "\n",
    "\n",
    "# Elektrolyse\n",
    "capital_cost_PEMEL = data_inputs.loc['PEM Elektrolyse']['capital_cost'] # €/MW\n",
    "capital_cost_AEL = data_inputs.loc['AEL Elektrolyse']['capital_cost'] # €/MW\n",
    "#capital_cost_HTEL = 1300 # €/MW\n",
    "\n",
    "\n",
    "# Umwandlung\n",
    "capital_cost_LH2 = data_inputs.loc['Verflüssigung']['capital_cost'] # €/MW\n",
    "capital_cost_NH3 = data_inputs.loc['Haber-Bosch']['capital_cost'] # €/MW\n",
    "capital_cost_LOHC = data_inputs.loc['Hydrierung']['capital_cost'] # €/MW\n",
    "\n",
    "\n",
    "#Transport\n",
    "capital_cost_pipeline = data_inputs.loc['Pipeline']['capital_cost'] # €/MW\n",
    "capital_cost_shipping_LH2 = data_inputs.loc['LH2 Schiff']['capital_cost'] # €/MW\n",
    "capital_cost_shipping_NH3 = data_inputs.loc['NH3 Schiff']['capital_cost'] # €/MW\n",
    "capital_cost_shipping_LOHC = data_inputs.loc['LOHC Schiff']['capital_cost'] # €/MW\n",
    "\n",
    "\n",
    "# Speicherung\n",
    "capital_cost_storage_el = 1000000\n",
    "capital_cost_storage_NH3 = data_inputs.loc['LH2 Speicher']['capital_cost'] # €/MW\n",
    "capital_cost_storage_LH2 = data_inputs.loc['NH3 Speicher']['capital_cost'] # €/MW\n",
    "capital_cost_storage_LOHC = data_inputs.loc['LOHC Speicher']['capital_cost'] # €/MW\n",
    "capital_cost_storage_GH2 = data_inputs.loc['GH2 Speicher']['capital_cost'] # €/MW"
   ]
  },
  {
   "cell_type": "markdown",
   "id": "4a7b55cc",
   "metadata": {
    "id": "4a7b55cc"
   },
   "source": [
    "## Gestehungskosten"
   ]
  },
  {
   "cell_type": "code",
   "execution_count": 9,
   "id": "bc66b833",
   "metadata": {
    "code_folding": [
     0
    ],
    "executionInfo": {
     "elapsed": 8,
     "status": "aborted",
     "timestamp": 1673435393735,
     "user": {
      "displayName": "Christof Gipser",
      "userId": "04329298021906177943"
     },
     "user_tz": -60
    },
    "id": "bc66b833"
   },
   "outputs": [],
   "source": [
    "# marginal_cost\n",
    "\n",
    "# Erzeugung\n",
    "marginal_cost_pv = data_inputs.loc['Photovoltaik (Chile)']['marginal_cost'] # €/MWh\n",
    "marginal_cost_wind = data_inputs.loc['Windkraft (Chile)']['marginal_cost'] # €/MWh\n",
    "\n",
    "# Elektrolyse\n",
    "marginal_cost_PEMEL = data_inputs.loc['PEM Elektrolyse']['marginal_cost'] # €/MWh\n",
    "marginal_cost_AEL = data_inputs.loc['AEL Elektrolyse']['marginal_cost'] # €/MWh\n",
    "#marginal_cost_HTEL = 100 # €/MWh\n",
    "\n",
    "# Umwandlung\n",
    "marginal_cost_LH2 = data_inputs.loc['Verflüssigung']['marginal_cost'] # €/MWh\n",
    "marginal_cost_NH3 = data_inputs.loc['Haber-Bosch']['marginal_cost'] # €/MWh\n",
    "marginal_cost_LOHC = data_inputs.loc['Hydrierung']['marginal_cost'] # €/MWh\n",
    "\n",
    "# Transport\n",
    "marginal_cost_pipeline = data_inputs.loc['Pipeline']['marginal_cost'] # €/MWh\n",
    "marginal_cost_shipping_LH2 = data_inputs.loc['LH2 Schiff']['marginal_cost'] # €/MWh\n",
    "marginal_cost_shipping_NH3 = data_inputs.loc['NH3 Schiff']['marginal_cost'] # €/MWh\n",
    "marginal_cost_shipping_LOHC = data_inputs.loc['LOHC Schiff']['marginal_cost'] # €/MWh\n",
    "\n",
    "# Speicherung\n",
    "marginal_cost_storage_el = 8000\n",
    "marginal_cost_storage_LH2 = data_inputs.loc['LH2 Speicher']['marginal_cost'] # €/MWh\n",
    "marginal_cost_storage_NH3 = data_inputs.loc['NH3 Speicher']['marginal_cost'] # €/MWh\n",
    "marginal_cost_storage_LOHC = data_inputs.loc['LOHC Speicher']['marginal_cost'] # €/MWh\n",
    "marginal_cost_storage_GH2 = data_inputs.loc['GH2 Speicher']['marginal_cost'] # €/MWh"
   ]
  },
  {
   "cell_type": "markdown",
   "id": "bf48b910",
   "metadata": {
    "id": "bf48b910"
   },
   "source": [
    "## Sonstiges"
   ]
  },
  {
   "cell_type": "code",
   "execution_count": 10,
   "id": "d3e88dda",
   "metadata": {
    "code_folding": [
     0
    ],
    "executionInfo": {
     "elapsed": 8,
     "status": "aborted",
     "timestamp": 1673435393735,
     "user": {
      "displayName": "Christof Gipser",
      "userId": "04329298021906177943"
     },
     "user_tz": -60
    },
    "id": "d3e88dda"
   },
   "outputs": [],
   "source": [
    "# Wirkungsgrad Erzeugung\n",
    "efficiency_PEMEL = data_inputs.loc['PEM Elektrolyse']['efficiency']\n",
    "efficiency_AEL = data_inputs.loc['AEL Elektrolyse']['efficiency']\n",
    "#efficiency_HTEL = 1\n",
    "\n",
    "# Wirkungsgrad Umwandlung\n",
    "efficiency_NH3 = data_inputs.loc['Haber-Bosch']['efficiency']\n",
    "efficiency_LH2 = data_inputs.loc['Verflüssigung']['efficiency']\n",
    "efficiency_LOHC = data_inputs.loc['Hydrierung']['efficiency']\n",
    "\n",
    "# Lebenszeit\n",
    "lifetime_PEMEL = data_inputs.loc['PEM Elektrolyse']['lifetime']\n",
    "lifetime_AEL = data_inputs.loc['AEL Elektrolyse']['lifetime']\n",
    "#lifetime_HTEL = 20\n",
    "\n",
    "# Speicherverluste\n",
    "standing_loss_el = 0.1\n",
    "standing_loss_NH3 = data_inputs.loc['LH2 Speicher']['standing_loss']\n",
    "standing_loss_LH2 = data_inputs.loc['NH3 Speicher']['standing_loss']\n",
    "standing_loss_LOHC = data_inputs.loc['LOHC Speicher']['standing_loss']\n",
    "standing_loss_GH2 = data_inputs.loc['GH2 Speicher']['standing_loss']"
   ]
  },
  {
   "cell_type": "markdown",
   "id": "d6282dfc",
   "metadata": {
    "id": "d6282dfc"
   },
   "source": [
    "# Netzwerk aufbauen"
   ]
  },
  {
   "cell_type": "code",
   "execution_count": 11,
   "id": "e544e18f",
   "metadata": {
    "executionInfo": {
     "elapsed": 8,
     "status": "aborted",
     "timestamp": 1673435393735,
     "user": {
      "displayName": "Christof Gipser",
      "userId": "04329298021906177943"
     },
     "user_tz": -60
    },
    "id": "e544e18f"
   },
   "outputs": [],
   "source": [
    "network = pypsa.Network()\n",
    "network.set_snapshots(range(8760))"
   ]
  },
  {
   "cell_type": "markdown",
   "id": "9991c95a",
   "metadata": {
    "id": "9991c95a"
   },
   "source": [
    "## Buses"
   ]
  },
  {
   "cell_type": "code",
   "execution_count": 12,
   "id": "9cede772",
   "metadata": {
    "code_folding": [
     0
    ],
    "executionInfo": {
     "elapsed": 8,
     "status": "aborted",
     "timestamp": 1673435393736,
     "user": {
      "displayName": "Christof Gipser",
      "userId": "04329298021906177943"
     },
     "user_tz": -60
    },
    "id": "9cede772"
   },
   "outputs": [],
   "source": [
    "# buses\n",
    "\n",
    "network.add('Bus', name = 'electricity')\n",
    "network.add('Bus', name = 'GH2')\n",
    "network.add('Bus', name = 'LH2')\n",
    "network.add('Bus', name = 'NH3')\n",
    "network.add('Bus', name = 'LOHC')\n",
    "network.add('Bus', name = 'bremerhaven')\n",
    "network.add('Bus', name = 'cologne')"
   ]
  },
  {
   "cell_type": "markdown",
   "id": "b6a510d5",
   "metadata": {
    "id": "b6a510d5"
   },
   "source": [
    "## Loads"
   ]
  },
  {
   "cell_type": "code",
   "execution_count": 13,
   "id": "e90456f6",
   "metadata": {
    "code_folding": [
     0,
     3
    ],
    "executionInfo": {
     "elapsed": 8,
     "status": "aborted",
     "timestamp": 1673435393736,
     "user": {
      "displayName": "Christof Gipser",
      "userId": "04329298021906177943"
     },
     "user_tz": -60
    },
    "id": "e90456f6"
   },
   "outputs": [],
   "source": [
    "network.add('Load', name = 'hydrogen_demand', bus = 'cologne', \n",
    "            p_set = hydrogen_demand_hourly)\n",
    "\n",
    "network.add('Load', name = 'desalination', bus = 'electricity', \n",
    "            p_set = p_desalination)"
   ]
  },
  {
   "cell_type": "markdown",
   "id": "2ccfd17e",
   "metadata": {
    "id": "2ccfd17e"
   },
   "source": [
    "## Generators"
   ]
  },
  {
   "cell_type": "code",
   "execution_count": 14,
   "id": "4f04b3e1",
   "metadata": {
    "code_folding": [
     0,
     7
    ],
    "executionInfo": {
     "elapsed": 8,
     "status": "aborted",
     "timestamp": 1673435393736,
     "user": {
      "displayName": "Christof Gipser",
      "userId": "04329298021906177943"
     },
     "user_tz": -60
    },
    "id": "4f04b3e1"
   },
   "outputs": [],
   "source": [
    "network.add('Generator', name = 'Photovoltaik', bus = 'electricity', \n",
    "            p_nom = dataset_df['PV_Erzeugung'].max(),\n",
    "            p_max_pu = dataset_df['PV_Erzeugung']/dataset_df['PV_Erzeugung'].max(), \n",
    "            p_min_pu = dataset_df['PV_Erzeugung']/dataset_df['PV_Erzeugung'].max(), \n",
    "            p_nom_extendable = True,\n",
    "            marginal_cost = marginal_cost_pv, capital_cost = capital_cost_pv)\n",
    "\n",
    "network.add('Generator', name = 'Windkraft', bus = 'electricity',\n",
    "            p_nom = dataset_df['Wind_Erzeugung'].max(),\n",
    "            p_max_pu = dataset_df['Wind_Erzeugung']/dataset_df['Wind_Erzeugung'].max(), \n",
    "            p_min_pu = dataset_df['Wind_Erzeugung']/dataset_df['Wind_Erzeugung'].max(), \n",
    "            p_nom_extendable = True,\n",
    "            marginal_cost = marginal_cost_wind, capital_cost = capital_cost_wind)"
   ]
  },
  {
   "cell_type": "markdown",
   "id": "03e464ac",
   "metadata": {
    "id": "03e464ac"
   },
   "source": [
    "## Links - Electrolysis"
   ]
  },
  {
   "cell_type": "code",
   "execution_count": 15,
   "id": "8990014b",
   "metadata": {
    "code_folding": [
     0,
     7,
     14
    ],
    "executionInfo": {
     "elapsed": 8,
     "status": "aborted",
     "timestamp": 1673435393736,
     "user": {
      "displayName": "Christof Gipser",
      "userId": "04329298021906177943"
     },
     "user_tz": -60
    },
    "id": "8990014b"
   },
   "outputs": [],
   "source": [
    "network.add('Link', name = 'PEMEL', bus0 = 'electricity', bus1 = 'GH2',\n",
    "            p_nom_extendable = True,\n",
    "            lifetime = lifetime_PEMEL,\n",
    "            marginal_cost = marginal_cost_PEMEL, \n",
    "            capital_cost = capital_cost_PEMEL,\n",
    "            efficiency = efficiency_PEMEL)\n",
    "\n",
    "network.add('Link', name = 'AEL', bus0 = 'electricity', bus1 = 'GH2',\n",
    "            p_nom_extendable = True,\n",
    "            lifetime = lifetime_AEL,\n",
    "            marginal_cost = marginal_cost_AEL, \n",
    "            capital_cost = capital_cost_AEL,\n",
    "            efficiency = efficiency_AEL)\n",
    "\n",
    "#network.add('Link', name = 'HTEL', bus0 = 'electricity', bus1 = 'GH2',\n",
    "#            p_nom_extendable = True,\n",
    "#            lifetime = lifetime_HTEL,\n",
    "#            marginal_cost = marginal_cost_HTEL, \n",
    "#            capital_cost = capital_cost_HTEL,\n",
    "#            efficiency = efficiency_HTEL)"
   ]
  },
  {
   "cell_type": "code",
   "execution_count": 16,
   "id": "848044fb",
   "metadata": {
    "code_folding": [
     0,
     2
    ],
    "id": "a4e2effd"
   },
   "outputs": [],
   "source": [
    "# Veraltete Abbildung der Elektrolyse mit dem hinterlegten Volllastprofil von 8000 h/a\n",
    "\n",
    "#network.add('Link', name = 'PEMEL', bus0 = 'electricity', bus1 = 'GH2',\n",
    "#            p_nom = dataset_df['Elektrolyse'].max(),\n",
    "#            p_max_pu = dataset_df['Elektrolyse']/dataset_df['Elektrolyse'].max(), \n",
    "#            p_min_pu = dataset_df['Elektrolyse']/dataset_df['Elektrolyse'].max(), \n",
    "#            p_nom_extendable = True,\n",
    "#            lifetime = lifetime_PEMEL,\n",
    "#            marginal_cost = marginal_cost_PEMEL, \n",
    "#            capital_cost = capital_cost_PEMEL,\n",
    "#            efficiency = efficiency_PEMEL)"
   ]
  },
  {
   "cell_type": "markdown",
   "id": "7584fdd2",
   "metadata": {
    "id": "7584fdd2"
   },
   "source": [
    "## Links - Conversion"
   ]
  },
  {
   "cell_type": "code",
   "execution_count": 17,
   "id": "62ced3e5",
   "metadata": {
    "code_folding": [
     0,
     5,
     10
    ],
    "executionInfo": {
     "elapsed": 8,
     "status": "aborted",
     "timestamp": 1673435393736,
     "user": {
      "displayName": "Christof Gipser",
      "userId": "04329298021906177943"
     },
     "user_tz": -60
    },
    "id": "62ced3e5"
   },
   "outputs": [],
   "source": [
    "network.add('Link', name = 'Verflüssigung', bus0 = 'GH2', bus1 = 'LH2',\n",
    "            p_nom_extendable = True,\n",
    "            marginal_cost = marginal_cost_LH2, capital_cost = capital_cost_LH2,\n",
    "            efficiency = efficiency_LH2)\n",
    "\n",
    "#network.add('Link', name = 'Haber-Bosch', bus0 = 'GH2', bus1 = 'NH3',\n",
    "#            p_nom_extendable = True,\n",
    "#            marginal_cost = marginal_cost_NH3, capital_cost = capital_cost_NH3,\n",
    "#            efficiency = efficiency_NH3)\n",
    "\n",
    "#network.add('Link', name = 'Hydrierung', bus0 = 'GH2', bus1 = 'LOHC',\n",
    "#            p_nom_extendable = True,\n",
    "#            marginal_cost = marginal_cost_LOHC, capital_cost = capital_cost_LOHC,\n",
    "#            efficiency = efficiency_LOHC)"
   ]
  },
  {
   "cell_type": "code",
   "execution_count": 18,
   "id": "f4818ca3",
   "metadata": {
    "code_folding": [
     0,
     2
    ],
    "executionInfo": {
     "elapsed": 8,
     "status": "aborted",
     "timestamp": 1673435393736,
     "user": {
      "displayName": "Christof Gipser",
      "userId": "04329298021906177943"
     },
     "user_tz": -60
    },
    "id": "62ced3e5"
   },
   "outputs": [],
   "source": [
    "# Veraltete Abbildung der Verflüssigung mit dem hinterlegten Volllastprofil von 8000 h/a\n",
    "\n",
    "#network.add('Link', name = 'Verflüssigung', bus0 = 'GH2', bus1 = 'LH2',\n",
    "#            p_nom = dataset_df['Elektrolyse'].max(),\n",
    "#            p_max_pu = dataset_df['Elektrolyse']/dataset_df['Elektrolyse'].max(), \n",
    "#            p_min_pu = dataset_df['Elektrolyse']/dataset_df['Elektrolyse'].max(), \n",
    "#            p_nom_extendable = True,\n",
    "#            marginal_cost = marginal_cost_LH2, capital_cost = capital_cost_LH2,\n",
    "#            efficiency = efficiency_LH2)"
   ]
  },
  {
   "cell_type": "markdown",
   "id": "6e31ee79",
   "metadata": {
    "id": "6e31ee79"
   },
   "source": [
    "## Links - Cargoship"
   ]
  },
  {
   "cell_type": "code",
   "execution_count": 19,
   "id": "c2b03c0b",
   "metadata": {
    "code_folding": [
     0,
     8,
     16
    ],
    "executionInfo": {
     "elapsed": 8,
     "status": "aborted",
     "timestamp": 1673435393736,
     "user": {
      "displayName": "Christof Gipser",
      "userId": "04329298021906177943"
     },
     "user_tz": -60
    },
    "id": "c2b03c0b"
   },
   "outputs": [],
   "source": [
    "network.add('Link', name = 'Verschiffung LH2', bus0 = 'LH2', bus1 = 'bremerhaven',\n",
    "            p_nom = dataset_df['Kapazität_Schiff'].max(),\n",
    "            p_max_pu = dataset_df['Kapazität_Schiff']/dataset_df['Kapazität_Schiff'].max(), \n",
    "            p_min_pu = dataset_df['Kapazität_Schiff']/dataset_df['Kapazität_Schiff'].max(),\n",
    "            p_nom_extendable = True,\n",
    "            marginal_cost = marginal_cost_shipping_LH2, \n",
    "            capital_cost = capital_cost_shipping_LH2)\n",
    "\n",
    "network.add('Link', name = 'Verschiffung NH3', bus0 = 'NH3', bus1 = 'bremerhaven',\n",
    "            p_nom = dataset_df['Kapazität_Schiff'].max(),\n",
    "            p_max_pu = dataset_df['Kapazität_Schiff']/dataset_df['Kapazität_Schiff'].max(), \n",
    "            p_min_pu = dataset_df['Kapazität_Schiff']/dataset_df['Kapazität_Schiff'].max(),\n",
    "            p_nom_extendable = True,\n",
    "            marginal_cost = marginal_cost_shipping_NH3, \n",
    "            capital_cost = capital_cost_shipping_NH3)\n",
    "\n",
    "network.add('Link', name = 'Verschiffung LOHC', bus0 = 'LOHC', bus1 = 'bremerhaven',\n",
    "            p_nom = dataset_df['Kapazität_Schiff'].max(),\n",
    "            p_max_pu = dataset_df['Kapazität_Schiff']/dataset_df['Kapazität_Schiff'].max(), \n",
    "            p_min_pu = dataset_df['Kapazität_Schiff']/dataset_df['Kapazität_Schiff'].max(),\n",
    "            p_nom_extendable = True,\n",
    "            marginal_cost = marginal_cost_shipping_LOHC, \n",
    "            capital_cost = capital_cost_shipping_LOHC)"
   ]
  },
  {
   "cell_type": "markdown",
   "id": "391ca361",
   "metadata": {
    "id": "391ca361"
   },
   "source": [
    "## Links - Pipeline"
   ]
  },
  {
   "cell_type": "code",
   "execution_count": 20,
   "id": "f799bd16",
   "metadata": {
    "code_folding": [
     0
    ]
   },
   "outputs": [],
   "source": [
    "network.add('Link', name = 'Pipeline', bus0 = 'bremerhaven', bus1 = 'cologne', \n",
    "            p_nom_extendable = True,\n",
    "            marginal_cost = marginal_cost_pipeline, \n",
    "            capital_cost = capital_cost_pipeline)"
   ]
  },
  {
   "cell_type": "markdown",
   "id": "a7817e8c",
   "metadata": {
    "id": "a7817e8c"
   },
   "source": [
    "## Storages"
   ]
  },
  {
   "cell_type": "code",
   "execution_count": 21,
   "id": "003b6796",
   "metadata": {
    "code_folding": [
     0,
     5,
     10,
     15,
     20
    ],
    "executionInfo": {
     "elapsed": 7,
     "status": "aborted",
     "timestamp": 1673435393736,
     "user": {
      "displayName": "Christof Gipser",
      "userId": "04329298021906177943"
     },
     "user_tz": -60
    },
    "id": "003b6796"
   },
   "outputs": [],
   "source": [
    "network.add('Store', name = 'Stromspeicher', bus = 'electricity', \n",
    "            e_nom_extendable = True,  e_cyclic = True, \n",
    "            capital_cost = capital_cost_storage_el,\n",
    "            marginal_cost = marginal_cost_storage_el)\n",
    "\n",
    "network.add('Store', name = 'Flüssigspeicher', bus = 'LH2', \n",
    "            e_nom_extendable = True, e_cyclic = True,  \n",
    "            capital_cost = capital_cost_storage_LH2, \n",
    "            marginal_cost = marginal_cost_storage_LH2)\n",
    "\n",
    "network.add('Store', name = 'Ammoniakspeicher', bus = 'NH3', \n",
    "            e_nom_extendable = True,  e_cyclic = True, \n",
    "            capital_cost = capital_cost_storage_NH3, \n",
    "            marginal_cost = marginal_cost_storage_NH3)\n",
    "\n",
    "network.add('Store', name = 'LOHC-Speicher', bus = 'LOHC', \n",
    "            e_nom_extendable = True, e_cyclic = True,  \n",
    "            capital_cost = capital_cost_storage_LOHC, \n",
    "            marginal_cost = marginal_cost_storage_LOHC)\n",
    "\n",
    "network.add('Store', name = 'Gasspeicher', bus = 'bremerhaven', \n",
    "            e_nom_extendable = True, e_cyclic = True, \n",
    "            capital_cost = capital_cost_storage_GH2, \n",
    "            marginal_cost = marginal_cost_storage_GH2)"
   ]
  },
  {
   "cell_type": "markdown",
   "id": "18c3c354",
   "metadata": {
    "id": "18c3c354"
   },
   "source": [
    "# Optimierung des Systems"
   ]
  },
  {
   "cell_type": "code",
   "execution_count": null,
   "id": "5e993293",
   "metadata": {
    "executionInfo": {
     "elapsed": 7,
     "status": "aborted",
     "timestamp": 1673435393736,
     "user": {
      "displayName": "Christof Gipser",
      "userId": "04329298021906177943"
     },
     "user_tz": -60
    },
    "id": "5e993293",
    "scrolled": true
   },
   "outputs": [
    {
     "name": "stderr",
     "output_type": "stream",
     "text": [
      "INFO:pypsa.linopf:Prepare linear problem\n",
      "INFO:pypsa.linopf:Total preparation time: 1.36s\n",
      "INFO:pypsa.linopf:Solve linear problem using Gurobi solver\n"
     ]
    },
    {
     "name": "stdout",
     "output_type": "stream",
     "text": [
      "Set parameter Username\n",
      "Academic license - for non-commercial use only - expires 2023-07-01\n",
      "Read LP format model from file /var/folders/np/fxyv4bts2s353fj5gdlrbgym0000gn/T/pypsa-problem-416plyyd.lp\n",
      "Reading time = 0.80 seconds\n",
      "obj: 350400 rows, 166455 columns, 698610 nonzeros\n",
      "Gurobi Optimizer version 9.5.2 build v9.5.2rc0 (mac64[rosetta2])\n",
      "Thread count: 8 physical cores, 8 logical processors, using up to 8 threads\n",
      "Optimize a model with 350400 rows, 166455 columns and 698610 nonzeros\n",
      "Model fingerprint: 0x23b01139\n",
      "Coefficient statistics:\n",
      "  Matrix range     [1e-06, 1e+00]\n",
      "  Objective range  [1e+00, 3e+06]\n",
      "  Bounds range     [0e+00, 0e+00]\n",
      "  RHS range        [1e+02, 1e+02]\n",
      "\n",
      "Concurrent LP optimizer: primal simplex, dual simplex, and barrier\n",
      "Showing barrier log only...\n",
      "\n",
      "Presolve removed 283482 rows and 128063 columns\n",
      "Presolve time: 0.42s\n",
      "Presolved: 66918 rows, 38392 columns, 217669 nonzeros\n",
      "\n",
      "Ordering time: 0.01s\n"
     ]
    }
   ],
   "source": [
    "network.lopf(pyomo = False, solver_name = 'gurobi')"
   ]
  },
  {
   "cell_type": "markdown",
   "id": "f5855bc2",
   "metadata": {
    "id": "f5855bc2"
   },
   "source": [
    "# Auswertung der Ergebnisse"
   ]
  },
  {
   "cell_type": "code",
   "execution_count": null,
   "id": "ec872405",
   "metadata": {
    "code_folding": [
     0
    ]
   },
   "outputs": [],
   "source": [
    "# Ausgabe einer Ergebnistabelle der Leistungen in MW und Kapazitäten in MWh\n",
    "\n",
    "df_results_1 = pd.DataFrame(network.generators['p_nom_opt'])\n",
    "df_results_2 = pd.DataFrame(network.links['p_nom_opt'])\n",
    "df_results_3 = pd.DataFrame(network.stores['e_nom_opt'])\n",
    "\n",
    "frames = [df_results_1, df_results_2, df_results_3]\n",
    "\n",
    "results_x = (pd.concat(frames).round(2).fillna(0).rename(columns = {'p_nom_opt':'Leistung [MW]','e_nom_opt':'Kapazität [MWh]'}))\n",
    "results = results_x.loc[(results_x.sum(axis=1) != 0), (results_x.sum(axis=0) != 0)]\n",
    "\n",
    "\n",
    "results"
   ]
  },
  {
   "cell_type": "code",
   "execution_count": null,
   "id": "165146bb",
   "metadata": {
    "code_folding": [
     0
    ]
   },
   "outputs": [],
   "source": [
    "# Berechnung der jährlichen Volllaststunden\n",
    "\n",
    "df_flh_1 = pd.DataFrame((network.generators_t.p.sum())/network.generators.p_nom_opt)\n",
    "df_flh_2 = pd.DataFrame((network.links_t.p0.sum())/network.links.p_nom_opt)\n",
    "\n",
    "df_flh_x = df_flh_1.append(df_flh_2).round(0).fillna(0)\n",
    "df_flh = df_flh_x.loc[(df_flh_x.sum(axis=1) != 0), (df_flh_x.sum(axis=0) != 0)]\n",
    "#df_flh = df_flh.rename(columns = {'0','Volllast [h]'})\n",
    "df_flh"
   ]
  },
  {
   "cell_type": "code",
   "execution_count": null,
   "id": "f45c1eb8",
   "metadata": {
    "code_folding": [
     0
    ]
   },
   "outputs": [],
   "source": [
    "#TODO: Hier versuche ich alle Ergebnisse (Leistung/Kapazität/Volllaststunden) in einen DF zu packen\n",
    "\n",
    "results_sum = pd.concat([results,df_flh])\n",
    "#results_sum"
   ]
  },
  {
   "cell_type": "markdown",
   "id": "f55462de",
   "metadata": {},
   "source": [
    "## Grafische Darstellungen"
   ]
  },
  {
   "cell_type": "code",
   "execution_count": null,
   "id": "fcef1dc4",
   "metadata": {
    "code_folding": [
     0
    ]
   },
   "outputs": [],
   "source": [
    "# Darstellung der optimierten Erzeugungsleistung\n",
    "\n",
    "ax = (network.generators_t.p).plot()\n",
    "\n",
    "plt.axhline(y=network.generators_t.p['Photovoltaik'].max(), xmin=0.01, xmax=0.99, color = 'black', linestyle = \"--\")\n",
    "plt.axhline(y=network.generators_t.p['Windkraft'].max(), xmin=0.01, xmax=0.99, color = 'black', linestyle = \"--\")\n",
    "\n",
    "plt.text(s = 'Nennleistung: '+str(network.generators.p_nom_opt.round(0)['Photovoltaik'])+' MW' , y = network.generators_t.p['Photovoltaik'].max() + 10, x = 0, color = 'black', fontsize = 12)\n",
    "plt.text(s = 'Nennleistung: '+str(network.generators.p_nom_opt.round(0)['Windkraft'])+' MW', y = network.generators_t.p['Windkraft'].max() + 10, x = 0, color = 'black', fontsize = 12)\n",
    "\n",
    "ax.set_title('Erzeugungsleistung')\n",
    "ax.set_ylabel(\"Leistung [MW]\")\n",
    "plt.show()                  "
   ]
  },
  {
   "cell_type": "code",
   "execution_count": null,
   "id": "eb3b2778",
   "metadata": {
    "code_folding": [
     0
    ]
   },
   "outputs": [],
   "source": [
    "# Darstellung der optimierten Elektrolyseleistung\n",
    "\n",
    "fig, ax = plt.subplots()\n",
    "\n",
    "ax.plot(network.links_t.p0['PEMEL'])\n",
    "ax.plot(network.links_t.p0['AEL'])\n",
    "#ax.plot(network.links_t.p0['HTEL'])\n",
    "\n",
    "plt.axhline(y=network.links_t.p0['PEMEL'].max(), xmin=0.01, xmax=0.99, color = 'black', linestyle = \"--\")\n",
    "plt.axhline(y=network.links_t.p0['AEL'].max(), xmin=0.01, xmax=0.99, color = 'black', linestyle = \"--\")\n",
    "\n",
    "plt.text(s = 'Nennleistung: '+str(network.links.p_nom_opt.round(0)['PEMEL'])+' MW' , y = network.links_t.p0['PEMEL'].max() + 10, x = 0, color = 'black', fontsize = 12)\n",
    "plt.text(s = 'Nennleistung: '+str(network.links.p_nom_opt.round(0)['AEL'])+' MW', y = network.links_t.p0['AEL'].max() + 10, x = 0, color = 'black', fontsize = 12)\n",
    "\n",
    "ax.legend()\n",
    "\n",
    "ax.set_title('Elektrolyseleistung')\n",
    "ax.set_ylabel(\"Leistung [MW]\")\n",
    "plt.show()         "
   ]
  },
  {
   "cell_type": "markdown",
   "id": "67d0d692",
   "metadata": {
    "executionInfo": {
     "elapsed": 8,
     "status": "aborted",
     "timestamp": 1673435393737,
     "user": {
      "displayName": "Christof Gipser",
      "userId": "04329298021906177943"
     },
     "user_tz": -60
    },
    "id": "54420171"
   },
   "source": [
    "### Vergleich von Umwandlung und Ferntransport"
   ]
  },
  {
   "cell_type": "code",
   "execution_count": null,
   "id": "e7aa6b23",
   "metadata": {
    "executionInfo": {
     "elapsed": 8,
     "status": "aborted",
     "timestamp": 1673435393737,
     "user": {
      "displayName": "Christof Gipser",
      "userId": "04329298021906177943"
     },
     "user_tz": -60
    },
    "id": "e7aa6b23",
    "scrolled": false
   },
   "outputs": [],
   "source": [
    "network.links_t.p0.plot(ylabel = 'Leistung in MW')"
   ]
  },
  {
   "cell_type": "markdown",
   "id": "21c9ef8d",
   "metadata": {},
   "source": [
    "### Vergleich von Speicherung und Ferntransport"
   ]
  },
  {
   "cell_type": "code",
   "execution_count": null,
   "id": "3bef0c48",
   "metadata": {},
   "outputs": [],
   "source": [
    "labels = ('Verschiffung','Flüssigspeicher','Gasspeicher')\n",
    "fig, ax1 = plt.subplots(sharey = True)\n",
    "\n",
    "#ax2 = ax1.twinx()\n",
    "ax1.plot(network.links_t.p0['Verschiffung LH2'],\n",
    "        label = 'Verschiffung')\n",
    "ax1.plot(network.stores_t.e['Flüssigspeicher'],\n",
    "        label = 'Flüssigspeicher')\n",
    "ax1.plot(network.stores_t.e['Gasspeicher'],\n",
    "        label = 'Gasspeicher')\n",
    "\n",
    "ax1.legend(loc='upper left', prop=dict(size=10))\n",
    "ax1.set_ylabel('Kapazität [t]')\n",
    "\n",
    "plt.show()"
   ]
  },
  {
   "cell_type": "code",
   "execution_count": null,
   "id": "d6447545",
   "metadata": {},
   "outputs": [],
   "source": []
  },
  {
   "cell_type": "code",
   "execution_count": null,
   "id": "7d3799c2",
   "metadata": {
    "executionInfo": {
     "elapsed": 8,
     "status": "aborted",
     "timestamp": 1673435393737,
     "user": {
      "displayName": "Christof Gipser",
      "userId": "04329298021906177943"
     },
     "user_tz": -60
    },
    "id": "7d3799c2"
   },
   "outputs": [],
   "source": []
  },
  {
   "cell_type": "code",
   "execution_count": null,
   "id": "0c4e75ac",
   "metadata": {
    "code_folding": [
     0,
     2
    ],
    "executionInfo": {
     "elapsed": 7,
     "status": "aborted",
     "timestamp": 1673435393736,
     "user": {
      "displayName": "Christof Gipser",
      "userId": "04329298021906177943"
     },
     "user_tz": -60
    },
    "id": "0c4e75ac"
   },
   "outputs": [],
   "source": [
    "# Funktion für die Abbildungen\n",
    "\n",
    "def Jahresverlauf (Titel, Zeitstempel, Leistung, xlabel, ylabel):\n",
    "\n",
    "  fig = plt.figure(figsize=(19,8))\n",
    "\n",
    " \n",
    "\n",
    "  ax1 = fig.add_axes([1, 1, 1, 1])\n",
    "  ax1.set_title(Titel,weight='bold',fontsize=15)\n",
    "  ax1.plot(Zeitstempel,Leistung,c='green')\n",
    "  plt.xlabel(xlabel,fontsize=15 )\n",
    "  plt.ylabel(ylabel,fontsize=15)\n",
    "\n",
    " \n",
    "\n",
    "  plt.show()"
   ]
  },
  {
   "cell_type": "code",
   "execution_count": null,
   "id": "d81745b5",
   "metadata": {
    "executionInfo": {
     "elapsed": 8,
     "status": "aborted",
     "timestamp": 1673435393737,
     "user": {
      "displayName": "Christof Gipser",
      "userId": "04329298021906177943"
     },
     "user_tz": -60
    },
    "id": "d81745b5"
   },
   "outputs": [],
   "source": [
    "#Jahresverlauf('Stromerzeugung aus Photovoltaik',dataset_df.index, network.generators_t.p['Photovoltaik'],'Zeit','Leistung')"
   ]
  },
  {
   "cell_type": "code",
   "execution_count": null,
   "id": "5fhyRwmdv4Af",
   "metadata": {
    "executionInfo": {
     "elapsed": 8,
     "status": "aborted",
     "timestamp": 1673435393737,
     "user": {
      "displayName": "Christof Gipser",
      "userId": "04329298021906177943"
     },
     "user_tz": -60
    },
    "id": "5fhyRwmdv4Af",
    "scrolled": false
   },
   "outputs": [],
   "source": [
    "#Jahresverlauf('Stromerzeugung aus Windkraft',dataset_df.index, network.generators_t.p['Windkraft'],'Zeit','Leistung')"
   ]
  },
  {
   "cell_type": "code",
   "execution_count": null,
   "id": "_hnWzv1RwBaF",
   "metadata": {
    "executionInfo": {
     "elapsed": 8,
     "status": "aborted",
     "timestamp": 1673435393737,
     "user": {
      "displayName": "Christof Gipser",
      "userId": "04329298021906177943"
     },
     "user_tz": -60
    },
    "id": "_hnWzv1RwBaF"
   },
   "outputs": [],
   "source": [
    "#Jahresverlauf('Elektrolyse',dataset_df.index, dataset_df['Elektrolyse'],'Zeit','Leistung')"
   ]
  },
  {
   "cell_type": "code",
   "execution_count": null,
   "id": "hm1uneV8wLvO",
   "metadata": {
    "executionInfo": {
     "elapsed": 8,
     "status": "aborted",
     "timestamp": 1673435393737,
     "user": {
      "displayName": "Christof Gipser",
      "userId": "04329298021906177943"
     },
     "user_tz": -60
    },
    "id": "hm1uneV8wLvO"
   },
   "outputs": [],
   "source": [
    "#Jahresverlauf('Ferntransport',dataset_df.index, dataset_df['Kapazität_Schiff'],'Zeit','Leistung')"
   ]
  },
  {
   "cell_type": "markdown",
   "id": "ac5f47b8",
   "metadata": {
    "id": "ac5f47b8"
   },
   "source": [
    "# Werkstatt"
   ]
  },
  {
   "cell_type": "code",
   "execution_count": null,
   "id": "3f4dbb2b",
   "metadata": {
    "code_folding": []
   },
   "outputs": [],
   "source": [
    "# Test\n",
    "\n",
    "# Produzierte Wasserstoffmenge bei der Elektrolyse in kg\n",
    "hydrogen_production_kg = network.links_t.p0.sum()/hydrogen_energy_content*1000 #kg/a\n",
    "\n",
    "# Betriebskosten pro Jahr\n",
    "marginal_cost_links = network.links.marginal_cost * network.links_t.p0.sum() # €/a\n",
    "marginal_cost_stores = network.stores.marginal_cost * network.stores_t.e.sum() # €/a\n",
    "\n",
    "# Investitionskosten pro Jahr\n",
    "capital_cost_links = network.links.capital_cost * network.links.p_nom_opt # €\n",
    "capital_cost_stores = network.stores.capital_cost * network.stores.e_nom_opt # €\n",
    "\n",
    "# Lebenszeit\n",
    "lifetime_links = network.links.lifetime # €\n",
    "lifetime_stores = network.stores.lifetime # €\n",
    "\n",
    "# Kilopreis Links\n",
    "hydrogen_price_links = ((((capital_cost_links/lifetime_links)+marginal_cost_links))/hydrogen_production_kg).round(2)\n",
    "\n",
    "# Kilopreis Stores\n",
    "hydrogen_price_stores = ((((capital_cost_stores/lifetime_stores)+marginal_cost_stores))/hydrogen_production_kg).round(2)\n",
    "\n"
   ]
  },
  {
   "cell_type": "code",
   "execution_count": null,
   "id": "9a66085d",
   "metadata": {},
   "outputs": [],
   "source": [
    "hydrogen_price_links#['AEL']"
   ]
  },
  {
   "cell_type": "code",
   "execution_count": null,
   "id": "9f34c10d",
   "metadata": {
    "code_folding": [
     0
    ]
   },
   "outputs": [],
   "source": [
    "# Kilopreis der Links - ACHTUNG: veraltet und vermutlich falsch!!!\n",
    "Linkkosten = ((network.links.p_nom_opt * network.links.capital_cost)/network.links.lifetime+network.links.marginal_cost*hydrogen_demand_kg*(33/1000))/hydrogen_demand_kg\n",
    "Linkkosten=pd.DataFrame(Linkkosten,columns=['Value [€/kg]'])\n",
    "Linkkosten['Link']=Linkkosten.index\n",
    "Linkkosten=Linkkosten.reset_index(drop=True)\n",
    "Linkkosten=Linkkosten[['Link','Value [€/kg]']]\n",
    "#Linkkosten"
   ]
  },
  {
   "cell_type": "code",
   "execution_count": null,
   "id": "5954f342",
   "metadata": {
    "code_folding": [
     0
    ]
   },
   "outputs": [],
   "source": [
    "# Kilopreis der Speicher - ACHTUNG: veraltet und vermutlich falsch!!!\n",
    "Speicherkosten = ((network.stores.e_nom_opt * network.stores.capital_cost)/network.stores.lifetime+network.stores.marginal_cost*hydrogen_demand_kg*(33/1000))/hydrogen_demand_kg\n",
    "Speicherkosten=pd.DataFrame(Speicherkosten,columns=['Value [€/kg]'])\n",
    "Speicherkosten['Speicher']=Speicherkosten.index\n",
    "Speicherkosten=Speicherkosten.reset_index(drop=True)\n",
    "Speicherkosten=Speicherkosten[['Speicher','Value [€/kg]']]\n",
    "#Speicherkosten"
   ]
  },
  {
   "cell_type": "markdown",
   "id": "76cfe738",
   "metadata": {},
   "source": [
    "In dieser Grafik spiele ich gerade ein bisschen rum, um eine Abbildung für die Präsentation morgen zu bekommen\n",
    "\n",
    "TODO: Anstatt auf nummerierte Zeilen zuzugreifen, lieber auf die Benennung bzw inde"
   ]
  },
  {
   "cell_type": "code",
   "execution_count": null,
   "id": "pcw9XUen7mFL",
   "metadata": {
    "code_folding": [
     0
    ],
    "executionInfo": {
     "elapsed": 8,
     "status": "aborted",
     "timestamp": 1673435393738,
     "user": {
      "displayName": "Christof Gipser",
      "userId": "04329298021906177943"
     },
     "user_tz": -60
    },
    "id": "pcw9XUen7mFL"
   },
   "outputs": [],
   "source": [
    "# Übersicht der Kilopreise\n",
    "\n",
    "labels = ['PEM & LH2', 'AEL & LH2']\n",
    "Stromkosten = np.array([1.5,1.5])\n",
    "\n",
    "Elektrolyse = np.array([hydrogen_price_links['PEMEL'],\n",
    "                        hydrogen_price_links['AEL']])\n",
    "Umwandlung = np.array([hydrogen_price_links['Verflüssigung'],\n",
    "                       hydrogen_price_links['Verflüssigung']])\n",
    "Ferntransport_1 = np.array([hydrogen_price_links['Verschiffung LH2'],\n",
    "                            hydrogen_price_links['Verschiffung LH2']])\n",
    "Inlandstransport = np.array([hydrogen_price_links['Pipeline'],\n",
    "                             hydrogen_price_links['Pipeline']])\n",
    "\n",
    "Speicherung = np.array([Speicherkosten['Value [€/kg]'][2]+Speicherkosten['Value [€/kg]'][4],\n",
    "                        Speicherkosten['Value [€/kg]'][2]+Speicherkosten['Value [€/kg]'][4]])\n",
    "\n",
    "Sonstige= np.array([0.1,0.3])\n",
    "# the width of the bars: can also be len(x) sequence\n",
    "width=0.5\n",
    "fig, ax = plt.subplots(figsize=(14,8))\n",
    "#x_pos = [-2,0,2]\n",
    "#ax.bar(labels, Stromkosten, label='Stromkosten',width=width,color='lightcoral')\n",
    "ax.bar(labels, Elektrolyse, bottom=Stromkosten,\n",
    "       label='Elektrolyse',width=width,color='indianred')\n",
    "ax.bar(labels, Speicherung, bottom=Stromkosten+Elektrolyse,\n",
    "       label='Speicherung',width=width,color='firebrick')\n",
    "ax.bar(labels, Ferntransport_1, bottom=Stromkosten+Elektrolyse+Speicherung,\n",
    "       label='Ferntransport',width=width,color='brown')\n",
    "#ax.bar(labels, Inlandstransport, bottom=Stromkosten+Elektrolyse+Speicherung+Ferntransport_1,\n",
    "#       label='Inlandstransport',width=width,color='maroon')\n",
    "ax.bar(labels, Umwandlung, bottom=Stromkosten+Elektrolyse+Speicherung+Ferntransport_1+Inlandstransport,\n",
    "       label='Umwandlung',width=width,color='darkred')\n",
    "#ax.bar(labels, Sonstige, bottom=Stromkosten+Elektrolyse+Speicherung+Ferntransport_1+Inlandstransport+Umwandlung,\n",
    "#       label='Sonstige',width=width,color='red')\n",
    "\n",
    "ax.set_ylabel('Kosten in [€/kg]')\n",
    "ax.set_title('Wasserstoffbereitstellung')\n",
    "ax.legend(loc='upper right')\n",
    "\n",
    "for p in ax.patches:\n",
    "    width, height = p.get_width(), p.get_height()\n",
    "    x, y = p.get_xy() \n",
    "    ax.text(x+width/2, \n",
    "            y+height/2, \n",
    "            '{:.02f}€'.format(height), \n",
    "            horizontalalignment='center', \n",
    "            verticalalignment='center',\n",
    "            color='white',\n",
    "            fontsize=10,\n",
    "            )\n",
    "  \n",
    "\n",
    "horiz_offset = 1.03\n",
    "vert_offset = 1.\n",
    "ax.legend(bbox_to_anchor=(horiz_offset, vert_offset))\n",
    "#plt.xticks(x_pos, labels)\n",
    "plt.show()"
   ]
  },
  {
   "cell_type": "code",
   "execution_count": null,
   "id": "12b89a4f",
   "metadata": {
    "code_folding": [
     0
    ]
   },
   "outputs": [],
   "source": [
    "# Übersicht der Kilopreise\n",
    "\n",
    "labels = ['PEM & LH2', 'PEM & NH3', 'PEM & LOHC']\n",
    "Stromkosten = np.array([1.5,1.5,1.5])\n",
    "\n",
    "Elektrolyse = np.array([Linkkosten['Value [€/kg]'][0],\n",
    "                        Linkkosten['Value [€/kg]'][0],\n",
    "                        Linkkosten['Value [€/kg]'][0]])\n",
    "Umwandlung = np.array([Linkkosten['Value [€/kg]'][2],0,0])\n",
    "Ferntransport_1 = np.array([Linkkosten['Value [€/kg]'][3],0,0])\n",
    "Inlandstransport = np.array([Linkkosten['Value [€/kg]'][4],0,0])\n",
    "\n",
    "Speicherung = np.array([Speicherkosten['Value [€/kg]'][2]+Speicherkosten['Value [€/kg]'][4],0,0])\n",
    "\n",
    "Sonstige= np.array([0.1,0.3,0.5])\n",
    "# the width of the bars: can also be len(x) sequence\n",
    "width=0.5\n",
    "fig, ax = plt.subplots(figsize=(14,8))\n",
    "#x_pos = [-2,0,2]\n",
    "#ax.bar(labels, Stromkosten, label='Stromkosten',width=width,color='lightcoral')\n",
    "ax.bar(labels, Elektrolyse, bottom=Stromkosten,\n",
    "       label='Elektrolyse',width=width,color='indianred')\n",
    "ax.bar(labels, Speicherung, bottom=Stromkosten+Elektrolyse,\n",
    "       label='Speicherung',width=width,color='firebrick')\n",
    "ax.bar(labels, Ferntransport_1, bottom=Stromkosten+Elektrolyse+Speicherung,\n",
    "       label='Ferntransport',width=width,color='brown')\n",
    "#ax.bar(labels, Inlandstransport, bottom=Stromkosten+Elektrolyse+Speicherung+Ferntransport_1,\n",
    "#       label='Inlandstransport',width=width,color='maroon')\n",
    "ax.bar(labels, Umwandlung, bottom=Stromkosten+Elektrolyse+Speicherung+Ferntransport_1+Inlandstransport,\n",
    "       label='Umwandlung',width=width,color='darkred')\n",
    "#ax.bar(labels, Sonstige, bottom=Stromkosten+Elektrolyse+Speicherung+Ferntransport_1+Inlandstransport+Umwandlung,\n",
    "#       label='Sonstige',width=width,color='red')\n",
    "\n",
    "ax.set_ylabel('Kosten in [€/kg]')\n",
    "ax.set_title('Wasserstoffbereitstellung')\n",
    "ax.legend(loc='upper right')\n",
    "\n",
    "for p in ax.patches:\n",
    "    width, height = p.get_width(), p.get_height()\n",
    "    x, y = p.get_xy() \n",
    "    ax.text(x+width/2, \n",
    "            y+height/2, \n",
    "            '{:.02f}€'.format(height), \n",
    "            horizontalalignment='center', \n",
    "            verticalalignment='center',\n",
    "            color='white',\n",
    "            fontsize=10,\n",
    "            )\n",
    "  \n",
    "\n",
    "horiz_offset = 1.03\n",
    "vert_offset = 1.\n",
    "ax.legend(bbox_to_anchor=(horiz_offset, vert_offset))\n",
    "#plt.xticks(x_pos, labels)\n",
    "plt.show()"
   ]
  },
  {
   "cell_type": "markdown",
   "id": "dd7eb477",
   "metadata": {},
   "source": [
    "Ursprüngliche Grafik"
   ]
  },
  {
   "cell_type": "code",
   "execution_count": null,
   "id": "5bf2d553",
   "metadata": {
    "code_folding": [
     0
    ],
    "executionInfo": {
     "elapsed": 8,
     "status": "aborted",
     "timestamp": 1673435393738,
     "user": {
      "displayName": "Christof Gipser",
      "userId": "04329298021906177943"
     },
     "user_tz": -60
    },
    "id": "pcw9XUen7mFL"
   },
   "outputs": [],
   "source": [
    "# Übersicht der Kilopreise\n",
    "\n",
    "labels = ['PEM & LH2', 'AEL & LH2']\n",
    "Stromkosten = np.array([Linkkosten['Value [€/kg]'][0],Linkkosten['Value [€/kg]'][1]])\n",
    "Elektrolyse = np.array([2,1.5])\n",
    "Speicherung = np.array([0.15,0.12])\n",
    "Ferntransport_1 = np.array([1,0.2])\n",
    "Inlandstransport = np.array([0.3,0.3])\n",
    "Umwandlung = np.array([0.7,0.3])\n",
    "Sonstige= np.array([0.1,0.3])\n",
    "# the width of the bars: can also be len(x) sequence\n",
    "width=0.5\n",
    "fig, ax = plt.subplots(figsize=(7,7))\n",
    "#x_pos = [-2,0,2]\n",
    "ax.bar(labels, Stromkosten, label='Stromkosten',width=width,color='lightcoral')\n",
    "ax.bar(labels, Elektrolyse, bottom=Stromkosten,\n",
    "       label='Elektrolyse',width=width,color='indianred')\n",
    "ax.bar(labels, Speicherung, bottom=Stromkosten+Elektrolyse,\n",
    "       label='Speicherung',width=width,color='firebrick')\n",
    "ax.bar(labels, Ferntransport_1, bottom=Stromkosten+Elektrolyse+Speicherung,\n",
    "       label='Ferntransport',width=width,color='brown')\n",
    "ax.bar(labels, Inlandstransport, bottom=Stromkosten+Elektrolyse+Speicherung+Ferntransport_1,\n",
    "       label='Inlandstransport',width=width,color='maroon')\n",
    "ax.bar(labels, Umwandlung, bottom=Stromkosten+Elektrolyse+Speicherung+Ferntransport_1+Inlandstransport,\n",
    "       label='Umwandlung',width=width,color='darkred')\n",
    "ax.bar(labels, Sonstige, bottom=Stromkosten+Elektrolyse+Speicherung+Ferntransport_1+Inlandstransport+Umwandlung,\n",
    "       label='Sonstige',width=width,color='red')\n",
    "\n",
    "ax.set_ylabel('Kosten in [€]')\n",
    "ax.set_title('Wasserstoffbereitstellungskosten in €/kg Wasserstoff')\n",
    "ax.legend(loc='upper right')\n",
    "\n",
    "for p in ax.patches:\n",
    "    width, height = p.get_width(), p.get_height()\n",
    "    x, y = p.get_xy() \n",
    "    ax.text(x+width/2, \n",
    "            y+height/2, \n",
    "            '{:.02f}€'.format(height), \n",
    "            horizontalalignment='center', \n",
    "            verticalalignment='center',\n",
    "            color='white',\n",
    "            fontsize=10,\n",
    "            )\n",
    "  \n",
    "\n",
    "horiz_offset = 1.03\n",
    "vert_offset = 1.\n",
    "ax.legend(bbox_to_anchor=(horiz_offset, vert_offset))\n",
    "#plt.xticks(x_pos, labels)\n",
    "plt.show()"
   ]
  },
  {
   "cell_type": "code",
   "execution_count": null,
   "id": "45a1577b",
   "metadata": {},
   "outputs": [],
   "source": []
  },
  {
   "cell_type": "code",
   "execution_count": null,
   "id": "d881ddef",
   "metadata": {},
   "outputs": [],
   "source": []
  },
  {
   "cell_type": "code",
   "execution_count": null,
   "id": "87021843",
   "metadata": {},
   "outputs": [],
   "source": []
  }
 ],
 "metadata": {
  "colab": {
   "provenance": []
  },
  "hide_input": false,
  "kernelspec": {
   "display_name": "Python 3 (ipykernel)",
   "language": "python",
   "name": "python3"
  },
  "language_info": {
   "codemirror_mode": {
    "name": "ipython",
    "version": 3
   },
   "file_extension": ".py",
   "mimetype": "text/x-python",
   "name": "python",
   "nbconvert_exporter": "python",
   "pygments_lexer": "ipython3",
   "version": "3.9.7"
  },
  "toc": {
   "base_numbering": 1,
   "nav_menu": {},
   "number_sections": true,
   "sideBar": true,
   "skip_h1_title": false,
   "title_cell": "Table of Contents",
   "title_sidebar": "Contents",
   "toc_cell": false,
   "toc_position": {
    "height": "calc(100% - 180px)",
    "left": "10px",
    "top": "150px",
    "width": "269px"
   },
   "toc_section_display": true,
   "toc_window_display": true
  }
 },
 "nbformat": 4,
 "nbformat_minor": 5
}
