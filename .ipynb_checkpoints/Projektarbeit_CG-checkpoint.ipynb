{
 "cells": [
  {
   "cell_type": "code",
   "execution_count": 2,
   "id": "JfaJTPplFWFV",
   "metadata": {
    "colab": {
     "base_uri": "https://localhost:8080/",
     "height": 1000
    },
    "executionInfo": {
     "elapsed": 183287,
     "status": "ok",
     "timestamp": 1673435049910,
     "user": {
      "displayName": "Christof Gipser",
      "userId": "04329298021906177943"
     },
     "user_tz": -60
    },
    "id": "JfaJTPplFWFV",
    "outputId": "509b36d0-33e8-47b4-df21-2800d1206b98"
   },
   "outputs": [],
   "source": [
    "!pip install pypsa"
   ]
  },
  {
   "cell_type": "code",
   "execution_count": 3,
   "id": "f9a9c5ab",
   "metadata": {
    "executionInfo": {
     "elapsed": 6550,
     "status": "ok",
     "timestamp": 1673435341643,
     "user": {
      "displayName": "Christof Gipser",
      "userId": "04329298021906177943"
     },
     "user_tz": -60
    },
    "id": "f9a9c5ab"
   },
   "outputs": [],
   "source": [
    "import pypsa\n",
    "import pandas as pd\n",
    "import numpy as np\n",
    "import matplotlib.pyplot as plt\n",
    "import datetime\n",
    "from datetime import date, datetime"
   ]
  },
  {
   "cell_type": "code",
   "execution_count": 5,
   "id": "B0U20wgT6agT",
   "metadata": {
    "colab": {
     "base_uri": "https://localhost:8080/"
    },
    "executionInfo": {
     "elapsed": 38200,
     "status": "ok",
     "timestamp": 1673435382396,
     "user": {
      "displayName": "Christof Gipser",
      "userId": "04329298021906177943"
     },
     "user_tz": -60
    },
    "id": "B0U20wgT6agT",
    "outputId": "24082340-4c10-4ead-e77a-a723a5a4dd16"
   },
   "outputs": [],
   "source": [
    "#from google.colab import drive\n",
    "#drive.mount('/content/drive')"
   ]
  },
  {
   "cell_type": "markdown",
   "id": "2b98ccea",
   "metadata": {
    "id": "2b98ccea"
   },
   "source": [
    "# Einlesen der Datenreihen"
   ]
  },
  {
   "cell_type": "markdown",
   "id": "RtFI_SN-75gS",
   "metadata": {
    "id": "RtFI_SN-75gS"
   },
   "source": [
    "Jupyter Notebooks"
   ]
  },
  {
   "cell_type": "code",
   "execution_count": 6,
   "id": "5f7904d0",
   "metadata": {
    "code_folding": [],
    "executionInfo": {
     "elapsed": 233,
     "status": "ok",
     "timestamp": 1673435392658,
     "user": {
      "displayName": "Christof Gipser",
      "userId": "04329298021906177943"
     },
     "user_tz": -60
    },
    "id": "5f7904d0"
   },
   "outputs": [],
   "source": [
    "# Erzeugung durch Erneuerbare\n",
    "# data_pv = pd.read_csv('data/data_pv_antofagasta_1MW.csv', skiprows = 3)['electricity']/1000\n",
    "# data_wind = pd.read_csv('data/data_wind_antofagasta_1MW.csv', skiprows = 3)['electricity']/1000\n",
    "# data_electrolysis = pd.read_excel('data/load_electrolysis.xlsx')['hydrogen']\n",
    "# data_shipping_1 = pd.read_excel('data/Ferntransport.xlsx')['Kapazität [MWh]']\n",
    "# data_shipping_2 = 0"
   ]
  },
  {
   "cell_type": "markdown",
   "id": "YUuhcKT07_1k",
   "metadata": {
    "id": "YUuhcKT07_1k"
   },
   "source": [
    "Google Colab mit Drive Access"
   ]
  },
  {
   "cell_type": "code",
   "execution_count": 7,
   "id": "Fe26l2tN6gYr",
   "metadata": {
    "colab": {
     "base_uri": "https://localhost:8080/",
     "height": 446
    },
    "executionInfo": {
     "elapsed": 731,
     "status": "error",
     "timestamp": 1673435393733,
     "user": {
      "displayName": "Christof Gipser",
      "userId": "04329298021906177943"
     },
     "user_tz": -60
    },
    "id": "Fe26l2tN6gYr",
    "outputId": "61866d25-63ff-42b3-daa9-cb0b24df3458"
   },
   "outputs": [
    {
     "ename": "FileNotFoundError",
     "evalue": "[Errno 2] No such file or directory: '/content/drive/MyDrive/DWE_Projektarbeit_2022/data_pv_antofagasta_1MW.csv'",
     "output_type": "error",
     "traceback": [
      "\u001b[0;31m---------------------------------------------------------------------------\u001b[0m",
      "\u001b[0;31mFileNotFoundError\u001b[0m                         Traceback (most recent call last)",
      "\u001b[0;32m/var/folders/np/fxyv4bts2s353fj5gdlrbgym0000gn/T/ipykernel_79921/2126242090.py\u001b[0m in \u001b[0;36m<module>\u001b[0;34m\u001b[0m\n\u001b[1;32m      1\u001b[0m \u001b[0;31m#infeed renewables\u001b[0m\u001b[0;34m\u001b[0m\u001b[0;34m\u001b[0m\u001b[0m\n\u001b[0;32m----> 2\u001b[0;31m \u001b[0mdata_pv\u001b[0m \u001b[0;34m=\u001b[0m \u001b[0mpd\u001b[0m\u001b[0;34m.\u001b[0m\u001b[0mread_csv\u001b[0m\u001b[0;34m(\u001b[0m\u001b[0;34m'/content/drive/MyDrive/DWE_Projektarbeit_2022/data_pv_antofagasta_1MW.csv'\u001b[0m\u001b[0;34m,\u001b[0m \u001b[0mskiprows\u001b[0m \u001b[0;34m=\u001b[0m \u001b[0;36m3\u001b[0m\u001b[0;34m)\u001b[0m\u001b[0;34m\u001b[0m\u001b[0;34m\u001b[0m\u001b[0m\n\u001b[0m\u001b[1;32m      3\u001b[0m \u001b[0mdata_wind\u001b[0m \u001b[0;34m=\u001b[0m \u001b[0mpd\u001b[0m\u001b[0;34m.\u001b[0m\u001b[0mread_csv\u001b[0m\u001b[0;34m(\u001b[0m\u001b[0;34m'/content/drive/MyDrive/DWE_Projektarbeit_2022/data_wind_antofagasta_1MW.csv'\u001b[0m\u001b[0;34m,\u001b[0m \u001b[0mskiprows\u001b[0m \u001b[0;34m=\u001b[0m \u001b[0;36m3\u001b[0m\u001b[0;34m)\u001b[0m\u001b[0;34m\u001b[0m\u001b[0;34m\u001b[0m\u001b[0m\n\u001b[1;32m      4\u001b[0m \u001b[0mdata_electrolysis\u001b[0m \u001b[0;34m=\u001b[0m \u001b[0mpd\u001b[0m\u001b[0;34m.\u001b[0m\u001b[0mread_excel\u001b[0m\u001b[0;34m(\u001b[0m\u001b[0;34m'/content/drive/MyDrive/DWE_Projektarbeit_2022/load_electrolysis.xlsx'\u001b[0m\u001b[0;34m)\u001b[0m\u001b[0;34m\u001b[0m\u001b[0;34m\u001b[0m\u001b[0m\n\u001b[1;32m      5\u001b[0m \u001b[0mdata_shipping_1\u001b[0m \u001b[0;34m=\u001b[0m \u001b[0mpd\u001b[0m\u001b[0;34m.\u001b[0m\u001b[0mread_excel\u001b[0m\u001b[0;34m(\u001b[0m\u001b[0;34m'/content/drive/MyDrive/DWE_Projektarbeit_2022/Ferntransport.xlsx'\u001b[0m\u001b[0;34m)\u001b[0m\u001b[0;34m\u001b[0m\u001b[0;34m\u001b[0m\u001b[0m\n",
      "\u001b[0;32m~/opt/anaconda3/lib/python3.9/site-packages/pandas/util/_decorators.py\u001b[0m in \u001b[0;36mwrapper\u001b[0;34m(*args, **kwargs)\u001b[0m\n\u001b[1;32m    309\u001b[0m                     \u001b[0mstacklevel\u001b[0m\u001b[0;34m=\u001b[0m\u001b[0mstacklevel\u001b[0m\u001b[0;34m,\u001b[0m\u001b[0;34m\u001b[0m\u001b[0;34m\u001b[0m\u001b[0m\n\u001b[1;32m    310\u001b[0m                 )\n\u001b[0;32m--> 311\u001b[0;31m             \u001b[0;32mreturn\u001b[0m \u001b[0mfunc\u001b[0m\u001b[0;34m(\u001b[0m\u001b[0;34m*\u001b[0m\u001b[0margs\u001b[0m\u001b[0;34m,\u001b[0m \u001b[0;34m**\u001b[0m\u001b[0mkwargs\u001b[0m\u001b[0;34m)\u001b[0m\u001b[0;34m\u001b[0m\u001b[0;34m\u001b[0m\u001b[0m\n\u001b[0m\u001b[1;32m    312\u001b[0m \u001b[0;34m\u001b[0m\u001b[0m\n\u001b[1;32m    313\u001b[0m         \u001b[0;32mreturn\u001b[0m \u001b[0mwrapper\u001b[0m\u001b[0;34m\u001b[0m\u001b[0;34m\u001b[0m\u001b[0m\n",
      "\u001b[0;32m~/opt/anaconda3/lib/python3.9/site-packages/pandas/io/parsers/readers.py\u001b[0m in \u001b[0;36mread_csv\u001b[0;34m(filepath_or_buffer, sep, delimiter, header, names, index_col, usecols, squeeze, prefix, mangle_dupe_cols, dtype, engine, converters, true_values, false_values, skipinitialspace, skiprows, skipfooter, nrows, na_values, keep_default_na, na_filter, verbose, skip_blank_lines, parse_dates, infer_datetime_format, keep_date_col, date_parser, dayfirst, cache_dates, iterator, chunksize, compression, thousands, decimal, lineterminator, quotechar, quoting, doublequote, escapechar, comment, encoding, encoding_errors, dialect, error_bad_lines, warn_bad_lines, on_bad_lines, delim_whitespace, low_memory, memory_map, float_precision, storage_options)\u001b[0m\n\u001b[1;32m    584\u001b[0m     \u001b[0mkwds\u001b[0m\u001b[0;34m.\u001b[0m\u001b[0mupdate\u001b[0m\u001b[0;34m(\u001b[0m\u001b[0mkwds_defaults\u001b[0m\u001b[0;34m)\u001b[0m\u001b[0;34m\u001b[0m\u001b[0;34m\u001b[0m\u001b[0m\n\u001b[1;32m    585\u001b[0m \u001b[0;34m\u001b[0m\u001b[0m\n\u001b[0;32m--> 586\u001b[0;31m     \u001b[0;32mreturn\u001b[0m \u001b[0m_read\u001b[0m\u001b[0;34m(\u001b[0m\u001b[0mfilepath_or_buffer\u001b[0m\u001b[0;34m,\u001b[0m \u001b[0mkwds\u001b[0m\u001b[0;34m)\u001b[0m\u001b[0;34m\u001b[0m\u001b[0;34m\u001b[0m\u001b[0m\n\u001b[0m\u001b[1;32m    587\u001b[0m \u001b[0;34m\u001b[0m\u001b[0m\n\u001b[1;32m    588\u001b[0m \u001b[0;34m\u001b[0m\u001b[0m\n",
      "\u001b[0;32m~/opt/anaconda3/lib/python3.9/site-packages/pandas/io/parsers/readers.py\u001b[0m in \u001b[0;36m_read\u001b[0;34m(filepath_or_buffer, kwds)\u001b[0m\n\u001b[1;32m    480\u001b[0m \u001b[0;34m\u001b[0m\u001b[0m\n\u001b[1;32m    481\u001b[0m     \u001b[0;31m# Create the parser.\u001b[0m\u001b[0;34m\u001b[0m\u001b[0;34m\u001b[0m\u001b[0m\n\u001b[0;32m--> 482\u001b[0;31m     \u001b[0mparser\u001b[0m \u001b[0;34m=\u001b[0m \u001b[0mTextFileReader\u001b[0m\u001b[0;34m(\u001b[0m\u001b[0mfilepath_or_buffer\u001b[0m\u001b[0;34m,\u001b[0m \u001b[0;34m**\u001b[0m\u001b[0mkwds\u001b[0m\u001b[0;34m)\u001b[0m\u001b[0;34m\u001b[0m\u001b[0;34m\u001b[0m\u001b[0m\n\u001b[0m\u001b[1;32m    483\u001b[0m \u001b[0;34m\u001b[0m\u001b[0m\n\u001b[1;32m    484\u001b[0m     \u001b[0;32mif\u001b[0m \u001b[0mchunksize\u001b[0m \u001b[0;32mor\u001b[0m \u001b[0miterator\u001b[0m\u001b[0;34m:\u001b[0m\u001b[0;34m\u001b[0m\u001b[0;34m\u001b[0m\u001b[0m\n",
      "\u001b[0;32m~/opt/anaconda3/lib/python3.9/site-packages/pandas/io/parsers/readers.py\u001b[0m in \u001b[0;36m__init__\u001b[0;34m(self, f, engine, **kwds)\u001b[0m\n\u001b[1;32m    809\u001b[0m             \u001b[0mself\u001b[0m\u001b[0;34m.\u001b[0m\u001b[0moptions\u001b[0m\u001b[0;34m[\u001b[0m\u001b[0;34m\"has_index_names\"\u001b[0m\u001b[0;34m]\u001b[0m \u001b[0;34m=\u001b[0m \u001b[0mkwds\u001b[0m\u001b[0;34m[\u001b[0m\u001b[0;34m\"has_index_names\"\u001b[0m\u001b[0;34m]\u001b[0m\u001b[0;34m\u001b[0m\u001b[0;34m\u001b[0m\u001b[0m\n\u001b[1;32m    810\u001b[0m \u001b[0;34m\u001b[0m\u001b[0m\n\u001b[0;32m--> 811\u001b[0;31m         \u001b[0mself\u001b[0m\u001b[0;34m.\u001b[0m\u001b[0m_engine\u001b[0m \u001b[0;34m=\u001b[0m \u001b[0mself\u001b[0m\u001b[0;34m.\u001b[0m\u001b[0m_make_engine\u001b[0m\u001b[0;34m(\u001b[0m\u001b[0mself\u001b[0m\u001b[0;34m.\u001b[0m\u001b[0mengine\u001b[0m\u001b[0;34m)\u001b[0m\u001b[0;34m\u001b[0m\u001b[0;34m\u001b[0m\u001b[0m\n\u001b[0m\u001b[1;32m    812\u001b[0m \u001b[0;34m\u001b[0m\u001b[0m\n\u001b[1;32m    813\u001b[0m     \u001b[0;32mdef\u001b[0m \u001b[0mclose\u001b[0m\u001b[0;34m(\u001b[0m\u001b[0mself\u001b[0m\u001b[0;34m)\u001b[0m\u001b[0;34m:\u001b[0m\u001b[0;34m\u001b[0m\u001b[0;34m\u001b[0m\u001b[0m\n",
      "\u001b[0;32m~/opt/anaconda3/lib/python3.9/site-packages/pandas/io/parsers/readers.py\u001b[0m in \u001b[0;36m_make_engine\u001b[0;34m(self, engine)\u001b[0m\n\u001b[1;32m   1038\u001b[0m             )\n\u001b[1;32m   1039\u001b[0m         \u001b[0;31m# error: Too many arguments for \"ParserBase\"\u001b[0m\u001b[0;34m\u001b[0m\u001b[0;34m\u001b[0m\u001b[0m\n\u001b[0;32m-> 1040\u001b[0;31m         \u001b[0;32mreturn\u001b[0m \u001b[0mmapping\u001b[0m\u001b[0;34m[\u001b[0m\u001b[0mengine\u001b[0m\u001b[0;34m]\u001b[0m\u001b[0;34m(\u001b[0m\u001b[0mself\u001b[0m\u001b[0;34m.\u001b[0m\u001b[0mf\u001b[0m\u001b[0;34m,\u001b[0m \u001b[0;34m**\u001b[0m\u001b[0mself\u001b[0m\u001b[0;34m.\u001b[0m\u001b[0moptions\u001b[0m\u001b[0;34m)\u001b[0m  \u001b[0;31m# type: ignore[call-arg]\u001b[0m\u001b[0;34m\u001b[0m\u001b[0;34m\u001b[0m\u001b[0m\n\u001b[0m\u001b[1;32m   1041\u001b[0m \u001b[0;34m\u001b[0m\u001b[0m\n\u001b[1;32m   1042\u001b[0m     \u001b[0;32mdef\u001b[0m \u001b[0m_failover_to_python\u001b[0m\u001b[0;34m(\u001b[0m\u001b[0mself\u001b[0m\u001b[0;34m)\u001b[0m\u001b[0;34m:\u001b[0m\u001b[0;34m\u001b[0m\u001b[0;34m\u001b[0m\u001b[0m\n",
      "\u001b[0;32m~/opt/anaconda3/lib/python3.9/site-packages/pandas/io/parsers/c_parser_wrapper.py\u001b[0m in \u001b[0;36m__init__\u001b[0;34m(self, src, **kwds)\u001b[0m\n\u001b[1;32m     49\u001b[0m \u001b[0;34m\u001b[0m\u001b[0m\n\u001b[1;32m     50\u001b[0m         \u001b[0;31m# open handles\u001b[0m\u001b[0;34m\u001b[0m\u001b[0;34m\u001b[0m\u001b[0m\n\u001b[0;32m---> 51\u001b[0;31m         \u001b[0mself\u001b[0m\u001b[0;34m.\u001b[0m\u001b[0m_open_handles\u001b[0m\u001b[0;34m(\u001b[0m\u001b[0msrc\u001b[0m\u001b[0;34m,\u001b[0m \u001b[0mkwds\u001b[0m\u001b[0;34m)\u001b[0m\u001b[0;34m\u001b[0m\u001b[0;34m\u001b[0m\u001b[0m\n\u001b[0m\u001b[1;32m     52\u001b[0m         \u001b[0;32massert\u001b[0m \u001b[0mself\u001b[0m\u001b[0;34m.\u001b[0m\u001b[0mhandles\u001b[0m \u001b[0;32mis\u001b[0m \u001b[0;32mnot\u001b[0m \u001b[0;32mNone\u001b[0m\u001b[0;34m\u001b[0m\u001b[0;34m\u001b[0m\u001b[0m\n\u001b[1;32m     53\u001b[0m \u001b[0;34m\u001b[0m\u001b[0m\n",
      "\u001b[0;32m~/opt/anaconda3/lib/python3.9/site-packages/pandas/io/parsers/base_parser.py\u001b[0m in \u001b[0;36m_open_handles\u001b[0;34m(self, src, kwds)\u001b[0m\n\u001b[1;32m    220\u001b[0m         \u001b[0mLet\u001b[0m \u001b[0mthe\u001b[0m \u001b[0mreaders\u001b[0m \u001b[0mopen\u001b[0m \u001b[0mIOHandles\u001b[0m \u001b[0mafter\u001b[0m \u001b[0mthey\u001b[0m \u001b[0mare\u001b[0m \u001b[0mdone\u001b[0m \u001b[0;32mwith\u001b[0m \u001b[0mtheir\u001b[0m \u001b[0mpotential\u001b[0m \u001b[0mraises\u001b[0m\u001b[0;34m.\u001b[0m\u001b[0;34m\u001b[0m\u001b[0;34m\u001b[0m\u001b[0m\n\u001b[1;32m    221\u001b[0m         \"\"\"\n\u001b[0;32m--> 222\u001b[0;31m         self.handles = get_handle(\n\u001b[0m\u001b[1;32m    223\u001b[0m             \u001b[0msrc\u001b[0m\u001b[0;34m,\u001b[0m\u001b[0;34m\u001b[0m\u001b[0;34m\u001b[0m\u001b[0m\n\u001b[1;32m    224\u001b[0m             \u001b[0;34m\"r\"\u001b[0m\u001b[0;34m,\u001b[0m\u001b[0;34m\u001b[0m\u001b[0;34m\u001b[0m\u001b[0m\n",
      "\u001b[0;32m~/opt/anaconda3/lib/python3.9/site-packages/pandas/io/common.py\u001b[0m in \u001b[0;36mget_handle\u001b[0;34m(path_or_buf, mode, encoding, compression, memory_map, is_text, errors, storage_options)\u001b[0m\n\u001b[1;32m    700\u001b[0m         \u001b[0;32mif\u001b[0m \u001b[0mioargs\u001b[0m\u001b[0;34m.\u001b[0m\u001b[0mencoding\u001b[0m \u001b[0;32mand\u001b[0m \u001b[0;34m\"b\"\u001b[0m \u001b[0;32mnot\u001b[0m \u001b[0;32min\u001b[0m \u001b[0mioargs\u001b[0m\u001b[0;34m.\u001b[0m\u001b[0mmode\u001b[0m\u001b[0;34m:\u001b[0m\u001b[0;34m\u001b[0m\u001b[0;34m\u001b[0m\u001b[0m\n\u001b[1;32m    701\u001b[0m             \u001b[0;31m# Encoding\u001b[0m\u001b[0;34m\u001b[0m\u001b[0;34m\u001b[0m\u001b[0m\n\u001b[0;32m--> 702\u001b[0;31m             handle = open(\n\u001b[0m\u001b[1;32m    703\u001b[0m                 \u001b[0mhandle\u001b[0m\u001b[0;34m,\u001b[0m\u001b[0;34m\u001b[0m\u001b[0;34m\u001b[0m\u001b[0m\n\u001b[1;32m    704\u001b[0m                 \u001b[0mioargs\u001b[0m\u001b[0;34m.\u001b[0m\u001b[0mmode\u001b[0m\u001b[0;34m,\u001b[0m\u001b[0;34m\u001b[0m\u001b[0;34m\u001b[0m\u001b[0m\n",
      "\u001b[0;31mFileNotFoundError\u001b[0m: [Errno 2] No such file or directory: '/content/drive/MyDrive/DWE_Projektarbeit_2022/data_pv_antofagasta_1MW.csv'"
     ]
    }
   ],
   "source": [
    "#infeed renewables\n",
    "data_pv = pd.read_csv('/content/drive/MyDrive/DWE_Projektarbeit_2022/data_pv_antofagasta_1MW.csv', skiprows = 3)\n",
    "data_wind = pd.read_csv('/content/drive/MyDrive/DWE_Projektarbeit_2022/data_wind_antofagasta_1MW.csv', skiprows = 3)\n",
    "data_electrolysis = pd.read_excel('/content/drive/MyDrive/DWE_Projektarbeit_2022/load_electrolysis.xlsx')\n",
    "data_shipping_1 = pd.read_excel('/content/drive/MyDrive/DWE_Projektarbeit_2022/Ferntransport.xlsx')\n",
    "data_shipping_2 = 0"
   ]
  },
  {
   "cell_type": "code",
   "execution_count": 9,
   "id": "-3RA4fzwhshr",
   "metadata": {
    "executionInfo": {
     "elapsed": 2825,
     "status": "ok",
     "timestamp": 1673435538528,
     "user": {
      "displayName": "Christof Gipser",
      "userId": "04329298021906177943"
     },
     "user_tz": -60
    },
    "id": "-3RA4fzwhshr"
   },
   "outputs": [],
   "source": [
    "#infeed renewables\n",
    "data_pv = pd.read_csv('data/data_pv_antofagasta_1MW.csv', skiprows = 3)\n",
    "data_wind = pd.read_csv('data/data_wind_antofagasta_1MW.csv', skiprows = 3)\n",
    "data_electrolysis = pd.read_excel('data/load_electrolysis.xlsx')\n",
    "data_shipping_1 = pd.read_excel('data/Ferntransport.xlsx')\n",
    "data_shipping_2 = 0"
   ]
  },
  {
   "cell_type": "code",
   "execution_count": 10,
   "id": "ifaKYx4DfMZO",
   "metadata": {
    "executionInfo": {
     "elapsed": 8,
     "status": "aborted",
     "timestamp": 1673435393734,
     "user": {
      "displayName": "Christof Gipser",
      "userId": "04329298021906177943"
     },
     "user_tz": -60
    },
    "id": "ifaKYx4DfMZO"
   },
   "outputs": [
    {
     "data": {
      "text/html": [
       "<div>\n",
       "<style scoped>\n",
       "    .dataframe tbody tr th:only-of-type {\n",
       "        vertical-align: middle;\n",
       "    }\n",
       "\n",
       "    .dataframe tbody tr th {\n",
       "        vertical-align: top;\n",
       "    }\n",
       "\n",
       "    .dataframe thead th {\n",
       "        text-align: right;\n",
       "    }\n",
       "</style>\n",
       "<table border=\"1\" class=\"dataframe\">\n",
       "  <thead>\n",
       "    <tr style=\"text-align: right;\">\n",
       "      <th></th>\n",
       "      <th>Zeitstempel</th>\n",
       "      <th>PV_Erzeugung</th>\n",
       "      <th>Wind_Erzeugung</th>\n",
       "      <th>Elektrolyse</th>\n",
       "      <th>Kapazität_Schiff</th>\n",
       "    </tr>\n",
       "  </thead>\n",
       "  <tbody>\n",
       "    <tr>\n",
       "      <th>0</th>\n",
       "      <td>2019-01-01 00:00</td>\n",
       "      <td>0.000</td>\n",
       "      <td>8.015</td>\n",
       "      <td>1</td>\n",
       "      <td>0.0</td>\n",
       "    </tr>\n",
       "    <tr>\n",
       "      <th>1</th>\n",
       "      <td>2019-01-01 01:00</td>\n",
       "      <td>0.000</td>\n",
       "      <td>0.524</td>\n",
       "      <td>1</td>\n",
       "      <td>0.0</td>\n",
       "    </tr>\n",
       "    <tr>\n",
       "      <th>2</th>\n",
       "      <td>2019-01-01 02:00</td>\n",
       "      <td>0.000</td>\n",
       "      <td>0.093</td>\n",
       "      <td>1</td>\n",
       "      <td>0.0</td>\n",
       "    </tr>\n",
       "    <tr>\n",
       "      <th>3</th>\n",
       "      <td>2019-01-01 03:00</td>\n",
       "      <td>0.000</td>\n",
       "      <td>0.050</td>\n",
       "      <td>1</td>\n",
       "      <td>0.0</td>\n",
       "    </tr>\n",
       "    <tr>\n",
       "      <th>4</th>\n",
       "      <td>2019-01-01 04:00</td>\n",
       "      <td>0.000</td>\n",
       "      <td>0.064</td>\n",
       "      <td>1</td>\n",
       "      <td>0.0</td>\n",
       "    </tr>\n",
       "    <tr>\n",
       "      <th>...</th>\n",
       "      <td>...</td>\n",
       "      <td>...</td>\n",
       "      <td>...</td>\n",
       "      <td>...</td>\n",
       "      <td>...</td>\n",
       "    </tr>\n",
       "    <tr>\n",
       "      <th>8755</th>\n",
       "      <td>2019-12-31 19:00</td>\n",
       "      <td>563.136</td>\n",
       "      <td>162.500</td>\n",
       "      <td>1</td>\n",
       "      <td>0.0</td>\n",
       "    </tr>\n",
       "    <tr>\n",
       "      <th>8756</th>\n",
       "      <td>2019-12-31 20:00</td>\n",
       "      <td>402.398</td>\n",
       "      <td>124.874</td>\n",
       "      <td>1</td>\n",
       "      <td>0.0</td>\n",
       "    </tr>\n",
       "    <tr>\n",
       "      <th>8757</th>\n",
       "      <td>2019-12-31 21:00</td>\n",
       "      <td>204.904</td>\n",
       "      <td>101.931</td>\n",
       "      <td>1</td>\n",
       "      <td>0.0</td>\n",
       "    </tr>\n",
       "    <tr>\n",
       "      <th>8758</th>\n",
       "      <td>2019-12-31 22:00</td>\n",
       "      <td>32.584</td>\n",
       "      <td>95.503</td>\n",
       "      <td>1</td>\n",
       "      <td>0.0</td>\n",
       "    </tr>\n",
       "    <tr>\n",
       "      <th>8759</th>\n",
       "      <td>2019-12-31 23:00</td>\n",
       "      <td>0.466</td>\n",
       "      <td>76.557</td>\n",
       "      <td>1</td>\n",
       "      <td>0.0</td>\n",
       "    </tr>\n",
       "  </tbody>\n",
       "</table>\n",
       "<p>8760 rows × 5 columns</p>\n",
       "</div>"
      ],
      "text/plain": [
       "           Zeitstempel  PV_Erzeugung  Wind_Erzeugung  Elektrolyse  \\\n",
       "0     2019-01-01 00:00         0.000           8.015            1   \n",
       "1     2019-01-01 01:00         0.000           0.524            1   \n",
       "2     2019-01-01 02:00         0.000           0.093            1   \n",
       "3     2019-01-01 03:00         0.000           0.050            1   \n",
       "4     2019-01-01 04:00         0.000           0.064            1   \n",
       "...                ...           ...             ...          ...   \n",
       "8755  2019-12-31 19:00       563.136         162.500            1   \n",
       "8756  2019-12-31 20:00       402.398         124.874            1   \n",
       "8757  2019-12-31 21:00       204.904         101.931            1   \n",
       "8758  2019-12-31 22:00        32.584          95.503            1   \n",
       "8759  2019-12-31 23:00         0.466          76.557            1   \n",
       "\n",
       "      Kapazität_Schiff  \n",
       "0                  0.0  \n",
       "1                  0.0  \n",
       "2                  0.0  \n",
       "3                  0.0  \n",
       "4                  0.0  \n",
       "...                ...  \n",
       "8755               0.0  \n",
       "8756               0.0  \n",
       "8757               0.0  \n",
       "8758               0.0  \n",
       "8759               0.0  \n",
       "\n",
       "[8760 rows x 5 columns]"
      ]
     },
     "execution_count": 10,
     "metadata": {},
     "output_type": "execute_result"
    }
   ],
   "source": [
    "dataset_df=pd.DataFrame()\n",
    "dataset_df['Zeitstempel']=data_pv['time']\n",
    "dataset_df['PV_Erzeugung']=data_pv['electricity']\n",
    "dataset_df['Wind_Erzeugung']=data_wind['electricity']\n",
    "dataset_df['Elektrolyse']=data_electrolysis['hydrogen']\n",
    "dataset_df['Kapazität_Schiff']=data_shipping_1['Kapazität [MWh]']\n",
    "dataset_df.Kapazität_Schiff=dataset_df.Kapazität_Schiff.fillna(method='ffill')\n",
    "dataset_df.head(10000)"
   ]
  },
  {
   "cell_type": "code",
   "execution_count": null,
   "id": "Ei6n0KS3GEFD",
   "metadata": {
    "executionInfo": {
     "elapsed": 8,
     "status": "aborted",
     "timestamp": 1673435393734,
     "user": {
      "displayName": "Christof Gipser",
      "userId": "04329298021906177943"
     },
     "user_tz": -60
    },
    "id": "Ei6n0KS3GEFD"
   },
   "outputs": [],
   "source": [
    "data_pv = pd.read_csv('data/data_pv_antofagasta_1MW.csv', skiprows = 3)\n",
    "data_wind = pd.read_csv('data/data_wind_antofagasta_1MW.csv', skiprows = 3)\n",
    "data_electrolysis = pd.read_excel('data/load_electrolysis.xlsx')\n",
    "data_shipping_1 = pd.read_excel('data/Ferntransport.xlsx')\n",
    "data_shipping_2 = 0"
   ]
  },
  {
   "cell_type": "code",
   "execution_count": 15,
   "id": "6b6aa064",
   "metadata": {
    "code_folding": [],
    "executionInfo": {
     "elapsed": 9,
     "status": "aborted",
     "timestamp": 1673435393735,
     "user": {
      "displayName": "Christof Gipser",
      "userId": "04329298021906177943"
     },
     "user_tz": -60
    },
    "id": "6b6aa064"
   },
   "outputs": [
    {
     "data": {
      "text/html": [
       "<div>\n",
       "<style scoped>\n",
       "    .dataframe tbody tr th:only-of-type {\n",
       "        vertical-align: middle;\n",
       "    }\n",
       "\n",
       "    .dataframe tbody tr th {\n",
       "        vertical-align: top;\n",
       "    }\n",
       "\n",
       "    .dataframe thead th {\n",
       "        text-align: right;\n",
       "    }\n",
       "</style>\n",
       "<table border=\"1\" class=\"dataframe\">\n",
       "  <thead>\n",
       "    <tr style=\"text-align: right;\">\n",
       "      <th></th>\n",
       "      <th>Unnamed: 1</th>\n",
       "      <th>name</th>\n",
       "      <th>bus</th>\n",
       "      <th>p_nom</th>\n",
       "      <th>marginal_cost</th>\n",
       "      <th>lifetime</th>\n",
       "      <th>capital_cost</th>\n",
       "      <th>efficiency</th>\n",
       "      <th>standing_loss</th>\n",
       "      <th>length</th>\n",
       "      <th>s_max_pu</th>\n",
       "      <th>Unnamed: 12</th>\n",
       "    </tr>\n",
       "  </thead>\n",
       "  <tbody>\n",
       "    <tr>\n",
       "      <th>NaN</th>\n",
       "      <td>NaN</td>\n",
       "      <td>string</td>\n",
       "      <td>string</td>\n",
       "      <td>series</td>\n",
       "      <td>static</td>\n",
       "      <td>float</td>\n",
       "      <td>float</td>\n",
       "      <td>float</td>\n",
       "      <td>float</td>\n",
       "      <td>float</td>\n",
       "      <td>series</td>\n",
       "      <td>NaN</td>\n",
       "    </tr>\n",
       "    <tr>\n",
       "      <th>Photovoltaik (Chile)</th>\n",
       "      <td>Generator</td>\n",
       "      <td>x</td>\n",
       "      <td>x</td>\n",
       "      <td>x</td>\n",
       "      <td>NaN</td>\n",
       "      <td>NaN</td>\n",
       "      <td>NaN</td>\n",
       "      <td>n.v.</td>\n",
       "      <td>n.v.</td>\n",
       "      <td>n.v.</td>\n",
       "      <td>n.v.</td>\n",
       "      <td>NaN</td>\n",
       "    </tr>\n",
       "    <tr>\n",
       "      <th>Windkraft (Chile)</th>\n",
       "      <td>Generator</td>\n",
       "      <td>x</td>\n",
       "      <td>x</td>\n",
       "      <td>x</td>\n",
       "      <td>NaN</td>\n",
       "      <td>NaN</td>\n",
       "      <td>NaN</td>\n",
       "      <td>n.v.</td>\n",
       "      <td>n.v.</td>\n",
       "      <td>n.v.</td>\n",
       "      <td>n.v.</td>\n",
       "      <td>NaN</td>\n",
       "    </tr>\n",
       "    <tr>\n",
       "      <th>PEM Elektrolyse</th>\n",
       "      <td>Link</td>\n",
       "      <td>x</td>\n",
       "      <td>x</td>\n",
       "      <td>Simulation</td>\n",
       "      <td>95.226003</td>\n",
       "      <td>10</td>\n",
       "      <td>720000</td>\n",
       "      <td>0.598911</td>\n",
       "      <td>n.v.</td>\n",
       "      <td>n.v.</td>\n",
       "      <td>n.v.</td>\n",
       "      <td>[2]</td>\n",
       "    </tr>\n",
       "    <tr>\n",
       "      <th>AEL Elektrolyse</th>\n",
       "      <td>Link</td>\n",
       "      <td>x</td>\n",
       "      <td>x</td>\n",
       "      <td>Simulation</td>\n",
       "      <td>120.831319</td>\n",
       "      <td>10</td>\n",
       "      <td>630000</td>\n",
       "      <td>0.617978</td>\n",
       "      <td>n.v.</td>\n",
       "      <td>n.v.</td>\n",
       "      <td>n.v.</td>\n",
       "      <td>[2]</td>\n",
       "    </tr>\n",
       "  </tbody>\n",
       "</table>\n",
       "</div>"
      ],
      "text/plain": [
       "                     Unnamed: 1    name     bus       p_nom marginal_cost  \\\n",
       "NaN                         NaN  string  string      series        static   \n",
       "Photovoltaik (Chile)  Generator       x       x           x           NaN   \n",
       "Windkraft (Chile)     Generator       x       x           x           NaN   \n",
       "PEM Elektrolyse            Link       x       x  Simulation     95.226003   \n",
       "AEL Elektrolyse            Link       x       x  Simulation    120.831319   \n",
       "\n",
       "                     lifetime capital_cost efficiency standing_loss length  \\\n",
       "NaN                     float        float      float         float  float   \n",
       "Photovoltaik (Chile)      NaN          NaN       n.v.          n.v.   n.v.   \n",
       "Windkraft (Chile)         NaN          NaN       n.v.          n.v.   n.v.   \n",
       "PEM Elektrolyse            10       720000   0.598911          n.v.   n.v.   \n",
       "AEL Elektrolyse            10       630000   0.617978          n.v.   n.v.   \n",
       "\n",
       "                     s_max_pu Unnamed: 12  \n",
       "NaN                    series         NaN  \n",
       "Photovoltaik (Chile)     n.v.         NaN  \n",
       "Windkraft (Chile)        n.v.         NaN  \n",
       "PEM Elektrolyse          n.v.         [2]  \n",
       "AEL Elektrolyse          n.v.         [2]  "
      ]
     },
     "execution_count": 15,
     "metadata": {},
     "output_type": "execute_result"
    }
   ],
   "source": [
    "# Inputs Variablen\n",
    "data_inputs = pd.read_excel('data/Inputs_Modell.xlsx', sheet_name = 'Gesamt', header = 2, index_col = 0)\n",
    "\n",
    "data_inputs=pd.DataFrame(data_inputs)\n",
    "data_inputs.head()"
   ]
  },
  {
   "cell_type": "code",
   "execution_count": 16,
   "id": "a1970481",
   "metadata": {
    "code_folding": [],
    "executionInfo": {
     "elapsed": 9,
     "status": "aborted",
     "timestamp": 1673435393735,
     "user": {
      "displayName": "Christof Gipser",
      "userId": "04329298021906177943"
     },
     "user_tz": -60
    },
    "id": "a1970481",
    "scrolled": true
   },
   "outputs": [
    {
     "name": "stdout",
     "output_type": "stream",
     "text": [
      "Der stündliche Bedarf bei konstanter Verteilung des Jahresbedarfs von 35 kt Wasserstoff beträgt ungefähr 132.0 MWh\n"
     ]
    }
   ],
   "source": [
    "# Erstellung Last\n",
    "hydrogen_energy_content = 33 #kWh/kg\n",
    "hydrogen_demand = (35 * 1000) * hydrogen_energy_content # MWh\n",
    "hydrogen_demand_hourly = hydrogen_demand/8760 #MW\n",
    "\n",
    "print('Der stündliche Bedarf bei konstanter Verteilung des Jahresbedarfs von 35 kt Wasserstoff beträgt ungefähr ' + str(round(hydrogen_demand_hourly,0)) + ' MWh')\n",
    "\n",
    "#Erstellung Elektrolyseprofil"
   ]
  },
  {
   "cell_type": "markdown",
   "id": "5fadf68f",
   "metadata": {
    "id": "5fadf68f"
   },
   "source": [
    "# Definition der Variablen"
   ]
  },
  {
   "cell_type": "markdown",
   "id": "11747a0a",
   "metadata": {
    "id": "11747a0a"
   },
   "source": [
    "## Leistungen"
   ]
  },
  {
   "cell_type": "code",
   "execution_count": 17,
   "id": "789ce1d0",
   "metadata": {
    "executionInfo": {
     "elapsed": 8,
     "status": "aborted",
     "timestamp": 1673435393735,
     "user": {
      "displayName": "Christof Gipser",
      "userId": "04329298021906177943"
     },
     "user_tz": -60
    },
    "id": "789ce1d0"
   },
   "outputs": [],
   "source": [
    "p_nom_pv = data_pv.max()\n",
    "p_nom_wind = data_wind.max()"
   ]
  },
  {
   "cell_type": "markdown",
   "id": "b5e81e71",
   "metadata": {
    "id": "b5e81e71"
   },
   "source": [
    "## Investitionskosten"
   ]
  },
  {
   "cell_type": "code",
   "execution_count": 18,
   "id": "f7557704",
   "metadata": {
    "code_folding": [],
    "executionInfo": {
     "elapsed": 8,
     "status": "aborted",
     "timestamp": 1673435393735,
     "user": {
      "displayName": "Christof Gipser",
      "userId": "04329298021906177943"
     },
     "user_tz": -60
    },
    "id": "f7557704"
   },
   "outputs": [],
   "source": [
    "# generators\n",
    "capital_cost_pv = 800 # €/MW\n",
    "capital_cost_wind = 800 # €/MW\n",
    "\n",
    "# links\n",
    "capital_cost_PEMEL = data_inputs.loc['PEM Elektrolyse']['capital_cost'] # €/MW\n",
    "capital_cost_AEL = data_inputs.loc['AEL Elektrolyse']['capital_cost'] # €/MW\n",
    "#capital_cost_HTEL = 1300 # €/MW\n",
    "capital_cost_NH3 = 1400 # €/MW\n",
    "capital_cost_LH2 = data_inputs.loc['Verflüssigung']['capital_cost'] # €/MW\n",
    "capital_cost_LHOC = 1600 # €/MW\n",
    "capital_cost_pipeline = 5000 # €/MW\n",
    "capital_cost_shipping_1 = 10000 # €/MW\n",
    "capital_cost_shipping_2 = 80000 # €/MW\n",
    "\n",
    "# storages\n",
    "capital_cost_storage_GH2 = 200 # €/MW\n",
    "capital_cost_storage_NH3 = 20 # €/MW\n",
    "capital_cost_storage_LH2 = data_inputs.loc['LH2 Speicher']['capital_cost'] # €/MW\n",
    "capital_cost_storage_LHOC = 20 # €/MW"
   ]
  },
  {
   "cell_type": "markdown",
   "id": "4a7b55cc",
   "metadata": {
    "id": "4a7b55cc"
   },
   "source": [
    "## Gestehungskosten"
   ]
  },
  {
   "cell_type": "code",
   "execution_count": 19,
   "id": "bc66b833",
   "metadata": {
    "code_folding": [],
    "executionInfo": {
     "elapsed": 8,
     "status": "aborted",
     "timestamp": 1673435393735,
     "user": {
      "displayName": "Christof Gipser",
      "userId": "04329298021906177943"
     },
     "user_tz": -60
    },
    "id": "bc66b833"
   },
   "outputs": [],
   "source": [
    "# generators\n",
    "marginal_cost_pv = 70 # €/MWh\n",
    "marginal_cost_wind = 70 # €/MWh\n",
    "\n",
    "# conversion\n",
    "marginal_cost_PEMEL = data_inputs.loc['PEM Elektrolyse']['marginal_cost'] # €/MWh\n",
    "marginal_cost_AEL = data_inputs.loc['AEL Elektrolyse']['marginal_cost'] # €/MWh\n",
    "#marginal_cost_HTEL = 100 # €/MWh\n",
    "marginal_cost_NH3 = 100 # €/MWh\n",
    "marginal_cost_LH2 = data_inputs.loc['Verflüssigung']['marginal_cost'] # €/MWh\n",
    "marginal_cost_LHOC = 100 # €/MWh\n",
    "\n",
    "# storage\n",
    "marginal_cost_storage_GH2 = 20 # €/MWh\n",
    "marginal_cost_storage_NH3 = 20 # €/MWh\n",
    "marginal_cost_storage_LH2 = 20 # €/MWh\n",
    "marginal_cost_storage_LHOC = 20 # €/MWh\n",
    "\n",
    "# transportation\n",
    "marginal_cost_pipeline = 200 # €/MWh\n",
    "marginal_cost_shipping_GH2 = 10 # €/MWh\n",
    "marginal_cost_shipping_NH3 = 10 # €/MWh\n",
    "marginal_cost_shipping_LH2 = data_inputs.loc['LH2 Speicher']['marginal_cost'] # €/MWh\n",
    "marginal_cost_shipping_LHOC = 10 # €/MWh"
   ]
  },
  {
   "cell_type": "markdown",
   "id": "bf48b910",
   "metadata": {
    "id": "bf48b910"
   },
   "source": [
    "## Sonstiges"
   ]
  },
  {
   "cell_type": "code",
   "execution_count": 20,
   "id": "d3e88dda",
   "metadata": {
    "code_folding": [],
    "executionInfo": {
     "elapsed": 8,
     "status": "aborted",
     "timestamp": 1673435393735,
     "user": {
      "displayName": "Christof Gipser",
      "userId": "04329298021906177943"
     },
     "user_tz": -60
    },
    "id": "d3e88dda"
   },
   "outputs": [],
   "source": [
    "# efficiencies\n",
    "efficiency_PEMEL = data_inputs.loc['PEM Elektrolyse']['efficiency']\n",
    "efficiency_AEL = data_inputs.loc['AEL Elektrolyse']['efficiency']\n",
    "#efficiency_HTEL = 1\n",
    "efficiency_NH3 = 1\n",
    "efficiency_LH2 = data_inputs.loc['Verflüssigung']['efficiency']\n",
    "efficiency_LHOC = 1\n",
    "\n",
    "# lifetimes\n",
    "lifetime_PEMEL = 20\n",
    "lifetime_AEL = 20\n",
    "#lifetime_HTEL = 20\n",
    "\n",
    "# standing losses\n",
    "standing_loss_GH2 = 0.05\n",
    "standing_loss_NH3 = 0.05\n",
    "standing_loss_LH2 = data_inputs.loc['LH2 Speicher']['standing_loss']\n",
    "standing_loss_LHOC = 0.05"
   ]
  },
  {
   "cell_type": "markdown",
   "id": "d6282dfc",
   "metadata": {
    "id": "d6282dfc"
   },
   "source": [
    "# Netzwerk aufbauen"
   ]
  },
  {
   "cell_type": "code",
   "execution_count": 21,
   "id": "e544e18f",
   "metadata": {
    "executionInfo": {
     "elapsed": 8,
     "status": "aborted",
     "timestamp": 1673435393735,
     "user": {
      "displayName": "Christof Gipser",
      "userId": "04329298021906177943"
     },
     "user_tz": -60
    },
    "id": "e544e18f"
   },
   "outputs": [],
   "source": [
    "network = pypsa.Network()\n",
    "network.set_snapshots(range(8760))"
   ]
  },
  {
   "cell_type": "markdown",
   "id": "9991c95a",
   "metadata": {
    "id": "9991c95a"
   },
   "source": [
    "## Buses"
   ]
  },
  {
   "cell_type": "code",
   "execution_count": 22,
   "id": "9cede772",
   "metadata": {
    "code_folding": [
     3
    ],
    "executionInfo": {
     "elapsed": 8,
     "status": "aborted",
     "timestamp": 1673435393736,
     "user": {
      "displayName": "Christof Gipser",
      "userId": "04329298021906177943"
     },
     "user_tz": -60
    },
    "id": "9cede772"
   },
   "outputs": [],
   "source": [
    "network.add('Bus', name = 'electricity')\n",
    "network.add('Bus', name = 'GH2')\n",
    "network.add('Bus', name = 'LH2')\n",
    "#network.add('Bus', name = 'NH3')\n",
    "#network.add('Bus', name = 'LH2')\n",
    "#network.add('Bus', name = 'LHOC')\n",
    "#network.add('Bus', name = 'hydrogen')\n",
    "\n",
    "network.add('Bus', name = 'bremerhaven')\n",
    "#network.add('Bus', name = 'cologne')"
   ]
  },
  {
   "cell_type": "markdown",
   "id": "b6a510d5",
   "metadata": {
    "id": "b6a510d5"
   },
   "source": [
    "## Loads"
   ]
  },
  {
   "cell_type": "code",
   "execution_count": 23,
   "id": "e90456f6",
   "metadata": {
    "executionInfo": {
     "elapsed": 8,
     "status": "aborted",
     "timestamp": 1673435393736,
     "user": {
      "displayName": "Christof Gipser",
      "userId": "04329298021906177943"
     },
     "user_tz": -60
    },
    "id": "e90456f6"
   },
   "outputs": [],
   "source": [
    "network.add('Load', name = 'hydrogen_demand', bus = 'bremerhaven', p_set = hydrogen_demand_hourly)"
   ]
  },
  {
   "cell_type": "markdown",
   "id": "2ccfd17e",
   "metadata": {
    "id": "2ccfd17e"
   },
   "source": [
    "## Generators"
   ]
  },
  {
   "cell_type": "code",
   "execution_count": 24,
   "id": "4f04b3e1",
   "metadata": {
    "executionInfo": {
     "elapsed": 8,
     "status": "aborted",
     "timestamp": 1673435393736,
     "user": {
      "displayName": "Christof Gipser",
      "userId": "04329298021906177943"
     },
     "user_tz": -60
    },
    "id": "4f04b3e1"
   },
   "outputs": [
    {
     "ename": "TypeError",
     "evalue": "unsupported operand type(s) for /: 'str' and 'str'",
     "output_type": "error",
     "traceback": [
      "\u001b[0;31m---------------------------------------------------------------------------\u001b[0m",
      "\u001b[0;31mTypeError\u001b[0m                                 Traceback (most recent call last)",
      "\u001b[0;32m~/opt/anaconda3/lib/python3.9/site-packages/pandas/core/ops/array_ops.py\u001b[0m in \u001b[0;36m_na_arithmetic_op\u001b[0;34m(left, right, op, is_cmp)\u001b[0m\n\u001b[1;32m    165\u001b[0m     \u001b[0;32mtry\u001b[0m\u001b[0;34m:\u001b[0m\u001b[0;34m\u001b[0m\u001b[0;34m\u001b[0m\u001b[0m\n\u001b[0;32m--> 166\u001b[0;31m         \u001b[0mresult\u001b[0m \u001b[0;34m=\u001b[0m \u001b[0mfunc\u001b[0m\u001b[0;34m(\u001b[0m\u001b[0mleft\u001b[0m\u001b[0;34m,\u001b[0m \u001b[0mright\u001b[0m\u001b[0;34m)\u001b[0m\u001b[0;34m\u001b[0m\u001b[0;34m\u001b[0m\u001b[0m\n\u001b[0m\u001b[1;32m    167\u001b[0m     \u001b[0;32mexcept\u001b[0m \u001b[0mTypeError\u001b[0m\u001b[0;34m:\u001b[0m\u001b[0;34m\u001b[0m\u001b[0;34m\u001b[0m\u001b[0m\n",
      "\u001b[0;32m~/opt/anaconda3/lib/python3.9/site-packages/pandas/core/computation/expressions.py\u001b[0m in \u001b[0;36mevaluate\u001b[0;34m(op, a, b, use_numexpr)\u001b[0m\n\u001b[1;32m    238\u001b[0m             \u001b[0;31m# error: \"None\" not callable\u001b[0m\u001b[0;34m\u001b[0m\u001b[0;34m\u001b[0m\u001b[0m\n\u001b[0;32m--> 239\u001b[0;31m             \u001b[0;32mreturn\u001b[0m \u001b[0m_evaluate\u001b[0m\u001b[0;34m(\u001b[0m\u001b[0mop\u001b[0m\u001b[0;34m,\u001b[0m \u001b[0mop_str\u001b[0m\u001b[0;34m,\u001b[0m \u001b[0ma\u001b[0m\u001b[0;34m,\u001b[0m \u001b[0mb\u001b[0m\u001b[0;34m)\u001b[0m  \u001b[0;31m# type: ignore[misc]\u001b[0m\u001b[0;34m\u001b[0m\u001b[0;34m\u001b[0m\u001b[0m\n\u001b[0m\u001b[1;32m    240\u001b[0m     \u001b[0;32mreturn\u001b[0m \u001b[0m_evaluate_standard\u001b[0m\u001b[0;34m(\u001b[0m\u001b[0mop\u001b[0m\u001b[0;34m,\u001b[0m \u001b[0mop_str\u001b[0m\u001b[0;34m,\u001b[0m \u001b[0ma\u001b[0m\u001b[0;34m,\u001b[0m \u001b[0mb\u001b[0m\u001b[0;34m)\u001b[0m\u001b[0;34m\u001b[0m\u001b[0;34m\u001b[0m\u001b[0m\n",
      "\u001b[0;32m~/opt/anaconda3/lib/python3.9/site-packages/pandas/core/computation/expressions.py\u001b[0m in \u001b[0;36m_evaluate_numexpr\u001b[0;34m(op, op_str, a, b)\u001b[0m\n\u001b[1;32m    127\u001b[0m     \u001b[0;32mif\u001b[0m \u001b[0mresult\u001b[0m \u001b[0;32mis\u001b[0m \u001b[0;32mNone\u001b[0m\u001b[0;34m:\u001b[0m\u001b[0;34m\u001b[0m\u001b[0;34m\u001b[0m\u001b[0m\n\u001b[0;32m--> 128\u001b[0;31m         \u001b[0mresult\u001b[0m \u001b[0;34m=\u001b[0m \u001b[0m_evaluate_standard\u001b[0m\u001b[0;34m(\u001b[0m\u001b[0mop\u001b[0m\u001b[0;34m,\u001b[0m \u001b[0mop_str\u001b[0m\u001b[0;34m,\u001b[0m \u001b[0ma\u001b[0m\u001b[0;34m,\u001b[0m \u001b[0mb\u001b[0m\u001b[0;34m)\u001b[0m\u001b[0;34m\u001b[0m\u001b[0;34m\u001b[0m\u001b[0m\n\u001b[0m\u001b[1;32m    129\u001b[0m \u001b[0;34m\u001b[0m\u001b[0m\n",
      "\u001b[0;32m~/opt/anaconda3/lib/python3.9/site-packages/pandas/core/computation/expressions.py\u001b[0m in \u001b[0;36m_evaluate_standard\u001b[0;34m(op, op_str, a, b)\u001b[0m\n\u001b[1;32m     68\u001b[0m         \u001b[0m_store_test_result\u001b[0m\u001b[0;34m(\u001b[0m\u001b[0;32mFalse\u001b[0m\u001b[0;34m)\u001b[0m\u001b[0;34m\u001b[0m\u001b[0;34m\u001b[0m\u001b[0m\n\u001b[0;32m---> 69\u001b[0;31m     \u001b[0;32mreturn\u001b[0m \u001b[0mop\u001b[0m\u001b[0;34m(\u001b[0m\u001b[0ma\u001b[0m\u001b[0;34m,\u001b[0m \u001b[0mb\u001b[0m\u001b[0;34m)\u001b[0m\u001b[0;34m\u001b[0m\u001b[0;34m\u001b[0m\u001b[0m\n\u001b[0m\u001b[1;32m     70\u001b[0m \u001b[0;34m\u001b[0m\u001b[0m\n",
      "\u001b[0;31mTypeError\u001b[0m: unsupported operand type(s) for /: 'str' and 'str'",
      "\nDuring handling of the above exception, another exception occurred:\n",
      "\u001b[0;31mTypeError\u001b[0m                                 Traceback (most recent call last)",
      "\u001b[0;32m/var/folders/np/fxyv4bts2s353fj5gdlrbgym0000gn/T/ipykernel_79921/2436530578.py\u001b[0m in \u001b[0;36m<module>\u001b[0;34m\u001b[0m\n\u001b[1;32m      1\u001b[0m network.add('Generator', name = 'pv', bus = 'electricity', \n\u001b[0;32m----> 2\u001b[0;31m             \u001b[0mp_nom\u001b[0m \u001b[0;34m=\u001b[0m \u001b[0mp_nom_pv\u001b[0m\u001b[0;34m,\u001b[0m \u001b[0mp_max_pu\u001b[0m \u001b[0;34m=\u001b[0m \u001b[0mdata_pv\u001b[0m\u001b[0;34m/\u001b[0m\u001b[0mp_nom_pv\u001b[0m\u001b[0;34m,\u001b[0m \u001b[0mp_min_pu\u001b[0m \u001b[0;34m=\u001b[0m \u001b[0mdata_pv\u001b[0m\u001b[0;34m/\u001b[0m\u001b[0mp_nom_pv\u001b[0m\u001b[0;34m,\u001b[0m \u001b[0mp_nom_extendable\u001b[0m \u001b[0;34m=\u001b[0m \u001b[0;32mTrue\u001b[0m\u001b[0;34m,\u001b[0m\u001b[0;34m\u001b[0m\u001b[0;34m\u001b[0m\u001b[0m\n\u001b[0m\u001b[1;32m      3\u001b[0m             marginal_cost = marginal_cost_pv, capital_cost = capital_cost_pv)\n\u001b[1;32m      4\u001b[0m \u001b[0;34m\u001b[0m\u001b[0m\n\u001b[1;32m      5\u001b[0m \u001b[0;31m#network.add('Generator', name = 'pv', bus = 'electricity',\u001b[0m\u001b[0;34m\u001b[0m\u001b[0;34m\u001b[0m\u001b[0m\n",
      "\u001b[0;32m~/opt/anaconda3/lib/python3.9/site-packages/pandas/core/ops/common.py\u001b[0m in \u001b[0;36mnew_method\u001b[0;34m(self, other)\u001b[0m\n\u001b[1;32m     67\u001b[0m         \u001b[0mother\u001b[0m \u001b[0;34m=\u001b[0m \u001b[0mitem_from_zerodim\u001b[0m\u001b[0;34m(\u001b[0m\u001b[0mother\u001b[0m\u001b[0;34m)\u001b[0m\u001b[0;34m\u001b[0m\u001b[0;34m\u001b[0m\u001b[0m\n\u001b[1;32m     68\u001b[0m \u001b[0;34m\u001b[0m\u001b[0m\n\u001b[0;32m---> 69\u001b[0;31m         \u001b[0;32mreturn\u001b[0m \u001b[0mmethod\u001b[0m\u001b[0;34m(\u001b[0m\u001b[0mself\u001b[0m\u001b[0;34m,\u001b[0m \u001b[0mother\u001b[0m\u001b[0;34m)\u001b[0m\u001b[0;34m\u001b[0m\u001b[0;34m\u001b[0m\u001b[0m\n\u001b[0m\u001b[1;32m     70\u001b[0m \u001b[0;34m\u001b[0m\u001b[0m\n\u001b[1;32m     71\u001b[0m     \u001b[0;32mreturn\u001b[0m \u001b[0mnew_method\u001b[0m\u001b[0;34m\u001b[0m\u001b[0;34m\u001b[0m\u001b[0m\n",
      "\u001b[0;32m~/opt/anaconda3/lib/python3.9/site-packages/pandas/core/arraylike.py\u001b[0m in \u001b[0;36m__truediv__\u001b[0;34m(self, other)\u001b[0m\n\u001b[1;32m    114\u001b[0m     \u001b[0;34m@\u001b[0m\u001b[0munpack_zerodim_and_defer\u001b[0m\u001b[0;34m(\u001b[0m\u001b[0;34m\"__truediv__\"\u001b[0m\u001b[0;34m)\u001b[0m\u001b[0;34m\u001b[0m\u001b[0;34m\u001b[0m\u001b[0m\n\u001b[1;32m    115\u001b[0m     \u001b[0;32mdef\u001b[0m \u001b[0m__truediv__\u001b[0m\u001b[0;34m(\u001b[0m\u001b[0mself\u001b[0m\u001b[0;34m,\u001b[0m \u001b[0mother\u001b[0m\u001b[0;34m)\u001b[0m\u001b[0;34m:\u001b[0m\u001b[0;34m\u001b[0m\u001b[0;34m\u001b[0m\u001b[0m\n\u001b[0;32m--> 116\u001b[0;31m         \u001b[0;32mreturn\u001b[0m \u001b[0mself\u001b[0m\u001b[0;34m.\u001b[0m\u001b[0m_arith_method\u001b[0m\u001b[0;34m(\u001b[0m\u001b[0mother\u001b[0m\u001b[0;34m,\u001b[0m \u001b[0moperator\u001b[0m\u001b[0;34m.\u001b[0m\u001b[0mtruediv\u001b[0m\u001b[0;34m)\u001b[0m\u001b[0;34m\u001b[0m\u001b[0;34m\u001b[0m\u001b[0m\n\u001b[0m\u001b[1;32m    117\u001b[0m \u001b[0;34m\u001b[0m\u001b[0m\n\u001b[1;32m    118\u001b[0m     \u001b[0;34m@\u001b[0m\u001b[0munpack_zerodim_and_defer\u001b[0m\u001b[0;34m(\u001b[0m\u001b[0;34m\"__rtruediv__\"\u001b[0m\u001b[0;34m)\u001b[0m\u001b[0;34m\u001b[0m\u001b[0;34m\u001b[0m\u001b[0m\n",
      "\u001b[0;32m~/opt/anaconda3/lib/python3.9/site-packages/pandas/core/frame.py\u001b[0m in \u001b[0;36m_arith_method\u001b[0;34m(self, other, op)\u001b[0m\n\u001b[1;32m   6864\u001b[0m         \u001b[0mself\u001b[0m\u001b[0;34m,\u001b[0m \u001b[0mother\u001b[0m \u001b[0;34m=\u001b[0m \u001b[0mops\u001b[0m\u001b[0;34m.\u001b[0m\u001b[0malign_method_FRAME\u001b[0m\u001b[0;34m(\u001b[0m\u001b[0mself\u001b[0m\u001b[0;34m,\u001b[0m \u001b[0mother\u001b[0m\u001b[0;34m,\u001b[0m \u001b[0maxis\u001b[0m\u001b[0;34m,\u001b[0m \u001b[0mflex\u001b[0m\u001b[0;34m=\u001b[0m\u001b[0;32mTrue\u001b[0m\u001b[0;34m,\u001b[0m \u001b[0mlevel\u001b[0m\u001b[0;34m=\u001b[0m\u001b[0;32mNone\u001b[0m\u001b[0;34m)\u001b[0m\u001b[0;34m\u001b[0m\u001b[0;34m\u001b[0m\u001b[0m\n\u001b[1;32m   6865\u001b[0m \u001b[0;34m\u001b[0m\u001b[0m\n\u001b[0;32m-> 6866\u001b[0;31m         \u001b[0mnew_data\u001b[0m \u001b[0;34m=\u001b[0m \u001b[0mself\u001b[0m\u001b[0;34m.\u001b[0m\u001b[0m_dispatch_frame_op\u001b[0m\u001b[0;34m(\u001b[0m\u001b[0mother\u001b[0m\u001b[0;34m,\u001b[0m \u001b[0mop\u001b[0m\u001b[0;34m,\u001b[0m \u001b[0maxis\u001b[0m\u001b[0;34m=\u001b[0m\u001b[0maxis\u001b[0m\u001b[0;34m)\u001b[0m\u001b[0;34m\u001b[0m\u001b[0;34m\u001b[0m\u001b[0m\n\u001b[0m\u001b[1;32m   6867\u001b[0m         \u001b[0;32mreturn\u001b[0m \u001b[0mself\u001b[0m\u001b[0;34m.\u001b[0m\u001b[0m_construct_result\u001b[0m\u001b[0;34m(\u001b[0m\u001b[0mnew_data\u001b[0m\u001b[0;34m)\u001b[0m\u001b[0;34m\u001b[0m\u001b[0;34m\u001b[0m\u001b[0m\n\u001b[1;32m   6868\u001b[0m \u001b[0;34m\u001b[0m\u001b[0m\n",
      "\u001b[0;32m~/opt/anaconda3/lib/python3.9/site-packages/pandas/core/frame.py\u001b[0m in \u001b[0;36m_dispatch_frame_op\u001b[0;34m(self, right, func, axis)\u001b[0m\n\u001b[1;32m   6903\u001b[0m             \u001b[0;31m# TODO operate_blockwise expects a manager of the same type\u001b[0m\u001b[0;34m\u001b[0m\u001b[0;34m\u001b[0m\u001b[0m\n\u001b[1;32m   6904\u001b[0m             \u001b[0;32mwith\u001b[0m \u001b[0mnp\u001b[0m\u001b[0;34m.\u001b[0m\u001b[0merrstate\u001b[0m\u001b[0;34m(\u001b[0m\u001b[0mall\u001b[0m\u001b[0;34m=\u001b[0m\u001b[0;34m\"ignore\"\u001b[0m\u001b[0;34m)\u001b[0m\u001b[0;34m:\u001b[0m\u001b[0;34m\u001b[0m\u001b[0;34m\u001b[0m\u001b[0m\n\u001b[0;32m-> 6905\u001b[0;31m                 bm = self._mgr.operate_blockwise(\n\u001b[0m\u001b[1;32m   6906\u001b[0m                     \u001b[0;31m# error: Argument 1 to \"operate_blockwise\" of \"ArrayManager\" has\u001b[0m\u001b[0;34m\u001b[0m\u001b[0;34m\u001b[0m\u001b[0m\n\u001b[1;32m   6907\u001b[0m                     \u001b[0;31m# incompatible type \"Union[ArrayManager, BlockManager]\"; expected\u001b[0m\u001b[0;34m\u001b[0m\u001b[0;34m\u001b[0m\u001b[0m\n",
      "\u001b[0;32m~/opt/anaconda3/lib/python3.9/site-packages/pandas/core/internals/managers.py\u001b[0m in \u001b[0;36moperate_blockwise\u001b[0;34m(self, other, array_op)\u001b[0m\n\u001b[1;32m   1301\u001b[0m         \u001b[0mApply\u001b[0m \u001b[0marray_op\u001b[0m \u001b[0mblockwise\u001b[0m \u001b[0;32mwith\u001b[0m \u001b[0manother\u001b[0m \u001b[0;34m(\u001b[0m\u001b[0maligned\u001b[0m\u001b[0;34m)\u001b[0m \u001b[0mBlockManager\u001b[0m\u001b[0;34m.\u001b[0m\u001b[0;34m\u001b[0m\u001b[0;34m\u001b[0m\u001b[0m\n\u001b[1;32m   1302\u001b[0m         \"\"\"\n\u001b[0;32m-> 1303\u001b[0;31m         \u001b[0;32mreturn\u001b[0m \u001b[0moperate_blockwise\u001b[0m\u001b[0;34m(\u001b[0m\u001b[0mself\u001b[0m\u001b[0;34m,\u001b[0m \u001b[0mother\u001b[0m\u001b[0;34m,\u001b[0m \u001b[0marray_op\u001b[0m\u001b[0;34m)\u001b[0m\u001b[0;34m\u001b[0m\u001b[0;34m\u001b[0m\u001b[0m\n\u001b[0m\u001b[1;32m   1304\u001b[0m \u001b[0;34m\u001b[0m\u001b[0m\n\u001b[1;32m   1305\u001b[0m     \u001b[0;32mdef\u001b[0m \u001b[0m_equal_values\u001b[0m\u001b[0;34m(\u001b[0m\u001b[0mself\u001b[0m\u001b[0;34m:\u001b[0m \u001b[0mBlockManager\u001b[0m\u001b[0;34m,\u001b[0m \u001b[0mother\u001b[0m\u001b[0;34m:\u001b[0m \u001b[0mBlockManager\u001b[0m\u001b[0;34m)\u001b[0m \u001b[0;34m->\u001b[0m \u001b[0mbool\u001b[0m\u001b[0;34m:\u001b[0m\u001b[0;34m\u001b[0m\u001b[0;34m\u001b[0m\u001b[0m\n",
      "\u001b[0;32m~/opt/anaconda3/lib/python3.9/site-packages/pandas/core/internals/ops.py\u001b[0m in \u001b[0;36moperate_blockwise\u001b[0;34m(left, right, array_op)\u001b[0m\n\u001b[1;32m     55\u001b[0m     \u001b[0mres_blks\u001b[0m\u001b[0;34m:\u001b[0m \u001b[0mlist\u001b[0m\u001b[0;34m[\u001b[0m\u001b[0mBlock\u001b[0m\u001b[0;34m]\u001b[0m \u001b[0;34m=\u001b[0m \u001b[0;34m[\u001b[0m\u001b[0;34m]\u001b[0m\u001b[0;34m\u001b[0m\u001b[0;34m\u001b[0m\u001b[0m\n\u001b[1;32m     56\u001b[0m     \u001b[0;32mfor\u001b[0m \u001b[0mlvals\u001b[0m\u001b[0;34m,\u001b[0m \u001b[0mrvals\u001b[0m\u001b[0;34m,\u001b[0m \u001b[0mlocs\u001b[0m\u001b[0;34m,\u001b[0m \u001b[0mleft_ea\u001b[0m\u001b[0;34m,\u001b[0m \u001b[0mright_ea\u001b[0m\u001b[0;34m,\u001b[0m \u001b[0mrblk\u001b[0m \u001b[0;32min\u001b[0m \u001b[0m_iter_block_pairs\u001b[0m\u001b[0;34m(\u001b[0m\u001b[0mleft\u001b[0m\u001b[0;34m,\u001b[0m \u001b[0mright\u001b[0m\u001b[0;34m)\u001b[0m\u001b[0;34m:\u001b[0m\u001b[0;34m\u001b[0m\u001b[0;34m\u001b[0m\u001b[0m\n\u001b[0;32m---> 57\u001b[0;31m         \u001b[0mres_values\u001b[0m \u001b[0;34m=\u001b[0m \u001b[0marray_op\u001b[0m\u001b[0;34m(\u001b[0m\u001b[0mlvals\u001b[0m\u001b[0;34m,\u001b[0m \u001b[0mrvals\u001b[0m\u001b[0;34m)\u001b[0m\u001b[0;34m\u001b[0m\u001b[0;34m\u001b[0m\u001b[0m\n\u001b[0m\u001b[1;32m     58\u001b[0m         \u001b[0;32mif\u001b[0m \u001b[0mleft_ea\u001b[0m \u001b[0;32mand\u001b[0m \u001b[0;32mnot\u001b[0m \u001b[0mright_ea\u001b[0m \u001b[0;32mand\u001b[0m \u001b[0mhasattr\u001b[0m\u001b[0;34m(\u001b[0m\u001b[0mres_values\u001b[0m\u001b[0;34m,\u001b[0m \u001b[0;34m\"reshape\"\u001b[0m\u001b[0;34m)\u001b[0m\u001b[0;34m:\u001b[0m\u001b[0;34m\u001b[0m\u001b[0;34m\u001b[0m\u001b[0m\n\u001b[1;32m     59\u001b[0m             \u001b[0mres_values\u001b[0m \u001b[0;34m=\u001b[0m \u001b[0mres_values\u001b[0m\u001b[0;34m.\u001b[0m\u001b[0mreshape\u001b[0m\u001b[0;34m(\u001b[0m\u001b[0;36m1\u001b[0m\u001b[0;34m,\u001b[0m \u001b[0;34m-\u001b[0m\u001b[0;36m1\u001b[0m\u001b[0;34m)\u001b[0m\u001b[0;34m\u001b[0m\u001b[0;34m\u001b[0m\u001b[0m\n",
      "\u001b[0;32m~/opt/anaconda3/lib/python3.9/site-packages/pandas/core/ops/array_ops.py\u001b[0m in \u001b[0;36marithmetic_op\u001b[0;34m(left, right, op)\u001b[0m\n\u001b[1;32m    222\u001b[0m         \u001b[0m_bool_arith_check\u001b[0m\u001b[0;34m(\u001b[0m\u001b[0mop\u001b[0m\u001b[0;34m,\u001b[0m \u001b[0mleft\u001b[0m\u001b[0;34m,\u001b[0m \u001b[0mright\u001b[0m\u001b[0;34m)\u001b[0m\u001b[0;34m\u001b[0m\u001b[0;34m\u001b[0m\u001b[0m\n\u001b[1;32m    223\u001b[0m \u001b[0;34m\u001b[0m\u001b[0m\n\u001b[0;32m--> 224\u001b[0;31m         \u001b[0mres_values\u001b[0m \u001b[0;34m=\u001b[0m \u001b[0m_na_arithmetic_op\u001b[0m\u001b[0;34m(\u001b[0m\u001b[0mleft\u001b[0m\u001b[0;34m,\u001b[0m \u001b[0mright\u001b[0m\u001b[0;34m,\u001b[0m \u001b[0mop\u001b[0m\u001b[0;34m)\u001b[0m\u001b[0;34m\u001b[0m\u001b[0;34m\u001b[0m\u001b[0m\n\u001b[0m\u001b[1;32m    225\u001b[0m \u001b[0;34m\u001b[0m\u001b[0m\n\u001b[1;32m    226\u001b[0m     \u001b[0;32mreturn\u001b[0m \u001b[0mres_values\u001b[0m\u001b[0;34m\u001b[0m\u001b[0;34m\u001b[0m\u001b[0m\n",
      "\u001b[0;32m~/opt/anaconda3/lib/python3.9/site-packages/pandas/core/ops/array_ops.py\u001b[0m in \u001b[0;36m_na_arithmetic_op\u001b[0;34m(left, right, op, is_cmp)\u001b[0m\n\u001b[1;32m    171\u001b[0m             \u001b[0;31m# Don't do this for comparisons, as that will handle complex numbers\u001b[0m\u001b[0;34m\u001b[0m\u001b[0;34m\u001b[0m\u001b[0m\n\u001b[1;32m    172\u001b[0m             \u001b[0;31m#  incorrectly, see GH#32047\u001b[0m\u001b[0;34m\u001b[0m\u001b[0;34m\u001b[0m\u001b[0m\n\u001b[0;32m--> 173\u001b[0;31m             \u001b[0mresult\u001b[0m \u001b[0;34m=\u001b[0m \u001b[0m_masked_arith_op\u001b[0m\u001b[0;34m(\u001b[0m\u001b[0mleft\u001b[0m\u001b[0;34m,\u001b[0m \u001b[0mright\u001b[0m\u001b[0;34m,\u001b[0m \u001b[0mop\u001b[0m\u001b[0;34m)\u001b[0m\u001b[0;34m\u001b[0m\u001b[0;34m\u001b[0m\u001b[0m\n\u001b[0m\u001b[1;32m    174\u001b[0m         \u001b[0;32melse\u001b[0m\u001b[0;34m:\u001b[0m\u001b[0;34m\u001b[0m\u001b[0;34m\u001b[0m\u001b[0m\n\u001b[1;32m    175\u001b[0m             \u001b[0;32mraise\u001b[0m\u001b[0;34m\u001b[0m\u001b[0;34m\u001b[0m\u001b[0m\n",
      "\u001b[0;32m~/opt/anaconda3/lib/python3.9/site-packages/pandas/core/ops/array_ops.py\u001b[0m in \u001b[0;36m_masked_arith_op\u001b[0;34m(x, y, op)\u001b[0m\n\u001b[1;32m    110\u001b[0m         \u001b[0;31m# See GH#5284, GH#5035, GH#19448 for historical reference\u001b[0m\u001b[0;34m\u001b[0m\u001b[0;34m\u001b[0m\u001b[0m\n\u001b[1;32m    111\u001b[0m         \u001b[0;32mif\u001b[0m \u001b[0mmask\u001b[0m\u001b[0;34m.\u001b[0m\u001b[0many\u001b[0m\u001b[0;34m(\u001b[0m\u001b[0;34m)\u001b[0m\u001b[0;34m:\u001b[0m\u001b[0;34m\u001b[0m\u001b[0;34m\u001b[0m\u001b[0m\n\u001b[0;32m--> 112\u001b[0;31m             \u001b[0mresult\u001b[0m\u001b[0;34m[\u001b[0m\u001b[0mmask\u001b[0m\u001b[0;34m]\u001b[0m \u001b[0;34m=\u001b[0m \u001b[0mop\u001b[0m\u001b[0;34m(\u001b[0m\u001b[0mxrav\u001b[0m\u001b[0;34m[\u001b[0m\u001b[0mmask\u001b[0m\u001b[0;34m]\u001b[0m\u001b[0;34m,\u001b[0m \u001b[0myrav\u001b[0m\u001b[0;34m[\u001b[0m\u001b[0mmask\u001b[0m\u001b[0;34m]\u001b[0m\u001b[0;34m)\u001b[0m\u001b[0;34m\u001b[0m\u001b[0;34m\u001b[0m\u001b[0m\n\u001b[0m\u001b[1;32m    113\u001b[0m \u001b[0;34m\u001b[0m\u001b[0m\n\u001b[1;32m    114\u001b[0m     \u001b[0;32melse\u001b[0m\u001b[0;34m:\u001b[0m\u001b[0;34m\u001b[0m\u001b[0;34m\u001b[0m\u001b[0m\n",
      "\u001b[0;31mTypeError\u001b[0m: unsupported operand type(s) for /: 'str' and 'str'"
     ]
    }
   ],
   "source": [
    "network.add('Generator', name = 'pv', bus = 'electricity', \n",
    "            p_nom = p_nom_pv, p_max_pu = data_pv/p_nom_pv, p_min_pu = data_pv/p_nom_pv, p_nom_extendable = True,\n",
    "            marginal_cost = marginal_cost_pv, capital_cost = capital_cost_pv)\n",
    "\n",
    "#network.add('Generator', name = 'pv', bus = 'electricity', \n",
    "#            p_nom = p_nom_pv, p_max_pu = data_pv/p_nom_pv, p_nom_extendable = True,\n",
    "#            marginal_cost = marginal_cost_pv, capital_cost = capital_cost_pv)\n",
    "\n",
    "network.add('Generator', name = 'wind', bus = 'electricity',\n",
    "            p_nom = p_nom_wind, p_max_pu = data_wind/p_nom_wind, p_min_pu = data_wind/p_nom_wind, p_nom_extendable = True,\n",
    "            marginal_cost = marginal_cost_wind, capital_cost = capital_cost_wind)"
   ]
  },
  {
   "cell_type": "markdown",
   "id": "03e464ac",
   "metadata": {
    "id": "03e464ac"
   },
   "source": [
    "## Links - Electrolysis"
   ]
  },
  {
   "cell_type": "code",
   "execution_count": 25,
   "id": "8990014b",
   "metadata": {
    "code_folding": [],
    "executionInfo": {
     "elapsed": 8,
     "status": "aborted",
     "timestamp": 1673435393736,
     "user": {
      "displayName": "Christof Gipser",
      "userId": "04329298021906177943"
     },
     "user_tz": -60
    },
    "id": "8990014b"
   },
   "outputs": [],
   "source": [
    "network.add('Link', name = 'PEMEL', bus0 = 'electricity', bus1 = 'GH2', \n",
    "            p_nom_extendable = True,\n",
    "            marginal_cost = marginal_cost_PEMEL, capital_cost = capital_cost_PEMEL,\n",
    "            efficiency = efficiency_PEMEL)\n"
   ]
  },
  {
   "cell_type": "markdown",
   "id": "a4e2effd",
   "metadata": {
    "id": "a4e2effd"
   },
   "source": [
    "network.add('Link', name = 'AEL', bus0 = 'electricity', bus1 = 'GH2',\n",
    "           p_nom_extendable = True,\n",
    "           marginal_cost = marginal_cost_AEL, capital_cost = capital_cost_AEL,\n",
    "           efficiency = efficiency_AEL)\n",
    "network.add('Link', name = 'HTEL', bus0 = 'electricity', bus1 = 'GH2',\n",
    "           p_nom_extendable = True,\n",
    "           marginal_cost = marginal_cost_HTEL, capital_cost = capital_cost_HTEL,\n",
    "           efficiency = efficiency_HTEL)"
   ]
  },
  {
   "cell_type": "markdown",
   "id": "7584fdd2",
   "metadata": {
    "id": "7584fdd2"
   },
   "source": [
    "## Links - Conversion"
   ]
  },
  {
   "cell_type": "code",
   "execution_count": null,
   "id": "62ced3e5",
   "metadata": {
    "executionInfo": {
     "elapsed": 8,
     "status": "aborted",
     "timestamp": 1673435393736,
     "user": {
      "displayName": "Christof Gipser",
      "userId": "04329298021906177943"
     },
     "user_tz": -60
    },
    "id": "62ced3e5"
   },
   "outputs": [],
   "source": [
    "network.add('Link', name = 'LH2', bus0 = 'GH2', bus1 = 'LH2',\n",
    "           p_nom_extendable = True,\n",
    "           marginal_cost = marginal_cost_LH2, capital_cost = capital_cost_LH2,\n",
    "           efficiency = efficiency_LH2)"
   ]
  },
  {
   "cell_type": "markdown",
   "id": "f4dfc0ac",
   "metadata": {
    "id": "f4dfc0ac"
   },
   "source": [
    "network.add('Link', name = 'NH3', bus0 = 'electricity', bus1 = 'NH3',\n",
    "           p_nom_extendable = True,\n",
    "           marginal_cost = marginal_cost_NH3, capital_cost = capital_cost_NH3,\n",
    "           efficiency = efficiency_NH3)\n",
    "\n",
    "network.add('Link', name = 'LHOC', bus0 = 'electricity', bus1 = 'LHOC',\n",
    "           p_nom_extendable = True,\n",
    "           marginal_cost = marginal_cost_LHOC, capital_cost = capital_cost_LHOC,\n",
    "           efficiency = efficiency_LHOC)"
   ]
  },
  {
   "cell_type": "markdown",
   "id": "6e31ee79",
   "metadata": {
    "id": "6e31ee79"
   },
   "source": [
    "## Links - Ferntransport"
   ]
  },
  {
   "cell_type": "code",
   "execution_count": null,
   "id": "c2b03c0b",
   "metadata": {
    "executionInfo": {
     "elapsed": 8,
     "status": "aborted",
     "timestamp": 1673435393736,
     "user": {
      "displayName": "Christof Gipser",
      "userId": "04329298021906177943"
     },
     "user_tz": -60
    },
    "id": "c2b03c0b"
   },
   "outputs": [],
   "source": [
    "# long distance shipment\n",
    "network.add('Link', name = 'Ferntransport_GH2', bus0 = 'LH2', bus1 = 'bremerhaven',\n",
    "            p_nom = data_shipping_1.max(), p_max_pu = data_shipping_1/data_shipping_1.max(), p_nom_extendable = True,\n",
    "            marginal_cost = marginal_cost_shipping_GH2, capital_cost = capital_cost_shipping_1)"
   ]
  },
  {
   "cell_type": "markdown",
   "id": "a13f49b2",
   "metadata": {
    "id": "a13f49b2"
   },
   "source": [
    "network.add('Link', name = 'Ferntransport_NH3', bus0 = 'NH3', bus1 = 'bremerhaven',\n",
    "            p_nom = data_shipping_1.max(), p_max_pu = data_shipping_1/data_shipping_1.max(),\n",
    "            marginal_cost = marginal_cost_shipping_NH3)\n",
    "\n",
    "network.add('Link', name = 'Ferntransport_LH2', bus0 = 'LH2', bus1 = 'bremerhaven',\n",
    "            p_nom = data_shipping_1.max(), p_max_pu = data_shipping_1/data_shipping_1.max(),\n",
    "            marginal_cost = marginal_cost_shipping_LH2)\n",
    "\n",
    "network.add('Link', name = 'Ferntransport_LHOC', bus0 = 'LHOC', bus1 = 'bremerhaven',\n",
    "            p_nom = data_shipping_1.max(), p_max_pu = data_shipping_1/data_shipping_1.max(),\n",
    "            marginal_cost = marginal_cost_shipping_LHOC)\n"
   ]
  },
  {
   "cell_type": "markdown",
   "id": "391ca361",
   "metadata": {
    "id": "391ca361"
   },
   "source": [
    "## Links - Pipeline"
   ]
  },
  {
   "cell_type": "markdown",
   "id": "a7817e8c",
   "metadata": {
    "id": "a7817e8c"
   },
   "source": [
    "## Storages"
   ]
  },
  {
   "cell_type": "code",
   "execution_count": null,
   "id": "003b6796",
   "metadata": {
    "code_folding": [],
    "executionInfo": {
     "elapsed": 7,
     "status": "aborted",
     "timestamp": 1673435393736,
     "user": {
      "displayName": "Christof Gipser",
      "userId": "04329298021906177943"
     },
     "user_tz": -60
    },
    "id": "003b6796"
   },
   "outputs": [],
   "source": [
    "network.add('Store', name = 'antofagasta_GH2', bus = 'GH2', \n",
    "            e_nom_extendable = True,  e_cyclic = True, \n",
    "            capital_cost = capital_cost_storage_GH2)\n",
    "\n",
    "network.add('Store', name = 'hydrogen_store_1.1', bus = 'NH3', \n",
    "            e_nom_extendable = True,  e_cyclic = True, \n",
    "            capital_cost = capital_cost_storage_NH3)\n",
    "\n",
    "network.add('Store', name = 'hydrogen_store_1.2', bus = 'LH2', \n",
    "            e_nom_extendable = True, e_cyclic = True,  \n",
    "            capital_cost = capital_cost_storage_LH2)\n",
    "\n",
    "network.add('Store', name = 'hydrogen_store_1.3', bus = 'LHOC', \n",
    "            e_nom_extendable = True, e_cyclic = True,  \n",
    "            capital_cost = capital_cost_storage_LHOC)\n",
    "\n",
    "network.add('Store', name = 'bremerhaven_GH2', bus = 'bremerhaven', \n",
    "            e_nom_extendable = True, e_cyclic = True, \n",
    "            capital_cost = capital_cost_storage_GH2)\n",
    "\n",
    "network.add('Store', name = 'cologne_GH2', bus = 'cologne', \n",
    "            e_nom_extendable = True, e_cyclic = True, \n",
    "            capital_cost = capital_cost_storage_GH2)"
   ]
  },
  {
   "cell_type": "markdown",
   "id": "18c3c354",
   "metadata": {
    "id": "18c3c354"
   },
   "source": [
    "# Optimierung des Systems"
   ]
  },
  {
   "cell_type": "code",
   "execution_count": null,
   "id": "5e993293",
   "metadata": {
    "executionInfo": {
     "elapsed": 7,
     "status": "aborted",
     "timestamp": 1673435393736,
     "user": {
      "displayName": "Christof Gipser",
      "userId": "04329298021906177943"
     },
     "user_tz": -60
    },
    "id": "5e993293",
    "scrolled": true
   },
   "outputs": [],
   "source": [
    "network.lopf(pyomo = False, solver_name = 'gurobi')"
   ]
  },
  {
   "cell_type": "markdown",
   "id": "f5855bc2",
   "metadata": {
    "id": "f5855bc2"
   },
   "source": [
    "# Auswertung der Ergebnisse"
   ]
  },
  {
   "cell_type": "code",
   "execution_count": null,
   "id": "0c4e75ac",
   "metadata": {
    "executionInfo": {
     "elapsed": 7,
     "status": "aborted",
     "timestamp": 1673435393736,
     "user": {
      "displayName": "Christof Gipser",
      "userId": "04329298021906177943"
     },
     "user_tz": -60
    },
    "id": "0c4e75ac"
   },
   "outputs": [],
   "source": [
    "def Jahresverlauf (Titel, Zeitstempel, Leistung, xlabel, ylabel):\n",
    "\n",
    "  fig = plt.figure(figsize=(19,8))\n",
    "\n",
    " \n",
    "\n",
    "  ax1 = fig.add_axes([1, 1, 1, 1])\n",
    "  ax1.set_title(Titel,weight='bold',fontsize=15)\n",
    "  ax1.plot(Zeitstempel,Leistung,c='green')\n",
    "  plt.xlabel(xlabel,fontsize=15 )\n",
    "  plt.ylabel(ylabel,fontsize=15)\n",
    "\n",
    " \n",
    "\n",
    "  plt.show()"
   ]
  },
  {
   "cell_type": "code",
   "execution_count": null,
   "id": "d81745b5",
   "metadata": {
    "executionInfo": {
     "elapsed": 8,
     "status": "aborted",
     "timestamp": 1673435393737,
     "user": {
      "displayName": "Christof Gipser",
      "userId": "04329298021906177943"
     },
     "user_tz": -60
    },
    "id": "d81745b5"
   },
   "outputs": [],
   "source": [
    "Jahresverlauf('Stromerzeugung aus Windkraft',dataset_df.index, dataset_df['PV_Erzeugung'],'Zeit','Leistung')"
   ]
  },
  {
   "cell_type": "code",
   "execution_count": null,
   "id": "5fhyRwmdv4Af",
   "metadata": {
    "executionInfo": {
     "elapsed": 8,
     "status": "aborted",
     "timestamp": 1673435393737,
     "user": {
      "displayName": "Christof Gipser",
      "userId": "04329298021906177943"
     },
     "user_tz": -60
    },
    "id": "5fhyRwmdv4Af"
   },
   "outputs": [],
   "source": [
    "Jahresverlauf('Stromerzeugung aus Windkraft',dataset_df.index, dataset_df['Wind_Erzeugung'],'Zeit','Leistung')"
   ]
  },
  {
   "cell_type": "code",
   "execution_count": null,
   "id": "_hnWzv1RwBaF",
   "metadata": {
    "executionInfo": {
     "elapsed": 8,
     "status": "aborted",
     "timestamp": 1673435393737,
     "user": {
      "displayName": "Christof Gipser",
      "userId": "04329298021906177943"
     },
     "user_tz": -60
    },
    "id": "_hnWzv1RwBaF"
   },
   "outputs": [],
   "source": [
    "Jahresverlauf('Stromerzeugung aus Windkraft',dataset_df.index, dataset_df['Elektrolyse'],'Zeit','Leistung')"
   ]
  },
  {
   "cell_type": "code",
   "execution_count": null,
   "id": "hm1uneV8wLvO",
   "metadata": {
    "executionInfo": {
     "elapsed": 8,
     "status": "aborted",
     "timestamp": 1673435393737,
     "user": {
      "displayName": "Christof Gipser",
      "userId": "04329298021906177943"
     },
     "user_tz": -60
    },
    "id": "hm1uneV8wLvO"
   },
   "outputs": [],
   "source": [
    "Jahresverlauf('Stromerzeugung aus Windkraft',dataset_df.index, dataset_df['Kapazität_Schiff'],'Zeit','Leistung')"
   ]
  },
  {
   "cell_type": "code",
   "execution_count": null,
   "id": "daded6ef",
   "metadata": {
    "executionInfo": {
     "elapsed": 8,
     "status": "aborted",
     "timestamp": 1673435393737,
     "user": {
      "displayName": "Christof Gipser",
      "userId": "04329298021906177943"
     },
     "user_tz": -60
    },
    "id": "daded6ef"
   },
   "outputs": [],
   "source": [
    "network.generators.p_nom_opt"
   ]
  },
  {
   "cell_type": "code",
   "execution_count": null,
   "id": "effb4980",
   "metadata": {
    "executionInfo": {
     "elapsed": 8,
     "status": "aborted",
     "timestamp": 1673435393737,
     "user": {
      "displayName": "Christof Gipser",
      "userId": "04329298021906177943"
     },
     "user_tz": -60
    },
    "id": "effb4980"
   },
   "outputs": [],
   "source": [
    "(network.generators_t.p).plot(figsize = (15,8), ylabel = 'Leistung in MW')"
   ]
  },
  {
   "cell_type": "code",
   "execution_count": null,
   "id": "54420171",
   "metadata": {
    "executionInfo": {
     "elapsed": 8,
     "status": "aborted",
     "timestamp": 1673435393737,
     "user": {
      "displayName": "Christof Gipser",
      "userId": "04329298021906177943"
     },
     "user_tz": -60
    },
    "id": "54420171"
   },
   "outputs": [],
   "source": [
    "network.links.p_nom_opt"
   ]
  },
  {
   "cell_type": "code",
   "execution_count": null,
   "id": "e7aa6b23",
   "metadata": {
    "executionInfo": {
     "elapsed": 8,
     "status": "aborted",
     "timestamp": 1673435393737,
     "user": {
      "displayName": "Christof Gipser",
      "userId": "04329298021906177943"
     },
     "user_tz": -60
    },
    "id": "e7aa6b23",
    "scrolled": false
   },
   "outputs": [],
   "source": [
    "(network.links_t.p0).plot(figsize = (15,8), ylabel = 'Leistung in MW')"
   ]
  },
  {
   "cell_type": "code",
   "execution_count": null,
   "id": "7d3799c2",
   "metadata": {
    "executionInfo": {
     "elapsed": 8,
     "status": "aborted",
     "timestamp": 1673435393737,
     "user": {
      "displayName": "Christof Gipser",
      "userId": "04329298021906177943"
     },
     "user_tz": -60
    },
    "id": "7d3799c2"
   },
   "outputs": [],
   "source": [
    "network.stores_t.e.plot(figsize = (15,8))"
   ]
  },
  {
   "cell_type": "markdown",
   "id": "ac5f47b8",
   "metadata": {
    "id": "ac5f47b8"
   },
   "source": [
    "# Werkstatt"
   ]
  },
  {
   "cell_type": "code",
   "execution_count": null,
   "id": "52de8549",
   "metadata": {
    "executionInfo": {
     "elapsed": 8,
     "status": "aborted",
     "timestamp": 1673435393738,
     "user": {
      "displayName": "Christof Gipser",
      "userId": "04329298021906177943"
     },
     "user_tz": -60
    },
    "id": "52de8549"
   },
   "outputs": [],
   "source": [
    "Speicherkosten = network.stores.e_nom_opt*network.stores.capital_cost\n",
    "spez_Speicherkosten_MWh = Speicherkosten/hydrogen_demand\n",
    "spez_Speicherkosten_kg = spez_Speicherkosten_MWh/hydrogen_energy_content\n",
    "spez_Speicherkosten_kg"
   ]
  },
  {
   "cell_type": "code",
   "execution_count": null,
   "id": "pcw9XUen7mFL",
   "metadata": {
    "executionInfo": {
     "elapsed": 8,
     "status": "aborted",
     "timestamp": 1673435393738,
     "user": {
      "displayName": "Christof Gipser",
      "userId": "04329298021906177943"
     },
     "user_tz": -60
    },
    "id": "pcw9XUen7mFL"
   },
   "outputs": [],
   "source": [
    "labels = ['A', 'B']\n",
    "Stromkosten = np.array([1.5,1.5])\n",
    "Elektrolyse = np.array([0.5,1.5])\n",
    "Speicherung = np.array([0.15,0.12])\n",
    "Ferntransport_1 = np.array([1,0.2])\n",
    "Inlandstransport = np.array([0.3,0.3])\n",
    "Umwandlung = np.array([0.7,0.3])\n",
    "Sonstige= np.array([0.1,0.3])\n",
    "# the width of the bars: can also be len(x) sequence\n",
    "width=0.5\n",
    "fig, ax = plt.subplots(figsize=(7,10))\n",
    "#x_pos = [-2,0,2]\n",
    "ax.bar(labels, Stromkosten, label='Stromkosten',width=width,color='lightcoral')\n",
    "ax.bar(labels, Elektrolyse, bottom=Stromkosten,\n",
    "       label='Elektrolyse',width=width,color='indianred')\n",
    "ax.bar(labels, Speicherung, bottom=Stromkosten+Elektrolyse,\n",
    "       label='Speicherung',width=width,color='firebrick')\n",
    "ax.bar(labels, Ferntransport_1, bottom=Stromkosten+Elektrolyse+Speicherung,\n",
    "       label='Ferntransport',width=width,color='brown')\n",
    "ax.bar(labels, Inlandstransport, bottom=Stromkosten+Elektrolyse+Speicherung+Ferntransport_1,\n",
    "       label='Inlandstransport',width=width,color='maroon')\n",
    "ax.bar(labels, Umwandlung, bottom=Stromkosten+Elektrolyse+Speicherung+Ferntransport_1+Inlandstransport,\n",
    "       label='Umwandlung',width=width,color='darkred')\n",
    "ax.bar(labels, Sonstige, bottom=Stromkosten+Elektrolyse+Speicherung+Ferntransport_1+Inlandstransport+Umwandlung,\n",
    "       label='Sonstige',width=width,color='red')\n",
    "\n",
    "ax.set_ylabel('Kosten in [€]')\n",
    "ax.set_title('Wasserstoffbereitstellungskosten in €/kg Wasserstoff')\n",
    "ax.legend(loc='upper right')\n",
    "\n",
    "for p in ax.patches:\n",
    "    width, height = p.get_width(), p.get_height()\n",
    "    x, y = p.get_xy() \n",
    "    ax.text(x+width/2, \n",
    "            y+height/2, \n",
    "            '{:.02f}€'.format(height), \n",
    "            horizontalalignment='center', \n",
    "            verticalalignment='center',\n",
    "            color='white',\n",
    "            fontsize=14,\n",
    "            )\n",
    "  \n",
    "\n",
    "horiz_offset = 1.03\n",
    "vert_offset = 1.\n",
    "ax.legend(bbox_to_anchor=(horiz_offset, vert_offset))\n",
    "#plt.xticks(x_pos, labels)\n",
    "plt.show()"
   ]
  }
 ],
 "metadata": {
  "colab": {
   "provenance": []
  },
  "hide_input": false,
  "kernelspec": {
   "display_name": "Python 3 (ipykernel)",
   "language": "python",
   "name": "python3"
  },
  "language_info": {
   "codemirror_mode": {
    "name": "ipython",
    "version": 3
   },
   "file_extension": ".py",
   "mimetype": "text/x-python",
   "name": "python",
   "nbconvert_exporter": "python",
   "pygments_lexer": "ipython3",
   "version": "3.9.13"
  },
  "toc": {
   "base_numbering": 1,
   "nav_menu": {},
   "number_sections": true,
   "sideBar": true,
   "skip_h1_title": false,
   "title_cell": "Table of Contents",
   "title_sidebar": "Contents",
   "toc_cell": false,
   "toc_position": {
    "height": "calc(100% - 180px)",
    "left": "10px",
    "top": "150px",
    "width": "269px"
   },
   "toc_section_display": true,
   "toc_window_display": true
  }
 },
 "nbformat": 4,
 "nbformat_minor": 5
}
