{
 "cells": [
  {
   "cell_type": "code",
   "execution_count": 1,
   "id": "f2098217",
   "metadata": {
    "code_folding": [
     0
    ]
   },
   "outputs": [],
   "source": [
    "# Import der Bibliotheken\n",
    "\n",
    "import pypsa\n",
    "import pandas as pd\n",
    "import numpy as np\n",
    "import matplotlib.pyplot as plt\n",
    "import datetime\n",
    "from datetime import date, datetime\n",
    "import plotly"
   ]
  },
  {
   "cell_type": "code",
   "execution_count": 2,
   "id": "d300a8b2",
   "metadata": {},
   "outputs": [],
   "source": [
    "net1 = pypsa.Network()\n",
    "net2 = pypsa.Network()\n",
    "net3 = pypsa.Network()\n",
    "\n",
    "net1.set_snapshots(range(8760))\n",
    "net2.set_snapshots(range(8760))\n",
    "net3.set_snapshots(range(8760))"
   ]
  },
  {
   "cell_type": "code",
   "execution_count": 3,
   "id": "b74f79ae",
   "metadata": {},
   "outputs": [],
   "source": [
    "net1.add('Bus', name = 'el')\n",
    "net2.add('Bus', name = 'el')\n",
    "net3.add('Bus', name = 'el')\n",
    "\n",
    "net1.add('Bus', name = 'LH2')\n",
    "net2.add('Bus', name = 'NH3')\n",
    "net3.add('Bus', name = 'LOHC')"
   ]
  },
  {
   "cell_type": "code",
   "execution_count": 4,
   "id": "373706ce",
   "metadata": {},
   "outputs": [],
   "source": [
    "net1.add('Generator', name = 'pv', bus = 'el', p_nom_extendable = True)\n",
    "net2.add('Generator', name = 'pv', bus = 'el', p_nom_extendable = True)\n",
    "net3.add('Generator', name = 'pv', bus = 'el', p_nom_extendable = True)"
   ]
  },
  {
   "cell_type": "code",
   "execution_count": 5,
   "id": "21d38237",
   "metadata": {},
   "outputs": [],
   "source": [
    "net1.add('Link', name = 'to_LH2', bus0 = 'el', bus1 = 'LH2', p_nom_extendable = True)\n",
    "net2.add('Link', name = 'to_NH3', bus0 = 'el', bus1 = 'NH3', p_nom_extendable = True)\n",
    "net3.add('Link', name = 'to_LOHC', bus0 = 'el', bus1 = 'LOHC', p_nom_extendable = True)"
   ]
  },
  {
   "cell_type": "code",
   "execution_count": 6,
   "id": "455157b1",
   "metadata": {},
   "outputs": [],
   "source": [
    "net1.add('Load', name = 'load', bus = 'LH2', p_set = 50)\n",
    "net2.add('Load', name = 'load', bus = 'NH3', p_set = 100)\n",
    "net3.add('Load', name = 'load', bus = 'LOHC', p_set = 200)"
   ]
  },
  {
   "cell_type": "code",
   "execution_count": 7,
   "id": "dc3f5738",
   "metadata": {
    "scrolled": true
   },
   "outputs": [
    {
     "name": "stderr",
     "output_type": "stream",
     "text": [
      "INFO:pypsa.linopf:Prepare linear problem\n",
      "INFO:pypsa.linopf:Total preparation time: 0.66s\n",
      "INFO:pypsa.linopf:Solve linear problem using Gurobi solver\n"
     ]
    },
    {
     "name": "stdout",
     "output_type": "stream",
     "text": [
      "Set parameter Username\n",
      "Academic license - for non-commercial use only - expires 2023-07-01\n",
      "Read LP format model from file /var/folders/np/fxyv4bts2s353fj5gdlrbgym0000gn/T/pypsa-problem-zo1apchf.lp\n",
      "Reading time = 0.10 seconds\n",
      "obj: 52560 rows, 17523 columns, 78840 nonzeros\n",
      "Gurobi Optimizer version 9.5.2 build v9.5.2rc0 (mac64[rosetta2])\n",
      "Thread count: 8 physical cores, 8 logical processors, using up to 8 threads\n",
      "Optimize a model with 52560 rows, 17523 columns and 78840 nonzeros\n",
      "Model fingerprint: 0x75fd7f96\n",
      "Coefficient statistics:\n",
      "  Matrix range     [1e+00, 1e+00]\n",
      "  Objective range  [1e+00, 1e+00]\n",
      "  Bounds range     [0e+00, 0e+00]\n",
      "  RHS range        [5e+01, 5e+01]\n",
      "\n",
      "Concurrent LP optimizer: primal simplex, dual simplex, and barrier\n",
      "Showing barrier log only...\n",
      "\n",
      "Presolve removed 52560 rows and 17523 columns\n",
      "Presolve time: 0.03s\n",
      "Presolve: All rows and columns removed\n",
      "Iteration    Objective       Primal Inf.    Dual Inf.      Time\n",
      "       0    0.0000000e+00   0.000000e+00   0.000000e+00      0s\n",
      "\n",
      "Solved with dual simplex\n",
      "Solved in 0 iterations and 0.04 seconds (0.02 work units)\n",
      "Optimal objective  0.000000000e+00\n"
     ]
    },
    {
     "name": "stderr",
     "output_type": "stream",
     "text": [
      "INFO:pypsa.linopf:Optimization successful. Objective value: 0.00e+00\n",
      "INFO:pypsa.linopf:Prepare linear problem\n",
      "INFO:pypsa.linopf:Total preparation time: 0.66s\n",
      "INFO:pypsa.linopf:Solve linear problem using Gurobi solver\n"
     ]
    },
    {
     "name": "stdout",
     "output_type": "stream",
     "text": [
      "Read LP format model from file /var/folders/np/fxyv4bts2s353fj5gdlrbgym0000gn/T/pypsa-problem-o3b2pcph.lp\n",
      "Reading time = 0.09 seconds\n",
      "obj: 52560 rows, 17523 columns, 78840 nonzeros\n",
      "Gurobi Optimizer version 9.5.2 build v9.5.2rc0 (mac64[rosetta2])\n",
      "Thread count: 8 physical cores, 8 logical processors, using up to 8 threads\n",
      "Optimize a model with 52560 rows, 17523 columns and 78840 nonzeros\n",
      "Model fingerprint: 0xed0da9c7\n",
      "Coefficient statistics:\n",
      "  Matrix range     [1e+00, 1e+00]\n",
      "  Objective range  [1e+00, 1e+00]\n",
      "  Bounds range     [0e+00, 0e+00]\n",
      "  RHS range        [1e+02, 1e+02]\n",
      "\n",
      "Concurrent LP optimizer: primal simplex, dual simplex, and barrier\n",
      "Showing barrier log only...\n",
      "\n",
      "Presolve removed 52560 rows and 17523 columns\n",
      "Presolve time: 0.02s\n",
      "Presolve: All rows and columns removed\n",
      "Iteration    Objective       Primal Inf.    Dual Inf.      Time\n",
      "       0    0.0000000e+00   0.000000e+00   0.000000e+00      0s\n",
      "\n",
      "Solved with dual simplex\n",
      "Solved in 0 iterations and 0.03 seconds (0.02 work units)\n",
      "Optimal objective  0.000000000e+00\n"
     ]
    },
    {
     "name": "stderr",
     "output_type": "stream",
     "text": [
      "INFO:pypsa.linopf:Optimization successful. Objective value: 0.00e+00\n",
      "INFO:pypsa.linopf:Prepare linear problem\n",
      "INFO:pypsa.linopf:Total preparation time: 0.65s\n",
      "INFO:pypsa.linopf:Solve linear problem using Gurobi solver\n"
     ]
    },
    {
     "name": "stdout",
     "output_type": "stream",
     "text": [
      "Read LP format model from file /var/folders/np/fxyv4bts2s353fj5gdlrbgym0000gn/T/pypsa-problem-3i5x_iuu.lp\n",
      "Reading time = 0.09 seconds\n",
      "obj: 52560 rows, 17523 columns, 78840 nonzeros\n",
      "Gurobi Optimizer version 9.5.2 build v9.5.2rc0 (mac64[rosetta2])\n",
      "Thread count: 8 physical cores, 8 logical processors, using up to 8 threads\n",
      "Optimize a model with 52560 rows, 17523 columns and 78840 nonzeros\n",
      "Model fingerprint: 0xddf36eb1\n",
      "Coefficient statistics:\n",
      "  Matrix range     [1e+00, 1e+00]\n",
      "  Objective range  [1e+00, 1e+00]\n",
      "  Bounds range     [0e+00, 0e+00]\n",
      "  RHS range        [2e+02, 2e+02]\n",
      "\n",
      "Concurrent LP optimizer: primal simplex, dual simplex, and barrier\n",
      "Showing barrier log only...\n",
      "\n",
      "Presolve removed 52560 rows and 17523 columns\n",
      "Presolve time: 0.02s\n",
      "Presolve: All rows and columns removed\n",
      "Iteration    Objective       Primal Inf.    Dual Inf.      Time\n",
      "       0    0.0000000e+00   0.000000e+00   0.000000e+00      0s\n",
      "\n",
      "Solved with dual simplex\n",
      "Solved in 0 iterations and 0.03 seconds (0.02 work units)\n",
      "Optimal objective  0.000000000e+00\n"
     ]
    },
    {
     "name": "stderr",
     "output_type": "stream",
     "text": [
      "INFO:pypsa.linopf:Optimization successful. Objective value: 0.00e+00\n"
     ]
    },
    {
     "data": {
      "text/plain": [
       "('ok', 'optimal')"
      ]
     },
     "execution_count": 7,
     "metadata": {},
     "output_type": "execute_result"
    }
   ],
   "source": [
    "net1.lopf(pyomo = False, solver_name = 'gurobi')\n",
    "net2.lopf(pyomo = False, solver_name = 'gurobi')\n",
    "net3.lopf(pyomo = False, solver_name = 'gurobi')"
   ]
  },
  {
   "cell_type": "code",
   "execution_count": 9,
   "id": "da23ea36",
   "metadata": {},
   "outputs": [
    {
     "ename": "SyntaxError",
     "evalue": "invalid syntax (4063335816.py, line 2)",
     "output_type": "error",
     "traceback": [
      "\u001b[0;36m  File \u001b[0;32m\"/var/folders/np/fxyv4bts2s353fj5gdlrbgym0000gn/T/ipykernel_80220/4063335816.py\"\u001b[0;36m, line \u001b[0;32m2\u001b[0m\n\u001b[0;31m    Leistungen\u001b[0m\n\u001b[0m    ^\u001b[0m\n\u001b[0;31mSyntaxError\u001b[0m\u001b[0;31m:\u001b[0m invalid syntax\n"
     ]
    }
   ],
   "source": [
    "Leistungen = pd.DataFrame((net1.links.p_nom_opt).append(pd.DataFrame(net2.links.p_nom_opt)).append(pd.DataFrame(net3.links.p_nom_opt))\n",
    "Leistungen"
   ]
  },
  {
   "cell_type": "code",
   "execution_count": null,
   "id": "ccea4ded",
   "metadata": {},
   "outputs": [],
   "source": []
  },
  {
   "cell_type": "code",
   "execution_count": null,
   "id": "61adea83",
   "metadata": {},
   "outputs": [],
   "source": []
  }
 ],
 "metadata": {
  "kernelspec": {
   "display_name": "Python 3 (ipykernel)",
   "language": "python",
   "name": "python3"
  },
  "language_info": {
   "codemirror_mode": {
    "name": "ipython",
    "version": 3
   },
   "file_extension": ".py",
   "mimetype": "text/x-python",
   "name": "python",
   "nbconvert_exporter": "python",
   "pygments_lexer": "ipython3",
   "version": "3.9.7"
  },
  "toc": {
   "base_numbering": 1,
   "nav_menu": {},
   "number_sections": true,
   "sideBar": true,
   "skip_h1_title": false,
   "title_cell": "Table of Contents",
   "title_sidebar": "Contents",
   "toc_cell": false,
   "toc_position": {},
   "toc_section_display": true,
   "toc_window_display": false
  }
 },
 "nbformat": 4,
 "nbformat_minor": 5
}
