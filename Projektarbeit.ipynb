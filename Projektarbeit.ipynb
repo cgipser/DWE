{
 "cells": [
  {
   "cell_type": "code",
   "execution_count": 1,
   "id": "f9a9c5ab",
   "metadata": {},
   "outputs": [],
   "source": [
    "import pypsa \n",
    "import pandas as pd\n",
    "import numpy as np"
   ]
  },
  {
   "cell_type": "markdown",
   "id": "be7bf224",
   "metadata": {},
   "source": [
    "## Einlesen der Datenreihen"
   ]
  },
  {
   "cell_type": "code",
   "execution_count": 2,
   "id": "096e2d1b",
   "metadata": {},
   "outputs": [],
   "source": [
    "#infeed renewables\n",
    "data_pv = pd.read_csv('data/data_pv_antofagasta_1MW.csv', skiprows = 3)['electricity']\n",
    "data_wind = pd.read_csv('data/data_wind_antofagasta_1MW.csv', skiprows = 3)['electricity']\n",
    "data_shipping_1 = pd.read_excel('data/Ferntransport.xlsx')['Kapazität [MWh]']\n",
    "data_shipping_2 = 0"
   ]
  },
  {
   "cell_type": "code",
   "execution_count": 3,
   "id": "a0fe6875",
   "metadata": {},
   "outputs": [],
   "source": [
    "#Erstellung Lastprofil\n",
    "hydrogen_demand = (35 * 1000) * 33 * 1000 # MWh\n",
    "hydrogen_demand_hourly = hydrogen_demand/8760 #MW"
   ]
  },
  {
   "cell_type": "code",
   "execution_count": 4,
   "id": "0eb6ddda",
   "metadata": {},
   "outputs": [],
   "source": [
    "electrolysis_profile_array = np.zeros(8760)\n",
    "electrolysis_profile_raw = pd.DataFrame(electrolysis_profile_array)\n",
    "electrolysis_profile = electrolysis_profile_raw.replace(0,1)"
   ]
  },
  {
   "cell_type": "code",
   "execution_count": null,
   "id": "9ccdfd5d",
   "metadata": {},
   "outputs": [],
   "source": []
  },
  {
   "cell_type": "markdown",
   "id": "d8007e99",
   "metadata": {},
   "source": [
    "Multilink aufbauen\n",
    "\n",
    "override_component_attrs = pypsa.descriptors.Dict(\n",
    "    {k: v.copy() for k, v in pypsa.components.component_attrs.items()}\n",
    ")\n",
    "override_component_attrs[\"Link\"].loc[\"bus2\"] = [\n",
    "    \"string\",\n",
    "    np.nan,\n",
    "    np.nan,\n",
    "    \"2nd bus\",\n",
    "    \"Input (optional)\",\n",
    "]\n",
    "override_component_attrs[\"Link\"].loc[\"efficiency2\"] = [\n",
    "    \"static or series\",\n",
    "    \"per unit\",\n",
    "    1.0,\n",
    "    \"2nd bus efficiency\",\n",
    "    \"Input (optional)\",\n",
    "]\n",
    "override_component_attrs[\"Link\"].loc[\"p2\"] = [\n",
    "    \"series\",\n",
    "    \"MW\",\n",
    "    0.0,\n",
    "    \"2nd bus output\",\n",
    "    \"Output\",\n",
    "]"
   ]
  },
  {
   "cell_type": "markdown",
   "id": "5fadf68f",
   "metadata": {},
   "source": [
    "## Definition der Variablen"
   ]
  },
  {
   "cell_type": "code",
   "execution_count": null,
   "id": "c9d4a511",
   "metadata": {},
   "outputs": [],
   "source": []
  },
  {
   "cell_type": "code",
   "execution_count": 5,
   "id": "4cb6ad3c",
   "metadata": {},
   "outputs": [],
   "source": [
    "p_nom_pv = data_pv.max()\n",
    "p_nom_wind = data_wind.max()"
   ]
  },
  {
   "cell_type": "markdown",
   "id": "b7b87293",
   "metadata": {},
   "source": [
    "#### Investitionskosten"
   ]
  },
  {
   "cell_type": "code",
   "execution_count": 6,
   "id": "73499cf9",
   "metadata": {},
   "outputs": [],
   "source": [
    "# generators\n",
    "capital_cost_pv = 1000 # €/MW\n",
    "capital_cost_wind = 1000 # €/MW\n",
    "\n",
    "# links\n",
    "capital_cost_PEMEL = 1000 # €/MW\n",
    "capital_cost_AEL = 1200 # €/MW\n",
    "capital_cost_HTEL = 1300 # €/MW\n",
    "capital_cost_NH3 = 1400 # €/MW\n",
    "capital_cost_LH2 = 1500 # €/MW\n",
    "capital_cost_LHOC = 1600 # €/MW\n",
    "capital_cost_pipeline = 5000 # €/MW\n",
    "capital_cost_shipping_1 = 100000 # €/MW\n",
    "capital_cost_shipping_2 = 80000 # €/MW\n",
    "\n",
    "# storages\n",
    "capital_cost_storage_GH2 = 20 # €/MW\n",
    "capital_cost_storage_NH3 = 20 # €/MW\n",
    "capital_cost_storage_LH2 = 20 # €/MW\n",
    "capital_cost_storage_LHOC = 20 # €/MW"
   ]
  },
  {
   "cell_type": "markdown",
   "id": "8840b834",
   "metadata": {},
   "source": [
    "#### Gestehungskosten"
   ]
  },
  {
   "cell_type": "code",
   "execution_count": 7,
   "id": "76126554",
   "metadata": {},
   "outputs": [],
   "source": [
    "# generators\n",
    "marginal_cost_pv = 70 # €/MWh\n",
    "marginal_cost_wind = 70 # €/MWh\n",
    "\n",
    "# conversion\n",
    "marginal_cost_PEMEL = 100 # €/MWh\n",
    "marginal_cost_AEL = 100 # €/MWh\n",
    "marginal_cost_HTEL = 100 # €/MWh\n",
    "marginal_cost_NH3 = 100 # €/MWh\n",
    "marginal_cost_LH2 = 100 # €/MWh\n",
    "marginal_cost_LHOC = 100 # €/MWh\n",
    "\n",
    "# storage\n",
    "marginal_cost_storage_GH2 = 20 # €/MWh\n",
    "marginal_cost_storage_NH3 = 20 # €/MWh\n",
    "marginal_cost_storage_LH2 = 20 # €/MWh\n",
    "marginal_cost_storage_LHOC = 20 # €/MWh\n",
    "\n",
    "# transportation\n",
    "marginal_cost_pipeline = 200 # €/MWh\n",
    "marginal_cost_shipping_GH2 = 10 # €/MWh\n",
    "marginal_cost_shipping_NH3 = 10 # €/MWh\n",
    "marginal_cost_shipping_LH2 = 10 # €/MWh\n",
    "marginal_cost_shipping_LHOC = 10 # €/MWh"
   ]
  },
  {
   "cell_type": "markdown",
   "id": "37ff8615",
   "metadata": {},
   "source": [
    "#### Sonstiges"
   ]
  },
  {
   "cell_type": "code",
   "execution_count": 8,
   "id": "d3e88dda",
   "metadata": {},
   "outputs": [],
   "source": [
    "# efficiencies\n",
    "efficiency_PEMEL = 1\n",
    "efficiency_AEL = 1\n",
    "efficiency_HTEL = 1\n",
    "efficiency_NH3 = 1\n",
    "efficiency_LH2 = 1\n",
    "efficiency_LHOC = 1\n",
    "\n",
    "# lifetimes\n",
    "lifetime_PEMEL = 20\n",
    "lifetime_AEL = 20\n",
    "lifetime_HTEL = 20\n",
    "\n",
    "# standing losses\n",
    "standing_loss_GH2 = 0.05\n",
    "standing_loss_NH3 = 0.05\n",
    "standing_loss_LH2 = 0.05\n",
    "standing_loss_LHOC = 0.05"
   ]
  },
  {
   "cell_type": "code",
   "execution_count": null,
   "id": "30aa03df",
   "metadata": {},
   "outputs": [],
   "source": []
  },
  {
   "cell_type": "code",
   "execution_count": null,
   "id": "b4a04867",
   "metadata": {},
   "outputs": [],
   "source": []
  },
  {
   "cell_type": "markdown",
   "id": "d6282dfc",
   "metadata": {},
   "source": [
    "## Netzwerk aufbauen"
   ]
  },
  {
   "cell_type": "code",
   "execution_count": 9,
   "id": "e544e18f",
   "metadata": {},
   "outputs": [],
   "source": [
    "network = pypsa.Network()\n",
    "network.set_snapshots(range(8760))"
   ]
  },
  {
   "cell_type": "markdown",
   "id": "cac03948",
   "metadata": {},
   "source": [
    "#### Buses"
   ]
  },
  {
   "cell_type": "code",
   "execution_count": 10,
   "id": "369fd460",
   "metadata": {},
   "outputs": [],
   "source": [
    "network.add('Bus', name = 'electricity')\n",
    "network.add('Bus', name = 'GH2')\n",
    "#network.add('Bus', name = 'NH3')\n",
    "#network.add('Bus', name = 'LH2')\n",
    "#network.add('Bus', name = 'LHOC')\n",
    "#network.add('Bus', name = 'hydrogen')\n",
    "\n",
    "network.add('Bus', name = 'bremerhaven')\n",
    "#network.add('Bus', name = 'cologne')"
   ]
  },
  {
   "cell_type": "markdown",
   "id": "555b9d92",
   "metadata": {},
   "source": [
    "#### Loads"
   ]
  },
  {
   "cell_type": "code",
   "execution_count": 11,
   "id": "debbbe4e",
   "metadata": {},
   "outputs": [],
   "source": [
    "network.add('Load', name = 'hydrogen_demand', bus = 'bremerhaven', p_set = hydrogen_demand_hourly)"
   ]
  },
  {
   "cell_type": "markdown",
   "id": "40b6f877",
   "metadata": {},
   "source": [
    "#### Generators"
   ]
  },
  {
   "cell_type": "code",
   "execution_count": 12,
   "id": "b2b09ea8",
   "metadata": {},
   "outputs": [],
   "source": [
    "network.add('Generator', name = 'pv', bus = 'electricity', \n",
    "            p_nom = p_nom_pv, p_max_pu = data_pv/data_pv.max(), p_nom_extendable = True,\n",
    "            marginal_cost = marginal_cost_pv, capital_cost = capital_cost_pv)\n",
    "\n",
    "network.add('Generator', name = 'wind', bus = 'electricity',\n",
    "            p_nom =  p_nom_wind, p_max_pu = data_wind/data_wind.max(), p_nom_extendable = True,\n",
    "            marginal_cost = marginal_cost_wind, capital_cost = capital_cost_wind)"
   ]
  },
  {
   "cell_type": "markdown",
   "id": "5c130246",
   "metadata": {},
   "source": [
    "#### Links - Electrolysis"
   ]
  },
  {
   "cell_type": "code",
   "execution_count": 13,
   "id": "0d8e8af2",
   "metadata": {},
   "outputs": [],
   "source": [
    "network.add('Link', name = 'PEMEL', bus0 = 'electricity', bus1 = 'GH2',\n",
    "           p_nom = 1, p_nom_extendable = True, \n",
    "           marginal_cost = marginal_cost_PEMEL, capital_cost = capital_cost_PEMEL,\n",
    "           efficiency = efficiency_PEMEL)"
   ]
  },
  {
   "cell_type": "markdown",
   "id": "2c5472d1",
   "metadata": {},
   "source": [
    "network.add('Link', name = 'AEL', bus0 = 'electricity', bus1 = 'GH2',\n",
    "           p_nom_extendable = True,\n",
    "           marginal_cost = marginal_cost_AEL, capital_cost = capital_cost_AEL,\n",
    "           efficiency = efficiency_AEL)\n",
    "network.add('Link', name = 'HTEL', bus0 = 'electricity', bus1 = 'GH2',\n",
    "           p_nom_extendable = True,\n",
    "           marginal_cost = marginal_cost_HTEL, capital_cost = capital_cost_HTEL,\n",
    "           efficiency = efficiency_HTEL)"
   ]
  },
  {
   "cell_type": "markdown",
   "id": "236fc5a0",
   "metadata": {},
   "source": [
    "#### Links - Conversion"
   ]
  },
  {
   "cell_type": "markdown",
   "id": "04a41a76",
   "metadata": {},
   "source": [
    "network.add('Link', name = 'NH3', bus0 = 'electricity', bus1 = 'NH3',\n",
    "           p_nom_extendable = True,\n",
    "           marginal_cost = marginal_cost_NH3, capital_cost = capital_cost_NH3,\n",
    "           efficiency = efficiency_NH3)\n",
    "\n",
    "network.add('Link', name = 'LH2', bus0 = 'electricity', bus1 = 'LH2',\n",
    "           p_nom_extendable = True,\n",
    "           marginal_cost = marginal_cost_LH2, capital_cost = capital_cost_LH2,\n",
    "           efficiency = efficiency_LH2)\n",
    "\n",
    "network.add('Link', name = 'LHOC', bus0 = 'electricity', bus1 = 'LHOC',\n",
    "           p_nom_extendable = True,\n",
    "           marginal_cost = marginal_cost_LHOC, capital_cost = capital_cost_LHOC,\n",
    "           efficiency = efficiency_LHOC)"
   ]
  },
  {
   "cell_type": "markdown",
   "id": "04c27578",
   "metadata": {},
   "source": [
    "#### Links - Transportation"
   ]
  },
  {
   "cell_type": "code",
   "execution_count": 14,
   "id": "55f19296",
   "metadata": {},
   "outputs": [],
   "source": [
    "# long distance shipment\n",
    "network.add('Link', name = 'Ferntransport_GH2', bus0 = 'GH2', bus1 = 'bremerhaven',\n",
    "            p_nom = data_shipping_1.max(), p_max_pu = data_shipping_1/data_shipping_1.max(), p_nom_extendable = True,\n",
    "            marginal_cost = marginal_cost_shipping_GH2, capital_cost = capital_cost_shipping_1)"
   ]
  },
  {
   "cell_type": "code",
   "execution_count": 15,
   "id": "7c7e2fae",
   "metadata": {},
   "outputs": [
    {
     "data": {
      "text/plain": [
       "8.75"
      ]
     },
     "execution_count": 15,
     "metadata": {},
     "output_type": "execute_result"
    }
   ],
   "source": [
    "(data_shipping_1.sum()/4)/(33*1000*1000)"
   ]
  },
  {
   "cell_type": "code",
   "execution_count": 16,
   "id": "db9cf12f",
   "metadata": {},
   "outputs": [
    {
     "data": {
      "text/plain": [
       "1155000000"
      ]
     },
     "execution_count": 16,
     "metadata": {},
     "output_type": "execute_result"
    }
   ],
   "source": [
    "hydrogen_demand"
   ]
  },
  {
   "cell_type": "markdown",
   "id": "bcef2b87",
   "metadata": {},
   "source": [
    "network.add('Link', name = 'Ferntransport_NH3', bus0 = 'NH3', bus1 = 'bremerhaven',\n",
    "            p_nom = data_shipping_1.max(), p_max_pu = data_shipping_1/data_shipping_1.max(),\n",
    "            marginal_cost = marginal_cost_shipping_NH3)\n",
    "\n",
    "network.add('Link', name = 'Ferntransport_LH2', bus0 = 'LH2', bus1 = 'bremerhaven',\n",
    "            p_nom = data_shipping_1.max(), p_max_pu = data_shipping_1/data_shipping_1.max(),\n",
    "            marginal_cost = marginal_cost_shipping_LH2)\n",
    "\n",
    "network.add('Link', name = 'Ferntransport_LHOC', bus0 = 'LHOC', bus1 = 'bremerhaven',\n",
    "            p_nom = data_shipping_1.max(), p_max_pu = data_shipping_1/data_shipping_1.max(),\n",
    "            marginal_cost = marginal_cost_shipping_LHOC)\n",
    "\n",
    "# inland shipment\n",
    "#TODO: Profil hinterlegen und Links einbauen"
   ]
  },
  {
   "cell_type": "markdown",
   "id": "68505622",
   "metadata": {},
   "source": [
    "#### Storages"
   ]
  },
  {
   "cell_type": "code",
   "execution_count": 17,
   "id": "fbbba3df",
   "metadata": {},
   "outputs": [
    {
     "name": "stderr",
     "output_type": "stream",
     "text": [
      "WARNING:pypsa.components:The bus name `NH3` given for bus of Store `hydrogen_store_1.1` does not appear in network.buses\n",
      "WARNING:pypsa.components:The bus name `LH2` given for bus of Store `hydrogen_store_1.2` does not appear in network.buses\n",
      "WARNING:pypsa.components:The bus name `LHOC` given for bus of Store `hydrogen_store_1.3` does not appear in network.buses\n",
      "WARNING:pypsa.components:The bus name `cologne` given for bus of Store `cologne_GH2` does not appear in network.buses\n"
     ]
    }
   ],
   "source": [
    "network.add('Store', name = 'antofagasta_GH2', bus = 'GH2', \n",
    "            e_nom_extendable = True,  e_cyclic = True, \n",
    "            capital_cost = capital_cost_storage_GH2)\n",
    "\n",
    "network.add('Store', name = 'hydrogen_store_1.1', bus = 'NH3', \n",
    "            e_nom_extendable = True,  e_cyclic = True, \n",
    "            capital_cost = capital_cost_storage_NH3)\n",
    "\n",
    "network.add('Store', name = 'hydrogen_store_1.2', bus = 'LH2', \n",
    "            e_nom_extendable = True, e_cyclic = True,  \n",
    "            capital_cost = capital_cost_storage_LH2)\n",
    "\n",
    "network.add('Store', name = 'hydrogen_store_1.3', bus = 'LHOC', \n",
    "            e_nom_extendable = True, e_cyclic = True,  \n",
    "            capital_cost = capital_cost_storage_LHOC)\n",
    "\n",
    "network.add('Store', name = 'bremerhaven_GH2', bus = 'bremerhaven', \n",
    "            e_nom_extendable = True, e_cyclic = True, \n",
    "            capital_cost = capital_cost_storage_GH2)\n",
    "\n",
    "network.add('Store', name = 'cologne_GH2', bus = 'cologne', \n",
    "            e_nom_extendable = True, e_cyclic = True, \n",
    "            capital_cost = capital_cost_storage_GH2)"
   ]
  },
  {
   "cell_type": "markdown",
   "id": "8b69da79",
   "metadata": {},
   "source": [
    "## Optimierung des Systems"
   ]
  },
  {
   "cell_type": "code",
   "execution_count": 18,
   "id": "5e993293",
   "metadata": {},
   "outputs": [
    {
     "name": "stderr",
     "output_type": "stream",
     "text": [
      "INFO:pypsa.linopf:Prepare linear problem\n",
      "INFO:pypsa.linopf:Total preparation time: 1.14s\n",
      "INFO:pypsa.linopf:Solve linear problem using Gurobi solver\n"
     ]
    },
    {
     "name": "stdout",
     "output_type": "stream",
     "text": [
      "Set parameter Username\n",
      "Academic license - for non-commercial use only - expires 2023-07-01\n",
      "Read LP format model from file /var/folders/np/fxyv4bts2s353fj5gdlrbgym0000gn/T/pypsa-problem-9vq_nlk6.lp\n",
      "Reading time = 0.59 seconds\n",
      "obj: 254040 rows, 140171 columns, 477933 nonzeros\n",
      "Gurobi Optimizer version 9.5.2 build v9.5.2rc0 (mac64[rosetta2])\n",
      "Thread count: 8 physical cores, 8 logical processors, using up to 8 threads\n",
      "Optimize a model with 254040 rows, 140171 columns and 477933 nonzeros\n",
      "Model fingerprint: 0x1ba5b65f\n",
      "Coefficient statistics:\n",
      "  Matrix range     [1e-06, 1e+00]\n",
      "  Objective range  [1e+00, 1e+05]\n",
      "  Bounds range     [2e+11, 2e+11]\n",
      "  RHS range        [1e+05, 1e+05]\n",
      "Warning: Model contains large bounds\n",
      "         Consider reformulating model or setting NumericFocus parameter\n",
      "         to avoid numerical issues.\n",
      "\n",
      "Concurrent LP optimizer: primal simplex, dual simplex, and barrier\n",
      "Showing barrier log only...\n",
      "\n",
      "Presolve removed 210358 rows and 122684 columns\n",
      "Presolve time: 0.52s\n",
      "Presolved: 43682 rows, 17487 columns, 121171 nonzeros\n",
      "\n",
      "Ordering time: 0.01s\n",
      "\n",
      "Barrier statistics:\n",
      " Dense cols : 10\n",
      " AA' NZ     : 1.563e+05\n",
      " Factor NZ  : 5.095e+05 (roughly 30 MB of memory)\n",
      " Factor Ops : 7.251e+06 (less than 1 second per iteration)\n",
      " Threads    : 6\n",
      "\n",
      "                  Objective                Residual\n",
      "Iter       Primal          Dual         Primal    Dual     Compl     Time\n",
      "   0   1.82193074e+15  2.23983925e+11  8.84e+09 2.65e+01  2.78e+12     1s\n",
      "   1   8.96203420e+14 -1.61797551e+12  3.48e+09 8.63e+02  1.41e+12     1s\n",
      "   2   4.75576205e+14 -4.81526750e+12  1.04e+09 3.25e+02  5.39e+11     1s\n",
      "   3   3.26612301e+14 -5.39532893e+12  3.48e+08 9.18e+01  1.67e+11     1s\n",
      "   4   2.24215651e+14 -5.45335799e+12  9.61e+07 3.25e+01  5.93e+10     1s\n",
      "   5   1.48843508e+14 -5.13310241e+12  2.57e+07 1.02e+01  1.89e+10     1s\n",
      "   6   7.37869020e+13 -3.65290403e+12  5.66e+06 2.50e+00  5.02e+09     1s\n",
      "   7   1.40196694e+13 -2.01872487e+12  2.41e+05 2.09e-01  5.27e+08     1s\n",
      "   8   2.05512153e+12 -2.74732819e+11  1.75e+04 1.69e-02  5.71e+07     1s\n",
      "   9   1.09598187e+12  2.04736201e+11  7.54e+03 1.41e-03  1.55e+07     1s\n",
      "  10   4.82486232e+11  2.08460579e+11  2.16e+03 5.09e-03  4.43e+06     1s\n",
      "  11   2.95691891e+11  2.11181199e+11  4.51e+02 4.97e-03  1.18e+06     1s\n",
      "  12   2.38503341e+11  2.15225066e+11  6.02e+01 4.83e-03  1.97e+05     1s\n",
      "  13   2.33888414e+11  2.16056336e+11  4.08e+01 4.76e-03  1.32e+05     1s\n",
      "  14   2.30540009e+11  2.16648315e+11  2.78e+01 4.38e-03  9.23e+04     1s\n",
      "  15   2.26748200e+11  2.17483985e+11  1.50e+01 3.88e-03  5.19e+04     1s\n",
      "  16   2.24697829e+11  2.18211456e+11  9.54e+00 3.26e-03  3.32e+04     1s\n",
      "  17   2.24165949e+11  2.18994400e+11  8.08e+00 2.42e-03  2.56e+04     1s\n",
      "  18   2.24335116e+11  2.19408895e+11  7.93e+00 2.13e-03  2.50e+04     1s\n",
      "  19   2.24018997e+11  2.20433599e+11  4.12e+00 1.47e-03  1.77e+04     1s\n",
      "  20   2.23727821e+11  2.21191714e+11  2.82e+00 8.44e-04  1.28e+04     1s\n",
      "  21   2.23493535e+11  2.21929166e+11  1.75e+00 7.88e-04  8.20e+03     1s\n",
      "  22   2.23333669e+11  2.22428749e+11  1.07e+00 7.49e-04  4.80e+03     1s\n",
      "  23   2.23286881e+11  2.22700623e+11  8.12e-01 5.68e-04  3.32e+03     1s\n",
      "  24   2.23241726e+11  2.22835204e+11  4.30e-01 4.45e-04  2.13e+03     1s\n",
      "  25   2.23217359e+11  2.23120748e+11  1.73e-01 1.20e-04  6.70e+02     1s\n",
      "  26   2.23205473e+11  2.23164013e+11  7.04e-02 4.57e-05  2.93e+02     1s\n",
      "  27   2.23202848e+11  2.23175077e+11  4.91e-02 2.91e-05  2.00e+02     2s\n",
      "  28   2.23199543e+11  2.23183520e+11  2.16e-02 1.72e-05  1.06e+02     2s\n",
      "  29   2.23198377e+11  2.23192531e+11  1.17e-02 5.47e-06  4.58e+01     2s\n",
      "  30   2.23197540e+11  2.23195103e+11  4.85e-03 2.21e-06  1.93e+01     2s\n",
      "  31   2.23196931e+11  2.23196909e+11  4.93e-05 7.18e-08  1.83e-01     2s\n",
      "  32   2.23196924e+11  2.23196924e+11  2.26e-06 8.53e-10  1.83e-04     2s\n",
      "  33   2.23196924e+11  2.23196924e+11  2.38e-07 1.21e-10  1.83e-07     2s\n",
      "  34   2.23196924e+11  2.23196924e+11  1.25e-06 2.11e-10  9.56e-10     2s\n",
      "\n",
      "Barrier solved model in 34 iterations and 1.73 seconds (0.94 work units)\n",
      "Optimal objective 2.23196924e+11\n",
      "\n",
      "Crossover log...\n",
      "\n",
      "    8623 DPushes remaining with DInf 0.0000000e+00                 2s\n",
      "       0 DPushes remaining with DInf 0.0000000e+00                 2s\n",
      "Warning: Markowitz tolerance tightened to 0.5\n",
      "\n",
      "    3608 PPushes remaining with PInf 0.0000000e+00                 2s\n",
      "       0 PPushes remaining with PInf 0.0000000e+00                 2s\n",
      "\n",
      "  Push phase complete: Pinf 0.0000000e+00, Dinf 4.7038262e-10      2s\n",
      "\n",
      "Extra simplex iterations after uncrush: 1\n",
      "Iteration    Objective       Primal Inf.    Dual Inf.      Time\n",
      "    5317    2.2319692e+11   0.000000e+00   0.000000e+00      2s\n",
      "\n",
      "Solved with barrier\n",
      "Solved in 5317 iterations and 2.03 seconds (1.54 work units)\n",
      "Optimal objective  2.231969237e+11\n"
     ]
    },
    {
     "name": "stderr",
     "output_type": "stream",
     "text": [
      "INFO:pypsa.linopf:Optimization successful. Objective value: 2.23e+11\n"
     ]
    },
    {
     "data": {
      "text/plain": [
       "('ok', 'optimal')"
      ]
     },
     "execution_count": 18,
     "metadata": {},
     "output_type": "execute_result"
    }
   ],
   "source": [
    "network.lopf(pyomo = False, solver_name = 'gurobi')"
   ]
  },
  {
   "cell_type": "markdown",
   "id": "45f2398e",
   "metadata": {},
   "source": [
    "## Auswertung der Ergebnisse"
   ]
  },
  {
   "cell_type": "code",
   "execution_count": 19,
   "id": "b0c8bee0",
   "metadata": {},
   "outputs": [
    {
     "data": {
      "text/plain": [
       "Generator\n",
       "pv      645679.62869\n",
       "wind         0.00000\n",
       "Name: p_nom_opt, dtype: float64"
      ]
     },
     "execution_count": 19,
     "metadata": {},
     "output_type": "execute_result"
    }
   ],
   "source": [
    "network.generators.p_nom_opt"
   ]
  },
  {
   "cell_type": "code",
   "execution_count": 20,
   "id": "effb4980",
   "metadata": {},
   "outputs": [
    {
     "data": {
      "text/plain": [
       "<AxesSubplot:xlabel='snapshot', ylabel='Leistung in GW'>"
      ]
     },
     "execution_count": 20,
     "metadata": {},
     "output_type": "execute_result"
    },
    {
     "data": {
      "image/png": "[encoded data removed]",
      "text/plain": [
       "<Figure size 1080x576 with 1 Axes>"
      ]
     },
     "metadata": {
      "needs_background": "light"
     },
     "output_type": "display_data"
    }
   ],
   "source": [
    "(network.generators_t.p/1000).plot(figsize = (15,8), ylabel = 'Leistung in GW')"
   ]
  },
  {
   "cell_type": "code",
   "execution_count": 21,
   "id": "8bf01e00",
   "metadata": {},
   "outputs": [
    {
     "data": {
      "text/html": [
       "<div>\n",
       "<style scoped>\n",
       "    .dataframe tbody tr th:only-of-type {\n",
       "        vertical-align: middle;\n",
       "    }\n",
       "\n",
       "    .dataframe tbody tr th {\n",
       "        vertical-align: top;\n",
       "    }\n",
       "\n",
       "    .dataframe thead th {\n",
       "        text-align: right;\n",
       "    }\n",
       "</style>\n",
       "<table border=\"1\" class=\"dataframe\">\n",
       "  <thead>\n",
       "    <tr style=\"text-align: right;\">\n",
       "      <th>Link</th>\n",
       "      <th>PEMEL</th>\n",
       "      <th>Ferntransport_GH2</th>\n",
       "    </tr>\n",
       "    <tr>\n",
       "      <th>snapshot</th>\n",
       "      <th></th>\n",
       "      <th></th>\n",
       "    </tr>\n",
       "  </thead>\n",
       "  <tbody>\n",
       "    <tr>\n",
       "      <th>2400</th>\n",
       "      <td>0.000000</td>\n",
       "      <td>0.0</td>\n",
       "    </tr>\n",
       "    <tr>\n",
       "      <th>2401</th>\n",
       "      <td>0.000000</td>\n",
       "      <td>0.0</td>\n",
       "    </tr>\n",
       "    <tr>\n",
       "      <th>2402</th>\n",
       "      <td>0.000000</td>\n",
       "      <td>0.0</td>\n",
       "    </tr>\n",
       "    <tr>\n",
       "      <th>2403</th>\n",
       "      <td>0.000000</td>\n",
       "      <td>0.0</td>\n",
       "    </tr>\n",
       "    <tr>\n",
       "      <th>2404</th>\n",
       "      <td>0.000000</td>\n",
       "      <td>0.0</td>\n",
       "    </tr>\n",
       "    <tr>\n",
       "      <th>2405</th>\n",
       "      <td>0.000000</td>\n",
       "      <td>0.0</td>\n",
       "    </tr>\n",
       "    <tr>\n",
       "      <th>2406</th>\n",
       "      <td>0.000000</td>\n",
       "      <td>0.0</td>\n",
       "    </tr>\n",
       "    <tr>\n",
       "      <th>2407</th>\n",
       "      <td>0.000000</td>\n",
       "      <td>0.0</td>\n",
       "    </tr>\n",
       "    <tr>\n",
       "      <th>2408</th>\n",
       "      <td>0.000000</td>\n",
       "      <td>0.0</td>\n",
       "    </tr>\n",
       "    <tr>\n",
       "      <th>2409</th>\n",
       "      <td>0.000000</td>\n",
       "      <td>0.0</td>\n",
       "    </tr>\n",
       "    <tr>\n",
       "      <th>2410</th>\n",
       "      <td>0.000000</td>\n",
       "      <td>0.0</td>\n",
       "    </tr>\n",
       "    <tr>\n",
       "      <th>2411</th>\n",
       "      <td>57426.746176</td>\n",
       "      <td>0.0</td>\n",
       "    </tr>\n",
       "    <tr>\n",
       "      <th>2412</th>\n",
       "      <td>235307.609802</td>\n",
       "      <td>0.0</td>\n",
       "    </tr>\n",
       "    <tr>\n",
       "      <th>2413</th>\n",
       "      <td>401801.267497</td>\n",
       "      <td>0.0</td>\n",
       "    </tr>\n",
       "    <tr>\n",
       "      <th>2414</th>\n",
       "      <td>512296.422354</td>\n",
       "      <td>0.0</td>\n",
       "    </tr>\n",
       "    <tr>\n",
       "      <th>2415</th>\n",
       "      <td>525275.874250</td>\n",
       "      <td>0.0</td>\n",
       "    </tr>\n",
       "    <tr>\n",
       "      <th>2416</th>\n",
       "      <td>525275.874250</td>\n",
       "      <td>0.0</td>\n",
       "    </tr>\n",
       "    <tr>\n",
       "      <th>2417</th>\n",
       "      <td>525275.874250</td>\n",
       "      <td>0.0</td>\n",
       "    </tr>\n",
       "    <tr>\n",
       "      <th>2418</th>\n",
       "      <td>525275.874250</td>\n",
       "      <td>0.0</td>\n",
       "    </tr>\n",
       "    <tr>\n",
       "      <th>2419</th>\n",
       "      <td>464536.791579</td>\n",
       "      <td>0.0</td>\n",
       "    </tr>\n",
       "    <tr>\n",
       "      <th>2420</th>\n",
       "      <td>330452.377167</td>\n",
       "      <td>0.0</td>\n",
       "    </tr>\n",
       "    <tr>\n",
       "      <th>2421</th>\n",
       "      <td>156450.756750</td>\n",
       "      <td>0.0</td>\n",
       "    </tr>\n",
       "    <tr>\n",
       "      <th>2422</th>\n",
       "      <td>3990.945785</td>\n",
       "      <td>0.0</td>\n",
       "    </tr>\n",
       "    <tr>\n",
       "      <th>2423</th>\n",
       "      <td>0.000000</td>\n",
       "      <td>0.0</td>\n",
       "    </tr>\n",
       "  </tbody>\n",
       "</table>\n",
       "</div>"
      ],
      "text/plain": [
       "Link              PEMEL  Ferntransport_GH2\n",
       "snapshot                                  \n",
       "2400           0.000000                0.0\n",
       "2401           0.000000                0.0\n",
       "2402           0.000000                0.0\n",
       "2403           0.000000                0.0\n",
       "2404           0.000000                0.0\n",
       "2405           0.000000                0.0\n",
       "2406           0.000000                0.0\n",
       "2407           0.000000                0.0\n",
       "2408           0.000000                0.0\n",
       "2409           0.000000                0.0\n",
       "2410           0.000000                0.0\n",
       "2411       57426.746176                0.0\n",
       "2412      235307.609802                0.0\n",
       "2413      401801.267497                0.0\n",
       "2414      512296.422354                0.0\n",
       "2415      525275.874250                0.0\n",
       "2416      525275.874250                0.0\n",
       "2417      525275.874250                0.0\n",
       "2418      525275.874250                0.0\n",
       "2419      464536.791579                0.0\n",
       "2420      330452.377167                0.0\n",
       "2421      156450.756750                0.0\n",
       "2422        3990.945785                0.0\n",
       "2423           0.000000                0.0"
      ]
     },
     "execution_count": 21,
     "metadata": {},
     "output_type": "execute_result"
    }
   ],
   "source": [
    "network.links_t.p0[2400:2424]"
   ]
  },
  {
   "cell_type": "code",
   "execution_count": 22,
   "id": "6bd7fa74",
   "metadata": {},
   "outputs": [
    {
     "data": {
      "text/plain": [
       "Link\n",
       "PEMEL                 525.275874\n",
       "Ferntransport_GH2    1887.254902\n",
       "Name: p_nom_opt, dtype: float64"
      ]
     },
     "execution_count": 22,
     "metadata": {},
     "output_type": "execute_result"
    }
   ],
   "source": [
    "network.links.p_nom_opt/1000"
   ]
  },
  {
   "cell_type": "code",
   "execution_count": 23,
   "id": "3f20939e",
   "metadata": {},
   "outputs": [
    {
     "data": {
      "text/plain": [
       "Link\n",
       "PEMEL                   0.001000\n",
       "Ferntransport_GH2    1887.254902\n",
       "Name: p_nom, dtype: float64"
      ]
     },
     "execution_count": 23,
     "metadata": {},
     "output_type": "execute_result"
    }
   ],
   "source": [
    "network.links.p_nom/1000"
   ]
  },
  {
   "cell_type": "code",
   "execution_count": 24,
   "id": "e7aa6b23",
   "metadata": {},
   "outputs": [
    {
     "data": {
      "text/plain": [
       "<AxesSubplot:xlabel='snapshot', ylabel='Leistung in GW'>"
      ]
     },
     "execution_count": 24,
     "metadata": {},
     "output_type": "execute_result"
    },
    {
     "data": {
      "image/png": "[encoded data removed]",
      "text/plain": [
       "<Figure size 1080x576 with 1 Axes>"
      ]
     },
     "metadata": {
      "needs_background": "light"
     },
     "output_type": "display_data"
    }
   ],
   "source": [
    "(network.links_t.p0/1000).plot(figsize = (15,8), ylabel = 'Leistung in GW')"
   ]
  },
  {
   "cell_type": "code",
   "execution_count": 25,
   "id": "7fcaa27d",
   "metadata": {},
   "outputs": [
    {
     "data": {
      "text/plain": [
       "<AxesSubplot:xlabel='snapshot', ylabel='Leistung in GW'>"
      ]
     },
     "execution_count": 25,
     "metadata": {},
     "output_type": "execute_result"
    },
    {
     "data": {
      "image/png": "[encoded data removed]",
      "text/plain": [
       "<Figure size 1080x576 with 1 Axes>"
      ]
     },
     "metadata": {
      "needs_background": "light"
     },
     "output_type": "display_data"
    }
   ],
   "source": [
    "(network.links_t.p0['PEMEL']/1000).plot(figsize = (15,8), ylabel = 'Leistung in GW')"
   ]
  },
  {
   "cell_type": "code",
   "execution_count": 26,
   "id": "246beb51",
   "metadata": {},
   "outputs": [
    {
     "data": {
      "text/plain": [
       "Store\n",
       "antofagasta_GH2       2.645526e+08\n",
       "hydrogen_store_1.1    0.000000e+00\n",
       "hydrogen_store_1.2    0.000000e+00\n",
       "hydrogen_store_1.3    0.000000e+00\n",
       "bremerhaven_GH2       4.418271e+08\n",
       "cologne_GH2           0.000000e+00\n",
       "Name: e_nom_opt, dtype: float64"
      ]
     },
     "execution_count": 26,
     "metadata": {},
     "output_type": "execute_result"
    }
   ],
   "source": [
    "network.stores.e_nom_opt"
   ]
  },
  {
   "cell_type": "code",
   "execution_count": 27,
   "id": "7d3799c2",
   "metadata": {},
   "outputs": [
    {
     "data": {
      "text/plain": [
       "<AxesSubplot:xlabel='snapshot'>"
      ]
     },
     "execution_count": 27,
     "metadata": {},
     "output_type": "execute_result"
    },
    {
     "data": {
      "image/png": "[encoded data removed]",
      "text/plain": [
       "<Figure size 1080x576 with 1 Axes>"
      ]
     },
     "metadata": {
      "needs_background": "light"
     },
     "output_type": "display_data"
    }
   ],
   "source": [
    "network.stores_t.e.plot(figsize = (15,8))"
   ]
  },
  {
   "cell_type": "code",
   "execution_count": null,
   "id": "78590f9a",
   "metadata": {},
   "outputs": [],
   "source": []
  }
 ],
 "metadata": {
  "kernelspec": {
   "display_name": "Python 3 (ipykernel)",
   "language": "python",
   "name": "python3"
  },
  "language_info": {
   "codemirror_mode": {
    "name": "ipython",
    "version": 3
   },
   "file_extension": ".py",
   "mimetype": "text/x-python",
   "name": "python",
   "nbconvert_exporter": "python",
   "pygments_lexer": "ipython3",
   "version": "3.9.7"
  }
 },
 "nbformat": 4,
 "nbformat_minor": 5
}
