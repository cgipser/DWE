{
 "cells": [
  {
   "cell_type": "code",
   "execution_count": 1,
   "id": "f9a9c5ab",
   "metadata": {},
   "outputs": [],
   "source": [
    "import pypsa \n",
    "import pandas as pd\n",
    "import numpy as np"
   ]
  },
  {
   "cell_type": "markdown",
   "id": "5fadf68f",
   "metadata": {},
   "source": [
    "## Definition der Variablen"
   ]
  },
  {
   "cell_type": "code",
   "execution_count": 2,
   "id": "d3e88dda",
   "metadata": {},
   "outputs": [],
   "source": [
    "#infeed renewables\n",
    "pv_data = pd.read_csv('data/pv_data.csv', skiprows = 3)['electricity']\n",
    "wind_data = pd.read_csv('data/wind_data.csv', skiprows = 3)['electricity']\n",
    "hydrogen_data = pd.read_csv('data/load_hydrogen_1.csv',header = 0, sep= ';', decimal = ',')['elektrische Last']\n",
    "\n",
    "#marginal cost\n",
    "#hydrogen_cost = 1 #€/MWh\n",
    "\n",
    "electricity_cost = 1 #€/MWh\n",
    "marginal_cost_electrolysis = 1 #€/MWh\n",
    "marginal_cost_wind = 1 #€/MW\n",
    "marginal_cost_pv = 1 #€/MW\n",
    "marginal_cost_grid = 1 #€/MW\n",
    "marginal_cost_shipping_1 = 1 #€/MW\n",
    "marginal_cost_shipping_2 = 1 #€/MW\n",
    "\n",
    "#capital_cost \n",
    "capital_cost_electrolysis = 1 #€/MW annual\n",
    "capital_cost_hydrogen_store_1 = 1 #€/MW annual \n",
    "capital_cost_hydrogen_store_2 = 1 #€/MW annual \n",
    "capital_cost_hydrogen_store_3 = 1 #€/MW annual \n",
    "\n",
    "#settings for efficiency of components\n",
    "efficiency_electrolysis = 1\n",
    "\n",
    "#power values (if not extendable)\n",
    "power_electrolysis = 10 #kW\n",
    "power_wind = 6000 #kW\n",
    "\n",
    "#capacity values (if not extendable)\n",
    "capacity_hydrogen_store = 100 #kWh"
   ]
  },
  {
   "cell_type": "code",
   "execution_count": 3,
   "id": "30aa03df",
   "metadata": {},
   "outputs": [
    {
     "data": {
      "text/plain": [
       "0         0.000\n",
       "1         0.000\n",
       "2         0.000\n",
       "3         0.000\n",
       "4         0.000\n",
       "         ...   \n",
       "8755    126.003\n",
       "8756    106.421\n",
       "8757     80.274\n",
       "8758     44.620\n",
       "8759      1.454\n",
       "Name: electricity, Length: 8760, dtype: float64"
      ]
     },
     "execution_count": 3,
     "metadata": {},
     "output_type": "execute_result"
    }
   ],
   "source": [
    "pv_data"
   ]
  },
  {
   "cell_type": "code",
   "execution_count": 4,
   "id": "b4a04867",
   "metadata": {},
   "outputs": [
    {
     "data": {
      "text/plain": [
       "0       0.433394\n",
       "1       1.030247\n",
       "2       0.542903\n",
       "3       0.584443\n",
       "4       0.524573\n",
       "          ...   \n",
       "8755    0.541104\n",
       "8756    0.851679\n",
       "8757    0.424584\n",
       "8758    0.641945\n",
       "8759    0.413122\n",
       "Name: elektrische Last, Length: 8760, dtype: float64"
      ]
     },
     "execution_count": 4,
     "metadata": {},
     "output_type": "execute_result"
    }
   ],
   "source": [
    "hydrogen_data"
   ]
  },
  {
   "cell_type": "markdown",
   "id": "d6282dfc",
   "metadata": {},
   "source": [
    "## Netzwerk aufbauen"
   ]
  },
  {
   "cell_type": "code",
   "execution_count": 5,
   "id": "e544e18f",
   "metadata": {},
   "outputs": [],
   "source": [
    "network = pypsa.Network()\n",
    "network.set_snapshots(range(8760))"
   ]
  },
  {
   "cell_type": "code",
   "execution_count": 6,
   "id": "e7493c51",
   "metadata": {},
   "outputs": [],
   "source": [
    "#Buses\n",
    "network.add('Bus', name = 'electricity_pv')\n",
    "#network.add('Bus', name = 'electricity_wind')\n",
    "network.add('Bus', name = 'hydrogen')\n",
    "#network.add('Bus', name = 'bremerhaven')\n",
    "#network.add('Bus', name = 'koeln')\n",
    "\n",
    "#Generators\n",
    "network.add('Generator', name = 'grid', bus = 'electricity_pv', \n",
    "            p_nom = hydrogen_data.max() * efficiency_electrolysis, \n",
    "            marginal_cost = marginal_cost_grid)\n",
    "network.add('Generator', name = 'pv', bus = 'electricity_pv', \n",
    "            p_nom_extendable = True, p_max_pu = pv_data,\n",
    "            marginal_cost = marginal_cost_pv)\n",
    "#network.add('Generator', name = 'wind_turbine', bus = 'electricity_wind', \n",
    "#            p_set = wind_data,\n",
    "#            marginal_cost = marginal_cost_wind)\n",
    "\n",
    "#Load\n",
    "network.add('Load', name = 'hydrogen_load', bus = 'hydrogen', p_set = hydrogen_data)\n",
    "#TODO: bus nach Köln ändern\n",
    "\n",
    "#Links\n",
    "network.add('Link', name = 'electrolysis_pv', bus0 = 'electricity_pv', bus1 = 'hydrogen', \n",
    "            p_nom_extendable = True, efficiency = efficiency_electrolysis, \n",
    "            capital_cost = capital_cost_electrolysis,\n",
    "            marginal_cost = marginal_cost_electrolysis)\n",
    "#network.add('Link', name = 'electrolysis_wind', bus0 = 'electricity_wind', bus1 = 'hydrogen', \n",
    "#            p_nom_extendable = True, efficiency = efficiency_electrolysis, \n",
    "#            capital_cost = capital_cost_electrolysis,\n",
    "#            marginal_cost = marginal_cost_electrolysis)\n",
    "\n",
    "#TODO: Transportwege hinzufügen\n",
    "#network.add('Link', name = 'shipping_1', bus0 = 'hydrogen', bus1 = 'bremerhaven',\n",
    "#            marginal_cost = marginal_cost_shipping_1)\n",
    "#network.add('Link', name = 'shipping_2', bus0 = 'bremerhaven', bus1 = 'koeln',\n",
    "#            marginal_cost = marginal_cost_shipping_2)\n",
    "\n",
    "#Stores\n",
    "#network.add('Store', name = 'hydrogen_store_1', e_cyclic = True, \n",
    "#            bus = 'hydrogen', e_nom_extendable = True, capital_cost = capital_cost_hydrogen_store_1)\n",
    "#network.add('Store', name = 'hydrogen_store_2', e_cyclic = True, \n",
    "#            bus = 'bremerhaven', e_nom_extendable = True, capital_cost = capital_cost_hydrogen_store_2)\n",
    "#network.add('Store', name = 'hydrogen_store_3', e_cyclic = True, \n",
    "#            bus = 'koeln', e_nom_extendable = True, capital_cost = capital_cost_hydrogen_store_3)"
   ]
  },
  {
   "cell_type": "code",
   "execution_count": null,
   "id": "1a771e5d",
   "metadata": {},
   "outputs": [],
   "source": []
  },
  {
   "cell_type": "code",
   "execution_count": null,
   "id": "e460f541",
   "metadata": {},
   "outputs": [],
   "source": []
  },
  {
   "cell_type": "code",
   "execution_count": 7,
   "id": "5e993293",
   "metadata": {},
   "outputs": [
    {
     "name": "stderr",
     "output_type": "stream",
     "text": [
      "INFO:pypsa.linopf:Prepare linear problem\n",
      "INFO:pypsa.linopf:Total preparation time: 1.07s\n",
      "INFO:pypsa.linopf:Solve linear problem using Glpk solver\n",
      "INFO:pypsa.linopf:Optimization successful. Objective value: 9.01e+03\n"
     ]
    },
    {
     "data": {
      "text/plain": [
       "('ok', 'optimal')"
      ]
     },
     "execution_count": 7,
     "metadata": {},
     "output_type": "execute_result"
    }
   ],
   "source": [
    "network.lopf(pyomo = False)"
   ]
  },
  {
   "cell_type": "code",
   "execution_count": 8,
   "id": "88d5ee77",
   "metadata": {},
   "outputs": [
    {
     "data": {
      "text/plain": [
       "<AxesSubplot:xlabel='snapshot'>"
      ]
     },
     "execution_count": 8,
     "metadata": {},
     "output_type": "execute_result"
    },
    {
     "data": {
      "image/png": "[encoded data removed]",
      "text/plain": [
       "<Figure size 432x288 with 1 Axes>"
      ]
     },
     "metadata": {
      "needs_background": "light"
     },
     "output_type": "display_data"
    }
   ],
   "source": [
    "network.generators_t.p.plot()"
   ]
  },
  {
   "cell_type": "code",
   "execution_count": 9,
   "id": "effb4980",
   "metadata": {},
   "outputs": [
    {
     "data": {
      "text/html": [
       "<div>\n",
       "<style scoped>\n",
       "    .dataframe tbody tr th:only-of-type {\n",
       "        vertical-align: middle;\n",
       "    }\n",
       "\n",
       "    .dataframe tbody tr th {\n",
       "        vertical-align: top;\n",
       "    }\n",
       "\n",
       "    .dataframe thead th {\n",
       "        text-align: right;\n",
       "    }\n",
       "</style>\n",
       "<table border=\"1\" class=\"dataframe\">\n",
       "  <thead>\n",
       "    <tr style=\"text-align: right;\">\n",
       "      <th>attribute</th>\n",
       "      <th>bus</th>\n",
       "      <th>control</th>\n",
       "      <th>type</th>\n",
       "      <th>p_nom</th>\n",
       "      <th>p_nom_extendable</th>\n",
       "      <th>p_nom_min</th>\n",
       "      <th>p_nom_max</th>\n",
       "      <th>p_min_pu</th>\n",
       "      <th>p_max_pu</th>\n",
       "      <th>p_set</th>\n",
       "      <th>...</th>\n",
       "      <th>shut_down_cost</th>\n",
       "      <th>min_up_time</th>\n",
       "      <th>min_down_time</th>\n",
       "      <th>up_time_before</th>\n",
       "      <th>down_time_before</th>\n",
       "      <th>ramp_limit_up</th>\n",
       "      <th>ramp_limit_down</th>\n",
       "      <th>ramp_limit_start_up</th>\n",
       "      <th>ramp_limit_shut_down</th>\n",
       "      <th>p_nom_opt</th>\n",
       "    </tr>\n",
       "    <tr>\n",
       "      <th>Generator</th>\n",
       "      <th></th>\n",
       "      <th></th>\n",
       "      <th></th>\n",
       "      <th></th>\n",
       "      <th></th>\n",
       "      <th></th>\n",
       "      <th></th>\n",
       "      <th></th>\n",
       "      <th></th>\n",
       "      <th></th>\n",
       "      <th></th>\n",
       "      <th></th>\n",
       "      <th></th>\n",
       "      <th></th>\n",
       "      <th></th>\n",
       "      <th></th>\n",
       "      <th></th>\n",
       "      <th></th>\n",
       "      <th></th>\n",
       "      <th></th>\n",
       "      <th></th>\n",
       "    </tr>\n",
       "  </thead>\n",
       "  <tbody>\n",
       "    <tr>\n",
       "      <th>grid</th>\n",
       "      <td>electricity_pv</td>\n",
       "      <td>Slack</td>\n",
       "      <td></td>\n",
       "      <td>6.165332</td>\n",
       "      <td>False</td>\n",
       "      <td>0.0</td>\n",
       "      <td>inf</td>\n",
       "      <td>0.0</td>\n",
       "      <td>1.0</td>\n",
       "      <td>0.0</td>\n",
       "      <td>...</td>\n",
       "      <td>0.0</td>\n",
       "      <td>0</td>\n",
       "      <td>0</td>\n",
       "      <td>1</td>\n",
       "      <td>0</td>\n",
       "      <td>NaN</td>\n",
       "      <td>NaN</td>\n",
       "      <td>1.0</td>\n",
       "      <td>1.0</td>\n",
       "      <td>6.165332</td>\n",
       "    </tr>\n",
       "    <tr>\n",
       "      <th>pv</th>\n",
       "      <td>electricity_pv</td>\n",
       "      <td>PQ</td>\n",
       "      <td></td>\n",
       "      <td>0.000000</td>\n",
       "      <td>True</td>\n",
       "      <td>0.0</td>\n",
       "      <td>inf</td>\n",
       "      <td>0.0</td>\n",
       "      <td>1.0</td>\n",
       "      <td>0.0</td>\n",
       "      <td>...</td>\n",
       "      <td>0.0</td>\n",
       "      <td>0</td>\n",
       "      <td>0</td>\n",
       "      <td>1</td>\n",
       "      <td>0</td>\n",
       "      <td>NaN</td>\n",
       "      <td>NaN</td>\n",
       "      <td>1.0</td>\n",
       "      <td>1.0</td>\n",
       "      <td>0.000000</td>\n",
       "    </tr>\n",
       "  </tbody>\n",
       "</table>\n",
       "<p>2 rows × 30 columns</p>\n",
       "</div>"
      ],
      "text/plain": [
       "attribute             bus control type     p_nom  p_nom_extendable  p_nom_min  \\\n",
       "Generator                                                                       \n",
       "grid       electricity_pv   Slack       6.165332             False        0.0   \n",
       "pv         electricity_pv      PQ       0.000000              True        0.0   \n",
       "\n",
       "attribute  p_nom_max  p_min_pu  p_max_pu  p_set  ...  shut_down_cost  \\\n",
       "Generator                                        ...                   \n",
       "grid             inf       0.0       1.0    0.0  ...             0.0   \n",
       "pv               inf       0.0       1.0    0.0  ...             0.0   \n",
       "\n",
       "attribute  min_up_time min_down_time  up_time_before  down_time_before  \\\n",
       "Generator                                                                \n",
       "grid                 0             0               1                 0   \n",
       "pv                   0             0               1                 0   \n",
       "\n",
       "attribute  ramp_limit_up  ramp_limit_down  ramp_limit_start_up  \\\n",
       "Generator                                                        \n",
       "grid                 NaN              NaN                  1.0   \n",
       "pv                   NaN              NaN                  1.0   \n",
       "\n",
       "attribute  ramp_limit_shut_down  p_nom_opt  \n",
       "Generator                                   \n",
       "grid                        1.0   6.165332  \n",
       "pv                          1.0   0.000000  \n",
       "\n",
       "[2 rows x 30 columns]"
      ]
     },
     "execution_count": 9,
     "metadata": {},
     "output_type": "execute_result"
    }
   ],
   "source": [
    "network.generators"
   ]
  },
  {
   "cell_type": "code",
   "execution_count": 10,
   "id": "7d3799c2",
   "metadata": {},
   "outputs": [
    {
     "data": {
      "text/plain": [
       "Series([], Name: e_nom_opt, dtype: float64)"
      ]
     },
     "execution_count": 10,
     "metadata": {},
     "output_type": "execute_result"
    }
   ],
   "source": [
    "network.stores.e_nom_opt"
   ]
  },
  {
   "cell_type": "code",
   "execution_count": 11,
   "id": "e7aa6b23",
   "metadata": {},
   "outputs": [
    {
     "data": {
      "text/plain": [
       "Link\n",
       "electrolysis_pv    6.16533\n",
       "Name: p_nom_opt, dtype: float64"
      ]
     },
     "execution_count": 11,
     "metadata": {},
     "output_type": "execute_result"
    }
   ],
   "source": [
    "network.links.p_nom_opt "
   ]
  },
  {
   "cell_type": "code",
   "execution_count": null,
   "id": "78590f9a",
   "metadata": {},
   "outputs": [],
   "source": []
  }
 ],
 "metadata": {
  "kernelspec": {
   "display_name": "Python 3 (ipykernel)",
   "language": "python",
   "name": "python3"
  },
  "language_info": {
   "codemirror_mode": {
    "name": "ipython",
    "version": 3
   },
   "file_extension": ".py",
   "mimetype": "text/x-python",
   "name": "python",
   "nbconvert_exporter": "python",
   "pygments_lexer": "ipython3",
   "version": "3.9.7"
  }
 },
 "nbformat": 4,
 "nbformat_minor": 5
}
