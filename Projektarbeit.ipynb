{
 "cells": [
  {
   "cell_type": "code",
   "execution_count": 1,
   "id": "f9a9c5ab",
   "metadata": {},
   "outputs": [],
   "source": [
    "import pypsa \n",
    "import pandas as pd\n",
    "import numpy as np"
   ]
  },
  {
   "cell_type": "markdown",
   "id": "ad49505f",
   "metadata": {},
   "source": [
    "## Einlesen der Datenreihen"
   ]
  },
  {
   "cell_type": "code",
   "execution_count": 2,
   "id": "abd2f41d",
   "metadata": {},
   "outputs": [],
   "source": [
    "#infeed renewables\n",
    "data_pv = pd.read_csv('data/data_pv_antofagasta_1MW.csv', skiprows = 3)['electricity']\n",
    "data_wind = pd.read_csv('data/data_wind_antofagasta_1MW.csv', skiprows = 3)['electricity']\n",
    "data_shipping_1 = pd.read_excel('data/Ferntransport.xlsx')['Kapazität [MWh]']\n",
    "data_shipping_2 = 0"
   ]
  },
  {
   "cell_type": "code",
   "execution_count": 3,
   "id": "9c627043",
   "metadata": {},
   "outputs": [],
   "source": [
    "#Erstellung Lastprofil\n",
    "hydrogen_demand = (35 * 1000) * 33.33 * 1000 # MWh\n",
    "hydrogen_demand_hourly = hydrogen_demand/8760 #MW"
   ]
  },
  {
   "cell_type": "code",
   "execution_count": null,
   "id": "faa68a27",
   "metadata": {},
   "outputs": [],
   "source": []
  },
  {
   "cell_type": "markdown",
   "id": "e6732484",
   "metadata": {},
   "source": [
    "Multilink aufbauen\n",
    "\n",
    "override_component_attrs = pypsa.descriptors.Dict(\n",
    "    {k: v.copy() for k, v in pypsa.components.component_attrs.items()}\n",
    ")\n",
    "override_component_attrs[\"Link\"].loc[\"bus2\"] = [\n",
    "    \"string\",\n",
    "    np.nan,\n",
    "    np.nan,\n",
    "    \"2nd bus\",\n",
    "    \"Input (optional)\",\n",
    "]\n",
    "override_component_attrs[\"Link\"].loc[\"efficiency2\"] = [\n",
    "    \"static or series\",\n",
    "    \"per unit\",\n",
    "    1.0,\n",
    "    \"2nd bus efficiency\",\n",
    "    \"Input (optional)\",\n",
    "]\n",
    "override_component_attrs[\"Link\"].loc[\"p2\"] = [\n",
    "    \"series\",\n",
    "    \"MW\",\n",
    "    0.0,\n",
    "    \"2nd bus output\",\n",
    "    \"Output\",\n",
    "]"
   ]
  },
  {
   "cell_type": "markdown",
   "id": "5fadf68f",
   "metadata": {},
   "source": [
    "## Definition der Variablen"
   ]
  },
  {
   "cell_type": "markdown",
   "id": "a2bbd74b",
   "metadata": {},
   "source": [
    "#### Investitionskosten"
   ]
  },
  {
   "cell_type": "code",
   "execution_count": 4,
   "id": "d29d38be",
   "metadata": {},
   "outputs": [],
   "source": [
    "# generators\n",
    "capital_cost_pv = 500 # €/MW\n",
    "capital_cost_wind = 700 # €/MW\n",
    "\n",
    "# links\n",
    "capital_cost_PEMEL = 10 # €/MW\n",
    "capital_cost_AEL = 12 # €/MW\n",
    "capital_cost_HTEL = 13 # €/MW\n",
    "capital_cost_NH3 = 14 # €/MW\n",
    "capital_cost_LH2 = 15 # €/MW\n",
    "capital_cost_LHOC = 16 # €/MW\n",
    "capital_cost_pipeline = 50 # €/MW\n",
    "capital_cost_shipping_1 = 100 # €/MW\n",
    "capital_cost_shipping_2 = 80 # €/MW\n",
    "\n",
    "# storages\n",
    "capital_cost_storage_GH2 = 20 # €/MW\n",
    "capital_cost_storage_NH3 = 20 # €/MW\n",
    "capital_cost_storage_LH2 = 20 # €/MW\n",
    "capital_cost_storage_LHOC = 20 # €/MW"
   ]
  },
  {
   "cell_type": "markdown",
   "id": "731fe788",
   "metadata": {},
   "source": [
    "#### Gestehungskosten"
   ]
  },
  {
   "cell_type": "code",
   "execution_count": 5,
   "id": "ead1533f",
   "metadata": {},
   "outputs": [],
   "source": [
    "# generators\n",
    "marginal_cost_pv = 50 # €/MWh\n",
    "marginal_cost_wind = 70 # €/MWh\n",
    "\n",
    "# links\n",
    "marginal_cost_PEMEL = 0 # €/MWh\n",
    "marginal_cost_AEL = 0 # €/MWh\n",
    "marginal_cost_HTEL = 0 # €/MWh\n",
    "marginal_cost_NH3 = 0 # €/MWh\n",
    "marginal_cost_LH2 = 0 # €/MWh\n",
    "marginal_cost_LHOC = 0 # €/MWh\n",
    "marginal_cost_pipeline = 0 # €/MWh\n",
    "marginal_cost_shipping_1 = 0 # €/MWh\n",
    "marginal_cost_shipping_2 = 0 # €/MWh\n",
    "\n",
    "# storage\n",
    "marginal_cost_storage_GH2 = 0 # €/MWh\n",
    "marginal_cost_storage_NH3 = 0 # €/MWh\n",
    "marginal_cost_storage_LH2 = 0 # €/MWh\n",
    "marginal_cost_storage_LHOC = 0 # €/MWh\n",
    "\n",
    "# shipping\n",
    "marginal_cost_shipping_GH2 = 0 # €/MWh\n",
    "marginal_cost_shipping_NH3 = 0 # €/MWh\n",
    "marginal_cost_shipping_LH2 = 0 # €/MWh\n",
    "marginal_cost_shipping_LHOC = 0 # €/MWh"
   ]
  },
  {
   "cell_type": "markdown",
   "id": "2e092de9",
   "metadata": {},
   "source": [
    "#### Sonstiges"
   ]
  },
  {
   "cell_type": "code",
   "execution_count": 6,
   "id": "d3e88dda",
   "metadata": {},
   "outputs": [],
   "source": [
    "# efficiencies\n",
    "efficiency_PEMEL = 1\n",
    "efficiency_AEL = 1\n",
    "efficiency_HTEL = 1\n",
    "efficiency_NH3 = 1\n",
    "efficiency_LH2 = 1\n",
    "efficiency_LHOC = 1\n",
    "\n",
    "# lifetimes\n",
    "lifetime_PEMEL = 20\n",
    "lifetime_AEL = 20\n",
    "lifetime_HTEL = 20\n",
    "\n",
    "# standing losses\n",
    "standing_loss_GH2 = 0.05\n",
    "standing_loss_NH3 = 0.05\n",
    "standing_loss_LH2 = 0.05\n",
    "standing_loss_LHOC = 0.05"
   ]
  },
  {
   "cell_type": "code",
   "execution_count": null,
   "id": "30aa03df",
   "metadata": {},
   "outputs": [],
   "source": []
  },
  {
   "cell_type": "code",
   "execution_count": null,
   "id": "b4a04867",
   "metadata": {},
   "outputs": [],
   "source": []
  },
  {
   "cell_type": "markdown",
   "id": "d6282dfc",
   "metadata": {},
   "source": [
    "## Netzwerk aufbauen"
   ]
  },
  {
   "cell_type": "code",
   "execution_count": 7,
   "id": "e544e18f",
   "metadata": {},
   "outputs": [],
   "source": [
    "network = pypsa.Network()\n",
    "network.set_snapshots(range(8760))"
   ]
  },
  {
   "cell_type": "markdown",
   "id": "27de564f",
   "metadata": {},
   "source": [
    "#### Buses"
   ]
  },
  {
   "cell_type": "code",
   "execution_count": 8,
   "id": "0966929c",
   "metadata": {},
   "outputs": [],
   "source": [
    "network.add('Bus', name = 'electricity')\n",
    "network.add('Bus', name = 'GH2')\n",
    "#network.add('Bus', name = 'NH3')\n",
    "#network.add('Bus', name = 'LH2')\n",
    "#network.add('Bus', name = 'LHOC')\n",
    "#network.add('Bus', name = 'hydrogen')\n",
    "\n",
    "network.add('Bus', name = 'bremerhaven')\n",
    "#network.add('Bus', name = 'cologne')"
   ]
  },
  {
   "cell_type": "markdown",
   "id": "ae5c9c85",
   "metadata": {},
   "source": [
    "#### Loads"
   ]
  },
  {
   "cell_type": "code",
   "execution_count": 9,
   "id": "6504f400",
   "metadata": {},
   "outputs": [],
   "source": [
    "network.add('Load', name = 'hydrogen_demand', bus = 'bremerhaven', p_set = hydrogen_demand_hourly)"
   ]
  },
  {
   "cell_type": "markdown",
   "id": "10a405ba",
   "metadata": {},
   "source": [
    "#### Generators"
   ]
  },
  {
   "cell_type": "code",
   "execution_count": 10,
   "id": "0af0bd12",
   "metadata": {},
   "outputs": [],
   "source": [
    "network.add('Generator', name = 'pv', bus = 'electricity', \n",
    "            p_nom =  data_pv.max(), p_max_pu = data_pv/data_pv.max(), p_nom_extendable = True,\n",
    "            marginal_cost = marginal_cost_pv, capital_cost = capital_cost_pv)\n",
    "\n",
    "network.add('Generator', name = 'wind', bus = 'electricity', \n",
    "            p_nom =  data_wind.max(), p_max_pu = data_wind/data_wind.max(), p_nom_extendable = True,\n",
    "            marginal_cost = marginal_cost_wind, capital_cost = capital_cost_wind)"
   ]
  },
  {
   "cell_type": "markdown",
   "id": "47eacae7",
   "metadata": {},
   "source": [
    "#### Links - Electrolysis"
   ]
  },
  {
   "cell_type": "code",
   "execution_count": 11,
   "id": "7695e426",
   "metadata": {},
   "outputs": [],
   "source": [
    "network.add('Link', name = 'PEMEL', bus0 = 'electricity', bus1 = 'GH2',\n",
    "           p_nom_extendable = True,\n",
    "           marginal_cost = marginal_cost_PEMEL, capital_cost = capital_cost_PEMEL,\n",
    "           efficiency = efficiency_PEMEL)"
   ]
  },
  {
   "cell_type": "markdown",
   "id": "705e357b",
   "metadata": {},
   "source": [
    "network.add('Link', name = 'AEL', bus0 = 'electricity', bus1 = 'GH2',\n",
    "           p_nom_extendable = True,\n",
    "           marginal_cost = marginal_cost_AEL, capital_cost = capital_cost_AEL,\n",
    "           efficiency = efficiency_AEL)\n",
    "network.add('Link', name = 'HTEL', bus0 = 'electricity', bus1 = 'GH2',\n",
    "           p_nom_extendable = True,\n",
    "           marginal_cost = marginal_cost_HTEL, capital_cost = capital_cost_HTEL,\n",
    "           efficiency = efficiency_HTEL)"
   ]
  },
  {
   "cell_type": "markdown",
   "id": "042815ba",
   "metadata": {},
   "source": [
    "#### Links - Conversion"
   ]
  },
  {
   "cell_type": "markdown",
   "id": "0ef6cb10",
   "metadata": {},
   "source": [
    "network.add('Link', name = 'NH3', bus0 = 'electricity', bus1 = 'NH3',\n",
    "           p_nom_extendable = True,\n",
    "           marginal_cost = marginal_cost_NH3, capital_cost = capital_cost_NH3,\n",
    "           efficiency = efficiency_NH3)\n",
    "\n",
    "network.add('Link', name = 'LH2', bus0 = 'electricity', bus1 = 'LH2',\n",
    "           p_nom_extendable = True,\n",
    "           marginal_cost = marginal_cost_LH2, capital_cost = capital_cost_LH2,\n",
    "           efficiency = efficiency_LH2)\n",
    "\n",
    "network.add('Link', name = 'LHOC', bus0 = 'electricity', bus1 = 'LHOC',\n",
    "           p_nom_extendable = True,\n",
    "           marginal_cost = marginal_cost_LHOC, capital_cost = capital_cost_LHOC,\n",
    "           efficiency = efficiency_LHOC)"
   ]
  },
  {
   "cell_type": "markdown",
   "id": "ca883f28",
   "metadata": {},
   "source": [
    "#### Links - Transportation"
   ]
  },
  {
   "cell_type": "code",
   "execution_count": 12,
   "id": "8bc36e60",
   "metadata": {},
   "outputs": [],
   "source": [
    "# long distance shipment\n",
    "network.add('Link', name = 'Ferntransport_GH2', bus0 = 'GH2', bus1 = 'bremerhaven',\n",
    "            p_nom = data_shipping_1.max(), p_max_pu = data_shipping_1/data_shipping_1.max(),\n",
    "            marginal_cost = marginal_cost_shipping_GH2)"
   ]
  },
  {
   "cell_type": "markdown",
   "id": "aff4d089",
   "metadata": {},
   "source": [
    "network.add('Link', name = 'Ferntransport_NH3', bus0 = 'NH3', bus1 = 'bremerhaven',\n",
    "            p_nom = data_shipping_1.max(), p_max_pu = data_shipping_1/data_shipping_1.max(),\n",
    "            marginal_cost = marginal_cost_shipping_NH3)\n",
    "\n",
    "network.add('Link', name = 'Ferntransport_LH2', bus0 = 'LH2', bus1 = 'bremerhaven',\n",
    "            p_nom = data_shipping_1.max(), p_max_pu = data_shipping_1/data_shipping_1.max(),\n",
    "            marginal_cost = marginal_cost_shipping_LH2)\n",
    "\n",
    "network.add('Link', name = 'Ferntransport_LHOC', bus0 = 'LHOC', bus1 = 'bremerhaven',\n",
    "            p_nom = data_shipping_1.max(), p_max_pu = data_shipping_1/data_shipping_1.max(),\n",
    "            marginal_cost = marginal_cost_shipping_LHOC)\n",
    "\n",
    "# inland shipment\n",
    "#TODO: Profil hinterlegen und Links einbauen"
   ]
  },
  {
   "cell_type": "markdown",
   "id": "b0a1fc49",
   "metadata": {},
   "source": [
    "#### Storages"
   ]
  },
  {
   "cell_type": "markdown",
   "id": "1f31e084",
   "metadata": {},
   "source": [
    "network.add('Store', name = 'hydrogen_store_1', bus = 'GH2', \n",
    "            e_nom_extendable = True,  e_cyclic = True, \n",
    "            capital_cost = capital_cost_storage_GH2)\n",
    "\n",
    "network.add('Store', name = 'hydrogen_store_1.1', bus = 'NH3', \n",
    "            e_nom_extendable = True,  e_cyclic = True, \n",
    "            capital_cost = capital_cost_storage_NH3)\n",
    "\n",
    "network.add('Store', name = 'hydrogen_store_1.2', bus = 'LH2', \n",
    "            e_nom_extendable = True, e_cyclic = True,  \n",
    "            capital_cost = capital_cost_storage_LH2)\n",
    "\n",
    "network.add('Store', name = 'hydrogen_store_1.3', bus = 'LHOC', \n",
    "            e_nom_extendable = True, e_cyclic = True,  \n",
    "            capital_cost = capital_cost_storage_LHOC)\n",
    "\n",
    "network.add('Store', name = 'hydrogen_store_2', bus = 'bremerhaven', \n",
    "            e_nom_extendable = True, e_cyclic = True, \n",
    "            capital_cost = capital_cost_storage_GH2)\n",
    "\n",
    "network.add('Store', name = 'hydrogen_store_3', bus = 'cologne', \n",
    "            e_nom_extendable = True, e_cyclic = True, \n",
    "            capital_cost = capital_cost_storage_GH2)"
   ]
  },
  {
   "cell_type": "markdown",
   "id": "338ff507",
   "metadata": {},
   "source": [
    "## Optimierung des Systems"
   ]
  },
  {
   "cell_type": "code",
   "execution_count": 15,
   "id": "5e993293",
   "metadata": {},
   "outputs": [
    {
     "name": "stderr",
     "output_type": "stream",
     "text": [
      "INFO:pypsa.linopf:Prepare linear problem\n",
      "INFO:pypsa.linopf:Total preparation time: 0.75s\n",
      "INFO:pypsa.linopf:Solve linear problem using Gurobi solver\n"
     ]
    },
    {
     "name": "stdout",
     "output_type": "stream",
     "text": [
      "Set parameter Username\n",
      "Academic license - for non-commercial use only - expires 2023-07-01\n",
      "Error reading LP format file /var/folders/np/fxyv4bts2s353fj5gdlrbgym0000gn/T/pypsa-problem-1cx5qv0v.lp at line 262814\n",
      "Unrecognized constraint RHS or sense\n",
      "Neighboring tokens: \" <= +nan c52561: +1.000000 x3 -1.000000 x26284 \"\n",
      "\n",
      "Unable to read file\n"
     ]
    },
    {
     "ename": "GurobiError",
     "evalue": "Unable to read model",
     "output_type": "error",
     "traceback": [
      "\u001b[0;31m---------------------------------------------------------------------------\u001b[0m",
      "\u001b[0;31mGurobiError\u001b[0m                               Traceback (most recent call last)",
      "\u001b[0;32m/var/folders/np/fxyv4bts2s353fj5gdlrbgym0000gn/T/ipykernel_40093/2836951827.py\u001b[0m in \u001b[0;36m<module>\u001b[0;34m\u001b[0m\n\u001b[0;32m----> 1\u001b[0;31m \u001b[0mnetwork\u001b[0m\u001b[0;34m.\u001b[0m\u001b[0mlopf\u001b[0m\u001b[0;34m(\u001b[0m\u001b[0mpyomo\u001b[0m \u001b[0;34m=\u001b[0m \u001b[0;32mFalse\u001b[0m\u001b[0;34m,\u001b[0m \u001b[0msolver_name\u001b[0m \u001b[0;34m=\u001b[0m \u001b[0;34m'gurobi'\u001b[0m\u001b[0;34m)\u001b[0m\u001b[0;34m\u001b[0m\u001b[0;34m\u001b[0m\u001b[0m\n\u001b[0m",
      "\u001b[0;32m~/opt/anaconda3/lib/python3.9/site-packages/pypsa/components.py\u001b[0m in \u001b[0;36mlopf\u001b[0;34m(self, snapshots, pyomo, solver_name, solver_options, solver_logfile, formulation, keep_files, extra_functionality, multi_investment_periods, **kwargs)\u001b[0m\n\u001b[1;32m    733\u001b[0m             \u001b[0;32mreturn\u001b[0m \u001b[0mnetwork_lopf\u001b[0m\u001b[0;34m(\u001b[0m\u001b[0mself\u001b[0m\u001b[0;34m,\u001b[0m \u001b[0;34m**\u001b[0m\u001b[0margs\u001b[0m\u001b[0;34m)\u001b[0m\u001b[0;34m\u001b[0m\u001b[0;34m\u001b[0m\u001b[0m\n\u001b[1;32m    734\u001b[0m         \u001b[0;32melse\u001b[0m\u001b[0;34m:\u001b[0m\u001b[0;34m\u001b[0m\u001b[0;34m\u001b[0m\u001b[0m\n\u001b[0;32m--> 735\u001b[0;31m             \u001b[0;32mreturn\u001b[0m \u001b[0mnetwork_lopf_lowmem\u001b[0m\u001b[0;34m(\u001b[0m\u001b[0mself\u001b[0m\u001b[0;34m,\u001b[0m \u001b[0;34m**\u001b[0m\u001b[0margs\u001b[0m\u001b[0;34m)\u001b[0m\u001b[0;34m\u001b[0m\u001b[0;34m\u001b[0m\u001b[0m\n\u001b[0m\u001b[1;32m    736\u001b[0m \u001b[0;34m\u001b[0m\u001b[0m\n\u001b[1;32m    737\u001b[0m     \u001b[0;32mdef\u001b[0m \u001b[0madd\u001b[0m\u001b[0;34m(\u001b[0m\u001b[0mself\u001b[0m\u001b[0;34m,\u001b[0m \u001b[0mclass_name\u001b[0m\u001b[0;34m,\u001b[0m \u001b[0mname\u001b[0m\u001b[0;34m,\u001b[0m \u001b[0;34m**\u001b[0m\u001b[0mkwargs\u001b[0m\u001b[0;34m)\u001b[0m\u001b[0;34m:\u001b[0m\u001b[0;34m\u001b[0m\u001b[0;34m\u001b[0m\u001b[0m\n",
      "\u001b[0;32m~/opt/anaconda3/lib/python3.9/site-packages/pypsa/linopf.py\u001b[0m in \u001b[0;36mnetwork_lopf\u001b[0;34m(n, snapshots, solver_name, solver_logfile, extra_functionality, multi_investment_periods, skip_objective, skip_pre, extra_postprocessing, formulation, keep_references, keep_files, keep_shadowprices, solver_options, warmstart, store_basis, solver_dir)\u001b[0m\n\u001b[1;32m   1468\u001b[0m \u001b[0;34m\u001b[0m\u001b[0m\n\u001b[1;32m   1469\u001b[0m     \u001b[0msolve\u001b[0m \u001b[0;34m=\u001b[0m \u001b[0meval\u001b[0m\u001b[0;34m(\u001b[0m\u001b[0;34mf\"run_and_read_{solver_name}\"\u001b[0m\u001b[0;34m)\u001b[0m\u001b[0;34m\u001b[0m\u001b[0;34m\u001b[0m\u001b[0m\n\u001b[0;32m-> 1470\u001b[0;31m     res = solve(\n\u001b[0m\u001b[1;32m   1471\u001b[0m         \u001b[0mn\u001b[0m\u001b[0;34m,\u001b[0m\u001b[0;34m\u001b[0m\u001b[0;34m\u001b[0m\u001b[0m\n\u001b[1;32m   1472\u001b[0m         \u001b[0mproblem_fn\u001b[0m\u001b[0;34m,\u001b[0m\u001b[0;34m\u001b[0m\u001b[0;34m\u001b[0m\u001b[0m\n",
      "\u001b[0;32m~/opt/anaconda3/lib/python3.9/site-packages/pypsa/linopt.py\u001b[0m in \u001b[0;36mrun_and_read_gurobi\u001b[0;34m(n, problem_fn, solution_fn, solver_logfile, solver_options, warmstart, store_basis)\u001b[0m\n\u001b[1;32m   1078\u001b[0m     \u001b[0mlogging\u001b[0m\u001b[0;34m.\u001b[0m\u001b[0mdisable\u001b[0m\u001b[0;34m(\u001b[0m\u001b[0;36m50\u001b[0m\u001b[0;34m)\u001b[0m\u001b[0;34m\u001b[0m\u001b[0;34m\u001b[0m\u001b[0m\n\u001b[1;32m   1079\u001b[0m \u001b[0;34m\u001b[0m\u001b[0m\n\u001b[0;32m-> 1080\u001b[0;31m     \u001b[0mm\u001b[0m \u001b[0;34m=\u001b[0m \u001b[0mgurobipy\u001b[0m\u001b[0;34m.\u001b[0m\u001b[0mread\u001b[0m\u001b[0;34m(\u001b[0m\u001b[0mproblem_fn\u001b[0m\u001b[0;34m)\u001b[0m\u001b[0;34m\u001b[0m\u001b[0;34m\u001b[0m\u001b[0m\n\u001b[0m\u001b[1;32m   1081\u001b[0m     \u001b[0;32mif\u001b[0m \u001b[0msolver_options\u001b[0m \u001b[0;32mis\u001b[0m \u001b[0;32mnot\u001b[0m \u001b[0;32mNone\u001b[0m\u001b[0;34m:\u001b[0m\u001b[0;34m\u001b[0m\u001b[0;34m\u001b[0m\u001b[0m\n\u001b[1;32m   1082\u001b[0m         \u001b[0;32mfor\u001b[0m \u001b[0mkey\u001b[0m\u001b[0;34m,\u001b[0m \u001b[0mvalue\u001b[0m \u001b[0;32min\u001b[0m \u001b[0msolver_options\u001b[0m\u001b[0;34m.\u001b[0m\u001b[0mitems\u001b[0m\u001b[0;34m(\u001b[0m\u001b[0;34m)\u001b[0m\u001b[0;34m:\u001b[0m\u001b[0;34m\u001b[0m\u001b[0;34m\u001b[0m\u001b[0m\n",
      "\u001b[0;32msrc/gurobipy/gurobi.pxi\u001b[0m in \u001b[0;36mgurobipy.read\u001b[0;34m()\u001b[0m\n",
      "\u001b[0;32msrc/gurobipy/gurobi.pxi\u001b[0m in \u001b[0;36mgurobipy.gurobi.read\u001b[0;34m()\u001b[0m\n",
      "\u001b[0;31mGurobiError\u001b[0m: Unable to read model"
     ]
    }
   ],
   "source": [
    "network.lopf(pyomo = False, solver_name = 'gurobi')"
   ]
  },
  {
   "cell_type": "markdown",
   "id": "37951990",
   "metadata": {},
   "source": [
    "## Auswertung der Ergebnisse"
   ]
  },
  {
   "cell_type": "code",
   "execution_count": null,
   "id": "effb4980",
   "metadata": {},
   "outputs": [],
   "source": [
    "network.generators_t.p.plot(figsize = (15,8))"
   ]
  },
  {
   "cell_type": "code",
   "execution_count": null,
   "id": "e7aa6b23",
   "metadata": {},
   "outputs": [],
   "source": [
    "network.links_t.p0.plot(figsize = (15,8))"
   ]
  },
  {
   "cell_type": "code",
   "execution_count": null,
   "id": "7d3799c2",
   "metadata": {},
   "outputs": [],
   "source": [
    "network.stores_t.e.plot(figsize = (15,8))"
   ]
  },
  {
   "cell_type": "code",
   "execution_count": null,
   "id": "78590f9a",
   "metadata": {},
   "outputs": [],
   "source": []
  }
 ],
 "metadata": {
  "kernelspec": {
   "display_name": "Python 3 (ipykernel)",
   "language": "python",
   "name": "python3"
  },
  "language_info": {
   "codemirror_mode": {
    "name": "ipython",
    "version": 3
   },
   "file_extension": ".py",
   "mimetype": "text/x-python",
   "name": "python",
   "nbconvert_exporter": "python",
   "pygments_lexer": "ipython3",
   "version": "3.9.7"
  }
 },
 "nbformat": 4,
 "nbformat_minor": 5
}
