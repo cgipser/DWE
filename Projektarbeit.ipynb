{
 "cells": [
  {
   "cell_type": "code",
   "execution_count": 1,
   "id": "f9a9c5ab",
   "metadata": {},
   "outputs": [],
   "source": [
    "import pypsa \n",
    "import pandas as pd\n",
    "import numpy as np"
   ]
  },
  {
   "cell_type": "markdown",
   "id": "9e39fe20",
   "metadata": {},
   "source": [
    "## Einlesen der Datenreihen"
   ]
  },
  {
   "cell_type": "code",
   "execution_count": 21,
   "id": "8e19f107",
   "metadata": {},
   "outputs": [],
   "source": [
    "#infeed renewables\n",
    "data_pv = pd.read_csv('data/data_pv_antofagasta_1MW.csv', skiprows = 3)['electricity']\n",
    "data_wind = pd.read_csv('data/data_wind_antofagasta_1MW.csv', skiprows = 3)['electricity']\n",
    "data_load = pd.read_csv('data/load_hydrogen.csv',header = 0, sep= ';', decimal = ',')['elektrische Last']\n",
    "data_shipping_1 = pd.read_excel('data/Ferntransport.xlsx')['Kapazität [MWh]']\n",
    "data_shipping_2 = 0"
   ]
  },
  {
   "cell_type": "code",
   "execution_count": 19,
   "id": "eb721928",
   "metadata": {},
   "outputs": [
    {
     "data": {
      "text/plain": [
       "0       33.207\n",
       "1        6.290\n",
       "2        0.437\n",
       "3        0.198\n",
       "4        0.164\n",
       "         ...  \n",
       "8779    26.414\n",
       "8780    19.461\n",
       "8781    11.750\n",
       "8782     1.972\n",
       "8783     0.000\n",
       "Name: electricity, Length: 8784, dtype: float64"
      ]
     },
     "execution_count": 19,
     "metadata": {},
     "output_type": "execute_result"
    }
   ],
   "source": [
    "data_wind#.plot(figsize = (15,8))"
   ]
  },
  {
   "cell_type": "markdown",
   "id": "e2dcc3cf",
   "metadata": {},
   "source": [
    "Multilink aufbauen\n",
    "\n",
    "override_component_attrs = pypsa.descriptors.Dict(\n",
    "    {k: v.copy() for k, v in pypsa.components.component_attrs.items()}\n",
    ")\n",
    "override_component_attrs[\"Link\"].loc[\"bus2\"] = [\n",
    "    \"string\",\n",
    "    np.nan,\n",
    "    np.nan,\n",
    "    \"2nd bus\",\n",
    "    \"Input (optional)\",\n",
    "]\n",
    "override_component_attrs[\"Link\"].loc[\"efficiency2\"] = [\n",
    "    \"static or series\",\n",
    "    \"per unit\",\n",
    "    1.0,\n",
    "    \"2nd bus efficiency\",\n",
    "    \"Input (optional)\",\n",
    "]\n",
    "override_component_attrs[\"Link\"].loc[\"p2\"] = [\n",
    "    \"series\",\n",
    "    \"MW\",\n",
    "    0.0,\n",
    "    \"2nd bus output\",\n",
    "    \"Output\",\n",
    "]"
   ]
  },
  {
   "cell_type": "markdown",
   "id": "5fadf68f",
   "metadata": {},
   "source": [
    "## Definition der Variablen"
   ]
  },
  {
   "cell_type": "markdown",
   "id": "516ecbdc",
   "metadata": {},
   "source": [
    "#### Investitionskosten"
   ]
  },
  {
   "cell_type": "code",
   "execution_count": 5,
   "id": "bf747aa5",
   "metadata": {},
   "outputs": [],
   "source": [
    "# generators\n",
    "capital_cost_pv = 500 # €/MW\n",
    "capital_cost_wind = 700 # €/MW\n",
    "\n",
    "# links\n",
    "capital_cost_PEMEL = 10 # €/MW\n",
    "capital_cost_AEL = 12 # €/MW\n",
    "capital_cost_HTEL = 13 # €/MW\n",
    "capital_cost_NH3 = 14 # €/MW\n",
    "capital_cost_LH2 = 15 # €/MW\n",
    "capital_cost_LHOC = 16 # €/MW\n",
    "capital_cost_pipeline = 50 # €/MW\n",
    "capital_cost_shipping_1 = 100 # €/MW\n",
    "capital_cost_shipping_2 = 80 # €/MW\n",
    "\n",
    "# storages\n",
    "capital_cost_storage_GH2 = 20 # €/MW\n",
    "capital_cost_storage_NH3 = 20 # €/MW\n",
    "capital_cost_storage_LH2 = 20 # €/MW\n",
    "capital_cost_storage_LHOC = 20 # €/MW"
   ]
  },
  {
   "cell_type": "markdown",
   "id": "a1c4b2e0",
   "metadata": {},
   "source": [
    "#### Gestehungskosten"
   ]
  },
  {
   "cell_type": "code",
   "execution_count": 6,
   "id": "75e93a59",
   "metadata": {},
   "outputs": [],
   "source": [
    "# generators\n",
    "marginal_cost_pv = 50 # €/MWh\n",
    "marginal_cost_wind = 70 # €/MWh\n",
    "\n",
    "# links\n",
    "marginal_cost_PEMEL = 0 # €/MWh\n",
    "marginal_cost_AEL = 0 # €/MWh\n",
    "marginal_cost_HTEL = 0 # €/MWh\n",
    "marginal_cost_NH3 = 0 # €/MWh\n",
    "marginal_cost_LH2 = 0 # €/MWh\n",
    "marginal_cost_LHOC = 0 # €/MWh\n",
    "marginal_cost_pipeline = 0 # €/MWh\n",
    "marginal_cost_shipping_1 = 0 # €/MWh\n",
    "marginal_cost_shipping_2 = 0 # €/MWh\n",
    "\n",
    "# storage\n",
    "marginal_cost_storage_GH2 = 0 # €/MWh\n",
    "marginal_cost_storage_NH3 = 0 # €/MWh\n",
    "marginal_cost_storage_LH2 = 0 # €/MWh\n",
    "marginal_cost_storage_LHOC = 0 # €/MWh\n",
    "\n",
    "# shipping\n",
    "marginal_cost_shipping_GH2 = 0 # €/MWh\n",
    "marginal_cost_shipping_NH3 = 0 # €/MWh\n",
    "marginal_cost_shipping_LH2 = 0 # €/MWh\n",
    "marginal_cost_shipping_LHOC = 0 # €/MWh"
   ]
  },
  {
   "cell_type": "markdown",
   "id": "83885299",
   "metadata": {},
   "source": [
    "#### Sonstiges"
   ]
  },
  {
   "cell_type": "code",
   "execution_count": 7,
   "id": "d3e88dda",
   "metadata": {},
   "outputs": [],
   "source": [
    "# efficiencies\n",
    "efficiency_PEMEL = 1\n",
    "efficiency_AEL = 1\n",
    "efficiency_HTEL = 1\n",
    "efficiency_NH3 = 1\n",
    "efficiency_LH2 = 1\n",
    "efficiency_LHOC = 1\n",
    "\n",
    "# lifetimes\n",
    "lifetime_PEMEL = 20\n",
    "lifetime_AEL = 20\n",
    "lifetime_HTEL = 20\n",
    "\n",
    "# standing losses\n",
    "standing_loss_GH2 = 0.05\n",
    "standing_loss_NH3 = 0.05\n",
    "standing_loss_LH2 = 0.05\n",
    "standing_loss_LHOC = 0.05"
   ]
  },
  {
   "cell_type": "code",
   "execution_count": null,
   "id": "30aa03df",
   "metadata": {},
   "outputs": [],
   "source": []
  },
  {
   "cell_type": "code",
   "execution_count": null,
   "id": "b4a04867",
   "metadata": {},
   "outputs": [],
   "source": []
  },
  {
   "cell_type": "markdown",
   "id": "d6282dfc",
   "metadata": {},
   "source": [
    "## Netzwerk aufbauen"
   ]
  },
  {
   "cell_type": "code",
   "execution_count": 8,
   "id": "e544e18f",
   "metadata": {},
   "outputs": [],
   "source": [
    "network = pypsa.Network()\n",
    "network.set_snapshots(range(8760))"
   ]
  },
  {
   "cell_type": "markdown",
   "id": "8065b54c",
   "metadata": {},
   "source": [
    "#### Buses"
   ]
  },
  {
   "cell_type": "code",
   "execution_count": 9,
   "id": "504e8f74",
   "metadata": {},
   "outputs": [],
   "source": [
    "network.add('Bus', name = 'electricity')\n",
    "network.add('Bus', name = 'GH2')\n",
    "#network.add('Bus', name = 'NH3')\n",
    "#network.add('Bus', name = 'LH2')\n",
    "#network.add('Bus', name = 'LHOC')\n",
    "#network.add('Bus', name = 'hydrogen')\n",
    "\n",
    "network.add('Bus', name = 'bremerhaven')\n",
    "#network.add('Bus', name = 'cologne')"
   ]
  },
  {
   "cell_type": "markdown",
   "id": "4209c732",
   "metadata": {},
   "source": [
    "#### Loads"
   ]
  },
  {
   "cell_type": "code",
   "execution_count": 10,
   "id": "4508e208",
   "metadata": {},
   "outputs": [],
   "source": [
    "network.add('Load', name = 'hydrogen_demand', bus = 'bremerhaven', p_set = data_load)"
   ]
  },
  {
   "cell_type": "markdown",
   "id": "eeaa7789",
   "metadata": {},
   "source": [
    "#### Generators"
   ]
  },
  {
   "cell_type": "code",
   "execution_count": 11,
   "id": "ce3cc1ed",
   "metadata": {},
   "outputs": [],
   "source": [
    "network.add('Generator', name = 'pv', bus = 'electricity', \n",
    "            p_nom =  data_pv.max(), p_max_pu = data_pv/data_pv.max(), \n",
    "            marginal_cost = marginal_cost_pv, capital_cost = capital_cost_pv)\n",
    "\n",
    "network.add('Generator', name = 'wind', bus = 'electricity', \n",
    "            p_nom =  data_wind.max(), p_max_pu = data_wind/data_wind.max(), \n",
    "            marginal_cost = marginal_cost_wind, capital_cost = capital_cost_wind)"
   ]
  },
  {
   "cell_type": "markdown",
   "id": "aba61db2",
   "metadata": {},
   "source": [
    "#### Links - Electrolysis"
   ]
  },
  {
   "cell_type": "code",
   "execution_count": 12,
   "id": "92c0a7fb",
   "metadata": {},
   "outputs": [],
   "source": [
    "network.add('Link', name = 'PEMEL', bus0 = 'electricity', bus1 = 'GH2',\n",
    "           p_nom_extendable = True,\n",
    "           marginal_cost = marginal_cost_PEMEL, capital_cost = capital_cost_PEMEL,\n",
    "           efficiency = efficiency_PEMEL)"
   ]
  },
  {
   "cell_type": "markdown",
   "id": "94ae566f",
   "metadata": {},
   "source": [
    "network.add('Link', name = 'AEL', bus0 = 'electricity', bus1 = 'GH2',\n",
    "           p_nom_extendable = True,\n",
    "           marginal_cost = marginal_cost_AEL, capital_cost = capital_cost_AEL,\n",
    "           efficiency = efficiency_AEL)\n",
    "network.add('Link', name = 'HTEL', bus0 = 'electricity', bus1 = 'GH2',\n",
    "           p_nom_extendable = True,\n",
    "           marginal_cost = marginal_cost_HTEL, capital_cost = capital_cost_HTEL,\n",
    "           efficiency = efficiency_HTEL)"
   ]
  },
  {
   "cell_type": "markdown",
   "id": "a4c7cd63",
   "metadata": {},
   "source": [
    "#### Links - Conversion"
   ]
  },
  {
   "cell_type": "markdown",
   "id": "685b7fd4",
   "metadata": {},
   "source": [
    "network.add('Link', name = 'NH3', bus0 = 'electricity', bus1 = 'NH3',\n",
    "           p_nom_extendable = True,\n",
    "           marginal_cost = marginal_cost_NH3, capital_cost = capital_cost_NH3,\n",
    "           efficiency = efficiency_NH3)\n",
    "\n",
    "network.add('Link', name = 'LH2', bus0 = 'electricity', bus1 = 'LH2',\n",
    "           p_nom_extendable = True,\n",
    "           marginal_cost = marginal_cost_LH2, capital_cost = capital_cost_LH2,\n",
    "           efficiency = efficiency_LH2)\n",
    "\n",
    "network.add('Link', name = 'LHOC', bus0 = 'electricity', bus1 = 'LHOC',\n",
    "           p_nom_extendable = True,\n",
    "           marginal_cost = marginal_cost_LHOC, capital_cost = capital_cost_LHOC,\n",
    "           efficiency = efficiency_LHOC)"
   ]
  },
  {
   "cell_type": "markdown",
   "id": "cb909289",
   "metadata": {},
   "source": [
    "#### Links - Transportation"
   ]
  },
  {
   "cell_type": "code",
   "execution_count": 13,
   "id": "2595399a",
   "metadata": {},
   "outputs": [],
   "source": [
    "# long distance shipment\n",
    "network.add('Link', name = 'Ferntransport_GH2', bus0 = 'GH2', bus1 = 'bremerhaven',\n",
    "            p_nom = data_shipping_1.max(), p_max_pu = data_shipping_1/data_shipping_1.max(),\n",
    "            marginal_cost = marginal_cost_shipping_GH2)"
   ]
  },
  {
   "cell_type": "markdown",
   "id": "aea7c6f0",
   "metadata": {},
   "source": [
    "network.add('Link', name = 'Ferntransport_NH3', bus0 = 'NH3', bus1 = 'bremerhaven',\n",
    "            p_nom = data_shipping_1.max(), p_max_pu = data_shipping_1/data_shipping_1.max(),\n",
    "            marginal_cost = marginal_cost_shipping_NH3)\n",
    "\n",
    "network.add('Link', name = 'Ferntransport_LH2', bus0 = 'LH2', bus1 = 'bremerhaven',\n",
    "            p_nom = data_shipping_1.max(), p_max_pu = data_shipping_1/data_shipping_1.max(),\n",
    "            marginal_cost = marginal_cost_shipping_LH2)\n",
    "\n",
    "network.add('Link', name = 'Ferntransport_LHOC', bus0 = 'LHOC', bus1 = 'bremerhaven',\n",
    "            p_nom = data_shipping_1.max(), p_max_pu = data_shipping_1/data_shipping_1.max(),\n",
    "            marginal_cost = marginal_cost_shipping_LHOC)\n",
    "\n",
    "# inland shipment\n",
    "#TODO: Profil hinterlegen und Links einbauen"
   ]
  },
  {
   "cell_type": "markdown",
   "id": "89a245b2",
   "metadata": {},
   "source": [
    "#### Storages"
   ]
  },
  {
   "cell_type": "code",
   "execution_count": 14,
   "id": "e460f541",
   "metadata": {},
   "outputs": [
    {
     "name": "stderr",
     "output_type": "stream",
     "text": [
      "WARNING:pypsa.components:The bus name `NH3` given for bus of Store `hydrogen_store_1.1` does not appear in network.buses\n",
      "WARNING:pypsa.components:The bus name `LH2` given for bus of Store `hydrogen_store_1.2` does not appear in network.buses\n",
      "WARNING:pypsa.components:The bus name `LHOC` given for bus of Store `hydrogen_store_1.3` does not appear in network.buses\n",
      "WARNING:pypsa.components:The bus name `cologne` given for bus of Store `hydrogen_store_3` does not appear in network.buses\n"
     ]
    }
   ],
   "source": [
    "network.add('Store', name = 'hydrogen_store_1', bus = 'GH2', \n",
    "            e_nom_extendable = True,  e_cyclic = True, \n",
    "            capital_cost = capital_cost_storage_GH2)\n",
    "\n",
    "network.add('Store', name = 'hydrogen_store_1.1', bus = 'NH3', \n",
    "            e_nom_extendable = True,  e_cyclic = True, \n",
    "            capital_cost = capital_cost_storage_NH3)\n",
    "\n",
    "network.add('Store', name = 'hydrogen_store_1.2', bus = 'LH2', \n",
    "            e_nom_extendable = True, e_cyclic = True,  \n",
    "            capital_cost = capital_cost_storage_LH2)\n",
    "\n",
    "network.add('Store', name = 'hydrogen_store_1.3', bus = 'LHOC', \n",
    "            e_nom_extendable = True, e_cyclic = True,  \n",
    "            capital_cost = capital_cost_storage_LHOC)\n",
    "\n",
    "network.add('Store', name = 'hydrogen_store_2', bus = 'bremerhaven', \n",
    "            e_nom_extendable = True, e_cyclic = True, \n",
    "            capital_cost = capital_cost_storage_GH2)\n",
    "\n",
    "network.add('Store', name = 'hydrogen_store_3', bus = 'cologne', \n",
    "            e_nom_extendable = True, e_cyclic = True, \n",
    "            capital_cost = capital_cost_storage_GH2)"
   ]
  },
  {
   "cell_type": "markdown",
   "id": "cb3b7bf3",
   "metadata": {},
   "source": [
    "## Optimierung des Systems"
   ]
  },
  {
   "cell_type": "code",
   "execution_count": 15,
   "id": "5e993293",
   "metadata": {},
   "outputs": [
    {
     "name": "stderr",
     "output_type": "stream",
     "text": [
      "INFO:pypsa.linopf:Prepare linear problem\n",
      "INFO:pypsa.linopf:Total preparation time: 1.14s\n",
      "INFO:pypsa.linopf:Solve linear problem using Gurobi solver\n"
     ]
    },
    {
     "name": "stdout",
     "output_type": "stream",
     "text": [
      "Set parameter Username\n",
      "Academic license - for non-commercial use only - expires 2023-07-01\n",
      "Error reading LP format file /var/folders/np/fxyv4bts2s353fj5gdlrbgym0000gn/T/pypsa-problem-rw489dp_.lp at line 227778\n",
      "Unrecognized constraint RHS or sense\n",
      "Neighboring tokens: \" <= +nan c52561: +1.000000 x1 -1.000000 x26288 \"\n",
      "\n",
      "Unable to read file\n"
     ]
    },
    {
     "ename": "GurobiError",
     "evalue": "Unable to read model",
     "output_type": "error",
     "traceback": [
      "\u001b[0;31m---------------------------------------------------------------------------\u001b[0m",
      "\u001b[0;31mGurobiError\u001b[0m                               Traceback (most recent call last)",
      "\u001b[0;32m/var/folders/np/fxyv4bts2s353fj5gdlrbgym0000gn/T/ipykernel_39080/2836951827.py\u001b[0m in \u001b[0;36m<module>\u001b[0;34m\u001b[0m\n\u001b[0;32m----> 1\u001b[0;31m \u001b[0mnetwork\u001b[0m\u001b[0;34m.\u001b[0m\u001b[0mlopf\u001b[0m\u001b[0;34m(\u001b[0m\u001b[0mpyomo\u001b[0m \u001b[0;34m=\u001b[0m \u001b[0;32mFalse\u001b[0m\u001b[0;34m,\u001b[0m \u001b[0msolver_name\u001b[0m \u001b[0;34m=\u001b[0m \u001b[0;34m'gurobi'\u001b[0m\u001b[0;34m)\u001b[0m\u001b[0;34m\u001b[0m\u001b[0;34m\u001b[0m\u001b[0m\n\u001b[0m",
      "\u001b[0;32m~/opt/anaconda3/lib/python3.9/site-packages/pypsa/components.py\u001b[0m in \u001b[0;36mlopf\u001b[0;34m(self, snapshots, pyomo, solver_name, solver_options, solver_logfile, formulation, keep_files, extra_functionality, multi_investment_periods, **kwargs)\u001b[0m\n\u001b[1;32m    733\u001b[0m             \u001b[0;32mreturn\u001b[0m \u001b[0mnetwork_lopf\u001b[0m\u001b[0;34m(\u001b[0m\u001b[0mself\u001b[0m\u001b[0;34m,\u001b[0m \u001b[0;34m**\u001b[0m\u001b[0margs\u001b[0m\u001b[0;34m)\u001b[0m\u001b[0;34m\u001b[0m\u001b[0;34m\u001b[0m\u001b[0m\n\u001b[1;32m    734\u001b[0m         \u001b[0;32melse\u001b[0m\u001b[0;34m:\u001b[0m\u001b[0;34m\u001b[0m\u001b[0;34m\u001b[0m\u001b[0m\n\u001b[0;32m--> 735\u001b[0;31m             \u001b[0;32mreturn\u001b[0m \u001b[0mnetwork_lopf_lowmem\u001b[0m\u001b[0;34m(\u001b[0m\u001b[0mself\u001b[0m\u001b[0;34m,\u001b[0m \u001b[0;34m**\u001b[0m\u001b[0margs\u001b[0m\u001b[0;34m)\u001b[0m\u001b[0;34m\u001b[0m\u001b[0;34m\u001b[0m\u001b[0m\n\u001b[0m\u001b[1;32m    736\u001b[0m \u001b[0;34m\u001b[0m\u001b[0m\n\u001b[1;32m    737\u001b[0m     \u001b[0;32mdef\u001b[0m \u001b[0madd\u001b[0m\u001b[0;34m(\u001b[0m\u001b[0mself\u001b[0m\u001b[0;34m,\u001b[0m \u001b[0mclass_name\u001b[0m\u001b[0;34m,\u001b[0m \u001b[0mname\u001b[0m\u001b[0;34m,\u001b[0m \u001b[0;34m**\u001b[0m\u001b[0mkwargs\u001b[0m\u001b[0;34m)\u001b[0m\u001b[0;34m:\u001b[0m\u001b[0;34m\u001b[0m\u001b[0;34m\u001b[0m\u001b[0m\n",
      "\u001b[0;32m~/opt/anaconda3/lib/python3.9/site-packages/pypsa/linopf.py\u001b[0m in \u001b[0;36mnetwork_lopf\u001b[0;34m(n, snapshots, solver_name, solver_logfile, extra_functionality, multi_investment_periods, skip_objective, skip_pre, extra_postprocessing, formulation, keep_references, keep_files, keep_shadowprices, solver_options, warmstart, store_basis, solver_dir)\u001b[0m\n\u001b[1;32m   1468\u001b[0m \u001b[0;34m\u001b[0m\u001b[0m\n\u001b[1;32m   1469\u001b[0m     \u001b[0msolve\u001b[0m \u001b[0;34m=\u001b[0m \u001b[0meval\u001b[0m\u001b[0;34m(\u001b[0m\u001b[0;34mf\"run_and_read_{solver_name}\"\u001b[0m\u001b[0;34m)\u001b[0m\u001b[0;34m\u001b[0m\u001b[0;34m\u001b[0m\u001b[0m\n\u001b[0;32m-> 1470\u001b[0;31m     res = solve(\n\u001b[0m\u001b[1;32m   1471\u001b[0m         \u001b[0mn\u001b[0m\u001b[0;34m,\u001b[0m\u001b[0;34m\u001b[0m\u001b[0;34m\u001b[0m\u001b[0m\n\u001b[1;32m   1472\u001b[0m         \u001b[0mproblem_fn\u001b[0m\u001b[0;34m,\u001b[0m\u001b[0;34m\u001b[0m\u001b[0;34m\u001b[0m\u001b[0m\n",
      "\u001b[0;32m~/opt/anaconda3/lib/python3.9/site-packages/pypsa/linopt.py\u001b[0m in \u001b[0;36mrun_and_read_gurobi\u001b[0;34m(n, problem_fn, solution_fn, solver_logfile, solver_options, warmstart, store_basis)\u001b[0m\n\u001b[1;32m   1078\u001b[0m     \u001b[0mlogging\u001b[0m\u001b[0;34m.\u001b[0m\u001b[0mdisable\u001b[0m\u001b[0;34m(\u001b[0m\u001b[0;36m50\u001b[0m\u001b[0;34m)\u001b[0m\u001b[0;34m\u001b[0m\u001b[0;34m\u001b[0m\u001b[0m\n\u001b[1;32m   1079\u001b[0m \u001b[0;34m\u001b[0m\u001b[0m\n\u001b[0;32m-> 1080\u001b[0;31m     \u001b[0mm\u001b[0m \u001b[0;34m=\u001b[0m \u001b[0mgurobipy\u001b[0m\u001b[0;34m.\u001b[0m\u001b[0mread\u001b[0m\u001b[0;34m(\u001b[0m\u001b[0mproblem_fn\u001b[0m\u001b[0;34m)\u001b[0m\u001b[0;34m\u001b[0m\u001b[0;34m\u001b[0m\u001b[0m\n\u001b[0m\u001b[1;32m   1081\u001b[0m     \u001b[0;32mif\u001b[0m \u001b[0msolver_options\u001b[0m \u001b[0;32mis\u001b[0m \u001b[0;32mnot\u001b[0m \u001b[0;32mNone\u001b[0m\u001b[0;34m:\u001b[0m\u001b[0;34m\u001b[0m\u001b[0;34m\u001b[0m\u001b[0m\n\u001b[1;32m   1082\u001b[0m         \u001b[0;32mfor\u001b[0m \u001b[0mkey\u001b[0m\u001b[0;34m,\u001b[0m \u001b[0mvalue\u001b[0m \u001b[0;32min\u001b[0m \u001b[0msolver_options\u001b[0m\u001b[0;34m.\u001b[0m\u001b[0mitems\u001b[0m\u001b[0;34m(\u001b[0m\u001b[0;34m)\u001b[0m\u001b[0;34m:\u001b[0m\u001b[0;34m\u001b[0m\u001b[0;34m\u001b[0m\u001b[0m\n",
      "\u001b[0;32msrc/gurobipy/gurobi.pxi\u001b[0m in \u001b[0;36mgurobipy.read\u001b[0;34m()\u001b[0m\n",
      "\u001b[0;32msrc/gurobipy/gurobi.pxi\u001b[0m in \u001b[0;36mgurobipy.gurobi.read\u001b[0;34m()\u001b[0m\n",
      "\u001b[0;31mGurobiError\u001b[0m: Unable to read model"
     ]
    }
   ],
   "source": [
    "network.lopf(pyomo = False, solver_name = 'gurobi')"
   ]
  },
  {
   "cell_type": "markdown",
   "id": "9994f72c",
   "metadata": {},
   "source": [
    "## Auswertung der Ergebnisse"
   ]
  },
  {
   "cell_type": "code",
   "execution_count": 16,
   "id": "effb4980",
   "metadata": {},
   "outputs": [
    {
     "ename": "TypeError",
     "evalue": "no numeric data to plot",
     "output_type": "error",
     "traceback": [
      "\u001b[0;31m---------------------------------------------------------------------------\u001b[0m",
      "\u001b[0;31mTypeError\u001b[0m                                 Traceback (most recent call last)",
      "\u001b[0;32m/var/folders/np/fxyv4bts2s353fj5gdlrbgym0000gn/T/ipykernel_39080/2801595200.py\u001b[0m in \u001b[0;36m<module>\u001b[0;34m\u001b[0m\n\u001b[0;32m----> 1\u001b[0;31m \u001b[0mnetwork\u001b[0m\u001b[0;34m.\u001b[0m\u001b[0mgenerators_t\u001b[0m\u001b[0;34m.\u001b[0m\u001b[0mp\u001b[0m\u001b[0;34m.\u001b[0m\u001b[0mplot\u001b[0m\u001b[0;34m(\u001b[0m\u001b[0mfigsize\u001b[0m \u001b[0;34m=\u001b[0m \u001b[0;34m(\u001b[0m\u001b[0;36m15\u001b[0m\u001b[0;34m,\u001b[0m\u001b[0;36m8\u001b[0m\u001b[0;34m)\u001b[0m\u001b[0;34m)\u001b[0m\u001b[0;34m\u001b[0m\u001b[0;34m\u001b[0m\u001b[0m\n\u001b[0m",
      "\u001b[0;32m~/opt/anaconda3/lib/python3.9/site-packages/pandas/plotting/_core.py\u001b[0m in \u001b[0;36m__call__\u001b[0;34m(self, *args, **kwargs)\u001b[0m\n\u001b[1;32m    970\u001b[0m                     \u001b[0mdata\u001b[0m\u001b[0;34m.\u001b[0m\u001b[0mcolumns\u001b[0m \u001b[0;34m=\u001b[0m \u001b[0mlabel_name\u001b[0m\u001b[0;34m\u001b[0m\u001b[0;34m\u001b[0m\u001b[0m\n\u001b[1;32m    971\u001b[0m \u001b[0;34m\u001b[0m\u001b[0m\n\u001b[0;32m--> 972\u001b[0;31m         \u001b[0;32mreturn\u001b[0m \u001b[0mplot_backend\u001b[0m\u001b[0;34m.\u001b[0m\u001b[0mplot\u001b[0m\u001b[0;34m(\u001b[0m\u001b[0mdata\u001b[0m\u001b[0;34m,\u001b[0m \u001b[0mkind\u001b[0m\u001b[0;34m=\u001b[0m\u001b[0mkind\u001b[0m\u001b[0;34m,\u001b[0m \u001b[0;34m**\u001b[0m\u001b[0mkwargs\u001b[0m\u001b[0;34m)\u001b[0m\u001b[0;34m\u001b[0m\u001b[0;34m\u001b[0m\u001b[0m\n\u001b[0m\u001b[1;32m    973\u001b[0m \u001b[0;34m\u001b[0m\u001b[0m\n\u001b[1;32m    974\u001b[0m     \u001b[0m__call__\u001b[0m\u001b[0;34m.\u001b[0m\u001b[0m__doc__\u001b[0m \u001b[0;34m=\u001b[0m \u001b[0m__doc__\u001b[0m\u001b[0;34m\u001b[0m\u001b[0;34m\u001b[0m\u001b[0m\n",
      "\u001b[0;32m~/opt/anaconda3/lib/python3.9/site-packages/pandas/plotting/_matplotlib/__init__.py\u001b[0m in \u001b[0;36mplot\u001b[0;34m(data, kind, **kwargs)\u001b[0m\n\u001b[1;32m     69\u001b[0m             \u001b[0mkwargs\u001b[0m\u001b[0;34m[\u001b[0m\u001b[0;34m\"ax\"\u001b[0m\u001b[0;34m]\u001b[0m \u001b[0;34m=\u001b[0m \u001b[0mgetattr\u001b[0m\u001b[0;34m(\u001b[0m\u001b[0max\u001b[0m\u001b[0;34m,\u001b[0m \u001b[0;34m\"left_ax\"\u001b[0m\u001b[0;34m,\u001b[0m \u001b[0max\u001b[0m\u001b[0;34m)\u001b[0m\u001b[0;34m\u001b[0m\u001b[0;34m\u001b[0m\u001b[0m\n\u001b[1;32m     70\u001b[0m     \u001b[0mplot_obj\u001b[0m \u001b[0;34m=\u001b[0m \u001b[0mPLOT_CLASSES\u001b[0m\u001b[0;34m[\u001b[0m\u001b[0mkind\u001b[0m\u001b[0;34m]\u001b[0m\u001b[0;34m(\u001b[0m\u001b[0mdata\u001b[0m\u001b[0;34m,\u001b[0m \u001b[0;34m**\u001b[0m\u001b[0mkwargs\u001b[0m\u001b[0;34m)\u001b[0m\u001b[0;34m\u001b[0m\u001b[0;34m\u001b[0m\u001b[0m\n\u001b[0;32m---> 71\u001b[0;31m     \u001b[0mplot_obj\u001b[0m\u001b[0;34m.\u001b[0m\u001b[0mgenerate\u001b[0m\u001b[0;34m(\u001b[0m\u001b[0;34m)\u001b[0m\u001b[0;34m\u001b[0m\u001b[0;34m\u001b[0m\u001b[0m\n\u001b[0m\u001b[1;32m     72\u001b[0m     \u001b[0mplot_obj\u001b[0m\u001b[0;34m.\u001b[0m\u001b[0mdraw\u001b[0m\u001b[0;34m(\u001b[0m\u001b[0;34m)\u001b[0m\u001b[0;34m\u001b[0m\u001b[0;34m\u001b[0m\u001b[0m\n\u001b[1;32m     73\u001b[0m     \u001b[0;32mreturn\u001b[0m \u001b[0mplot_obj\u001b[0m\u001b[0;34m.\u001b[0m\u001b[0mresult\u001b[0m\u001b[0;34m\u001b[0m\u001b[0;34m\u001b[0m\u001b[0m\n",
      "\u001b[0;32m~/opt/anaconda3/lib/python3.9/site-packages/pandas/plotting/_matplotlib/core.py\u001b[0m in \u001b[0;36mgenerate\u001b[0;34m(self)\u001b[0m\n\u001b[1;32m    284\u001b[0m     \u001b[0;32mdef\u001b[0m \u001b[0mgenerate\u001b[0m\u001b[0;34m(\u001b[0m\u001b[0mself\u001b[0m\u001b[0;34m)\u001b[0m\u001b[0;34m:\u001b[0m\u001b[0;34m\u001b[0m\u001b[0;34m\u001b[0m\u001b[0m\n\u001b[1;32m    285\u001b[0m         \u001b[0mself\u001b[0m\u001b[0;34m.\u001b[0m\u001b[0m_args_adjust\u001b[0m\u001b[0;34m(\u001b[0m\u001b[0;34m)\u001b[0m\u001b[0;34m\u001b[0m\u001b[0;34m\u001b[0m\u001b[0m\n\u001b[0;32m--> 286\u001b[0;31m         \u001b[0mself\u001b[0m\u001b[0;34m.\u001b[0m\u001b[0m_compute_plot_data\u001b[0m\u001b[0;34m(\u001b[0m\u001b[0;34m)\u001b[0m\u001b[0;34m\u001b[0m\u001b[0;34m\u001b[0m\u001b[0m\n\u001b[0m\u001b[1;32m    287\u001b[0m         \u001b[0mself\u001b[0m\u001b[0;34m.\u001b[0m\u001b[0m_setup_subplots\u001b[0m\u001b[0;34m(\u001b[0m\u001b[0;34m)\u001b[0m\u001b[0;34m\u001b[0m\u001b[0;34m\u001b[0m\u001b[0m\n\u001b[1;32m    288\u001b[0m         \u001b[0mself\u001b[0m\u001b[0;34m.\u001b[0m\u001b[0m_make_plot\u001b[0m\u001b[0;34m(\u001b[0m\u001b[0;34m)\u001b[0m\u001b[0;34m\u001b[0m\u001b[0;34m\u001b[0m\u001b[0m\n",
      "\u001b[0;32m~/opt/anaconda3/lib/python3.9/site-packages/pandas/plotting/_matplotlib/core.py\u001b[0m in \u001b[0;36m_compute_plot_data\u001b[0;34m(self)\u001b[0m\n\u001b[1;32m    451\u001b[0m         \u001b[0;31m# no non-numeric frames or series allowed\u001b[0m\u001b[0;34m\u001b[0m\u001b[0;34m\u001b[0m\u001b[0m\n\u001b[1;32m    452\u001b[0m         \u001b[0;32mif\u001b[0m \u001b[0mis_empty\u001b[0m\u001b[0;34m:\u001b[0m\u001b[0;34m\u001b[0m\u001b[0;34m\u001b[0m\u001b[0m\n\u001b[0;32m--> 453\u001b[0;31m             \u001b[0;32mraise\u001b[0m \u001b[0mTypeError\u001b[0m\u001b[0;34m(\u001b[0m\u001b[0;34m\"no numeric data to plot\"\u001b[0m\u001b[0;34m)\u001b[0m\u001b[0;34m\u001b[0m\u001b[0;34m\u001b[0m\u001b[0m\n\u001b[0m\u001b[1;32m    454\u001b[0m \u001b[0;34m\u001b[0m\u001b[0m\n\u001b[1;32m    455\u001b[0m         \u001b[0mself\u001b[0m\u001b[0;34m.\u001b[0m\u001b[0mdata\u001b[0m \u001b[0;34m=\u001b[0m \u001b[0mnumeric_data\u001b[0m\u001b[0;34m.\u001b[0m\u001b[0mapply\u001b[0m\u001b[0;34m(\u001b[0m\u001b[0mself\u001b[0m\u001b[0;34m.\u001b[0m\u001b[0m_convert_to_ndarray\u001b[0m\u001b[0;34m)\u001b[0m\u001b[0;34m\u001b[0m\u001b[0;34m\u001b[0m\u001b[0m\n",
      "\u001b[0;31mTypeError\u001b[0m: no numeric data to plot"
     ]
    }
   ],
   "source": [
    "network.generators_t.p.plot(figsize = (15,8))"
   ]
  },
  {
   "cell_type": "code",
   "execution_count": null,
   "id": "e7aa6b23",
   "metadata": {},
   "outputs": [],
   "source": [
    "network.links_t.p0.plot(figsize = (15,8))"
   ]
  },
  {
   "cell_type": "code",
   "execution_count": null,
   "id": "7d3799c2",
   "metadata": {},
   "outputs": [],
   "source": [
    "network.stores_t.e.plot(figsize = (15,8))"
   ]
  },
  {
   "cell_type": "code",
   "execution_count": null,
   "id": "78590f9a",
   "metadata": {},
   "outputs": [],
   "source": []
  }
 ],
 "metadata": {
  "kernelspec": {
   "display_name": "Python 3 (ipykernel)",
   "language": "python",
   "name": "python3"
  },
  "language_info": {
   "codemirror_mode": {
    "name": "ipython",
    "version": 3
   },
   "file_extension": ".py",
   "mimetype": "text/x-python",
   "name": "python",
   "nbconvert_exporter": "python",
   "pygments_lexer": "ipython3",
   "version": "3.9.7"
  }
 },
 "nbformat": 4,
 "nbformat_minor": 5
}
